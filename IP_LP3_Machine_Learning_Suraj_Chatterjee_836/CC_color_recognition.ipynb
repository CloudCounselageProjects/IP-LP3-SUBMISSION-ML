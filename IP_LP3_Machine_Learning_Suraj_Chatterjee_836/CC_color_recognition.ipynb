{
  "nbformat": 4,
  "nbformat_minor": 0,
  "metadata": {
    "colab": {
      "name": "CC_color_recognition.ipynb",
      "provenance": [],
      "collapsed_sections": []
    },
    "kernelspec": {
      "name": "python3",
      "display_name": "Python 3"
    }
  },
  "cells": [
    {
      "cell_type": "code",
      "metadata": {
        "id": "OWzZFbw163AY",
        "colab_type": "code",
        "colab": {
          "base_uri": "https://localhost:8080/",
          "height": 33
        },
        "outputId": "3d3f795c-2581-4fb9-a066-915e14509393"
      },
      "source": [
        "## This block of code is used for the use of our dataset in google colab platform\n",
        "from zipfile import ZipFile\n",
        "file_name = '/content/data_color.zip'\n",
        "\n",
        "with ZipFile(file_name, 'r') as zip:\n",
        "  zip.extractall()\n",
        "  print('Done')"
      ],
      "execution_count": 64,
      "outputs": [
        {
          "output_type": "stream",
          "text": [
            "Done\n"
          ],
          "name": "stdout"
        }
      ]
    },
    {
      "cell_type": "code",
      "metadata": {
        "id": "dm4NAupX3hXR",
        "colab_type": "code",
        "colab": {
          "base_uri": "https://localhost:8080/",
          "height": 50
        },
        "outputId": "de905bed-4196-4d49-f5b5-e09e02aaed24"
      },
      "source": [
        "from keras.preprocessing.image import ImageDataGenerator\n",
        "\n",
        "# create a new generator\n",
        "imagegen = ImageDataGenerator()\n",
        "# load train data\n",
        "train = imagegen.flow_from_directory(\"/content/data_color/train\", class_mode=\"categorical\", shuffle=True, batch_size=128, target_size=(50, 50))\n",
        "# load val data\n",
        "val = imagegen.flow_from_directory(\"/content/data_color/validate\", class_mode=\"categorical\", shuffle=True, batch_size=128, target_size=(50, 50))"
      ],
      "execution_count": 3,
      "outputs": [
        {
          "output_type": "stream",
          "text": [
            "Found 6601 images belonging to 3 classes.\n",
            "Found 3299 images belonging to 3 classes.\n"
          ],
          "name": "stdout"
        }
      ]
    },
    {
      "cell_type": "code",
      "metadata": {
        "id": "WrfF_6Zy3haq",
        "colab_type": "code",
        "colab": {
          "base_uri": "https://localhost:8080/",
          "height": 1000
        },
        "outputId": "6e1a735d-3491-4d2c-c743-820c186494ba"
      },
      "source": [
        "import keras\n",
        "from keras.models import Sequential\n",
        "from keras.layers import Conv2D, MaxPool2D, Flatten, Dense, InputLayer, BatchNormalization, Dropout\n",
        "\n",
        "# build a sequential model\n",
        "model = Sequential()\n",
        "model.add(InputLayer(input_shape=(50, 50, 3)))\n",
        "\n",
        "# 1st conv block\n",
        "model.add(Conv2D(25, (5, 5), activation='relu', strides=(1, 1), padding='same'))\n",
        "model.add(MaxPool2D(pool_size=(2, 2), padding='same'))\n",
        "# 2nd conv block\n",
        "model.add(Conv2D(50, (5, 5), activation='relu', strides=(2, 2), padding='same'))\n",
        "model.add(MaxPool2D(pool_size=(2, 2), padding='same'))\n",
        "model.add(BatchNormalization())\n",
        "# 3rd conv block\n",
        "model.add(Conv2D(70, (3, 3), activation='relu', strides=(2, 2), padding='same'))\n",
        "model.add(MaxPool2D(pool_size=(2, 2), padding='valid'))\n",
        "model.add(BatchNormalization())\n",
        "# ANN block\n",
        "model.add(Flatten())\n",
        "model.add(Dense(units=100, activation='relu'))\n",
        "model.add(Dense(units=100, activation='relu'))\n",
        "model.add(Dropout(0.25))\n",
        "# output layer\n",
        "model.add(Dense(units=3, activation='softmax'))\n",
        "\n",
        "# compile model\n",
        "model.compile(loss='categorical_crossentropy', optimizer=\"adam\", metrics=['accuracy'])\n",
        "# fit on data for 30 epochs\n",
        "model.fit_generator(train, epochs=30, validation_data=val)"
      ],
      "execution_count": 4,
      "outputs": [
        {
          "output_type": "stream",
          "text": [
            "Epoch 1/30\n",
            "52/52 [==============================] - 27s 518ms/step - loss: 0.3012 - accuracy: 0.8761 - val_loss: 0.5378 - val_accuracy: 0.8169\n",
            "Epoch 2/30\n",
            "52/52 [==============================] - 26s 504ms/step - loss: 0.1719 - accuracy: 0.9255 - val_loss: 0.3670 - val_accuracy: 0.8706\n",
            "Epoch 3/30\n",
            "52/52 [==============================] - 26s 503ms/step - loss: 0.1724 - accuracy: 0.9265 - val_loss: 0.3610 - val_accuracy: 0.8569\n",
            "Epoch 4/30\n",
            "52/52 [==============================] - 26s 508ms/step - loss: 0.1807 - accuracy: 0.9238 - val_loss: 0.6887 - val_accuracy: 0.8260\n",
            "Epoch 5/30\n",
            "52/52 [==============================] - 26s 506ms/step - loss: 0.1594 - accuracy: 0.9279 - val_loss: 0.1498 - val_accuracy: 0.9239\n",
            "Epoch 6/30\n",
            "52/52 [==============================] - 26s 507ms/step - loss: 0.1655 - accuracy: 0.9276 - val_loss: 0.0804 - val_accuracy: 0.9667\n",
            "Epoch 7/30\n",
            "52/52 [==============================] - 27s 511ms/step - loss: 0.1366 - accuracy: 0.9408 - val_loss: 0.2105 - val_accuracy: 0.8651\n",
            "Epoch 8/30\n",
            "52/52 [==============================] - 26s 506ms/step - loss: 0.1383 - accuracy: 0.9412 - val_loss: 0.8087 - val_accuracy: 0.8312\n",
            "Epoch 9/30\n",
            "52/52 [==============================] - 26s 509ms/step - loss: 0.1440 - accuracy: 0.9399 - val_loss: 0.2409 - val_accuracy: 0.9454\n",
            "Epoch 10/30\n",
            "52/52 [==============================] - 26s 507ms/step - loss: 0.1357 - accuracy: 0.9438 - val_loss: 0.2423 - val_accuracy: 0.9024\n",
            "Epoch 11/30\n",
            "52/52 [==============================] - 26s 508ms/step - loss: 0.1223 - accuracy: 0.9477 - val_loss: 0.1171 - val_accuracy: 0.9579\n",
            "Epoch 12/30\n",
            "52/52 [==============================] - 27s 514ms/step - loss: 0.1335 - accuracy: 0.9427 - val_loss: 0.1059 - val_accuracy: 0.9460\n",
            "Epoch 13/30\n",
            "52/52 [==============================] - 27s 512ms/step - loss: 0.1280 - accuracy: 0.9439 - val_loss: 0.2904 - val_accuracy: 0.8915\n",
            "Epoch 14/30\n",
            "52/52 [==============================] - 32s 607ms/step - loss: 0.1246 - accuracy: 0.9455 - val_loss: 0.1306 - val_accuracy: 0.9457\n",
            "Epoch 15/30\n",
            "52/52 [==============================] - 27s 510ms/step - loss: 0.1160 - accuracy: 0.9529 - val_loss: 0.2600 - val_accuracy: 0.9172\n",
            "Epoch 16/30\n",
            "52/52 [==============================] - 27s 511ms/step - loss: 0.1303 - accuracy: 0.9436 - val_loss: 0.7364 - val_accuracy: 0.8024\n",
            "Epoch 17/30\n",
            "52/52 [==============================] - 27s 510ms/step - loss: 0.1331 - accuracy: 0.9423 - val_loss: 0.1593 - val_accuracy: 0.9397\n",
            "Epoch 18/30\n",
            "52/52 [==============================] - 26s 507ms/step - loss: 0.1202 - accuracy: 0.9465 - val_loss: 0.2045 - val_accuracy: 0.8988\n",
            "Epoch 19/30\n",
            "52/52 [==============================] - 27s 512ms/step - loss: 0.1224 - accuracy: 0.9503 - val_loss: 0.3233 - val_accuracy: 0.8318\n",
            "Epoch 20/30\n",
            "52/52 [==============================] - 27s 519ms/step - loss: 0.1124 - accuracy: 0.9530 - val_loss: 0.1906 - val_accuracy: 0.9030\n",
            "Epoch 21/30\n",
            "52/52 [==============================] - 27s 510ms/step - loss: 0.1120 - accuracy: 0.9520 - val_loss: 0.0652 - val_accuracy: 0.9676\n",
            "Epoch 22/30\n",
            "52/52 [==============================] - 27s 512ms/step - loss: 0.1048 - accuracy: 0.9550 - val_loss: 0.4530 - val_accuracy: 0.9103\n",
            "Epoch 23/30\n",
            "52/52 [==============================] - 27s 510ms/step - loss: 0.1016 - accuracy: 0.9583 - val_loss: 0.2647 - val_accuracy: 0.8997\n",
            "Epoch 24/30\n",
            "52/52 [==============================] - 27s 510ms/step - loss: 0.1097 - accuracy: 0.9521 - val_loss: 0.1800 - val_accuracy: 0.9312\n",
            "Epoch 25/30\n",
            "52/52 [==============================] - 27s 512ms/step - loss: 0.0856 - accuracy: 0.9649 - val_loss: 0.0735 - val_accuracy: 0.9888\n",
            "Epoch 26/30\n",
            "52/52 [==============================] - 26s 509ms/step - loss: 0.0936 - accuracy: 0.9611 - val_loss: 0.3664 - val_accuracy: 0.9060\n",
            "Epoch 27/30\n",
            "52/52 [==============================] - 26s 508ms/step - loss: 0.0920 - accuracy: 0.9636 - val_loss: 0.3578 - val_accuracy: 0.8542\n",
            "Epoch 28/30\n",
            "52/52 [==============================] - 27s 510ms/step - loss: 0.0833 - accuracy: 0.9642 - val_loss: 0.2162 - val_accuracy: 0.9285\n",
            "Epoch 29/30\n",
            "52/52 [==============================] - 26s 509ms/step - loss: 0.0817 - accuracy: 0.9647 - val_loss: 0.5445 - val_accuracy: 0.8888\n",
            "Epoch 30/30\n",
            "52/52 [==============================] - 27s 511ms/step - loss: 0.1036 - accuracy: 0.9559 - val_loss: 0.2660 - val_accuracy: 0.9082\n"
          ],
          "name": "stdout"
        },
        {
          "output_type": "execute_result",
          "data": {
            "text/plain": [
              "<keras.callbacks.callbacks.History at 0x7f09bda5d2e8>"
            ]
          },
          "metadata": {
            "tags": []
          },
          "execution_count": 4
        }
      ]
    },
    {
      "cell_type": "code",
      "metadata": {
        "id": "jh2TWGSH24Ny",
        "colab_type": "code",
        "colab": {}
      },
      "source": [
        "import pickle\n",
        "# save the model to disk\n",
        "filename = 'finalized_model.sav'\n",
        "pickle.dump(model, open(filename, 'wb'))"
      ],
      "execution_count": 0,
      "outputs": []
    },
    {
      "cell_type": "code",
      "metadata": {
        "id": "IzFuXfKDjtyi",
        "colab_type": "code",
        "colab": {}
      },
      "source": [
        "# # load the model from disk\n",
        "# loaded_model = pickle.load(open(filename, 'rb'))"
      ],
      "execution_count": 0,
      "outputs": []
    },
    {
      "cell_type": "code",
      "metadata": {
        "id": "Yp2oYmrtx1za",
        "colab_type": "code",
        "colab": {}
      },
      "source": [
        "# (Red, Blue and Green) color prediction function\n",
        "def predict_color(im):\n",
        "  image = keras.preprocessing.image.load_img(im, target_size=(50,50),  grayscale=False, color_mode=\"rgb\", interpolation=\"nearest\")\n",
        "  input_arr = keras.preprocessing.image.img_to_array(image)\n",
        "  input_arr = np.array([input_arr])  # Convert single image to a batch.\n",
        "  predictions = model.predict_classes(input_arr)\n",
        "  # prediction classes are 0: Blue, 1: Green, 2: Red\n",
        "  if(predictions==2):\n",
        "    print('Red')\n",
        "  elif(predictions==1):\n",
        "    print('Green')\n",
        "  elif(predictions==0):\n",
        "    print('Blue')"
      ],
      "execution_count": 0,
      "outputs": []
    },
    {
      "cell_type": "code",
      "metadata": {
        "id": "GUAUZFinyG1K",
        "colab_type": "code",
        "colab": {
          "base_uri": "https://localhost:8080/",
          "height": 33
        },
        "outputId": "80a1d47b-1dcd-45ad-e795-14bba93614a3"
      },
      "source": [
        "# Predict the color of an image\n",
        "## Enter your image path\n",
        "image = '/content/drive/My Drive/data/c1.PNG'\n",
        "predict_color(image)"
      ],
      "execution_count": 66,
      "outputs": [
        {
          "output_type": "stream",
          "text": [
            "Red\n"
          ],
          "name": "stdout"
        }
      ]
    },
    {
      "cell_type": "code",
      "metadata": {
        "id": "JOWlv9iTyRyP",
        "colab_type": "code",
        "colab": {}
      },
      "source": [
        "### There are three images in this directory c1, c2, c3 of colors (Red, Blue and Green)\n",
        "### You can use other images too - To do that, enter the image path into the image var in the above cell"
      ],
      "execution_count": 0,
      "outputs": []
    }
  ]
}