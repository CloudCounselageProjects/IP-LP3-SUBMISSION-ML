{
 "cells": [
  {
   "cell_type": "code",
   "execution_count": 436,
   "metadata": {},
   "outputs": [],
   "source": [
    "#importing all the required libraries for openCV\n",
    "\n",
    "from sklearn.cluster import KMeans\n",
    "import matplotlib.pyplot as plt\n",
    "import numpy as np\n",
    "import cv2\n",
    "from collections import Counter\n",
    "from skimage.color import rgb2lab, deltaE_cie76\n",
    "import os\n",
    "\n",
    "%matplotlib inline"
   ]
  },
  {
   "cell_type": "code",
   "execution_count": 437,
   "metadata": {},
   "outputs": [],
   "source": [
    "#getting the image from the location folder on the PC\n",
    "IMAGE_DIRECTORY = r\"C:\\Users\\Vilas_2\\pics\"\n",
    "COLORS = {\n",
    "    'GREEN': [0, 128, 0],\n",
    "    'BLUE': [0, 0, 128],\n",
    "    'RED': [255, 0, 0]\n",
    "}\n",
    "images = []\n",
    "\n",
    "for file in os.listdir(r\"C:\\Users\\Vilas_2\\pics\"):\n",
    "    if not file.startswith('.'):\n",
    "        images.append(get_image(os.path.join(r'C:\\Users\\Vilas_2\\pics', file)))"
   ]
  },
  {
   "cell_type": "code",
   "execution_count": 438,
   "metadata": {},
   "outputs": [],
   "source": [
    "#method to match the color \n",
    "\n",
    "def match_image_by_color(image, color, threshold = 60, number_of_colors = 1): \n",
    "    \n",
    "    image_colors = get_colors(image, number_of_colors, False)\n",
    "    selected_color = rgb2lab(np.uint8(np.asarray([[color]])))\n",
    "\n",
    "    select_image = False\n",
    "    for i in range(number_of_colors):\n",
    "        curr_color = rgb2lab(np.uint8(np.asarray([[image_colors[i]]])))\n",
    "        diff = deltaE_cie76(selected_color, curr_color)\n",
    "        if (diff < threshold):\n",
    "            select_image = True\n",
    "    \n",
    "    return select_image"
   ]
  },
  {
   "cell_type": "code",
   "execution_count": 439,
   "metadata": {},
   "outputs": [],
   "source": [
    "#method to show the image and the closest RGB color name\n",
    "\n",
    "def show_selected_images(images, color, threshold, colors_to_match):\n",
    "    \n",
    "    index = 1\n",
    "    a=0\n",
    "    for i in range(len(images)):\n",
    "        selected = match_image_by_color(images[i],\n",
    "                                        color,\n",
    "                                        threshold,\n",
    "                                        colors_to_match)\n",
    "        if (selected):\n",
    "            a=1\n",
    "            plt.subplot(1, 5, index)\n",
    "            plt.imshow(images[i])\n",
    "            index += 1\n",
    "            return a"
   ]
  },
  {
   "cell_type": "code",
   "execution_count": 440,
   "metadata": {},
   "outputs": [
    {
     "data": {
      "text/plain": [
       "<Figure size 1440x720 with 0 Axes>"
      ]
     },
     "metadata": {},
     "output_type": "display_data"
    }
   ],
   "source": [
    "# Search for GREEN\n",
    "\n",
    "plt.figure(figsize = (20, 10))\n",
    "b=show_selected_images(images, COLORS['GREEN'], 60, 1)\n",
    "if(b==1):\n",
    "    print(\"GREEN\")"
   ]
  },
  {
   "cell_type": "code",
   "execution_count": 441,
   "metadata": {},
   "outputs": [
    {
     "name": "stdout",
     "output_type": "stream",
     "text": [
      "BLUE\n"
     ]
    },
    {
     "data": {
      "image/png": "[encoded data removed]",
      "text/plain": [
       "<Figure size 1440x720 with 1 Axes>"
      ]
     },
     "metadata": {
      "needs_background": "light"
     },
     "output_type": "display_data"
    }
   ],
   "source": [
    "# Search for BLUE\n",
    "\n",
    "plt.figure(figsize = (20, 10))\n",
    "b=show_selected_images(images, COLORS['BLUE'], 60, 1)\n",
    "if(b==1):\n",
    "    print(\"BLUE\")"
   ]
  },
  {
   "cell_type": "code",
   "execution_count": 442,
   "metadata": {},
   "outputs": [
    {
     "data": {
      "text/plain": [
       "<Figure size 1440x720 with 0 Axes>"
      ]
     },
     "metadata": {},
     "output_type": "display_data"
    }
   ],
   "source": [
    "# Search for RED\n",
    "\n",
    "plt.figure(figsize = (20, 10))\n",
    "b=show_selected_images(images, COLORS['RED'], 60, 1)\n",
    "if(b==1):\n",
    "    print(\"RED\")"
   ]
  }
 ],
 "metadata": {
  "kernelspec": {
   "display_name": "Python 3",
   "language": "python",
   "name": "python3"
  },
  "language_info": {
   "codemirror_mode": {
    "name": "ipython",
    "version": 3
   },
   "file_extension": ".py",
   "mimetype": "text/x-python",
   "name": "python",
   "nbconvert_exporter": "python",
   "pygments_lexer": "ipython3",
   "version": "3.7.4"
  }
 },
 "nbformat": 4,
 "nbformat_minor": 2
}
