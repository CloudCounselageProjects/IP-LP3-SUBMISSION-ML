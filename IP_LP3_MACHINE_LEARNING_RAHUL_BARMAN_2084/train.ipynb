{
 "cells": [
  {
   "cell_type": "markdown",
   "metadata": {},
   "source": [
    "# Importing the libraries"
   ]
  },
  {
   "cell_type": "code",
   "execution_count": 1,
   "metadata": {},
   "outputs": [],
   "source": [
    "import cv2\n",
    "import os\n",
    "from tqdm import tqdm\n",
    "import numpy as np"
   ]
  },
  {
   "cell_type": "markdown",
   "metadata": {},
   "source": [
    "# path of the image dataset"
   ]
  },
  {
   "cell_type": "code",
   "execution_count": 2,
   "metadata": {},
   "outputs": [
    {
     "name": "stdout",
     "output_type": "stream",
     "text": [
      "['Blue', 'Green', 'red']\n"
     ]
    }
   ],
   "source": [
    "img_dir = 'images'\n",
    "print(os.listdir(img_dir))"
   ]
  },
  {
   "cell_type": "markdown",
   "metadata": {},
   "source": [
    "# making the dataset along with their respective labels"
   ]
  },
  {
   "cell_type": "code",
   "execution_count": 3,
   "metadata": {},
   "outputs": [],
   "source": [
    "dataset = []\n",
    "for i in os.listdir(img_dir):\n",
    "    path = os.path.join(img_dir,i)\n",
    "#     print(path)\n",
    "    for im in os.scandir(path):\n",
    "        img = cv2.imread(im.path)\n",
    "        img = cv2.resize(img,(224,224))\n",
    "        dataset.append([img,i])"
   ]
  },
  {
   "cell_type": "markdown",
   "metadata": {},
   "source": [
    "# Shuffling the dataset so that the model does not memorise"
   ]
  },
  {
   "cell_type": "code",
   "execution_count": 4,
   "metadata": {},
   "outputs": [],
   "source": [
    "import random\n",
    "random.shuffle(dataset)"
   ]
  },
  {
   "cell_type": "markdown",
   "metadata": {},
   "source": [
    "# Splitting the images and labels for Training"
   ]
  },
  {
   "cell_type": "code",
   "execution_count": 5,
   "metadata": {},
   "outputs": [],
   "source": [
    "x = []\n",
    "y = []\n",
    "for features,labels in dataset:\n",
    "    x.append(features)\n",
    "    y.append(labels)"
   ]
  },
  {
   "cell_type": "code",
   "execution_count": 6,
   "metadata": {},
   "outputs": [
    {
     "data": {
      "text/plain": [
       "['red', 'red', 'red']"
      ]
     },
     "execution_count": 6,
     "metadata": {},
     "output_type": "execute_result"
    }
   ],
   "source": [
    "y[:3]"
   ]
  },
  {
   "cell_type": "markdown",
   "metadata": {},
   "source": [
    "# Transforming the labels to numeric value for calculations"
   ]
  },
  {
   "cell_type": "code",
   "execution_count": 7,
   "metadata": {},
   "outputs": [],
   "source": [
    "from sklearn.preprocessing import LabelEncoder\n",
    "le = LabelEncoder()\n",
    "y = le.fit_transform(y)"
   ]
  },
  {
   "cell_type": "code",
   "execution_count": 8,
   "metadata": {},
   "outputs": [],
   "source": [
    "x = np.array(x)"
   ]
  },
  {
   "cell_type": "code",
   "execution_count": 9,
   "metadata": {},
   "outputs": [
    {
     "data": {
      "text/plain": [
       "(397, 224, 224, 3)"
      ]
     },
     "execution_count": 9,
     "metadata": {},
     "output_type": "execute_result"
    }
   ],
   "source": [
    "x.shape"
   ]
  },
  {
   "cell_type": "code",
   "execution_count": 10,
   "metadata": {},
   "outputs": [
    {
     "data": {
      "text/plain": [
       "(397,)"
      ]
     },
     "execution_count": 10,
     "metadata": {},
     "output_type": "execute_result"
    }
   ],
   "source": [
    "y.shape"
   ]
  },
  {
   "cell_type": "code",
   "execution_count": 11,
   "metadata": {},
   "outputs": [],
   "source": [
    "y = y.reshape(y.shape[0],1)"
   ]
  },
  {
   "cell_type": "code",
   "execution_count": 12,
   "metadata": {},
   "outputs": [
    {
     "data": {
      "text/plain": [
       "(397, 1)"
      ]
     },
     "execution_count": 12,
     "metadata": {},
     "output_type": "execute_result"
    }
   ],
   "source": [
    "y.shape"
   ]
  },
  {
   "cell_type": "markdown",
   "metadata": {},
   "source": [
    "# Normalizing the RGB color of the image for better training"
   ]
  },
  {
   "cell_type": "code",
   "execution_count": 13,
   "metadata": {},
   "outputs": [],
   "source": [
    "x = x/255.0"
   ]
  },
  {
   "cell_type": "code",
   "execution_count": 14,
   "metadata": {},
   "outputs": [
    {
     "data": {
      "text/plain": [
       "array([[[0.10980392, 0.04705882, 0.95686275],\n",
       "        [0.10980392, 0.04705882, 0.95686275],\n",
       "        [0.10980392, 0.04705882, 0.95686275],\n",
       "        ...,\n",
       "        [0.09019608, 0.00784314, 0.84313725],\n",
       "        [0.08627451, 0.00784314, 0.84313725],\n",
       "        [0.08627451, 0.00784314, 0.84313725]],\n",
       "\n",
       "       [[0.10980392, 0.04705882, 0.95686275],\n",
       "        [0.10980392, 0.04705882, 0.95686275],\n",
       "        [0.10980392, 0.04705882, 0.95686275],\n",
       "        ...,\n",
       "        [0.09019608, 0.01176471, 0.84705882],\n",
       "        [0.09019608, 0.01176471, 0.84705882],\n",
       "        [0.09019608, 0.01176471, 0.84705882]],\n",
       "\n",
       "       [[0.10588235, 0.04313725, 0.95294118],\n",
       "        [0.10588235, 0.04313725, 0.95294118],\n",
       "        [0.10588235, 0.04313725, 0.95294118],\n",
       "        ...,\n",
       "        [0.10196078, 0.02352941, 0.85882353],\n",
       "        [0.10196078, 0.02352941, 0.85882353],\n",
       "        [0.10196078, 0.02352941, 0.85882353]],\n",
       "\n",
       "       ...,\n",
       "\n",
       "       [[0.00392157, 0.        , 0.8745098 ],\n",
       "        [0.00392157, 0.        , 0.8745098 ],\n",
       "        [0.00392157, 0.        , 0.87843137],\n",
       "        ...,\n",
       "        [0.02352941, 0.        , 0.78823529],\n",
       "        [0.02352941, 0.        , 0.78823529],\n",
       "        [0.02352941, 0.        , 0.78823529]],\n",
       "\n",
       "       [[0.00392157, 0.        , 0.8745098 ],\n",
       "        [0.00392157, 0.        , 0.8745098 ],\n",
       "        [0.00784314, 0.        , 0.8745098 ],\n",
       "        ...,\n",
       "        [0.02352941, 0.        , 0.78823529],\n",
       "        [0.02352941, 0.        , 0.78823529],\n",
       "        [0.02352941, 0.        , 0.78823529]],\n",
       "\n",
       "       [[0.00392157, 0.        , 0.8745098 ],\n",
       "        [0.00392157, 0.        , 0.8745098 ],\n",
       "        [0.00392157, 0.        , 0.8745098 ],\n",
       "        ...,\n",
       "        [0.02352941, 0.        , 0.78823529],\n",
       "        [0.02352941, 0.        , 0.78823529],\n",
       "        [0.02352941, 0.        , 0.78823529]]])"
      ]
     },
     "execution_count": 14,
     "metadata": {},
     "output_type": "execute_result"
    }
   ],
   "source": [
    "x[0]"
   ]
  },
  {
   "cell_type": "code",
   "execution_count": 15,
   "metadata": {},
   "outputs": [
    {
     "data": {
      "text/plain": [
       "(397, 224, 224, 3)"
      ]
     },
     "execution_count": 15,
     "metadata": {},
     "output_type": "execute_result"
    }
   ],
   "source": [
    "x.shape"
   ]
  },
  {
   "cell_type": "markdown",
   "metadata": {},
   "source": [
    "# Importing the tensorflow libraries for making and training model"
   ]
  },
  {
   "cell_type": "code",
   "execution_count": 16,
   "metadata": {},
   "outputs": [],
   "source": [
    "from tensorflow.keras.models import Sequential\n",
    "from tensorflow.keras.layers import Dense,Conv2D,MaxPooling2D,Flatten,Dropout,BatchNormalization\n",
    "from tensorflow.keras.callbacks import ModelCheckpoint"
   ]
  },
  {
   "cell_type": "code",
   "execution_count": 21,
   "metadata": {},
   "outputs": [],
   "source": [
    "model = Sequential([Conv2D(64,(3,3),input_shape=(224,224,3),activation='relu'),\n",
    "                    MaxPooling2D((2,2)),\n",
    "                    Dropout(0.2),\n",
    "                    Conv2D(64,(3,3),activation='relu'),\n",
    "                    MaxPooling2D((2,2)),\n",
    "                    Dropout(0.2),\n",
    "                    Conv2D(64,(3,3),activation='relu'),\n",
    "                    MaxPooling2D((2,2)),\n",
    "                    Dropout(0.2),\n",
    "                    Flatten(),\n",
    "                    Dense(64,activation='relu'),\n",
    "                    Dense(3,activation='softmax')\n",
    "                   ])"
   ]
  },
  {
   "cell_type": "code",
   "execution_count": 22,
   "metadata": {},
   "outputs": [],
   "source": [
    "model.compile(loss='sparse_categorical_crossentropy',optimizer='adam',metrics=['accuracy'])"
   ]
  },
  {
   "cell_type": "code",
   "execution_count": 23,
   "metadata": {},
   "outputs": [
    {
     "name": "stdout",
     "output_type": "stream",
     "text": [
      "Train on 317 samples, validate on 80 samples\n",
      "Epoch 1/10\n",
      "317/317 [==============================] - 15s 48ms/sample - loss: 0.6452 - accuracy: 0.7729 - val_loss: 0.1012 - val_accuracy: 0.9750\n",
      "Epoch 2/10\n",
      "317/317 [==============================] - 15s 48ms/sample - loss: 0.1346 - accuracy: 0.9590 - val_loss: 0.1687 - val_accuracy: 0.9500\n",
      "Epoch 3/10\n",
      "317/317 [==============================] - 15s 48ms/sample - loss: 0.1499 - accuracy: 0.9716 - val_loss: 0.1158 - val_accuracy: 0.9375\n",
      "Epoch 4/10\n",
      "317/317 [==============================] - 15s 48ms/sample - loss: 0.0718 - accuracy: 0.9716 - val_loss: 0.1563 - val_accuracy: 0.9875\n",
      "Epoch 5/10\n",
      "317/317 [==============================] - 15s 48ms/sample - loss: 0.0476 - accuracy: 0.9874 - val_loss: 0.0770 - val_accuracy: 0.9875\n",
      "Epoch 6/10\n",
      "317/317 [==============================] - 15s 47ms/sample - loss: 0.0393 - accuracy: 0.9874 - val_loss: 0.0495 - val_accuracy: 0.9750\n",
      "Epoch 7/10\n",
      "317/317 [==============================] - 15s 48ms/sample - loss: 0.0343 - accuracy: 0.9905 - val_loss: 0.0576 - val_accuracy: 0.9875\n",
      "Epoch 8/10\n",
      "317/317 [==============================] - 15s 48ms/sample - loss: 0.0200 - accuracy: 0.9937 - val_loss: 0.0335 - val_accuracy: 0.9875\n",
      "Epoch 9/10\n",
      "317/317 [==============================] - 15s 48ms/sample - loss: 0.0113 - accuracy: 0.9905 - val_loss: 0.0373 - val_accuracy: 0.9875\n",
      "Epoch 10/10\n",
      "317/317 [==============================] - 15s 48ms/sample - loss: 0.0302 - accuracy: 0.9874 - val_loss: 0.0347 - val_accuracy: 0.9875\n"
     ]
    }
   ],
   "source": [
    "history = model.fit(x,y,batch_size=32,epochs=10,validation_split=0.2)"
   ]
  },
  {
   "cell_type": "code",
   "execution_count": 24,
   "metadata": {},
   "outputs": [
    {
     "name": "stdout",
     "output_type": "stream",
     "text": [
      "Model: \"sequential_1\"\n",
      "_________________________________________________________________\n",
      "Layer (type)                 Output Shape              Param #   \n",
      "=================================================================\n",
      "conv2d_3 (Conv2D)            (None, 222, 222, 64)      1792      \n",
      "_________________________________________________________________\n",
      "max_pooling2d_3 (MaxPooling2 (None, 111, 111, 64)      0         \n",
      "_________________________________________________________________\n",
      "dropout_3 (Dropout)          (None, 111, 111, 64)      0         \n",
      "_________________________________________________________________\n",
      "conv2d_4 (Conv2D)            (None, 109, 109, 64)      36928     \n",
      "_________________________________________________________________\n",
      "max_pooling2d_4 (MaxPooling2 (None, 54, 54, 64)        0         \n",
      "_________________________________________________________________\n",
      "dropout_4 (Dropout)          (None, 54, 54, 64)        0         \n",
      "_________________________________________________________________\n",
      "conv2d_5 (Conv2D)            (None, 52, 52, 64)        36928     \n",
      "_________________________________________________________________\n",
      "max_pooling2d_5 (MaxPooling2 (None, 26, 26, 64)        0         \n",
      "_________________________________________________________________\n",
      "dropout_5 (Dropout)          (None, 26, 26, 64)        0         \n",
      "_________________________________________________________________\n",
      "flatten_1 (Flatten)          (None, 43264)             0         \n",
      "_________________________________________________________________\n",
      "dense_2 (Dense)              (None, 64)                2768960   \n",
      "_________________________________________________________________\n",
      "dense_3 (Dense)              (None, 3)                 195       \n",
      "=================================================================\n",
      "Total params: 2,844,803\n",
      "Trainable params: 2,844,803\n",
      "Non-trainable params: 0\n",
      "_________________________________________________________________\n"
     ]
    }
   ],
   "source": [
    "model.summary()"
   ]
  },
  {
   "cell_type": "markdown",
   "metadata": {},
   "source": [
    "# Saving the model in the current working directory"
   ]
  },
  {
   "cell_type": "code",
   "execution_count": 25,
   "metadata": {},
   "outputs": [],
   "source": [
    "model.save('trained_model.h5')"
   ]
  },
  {
   "cell_type": "code",
   "execution_count": 26,
   "metadata": {},
   "outputs": [],
   "source": [
    "import matplotlib.pyplot as plt\n",
    "%matplotlib inline"
   ]
  },
  {
   "cell_type": "markdown",
   "metadata": {},
   "source": [
    "# Visualise the result"
   ]
  },
  {
   "cell_type": "code",
   "execution_count": 29,
   "metadata": {},
   "outputs": [
    {
     "data": {
      "text/plain": [
       "<matplotlib.legend.Legend at 0x7ff9bc800c10>"
      ]
     },
     "execution_count": 29,
     "metadata": {},
     "output_type": "execute_result"
    },
    {
     "data": {
      "image/png": "[encoded data removed]",
      "text/plain": [
       "<Figure size 432x288 with 1 Axes>"
      ]
     },
     "metadata": {
      "needs_background": "light"
     },
     "output_type": "display_data"
    }
   ],
   "source": [
    "plt.plot(history.history['accuracy'])\n",
    "plt.plot(history.history['val_accuracy'])\n",
    "plt.xlabel(['epochs'])\n",
    "plt.ylabel(['accuracy'])\n",
    "plt.title('Accuracy Graph')\n",
    "plt.legend(['accuracy','val_accuracy'])"
   ]
  },
  {
   "cell_type": "code",
   "execution_count": 30,
   "metadata": {},
   "outputs": [
    {
     "data": {
      "text/plain": [
       "<matplotlib.legend.Legend at 0x7ff9bc764e50>"
      ]
     },
     "execution_count": 30,
     "metadata": {},
     "output_type": "execute_result"
    },
    {
     "data": {
      "image/png": "[encoded data removed]",
      "text/plain": [
       "<Figure size 432x288 with 1 Axes>"
      ]
     },
     "metadata": {
      "needs_background": "light"
     },
     "output_type": "display_data"
    }
   ],
   "source": [
    "plt.plot(history.history['loss'])\n",
    "plt.plot(history.history['val_loss'])\n",
    "plt.xlabel(['epochs'])\n",
    "plt.ylabel(['loss'])\n",
    "plt.title('Loss Graph')\n",
    "plt.legend(['loss','val_loss'])"
   ]
  },
  {
   "cell_type": "code",
   "execution_count": null,
   "metadata": {},
   "outputs": [],
   "source": []
  }
 ],
 "metadata": {
  "kernelspec": {
   "display_name": "Python 3",
   "language": "python",
   "name": "python3"
  },
  "language_info": {
   "codemirror_mode": {
    "name": "ipython",
    "version": 3
   },
   "file_extension": ".py",
   "mimetype": "text/x-python",
   "name": "python",
   "nbconvert_exporter": "python",
   "pygments_lexer": "ipython3",
   "version": "3.7.5"
  }
 },
 "nbformat": 4,
 "nbformat_minor": 2
}
