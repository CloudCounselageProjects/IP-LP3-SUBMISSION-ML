{
 "cells": [
  {
   "cell_type": "code",
   "execution_count": 1,
   "metadata": {},
   "outputs": [],
   "source": [
    "import os\n",
    "import random\n",
    "import tensorflow as tf\n",
    "from tensorflow.keras.optimizers import RMSprop\n",
    "from tensorflow.keras.preprocessing.image import ImageDataGenerator\n",
    "from os import getcwd\n",
    "import cv2\n",
    "import matplotlib.pyplot as plt\n",
    "import matplotlib.image as mpimg"
   ]
  },
  {
   "cell_type": "code",
   "execution_count": 2,
   "metadata": {},
   "outputs": [],
   "source": [
    "model = tf.keras.models.Sequential([\n",
    "    tf.keras.layers.Conv2D(16, (3, 3), activation = 'relu', input_shape = (128, 128, 3)),\n",
    "    tf.keras.layers.AveragePooling2D(2, 2),\n",
    "    tf.keras.layers.Conv2D(32, (3, 3), activation = 'relu'),\n",
    "    tf.keras.layers.AveragePooling2D(2, 2),\n",
    "    tf.keras.layers.Flatten(),\n",
    "    tf.keras.layers.Dense(512, activation = 'relu'),\n",
    "    tf.keras.layers.Dense(3, activation = 'softmax')\n",
    "])\n",
    "\n",
    "model.compile(optimizer=RMSprop(lr=0.001), loss='categorical_crossentropy', metrics=['acc'])"
   ]
  },
  {
   "cell_type": "code",
   "execution_count": 3,
   "metadata": {},
   "outputs": [
    {
     "name": "stdout",
     "output_type": "stream",
     "text": [
      "Model: \"sequential\"\n",
      "_________________________________________________________________\n",
      "Layer (type)                 Output Shape              Param #   \n",
      "=================================================================\n",
      "conv2d (Conv2D)              (None, 126, 126, 16)      448       \n",
      "_________________________________________________________________\n",
      "average_pooling2d (AveragePo (None, 63, 63, 16)        0         \n",
      "_________________________________________________________________\n",
      "conv2d_1 (Conv2D)            (None, 61, 61, 32)        4640      \n",
      "_________________________________________________________________\n",
      "average_pooling2d_1 (Average (None, 30, 30, 32)        0         \n",
      "_________________________________________________________________\n",
      "flatten (Flatten)            (None, 28800)             0         \n",
      "_________________________________________________________________\n",
      "dense (Dense)                (None, 512)               14746112  \n",
      "_________________________________________________________________\n",
      "dense_1 (Dense)              (None, 3)                 1539      \n",
      "=================================================================\n",
      "Total params: 14,752,739\n",
      "Trainable params: 14,752,739\n",
      "Non-trainable params: 0\n",
      "_________________________________________________________________\n"
     ]
    }
   ],
   "source": [
    "model.summary()"
   ]
  },
  {
   "cell_type": "code",
   "execution_count": 22,
   "metadata": {},
   "outputs": [
    {
     "name": "stdout",
     "output_type": "stream",
     "text": [
      "Found 27 images belonging to 3 classes.\n",
      "Found 9 images belonging to 3 classes.\n"
     ]
    }
   ],
   "source": [
    "TRAINING_DIR = r\"/Users/claudiamichael/Documents/rgb/training\"\n",
    "train_datagen = ImageDataGenerator(\n",
    "    \n",
    "    fill_mode = 'nearest')\n",
    "\n",
    "train_generator = train_datagen.flow_from_directory(\n",
    "    TRAINING_DIR,\n",
    "    target_size = (128, 128),\n",
    "    batch_size = 6,\n",
    "    )\n",
    "\n",
    "VALIDATION_DIR = r\"/Users/claudiamichael/Documents/rgb/testing\"\n",
    "validation_datagen = ImageDataGenerator(rescale = 1./255)\n",
    "\n",
    "validation_generator = validation_datagen.flow_from_directory(\n",
    "    VALIDATION_DIR,\n",
    "    target_size = (128, 128),\n",
    "    batch_size = 6,\n",
    "    )"
   ]
  },
  {
   "cell_type": "code",
   "execution_count": 23,
   "metadata": {},
   "outputs": [
    {
     "name": "stdout",
     "output_type": "stream",
     "text": [
      "WARNING:tensorflow:From <ipython-input-23-318500b946fb>:4: Model.fit_generator (from tensorflow.python.keras.engine.training) is deprecated and will be removed in a future version.\n",
      "Instructions for updating:\n",
      "Please use Model.fit, which supports generators.\n",
      "WARNING:tensorflow:sample_weight modes were coerced from\n",
      "  ...\n",
      "    to  \n",
      "  ['...']\n",
      "WARNING:tensorflow:sample_weight modes were coerced from\n",
      "  ...\n",
      "    to  \n",
      "  ['...']\n",
      "Train for 5 steps, validate for 2 steps\n",
      "Epoch 1/50\n",
      "5/5 [==============================] - 3s 558ms/step - loss: 3318.7522 - acc: 0.4074 - val_loss: 0.1193 - val_acc: 1.0000\n",
      "Epoch 2/50\n",
      "5/5 [==============================] - 2s 324ms/step - loss: 2.0929 - acc: 0.9259 - val_loss: 0.3558 - val_acc: 0.7778\n",
      "Epoch 3/50\n",
      "5/5 [==============================] - 2s 307ms/step - loss: 125.2236 - acc: 0.7037 - val_loss: 0.3659 - val_acc: 0.7778\n",
      "Epoch 4/50\n",
      "5/5 [==============================] - 1s 294ms/step - loss: 25.0045 - acc: 0.8889 - val_loss: 0.0934 - val_acc: 0.8889\n",
      "Epoch 5/50\n",
      "5/5 [==============================] - 1s 292ms/step - loss: 11.5684 - acc: 0.9630 - val_loss: 0.1115 - val_acc: 1.0000\n",
      "Epoch 6/50\n",
      "5/5 [==============================] - 2s 332ms/step - loss: 4.3505e-06 - acc: 1.0000 - val_loss: 0.1112 - val_acc: 1.0000\n",
      "Epoch 7/50\n",
      "5/5 [==============================] - 2s 304ms/step - loss: 3.9661e-06 - acc: 1.0000 - val_loss: 0.1110 - val_acc: 1.0000\n",
      "Epoch 8/50\n",
      "5/5 [==============================] - 2s 302ms/step - loss: 3.6302e-06 - acc: 1.0000 - val_loss: 0.1108 - val_acc: 1.0000\n",
      "Epoch 9/50\n",
      "5/5 [==============================] - 1s 291ms/step - loss: 3.2741e-06 - acc: 1.0000 - val_loss: 0.1106 - val_acc: 1.0000\n",
      "Epoch 10/50\n",
      "5/5 [==============================] - 2s 310ms/step - loss: 2.9220e-06 - acc: 1.0000 - val_loss: 0.1104 - val_acc: 1.0000\n",
      "Epoch 11/50\n",
      "5/5 [==============================] - 2s 319ms/step - loss: 2.5537e-06 - acc: 1.0000 - val_loss: 0.1102 - val_acc: 1.0000\n",
      "Epoch 12/50\n",
      "5/5 [==============================] - 2s 319ms/step - loss: 2.2340e-06 - acc: 1.0000 - val_loss: 0.1100 - val_acc: 1.0000\n",
      "Epoch 13/50\n",
      "5/5 [==============================] - 2s 318ms/step - loss: 1.9548e-06 - acc: 1.0000 - val_loss: 0.1099 - val_acc: 1.0000\n",
      "Epoch 14/50\n",
      "5/5 [==============================] - 2s 319ms/step - loss: 1.6310e-06 - acc: 1.0000 - val_loss: 0.1097 - val_acc: 1.0000\n",
      "Epoch 15/50\n",
      "5/5 [==============================] - 2s 359ms/step - loss: 1.3963e-06 - acc: 1.0000 - val_loss: 0.1096 - val_acc: 1.0000\n",
      "Epoch 16/50\n",
      "5/5 [==============================] - 2s 340ms/step - loss: 1.1777e-06 - acc: 1.0000 - val_loss: 0.1095 - val_acc: 1.0000\n",
      "Epoch 17/50\n",
      "5/5 [==============================] - 2s 320ms/step - loss: 9.5109e-07 - acc: 1.0000 - val_loss: 0.1093 - val_acc: 1.0000\n",
      "Epoch 18/50\n",
      "5/5 [==============================] - 2s 317ms/step - loss: 7.5278e-07 - acc: 1.0000 - val_loss: 0.1092 - val_acc: 1.0000\n",
      "Epoch 19/50\n",
      "5/5 [==============================] - 1s 300ms/step - loss: 6.0708e-07 - acc: 1.0000 - val_loss: 0.1091 - val_acc: 1.0000\n",
      "Epoch 20/50\n",
      "5/5 [==============================] - 1s 299ms/step - loss: 4.7352e-07 - acc: 1.0000 - val_loss: 0.1090 - val_acc: 1.0000\n",
      "Epoch 21/50\n",
      "5/5 [==============================] - 1s 294ms/step - loss: 3.7234e-07 - acc: 1.0000 - val_loss: 0.1089 - val_acc: 1.0000\n",
      "Epoch 22/50\n",
      "5/5 [==============================] - 2s 313ms/step - loss: 2.9545e-07 - acc: 1.0000 - val_loss: 0.1088 - val_acc: 1.0000\n",
      "Epoch 23/50\n",
      "5/5 [==============================] - 2s 372ms/step - loss: 2.2664e-07 - acc: 1.0000 - val_loss: 0.1088 - val_acc: 1.0000\n",
      "Epoch 24/50\n",
      "5/5 [==============================] - 2s 321ms/step - loss: 1.8212e-07 - acc: 1.0000 - val_loss: 0.1087 - val_acc: 1.0000\n",
      "Epoch 25/50\n",
      "5/5 [==============================] - 1s 299ms/step - loss: 1.4570e-07 - acc: 1.0000 - val_loss: 0.1086 - val_acc: 1.0000\n",
      "Epoch 26/50\n",
      "5/5 [==============================] - 2s 305ms/step - loss: 1.1332e-07 - acc: 1.0000 - val_loss: 0.1086 - val_acc: 1.0000\n",
      "Epoch 27/50\n",
      "5/5 [==============================] - 1s 293ms/step - loss: 8.9039e-08 - acc: 1.0000 - val_loss: 0.1085 - val_acc: 1.0000\n",
      "Epoch 28/50\n",
      "5/5 [==============================] - 1s 295ms/step - loss: 6.4756e-08 - acc: 1.0000 - val_loss: 0.1085 - val_acc: 1.0000\n",
      "Epoch 29/50\n",
      "5/5 [==============================] - 1s 300ms/step - loss: 5.2614e-08 - acc: 1.0000 - val_loss: 0.1084 - val_acc: 1.0000\n",
      "Epoch 30/50\n",
      "5/5 [==============================] - 2s 314ms/step - loss: 4.0472e-08 - acc: 1.0000 - val_loss: 0.1084 - val_acc: 1.0000\n",
      "Epoch 31/50\n",
      "5/5 [==============================] - 2s 328ms/step - loss: 3.2378e-08 - acc: 1.0000 - val_loss: 0.1083 - val_acc: 1.0000\n",
      "Epoch 32/50\n",
      "5/5 [==============================] - 2s 305ms/step - loss: 2.4283e-08 - acc: 1.0000 - val_loss: 0.1083 - val_acc: 1.0000\n",
      "Epoch 33/50\n",
      "5/5 [==============================] - 2s 347ms/step - loss: 2.0236e-08 - acc: 1.0000 - val_loss: 0.1082 - val_acc: 1.0000\n",
      "Epoch 34/50\n",
      "5/5 [==============================] - 2s 333ms/step - loss: 1.6189e-08 - acc: 1.0000 - val_loss: 0.1082 - val_acc: 1.0000\n",
      "Epoch 35/50\n",
      "5/5 [==============================] - 2s 320ms/step - loss: 1.2142e-08 - acc: 1.0000 - val_loss: 0.1081 - val_acc: 1.0000\n",
      "Epoch 36/50\n",
      "5/5 [==============================] - 2s 302ms/step - loss: 8.0945e-09 - acc: 1.0000 - val_loss: 0.1081 - val_acc: 1.0000\n",
      "Epoch 37/50\n",
      "5/5 [==============================] - 2s 332ms/step - loss: 8.0945e-09 - acc: 1.0000 - val_loss: 0.1080 - val_acc: 1.0000\n",
      "Epoch 38/50\n",
      "5/5 [==============================] - 2s 415ms/step - loss: 4.0472e-09 - acc: 1.0000 - val_loss: 0.1080 - val_acc: 1.0000\n",
      "Epoch 39/50\n",
      "5/5 [==============================] - 2s 340ms/step - loss: 4.0472e-09 - acc: 1.0000 - val_loss: 0.1080 - val_acc: 1.0000\n",
      "Epoch 40/50\n",
      "5/5 [==============================] - 1s 293ms/step - loss: 4.0472e-09 - acc: 1.0000 - val_loss: 0.1079 - val_acc: 1.0000\n",
      "Epoch 41/50\n",
      "5/5 [==============================] - 1s 286ms/step - loss: 0.0000e+00 - acc: 1.0000 - val_loss: 0.1079 - val_acc: 1.0000\n",
      "Epoch 42/50\n",
      "5/5 [==============================] - 1s 282ms/step - loss: 0.0000e+00 - acc: 1.0000 - val_loss: 0.1079 - val_acc: 1.0000\n",
      "Epoch 43/50\n",
      "5/5 [==============================] - 1s 294ms/step - loss: 0.0000e+00 - acc: 1.0000 - val_loss: 0.1079 - val_acc: 1.0000\n",
      "Epoch 44/50\n",
      "5/5 [==============================] - 1s 293ms/step - loss: 0.0000e+00 - acc: 1.0000 - val_loss: 0.1079 - val_acc: 1.0000\n",
      "Epoch 45/50\n",
      "5/5 [==============================] - 2s 301ms/step - loss: 0.0000e+00 - acc: 1.0000 - val_loss: 0.1078 - val_acc: 1.0000\n",
      "Epoch 46/50\n",
      "5/5 [==============================] - 2s 383ms/step - loss: 0.0000e+00 - acc: 1.0000 - val_loss: 0.1078 - val_acc: 1.0000\n",
      "Epoch 47/50\n",
      "5/5 [==============================] - 2s 337ms/step - loss: 0.0000e+00 - acc: 1.0000 - val_loss: 0.1078 - val_acc: 1.0000\n",
      "Epoch 48/50\n",
      "5/5 [==============================] - 2s 323ms/step - loss: 0.0000e+00 - acc: 1.0000 - val_loss: 0.1078 - val_acc: 1.0000\n",
      "Epoch 49/50\n",
      "5/5 [==============================] - 1s 292ms/step - loss: 0.0000e+00 - acc: 1.0000 - val_loss: 0.1078 - val_acc: 1.0000\n",
      "Epoch 50/50\n",
      "5/5 [==============================] - 2s 306ms/step - loss: 0.0000e+00 - acc: 1.0000 - val_loss: 0.1077 - val_acc: 1.0000\n"
     ]
    }
   ],
   "source": [
    "history = model.fit_generator(train_generator,\n",
    "                              epochs=50,\n",
    "                              verbose=1,\n",
    "                              validation_data=validation_generator)"
   ]
  },
  {
   "cell_type": "code",
   "execution_count": 24,
   "metadata": {},
   "outputs": [
    {
     "data": {
      "text/plain": [
       "Text(0.5, 1.0, 'Training and validation loss')"
      ]
     },
     "execution_count": 24,
     "metadata": {},
     "output_type": "execute_result"
    },
    {
     "data": {
      "image/png": "[encoded data removed]",
      "text/plain": [
       "<Figure size 432x288 with 1 Axes>"
      ]
     },
     "metadata": {
      "needs_background": "light"
     },
     "output_type": "display_data"
    },
    {
     "data": {
      "image/png": "[encoded data removed]",
      "text/plain": [
       "<Figure size 432x288 with 1 Axes>"
      ]
     },
     "metadata": {
      "needs_background": "light"
     },
     "output_type": "display_data"
    }
   ],
   "source": [
    "# PLOT LOSS AND ACCURACY\n",
    "%matplotlib inline\n",
    "\n",
    "import matplotlib.image  as mpimg\n",
    "import matplotlib.pyplot as plt\n",
    "\n",
    "acc=history.history['acc']\n",
    "val_acc=history.history['val_acc']\n",
    "loss=history.history['loss']\n",
    "val_loss=history.history['val_loss']\n",
    "\n",
    "epochs=range(len(acc)) \n",
    "\n",
    "plt.plot(epochs, acc, 'r', \"Training Accuracy\")\n",
    "plt.plot(epochs, val_acc, 'b', \"Validation Accuracy\")\n",
    "plt.title('Training and validation accuracy')\n",
    "plt.figure()\n",
    "\n",
    "plt.plot(epochs, loss, 'r', \"Training Loss\")\n",
    "plt.plot(epochs, val_loss, 'b', \"Validation Loss\")\n",
    "\n",
    "\n",
    "plt.title('Training and validation loss')"
   ]
  },
  {
   "cell_type": "code",
   "execution_count": 25,
   "metadata": {},
   "outputs": [
    {
     "name": "stdout",
     "output_type": "stream",
     "text": [
      "WARNING:tensorflow:sample_weight modes were coerced from\n",
      "  ...\n",
      "    to  \n",
      "  ['...']\n",
      "2/2 [==============================] - 0s 28ms/step - loss: 0.1077 - acc: 1.0000\n"
     ]
    },
    {
     "data": {
      "text/plain": [
       "[0.10774705000221729, 1.0]"
      ]
     },
     "execution_count": 25,
     "metadata": {},
     "output_type": "execute_result"
    }
   ],
   "source": [
    "model.evaluate(validation_generator, verbose=1)"
   ]
  },
  {
   "cell_type": "code",
   "execution_count": 71,
   "metadata": {},
   "outputs": [
    {
     "data": {
      "text/plain": [
       "-1"
      ]
     },
     "execution_count": 71,
     "metadata": {},
     "output_type": "execute_result"
    }
   ],
   "source": [
    "img = cv2.imread(r\"/Users/claudiamichael/Documents/test/test_in/test_img.jpg\")\n",
    "#cv2.imshow('blue image',img)\n",
    "#cv2.waitKey(0)\n",
    "#cv2.destroyAllWindows()\n",
    "resize = cv2.resize(img,(128,128), interpolation = cv2.INTER_AREA)\n",
    "if os.path.isfile(r\"/Users/claudiamichael/Documents/test/result/Blue/new_img.jpg\"):\n",
    "    None\n",
    "else:    \n",
    "    root_dir = r\"/Users/claudiamichael/Documents/test\"\n",
    "    parent_dir = \"result\"\n",
    "    sub_parent_dir = \"Blue\"\n",
    "    path1 = os.path.join(root_dir, parent_dir)\n",
    "    os.mkdir(path1)\n",
    "    path2 = os.path.join(path1, sub_parent_dir)\n",
    "    os.mkdir(path2)\n",
    "cv2.imwrite(r\"/Users/claudiamichael/Documents/test/result/Blue/new_img.jpg\", resize)\n",
    "cv2.waitKey(0)"
   ]
  },
  {
   "cell_type": "code",
   "execution_count": 73,
   "metadata": {},
   "outputs": [
    {
     "name": "stdout",
     "output_type": "stream",
     "text": [
      "Found 1 images belonging to 1 classes.\n",
      "<keras_preprocessing.image.directory_iterator.DirectoryIterator object at 0x6541a31d0>\n"
     ]
    }
   ],
   "source": [
    "TRAINING_DIR =  r\"/Users/claudiamichael/Documents/test/result\"\n",
    "train_datagen = ImageDataGenerator(\n",
    "    rescale = 1./255,\n",
    "    rotation_range = 40,\n",
    "    width_shift_range = 0.2,\n",
    "    height_shift_range = 0.2,\n",
    "    shear_range = 0.2,\n",
    "    zoom_range = 0.2,\n",
    "    horizontal_flip = True,\n",
    "    fill_mode = 'nearest')\n",
    "\n",
    "train_generator = train_datagen.flow_from_directory(\n",
    "    TRAINING_DIR,\n",
    "    target_size = (128, 128),\n",
    "   )\n",
    "print(train_generator)"
   ]
  },
  {
   "cell_type": "code",
   "execution_count": 74,
   "metadata": {},
   "outputs": [
    {
     "name": "stdout",
     "output_type": "stream",
     "text": [
      "[[9.9983454e-01 1.6548307e-04 1.6553181e-10]]\n"
     ]
    }
   ],
   "source": [
    "prediction = model.predict(train_generator)\n",
    "print(prediction)"
   ]
  },
  {
   "cell_type": "code",
   "execution_count": 75,
   "metadata": {},
   "outputs": [
    {
     "name": "stdout",
     "output_type": "stream",
     "text": [
      "Blue\n"
     ]
    },
    {
     "data": {
      "image/png": "[encoded data removed]",
      "text/plain": [
       "<Figure size 432x288 with 1 Axes>"
      ]
     },
     "metadata": {
      "needs_background": "light"
     },
     "output_type": "display_data"
    }
   ],
   "source": [
    "if prediction[0][0] > 0.8:\n",
    "    print('Blue')\n",
    "elif prediction[0][1] > 0.8:\n",
    "    print('Green')\n",
    "elif prediction[0][2] > 0.8:\n",
    "    print('Red')\n",
    "img_new = mpimg.imread(r\"/Users/claudiamichael/Documents/test/result/Blue/new_img.jpg\")\n",
    "pic = plt.imshow(img_new)"
   ]
  },
  {
   "cell_type": "code",
   "execution_count": null,
   "metadata": {},
   "outputs": [],
   "source": []
  },
  {
   "cell_type": "code",
   "execution_count": null,
   "metadata": {},
   "outputs": [],
   "source": []
  }
 ],
 "metadata": {
  "kernelspec": {
   "display_name": "Python 3",
   "language": "python",
   "name": "python3"
  },
  "language_info": {
   "codemirror_mode": {
    "name": "ipython",
    "version": 3
   },
   "file_extension": ".py",
   "mimetype": "text/x-python",
   "name": "python",
   "nbconvert_exporter": "python",
   "pygments_lexer": "ipython3",
   "version": "3.7.6"
  }
 },
 "nbformat": 4,
 "nbformat_minor": 4
}
