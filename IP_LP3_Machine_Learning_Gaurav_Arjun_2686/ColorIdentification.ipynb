{
 "cells": [
  {
   "cell_type": "markdown",
   "metadata": {},
   "source": [
    "# Color Identificaion\n",
    "Problem statment :\n",
    "Interns are expected to create a TensorFlow model for identification of color. Your code will be given an image as an input and the code is supposed to categorize which RGB clour it matches to."
   ]
  },
  {
   "cell_type": "code",
   "execution_count": null,
   "metadata": {},
   "outputs": [],
   "source": []
  },
  {
   "cell_type": "markdown",
   "metadata": {},
   "source": [
    "# Data set Creation "
   ]
  },
  {
   "cell_type": "code",
   "execution_count": 1,
   "metadata": {},
   "outputs": [
    {
     "name": "stdout",
     "output_type": "stream",
     "text": [
      "DataSet already exist\n"
     ]
    }
   ],
   "source": [
    "import cv2\n",
    "import numpy as np\n",
    "import os\n",
    "\n",
    "#Specify fix Image size \n",
    "height, width = 48, 48\n",
    "blank_image = np.zeros((height, width, 3), np.uint8)\n",
    "\n",
    "def create_img(i):\n",
    "    n=0\n",
    "    counter=0  #image label counter \n",
    "    for r in range(100, 255, 5):\n",
    "        for g in range(20,80,10):\n",
    "            for b in range(20,80,10):\n",
    "                #opencv imread read image in b,g,r formate\n",
    "                if i == 0:\n",
    "                    blank_image[:, 0:width] = (b, g, r)\n",
    "                    x=\"red\"\n",
    "                elif i == 1:\n",
    "                    #consider r value as b\n",
    "                    blank_image[:, 0:width] = (r, b, g)\n",
    "                    x=\"blue\"\n",
    "                else:\n",
    "                    #consider r value as g\n",
    "                    blank_image[:, 0:width] = (g, r, b)\n",
    "                    x=\"green\"\n",
    "                    \n",
    "                # divide dataset into train and test data in 80:20 \n",
    "                if n < 8:\n",
    "                    n+=1\n",
    "                    data_path=\"train/\" + x +\"//\"\n",
    "                elif n == 8:\n",
    "                    n+=1\n",
    "                    data_path=\"valid/\" + x +\"//\"\n",
    "                elif n == 9:\n",
    "                    n+=1\n",
    "                    data_path=\"test/\" + x +\"//\"\n",
    "                else:\n",
    "                    data_path=\"train/\" + x +\"//\"\n",
    "                    n=0\n",
    "                        \n",
    "                if not os.path.exists(data_path):\n",
    "                    os.makedirs(data_path)\n",
    "                path_image = data_path + x + \"_\" + str(counter) + '.jpg'\n",
    "                cv2.imwrite(path_image, blank_image)\n",
    "                counter +=1\n",
    "\n",
    "                \n",
    "if not (os.path.exists('train//') and os.path.exists('test//') and os.path.exists('valid//')) :\n",
    "    print (\"DataSet is creating....\")\n",
    "    for i in range(0,3):\n",
    "        create_img(i)\n",
    "    print(\"ready\")\n",
    "else :\n",
    "    print (\"DataSet already exist\")\n"
   ]
  },
  {
   "cell_type": "markdown",
   "metadata": {},
   "source": [
    "# Import Libraries\n"
   ]
  },
  {
   "cell_type": "code",
   "execution_count": 2,
   "metadata": {},
   "outputs": [
    {
     "name": "stdout",
     "output_type": "stream",
     "text": [
      "Tensorflow version: 2.1.0\n"
     ]
    }
   ],
   "source": [
    "import numpy as np\n",
    "import seaborn as sns\n",
    "import matplotlib.pyplot as plt\n",
    "import utils\n",
    "import os\n",
    "import cv2\n",
    "%matplotlib inline\n",
    "\n",
    "from tensorflow.keras.preprocessing.image import ImageDataGenerator\n",
    "from tensorflow.keras.layers import Dense, Input, Dropout,Flatten, Conv2D\n",
    "from tensorflow.keras.layers import BatchNormalization, Activation, MaxPooling2D\n",
    "from tensorflow.keras.models import Model, Sequential\n",
    "from tensorflow.keras.optimizers import Adam\n",
    "from tensorflow.keras.callbacks import ModelCheckpoint, ReduceLROnPlateau\n",
    "from tensorflow.keras.utils import plot_model\n",
    "\n",
    "from IPython.display import SVG, Image\n",
    "from livelossplot import PlotLossesKerasTF\n",
    "import tensorflow as tf\n",
    "print(\"Tensorflow version:\", tf.__version__)"
   ]
  },
  {
   "cell_type": "markdown",
   "metadata": {},
   "source": [
    "# Plot Sample Images"
   ]
  },
  {
   "cell_type": "code",
   "execution_count": 3,
   "metadata": {},
   "outputs": [
    {
     "data": {
      "image/png": "[encoded data removed]",
      "text/plain": [
       "<Figure size 864x1440 with 15 Axes>"
      ]
     },
     "metadata": {
      "needs_background": "light"
     },
     "output_type": "display_data"
    }
   ],
   "source": [
    "utils.datasets.fer.plot_example_images(plt).show()\n"
   ]
  },
  {
   "cell_type": "markdown",
   "metadata": {},
   "source": [
    "# Size of Each Dataset(Train,Test,Validation)"
   ]
  },
  {
   "cell_type": "code",
   "execution_count": 4,
   "metadata": {},
   "outputs": [
    {
     "name": "stdout",
     "output_type": "stream",
     "text": [
      "Train Data\n",
      "914 blue images\n",
      "914 green images\n",
      "914 red images\n",
      "\n",
      "\n",
      "Test Data\n",
      "101 blue images\n",
      "101 green images\n",
      "101 red images\n",
      "\n",
      "\n",
      "Valid Data\n",
      "101 blue images\n",
      "101 green images\n",
      "101 red images\n"
     ]
    }
   ],
   "source": [
    "print(\"Train Data\")\n",
    "for expression in os.listdir(\"train/\"):\n",
    "    print(str(len(os.listdir(\"train/\" + expression))) + \" \" + expression + \" images\")\n",
    "print(\"\\n\\nTest Data\")\n",
    "for expression in os.listdir(\"test/\"):\n",
    "    print(str(len(os.listdir(\"test/\" + expression))) + \" \" + expression + \" images\")\n",
    "print(\"\\n\\nValid Data\")\n",
    "for expression in os.listdir(\"valid/\"):\n",
    "    print(str(len(os.listdir(\"valid/\" + expression))) + \" \" + expression + \" images\")\n"
   ]
  },
  {
   "cell_type": "markdown",
   "metadata": {},
   "source": [
    "# Generating training and Validation batch"
   ]
  },
  {
   "cell_type": "code",
   "execution_count": 43,
   "metadata": {},
   "outputs": [
    {
     "name": "stdout",
     "output_type": "stream",
     "text": [
      "Found 2742 images belonging to 3 classes.\n",
      "Found 303 images belonging to 3 classes.\n",
      "Found 303 images belonging to 3 classes.\n"
     ]
    }
   ],
   "source": [
    "img_size = 48\n",
    "batch_size = 32\n",
    "\n",
    "\n",
    "#Train Data Generator\n",
    "\n",
    "datagen_train = ImageDataGenerator(brightness_range=[0.2,1.0])\n",
    "train_generator = datagen_train.flow_from_directory(\"train/\",\n",
    "                                                    target_size=(img_size,img_size),\n",
    "                                                    color_mode=\"rgb\",\n",
    "                                                    batch_size=batch_size,\n",
    "                                                    class_mode='categorical',\n",
    "                                                    shuffle=True)\n",
    "\n",
    "\n",
    "#Validation Data Generator\n",
    "\n",
    "datagen_validation = ImageDataGenerator(brightness_range=[0.2,1.0])\n",
    "validation_generator = datagen_validation.flow_from_directory(\"valid/\",\n",
    "                                                    target_size=(img_size,img_size),\n",
    "                                                    color_mode=\"rgb\",\n",
    "                                                    batch_size=batch_size,\n",
    "                                                    class_mode='categorical',\n",
    "                                                    shuffle=False)\n",
    "#Test Data Generator \n",
    "datagen_test = ImageDataGenerator(brightness_range=[0.2,1.0])\n",
    "test_generator = datagen_test.flow_from_directory(\"test/\",\n",
    "                                                    target_size=(img_size,img_size),\n",
    "                                                    color_mode=\"rgb\",\n",
    "                                                    batch_size=batch_size,\n",
    "                                                    class_mode='categorical',\n",
    "                                                    shuffle=False)"
   ]
  },
  {
   "cell_type": "markdown",
   "metadata": {},
   "source": [
    "# Conventional Neural Network model"
   ]
  },
  {
   "cell_type": "code",
   "execution_count": 45,
   "metadata": {},
   "outputs": [
    {
     "name": "stdout",
     "output_type": "stream",
     "text": [
      "Model: \"sequential_9\"\n",
      "_________________________________________________________________\n",
      "Layer (type)                 Output Shape              Param #   \n",
      "=================================================================\n",
      "conv2d_13 (Conv2D)           (None, 48, 48, 32)        896       \n",
      "_________________________________________________________________\n",
      "batch_normalization_22 (Batc (None, 48, 48, 32)        128       \n",
      "_________________________________________________________________\n",
      "activation_22 (Activation)   (None, 48, 48, 32)        0         \n",
      "_________________________________________________________________\n",
      "max_pooling2d_13 (MaxPooling (None, 24, 24, 32)        0         \n",
      "_________________________________________________________________\n",
      "dropout_22 (Dropout)         (None, 24, 24, 32)        0         \n",
      "_________________________________________________________________\n",
      "conv2d_14 (Conv2D)           (None, 24, 24, 64)        18496     \n",
      "_________________________________________________________________\n",
      "batch_normalization_23 (Batc (None, 24, 24, 64)        256       \n",
      "_________________________________________________________________\n",
      "activation_23 (Activation)   (None, 24, 24, 64)        0         \n",
      "_________________________________________________________________\n",
      "max_pooling2d_14 (MaxPooling (None, 12, 12, 64)        0         \n",
      "_________________________________________________________________\n",
      "dropout_23 (Dropout)         (None, 12, 12, 64)        0         \n",
      "_________________________________________________________________\n",
      "flatten_9 (Flatten)          (None, 9216)              0         \n",
      "_________________________________________________________________\n",
      "dense_18 (Dense)             (None, 64)                589888    \n",
      "_________________________________________________________________\n",
      "batch_normalization_24 (Batc (None, 64)                256       \n",
      "_________________________________________________________________\n",
      "activation_24 (Activation)   (None, 64)                0         \n",
      "_________________________________________________________________\n",
      "dropout_24 (Dropout)         (None, 64)                0         \n",
      "_________________________________________________________________\n",
      "dense_19 (Dense)             (None, 3)                 195       \n",
      "=================================================================\n",
      "Total params: 610,115\n",
      "Trainable params: 609,795\n",
      "Non-trainable params: 320\n",
      "_________________________________________________________________\n"
     ]
    }
   ],
   "source": [
    "# Initialising the CNN\n",
    "model = Sequential()\n",
    "\n",
    "# 1 - Convolution\n",
    "model.add(Conv2D(32,(3,3), padding='same', input_shape=(48, 48,3)))\n",
    "model.add(BatchNormalization())\n",
    "model.add(Activation('relu'))\n",
    "model.add(MaxPooling2D(pool_size=(2, 2)))\n",
    "model.add(Dropout(0.25))\n",
    "\n",
    "# 2nd Convolution layer\n",
    "model.add(Conv2D(64,(3,3), padding='same'))\n",
    "model.add(BatchNormalization())\n",
    "model.add(Activation('relu'))\n",
    "model.add(MaxPooling2D(pool_size=(2, 2)))\n",
    "model.add(Dropout(0.25))\n",
    "\n",
    "# Flattening\n",
    "model.add(Flatten())\n",
    "\n",
    "# Fully connected layer layer\n",
    "model.add(Dense(64))\n",
    "model.add(BatchNormalization())\n",
    "model.add(Activation('relu'))\n",
    "model.add(Dropout(0.25))\n",
    "\n",
    "model.add(Dense(3, activation='softmax'))\n",
    "\n",
    "opt = Adam(lr=0.0005)\n",
    "model.compile(optimizer=opt, loss='categorical_crossentropy', metrics=['accuracy'])\n",
    "model.summary()"
   ]
  },
  {
   "cell_type": "markdown",
   "metadata": {},
   "source": [
    "# Train Model "
   ]
  },
  {
   "cell_type": "code",
   "execution_count": 46,
   "metadata": {},
   "outputs": [
    {
     "data": {
      "image/png": "[encoded data removed]",
      "text/plain": [
       "<Figure size 864x576 with 2 Axes>"
      ]
     },
     "metadata": {
      "needs_background": "light"
     },
     "output_type": "display_data"
    },
    {
     "name": "stdout",
     "output_type": "stream",
     "text": [
      "accuracy\n",
      "\ttraining         \t (min:    0.977, max:    0.999, cur:    0.999)\n",
      "\tvalidation       \t (min:    0.997, max:    1.000, cur:    1.000)\n",
      "Loss\n",
      "\ttraining         \t (min:    0.007, max:    0.080, cur:    0.007)\n",
      "\tvalidation       \t (min:    0.004, max:    0.026, cur:    0.005)\n",
      "\n",
      "Epoch 00025: saving model to checkpoint_model_weight.h5\n",
      "85/85 [==============================] - 35s 416ms/step - loss: 0.0067 - accuracy: 0.9989 - val_loss: 0.0047 - val_accuracy: 1.0000\n",
      "Wall time: 12min 32s\n"
     ]
    }
   ],
   "source": [
    "%%time\n",
    "\n",
    "epochs = 25\n",
    "steps_per_epoch = train_generator.n//train_generator.batch_size\n",
    "validation_steps = validation_generator.n//validation_generator.batch_size\n",
    "\n",
    "reduce_lr = ReduceLROnPlateau(monitor='val_loss', factor=0.1,\n",
    "                              patience=2, min_lr=0.00001, mode='auto')\n",
    "checkpoint = ModelCheckpoint(\"checkpoint_model_weight.h5\", monitor='val_accuracy',\n",
    "                             save_weights_only=True, mode='max', verbose=1)\n",
    "callbacks = [PlotLossesKerasTF(), checkpoint, reduce_lr]\n",
    "\n",
    "history = model.fit(\n",
    "    x=train_generator,\n",
    "    steps_per_epoch=steps_per_epoch,\n",
    "    epochs=epochs,\n",
    "    validation_data = validation_generator,\n",
    "    validation_steps = validation_steps,\n",
    "    callbacks=callbacks\n",
    ")"
   ]
  },
  {
   "cell_type": "markdown",
   "metadata": {},
   "source": [
    "# Test  Model"
   ]
  },
  {
   "cell_type": "code",
   "execution_count": 47,
   "metadata": {
    "scrolled": false
   },
   "outputs": [
    {
     "name": "stdout",
     "output_type": "stream",
     "text": [
      "WARNING:tensorflow:sample_weight modes were coerced from\n",
      "  ...\n",
      "    to  \n",
      "  ['...']\n",
      "9/9 [==============================] - 0s 55ms/step - loss: 0.0047 - accuracy: 1.0000\n"
     ]
    },
    {
     "data": {
      "image/png": "[encoded data removed]",
      "text/plain": [
       "<Figure size 432x288 with 1 Axes>"
      ]
     },
     "metadata": {},
     "output_type": "display_data"
    },
    {
     "name": "stdout",
     "output_type": "stream",
     "text": [
      "Test loss: 0.004717703727591369\n",
      "Test accuracy: 1.0\n"
     ]
    }
   ],
   "source": [
    "from matplotlib import cm\n",
    "test_steps = test_generator.n//test_generator.batch_size \n",
    "\n",
    "score_loss, score_accuracy = model.evaluate(\n",
    "    x=test_generator,\n",
    "    steps=test_steps,\n",
    ")\n",
    "#Representing Data using Matplotlib\n",
    "fig = plt.figure()\n",
    "ax = fig.add_axes([0,0,1,1])\n",
    "ax.axis('equal')\n",
    "color_Loss=cm.Set1(0.18) \n",
    "color_accuracy =cm.Set1(0.5) \n",
    "Color = [color_Loss,color_accuracy]\n",
    "Label = ['loss', 'Accuracy']\n",
    "Value = [score_loss,score_accuracy]\n",
    "ax.pie(Value, labels = Label,autopct='%1.2f%%',colors =Color)\n",
    "plt.show()\n",
    "\n",
    "print('Test loss:', score_loss)\n",
    "print('Test accuracy:', score_accuracy)"
   ]
  },
  {
   "cell_type": "markdown",
   "metadata": {},
   "source": [
    "# Save model"
   ]
  },
  {
   "cell_type": "code",
   "execution_count": 48,
   "metadata": {},
   "outputs": [],
   "source": [
    "model.save('model.h5')    "
   ]
  },
  {
   "cell_type": "code",
   "execution_count": 49,
   "metadata": {},
   "outputs": [
    {
     "name": "stdout",
     "output_type": "stream",
     "text": [
      "Model is Loading...\n",
      "Model is loaded sucessfully !\n"
     ]
    },
    {
     "data": {
      "text/plain": [
       "<tensorflow.python.keras.engine.sequential.Sequential at 0x5036f72148>"
      ]
     },
     "execution_count": 49,
     "metadata": {},
     "output_type": "execute_result"
    }
   ],
   "source": [
    "from tensorflow.keras.models import load_model \n",
    "model_path = 'model.h5'\n",
    "\n",
    "def Model_load():\n",
    "    if os.path.exists(model_path):\n",
    "        print(\"Model is Loading...\")\n",
    "        model = load_model(model_path)\n",
    "        print(\"Model is loaded sucessfully !\")\n",
    "    else:\n",
    "        print(\"Model is ready\")\n",
    "\n",
    "    return model\n",
    "Model_load()"
   ]
  },
  {
   "cell_type": "markdown",
   "metadata": {},
   "source": [
    "# Prediction of Color"
   ]
  },
  {
   "cell_type": "code",
   "execution_count": 52,
   "metadata": {
    "scrolled": false
   },
   "outputs": [
    {
     "data": {
      "text/plain": [
       "'Prediction.jpg'"
      ]
     },
     "execution_count": 52,
     "metadata": {},
     "output_type": "execute_result"
    }
   ],
   "source": [
    " \n",
    "def Prediction_Image_Creation(r,g,b):\n",
    "    #Specify fix Image size \n",
    "    height, width = 48, 48\n",
    "    blank_image = np.zeros((height, width, 3), np.uint8)\n",
    "    #image generated using formate (B,G,R)\n",
    "    blank_image[:, 0:width] = (b , g, r)\n",
    "    path_image ='Prediction.jpg'\n",
    "    cv2.imwrite(path_image, blank_image)\n",
    "    return path_image\n",
    "Prediction_Image_Creation(0,100,0)\n",
    "\n"
   ]
  },
  {
   "cell_type": "code",
   "execution_count": 53,
   "metadata": {
    "scrolled": true
   },
   "outputs": [
    {
     "name": "stdout",
     "output_type": "stream",
     "text": [
      "Model is Loading...\n",
      "Model is loaded sucessfully !\n"
     ]
    },
    {
     "data": {
      "text/plain": [
       "'green'"
      ]
     },
     "execution_count": 53,
     "metadata": {},
     "output_type": "execute_result"
    }
   ],
   "source": [
    "model =Model_load()\n",
    "\n",
    "def color_prediction(prediction_image,model):\n",
    "    \n",
    "    image = cv2.imread(prediction_image)\n",
    "    image = cv2.resize(image, (48, 48 ))\n",
    "    result = np.expand_dims(image, axis=0)\n",
    "    prediction_value=model.predict_classes(result)\n",
    "    #1=green ,2=blue,0=red\n",
    "    prediction_value_result = ['red','green','blue']\n",
    "    color=prediction_value_result[int(prediction_value)]\n",
    "    return color\n",
    "    \n",
    "color_prediction('Prediction.jpg',model)"
   ]
  },
  {
   "cell_type": "markdown",
   "metadata": {},
   "source": [
    "# Random Image Testing"
   ]
  },
  {
   "cell_type": "code",
   "execution_count": 54,
   "metadata": {},
   "outputs": [
    {
     "name": "stdout",
     "output_type": "stream",
     "text": [
      "Model is Loading...\n",
      "Model is loaded sucessfully !\n",
      "\n",
      "\n",
      " Image: blue_1.jpg \n",
      " Predicted_color:  blue \n",
      " Actual_color:  blue\n",
      "\n",
      "\n",
      " Image: blue_2.jpg \n",
      " Predicted_color:  blue \n",
      " Actual_color:  blue\n",
      "\n",
      "\n",
      " Image: blue_3.jpg \n",
      " Predicted_color:  blue \n",
      " Actual_color:  blue\n",
      "\n",
      "\n",
      " Image: blue_4.jpg \n",
      " Predicted_color:  blue \n",
      " Actual_color:  blue\n",
      "\n",
      "\n",
      " Image: blue_5.jpg \n",
      " Predicted_color:  blue \n",
      " Actual_color:  blue\n",
      "\n",
      "\n",
      " Image: blue_6.jpg \n",
      " Predicted_color:  blue \n",
      " Actual_color:  blue\n",
      "\n",
      "\n",
      " Image: blue_7.jpg \n",
      " Predicted_color:  blue \n",
      " Actual_color:  blue\n",
      "\n",
      "\n",
      " Image: blue_8.jpg \n",
      " Predicted_color:  blue \n",
      " Actual_color:  blue\n",
      "\n",
      "\n",
      " Image: blue_9.jpg \n",
      " Predicted_color:  blue \n",
      " Actual_color:  blue\n",
      "\n",
      "\n",
      " Image: green_1.jpg \n",
      " Predicted_color:  blue \n",
      " Actual_color:  green\n",
      "\n",
      "\n",
      " Image: green_2.jpg \n",
      " Predicted_color:  green \n",
      " Actual_color:  green\n",
      "\n",
      "\n",
      " Image: green_3.jpg \n",
      " Predicted_color:  green \n",
      " Actual_color:  green\n",
      "\n",
      "\n",
      " Image: green_4.jpg \n",
      " Predicted_color:  green \n",
      " Actual_color:  green\n",
      "\n",
      "\n",
      " Image: green_5.jpg \n",
      " Predicted_color:  green \n",
      " Actual_color:  green\n",
      "\n",
      "\n",
      " Image: green_6.jpg \n",
      " Predicted_color:  green \n",
      " Actual_color:  green\n",
      "\n",
      "\n",
      " Image: green_7.jpg \n",
      " Predicted_color:  green \n",
      " Actual_color:  green\n",
      "\n",
      "\n",
      " Image: green_8.jpg \n",
      " Predicted_color:  green \n",
      " Actual_color:  green\n",
      "\n",
      "\n",
      " Image: green_9.jpg \n",
      " Predicted_color:  green \n",
      " Actual_color:  green\n",
      "\n",
      "\n",
      " Image: red_1.jpg \n",
      " Predicted_color:  blue \n",
      " Actual_color:  red\n",
      "\n",
      "\n",
      " Image: red_2.jpg \n",
      " Predicted_color:  red \n",
      " Actual_color:  red\n",
      "\n",
      "\n",
      " Image: red_3.jpg \n",
      " Predicted_color:  red \n",
      " Actual_color:  red\n",
      "\n",
      "\n",
      " Image: red_4.jpg \n",
      " Predicted_color:  red \n",
      " Actual_color:  red\n",
      "\n",
      "\n",
      " Image: red_5.jpg \n",
      " Predicted_color:  red \n",
      " Actual_color:  red\n",
      "\n",
      "\n",
      " Image: red_6.jpg \n",
      " Predicted_color:  red \n",
      " Actual_color:  red\n",
      "\n",
      "\n",
      " Image: red_7.jpg \n",
      " Predicted_color:  red \n",
      " Actual_color:  red\n",
      "\n",
      "\n",
      " Image: red_8.jpg \n",
      " Predicted_color:  red \n",
      " Actual_color:  red\n",
      "\n",
      "\n",
      " Image: red_9.jpg \n",
      " Predicted_color:  red \n",
      " Actual_color:  red\n"
     ]
    }
   ],
   "source": [
    "# if import error raise\n",
    "#import os \n",
    "base =\"Input/\"\n",
    "Fault_prediction=0\n",
    "model = Model_load()\n",
    "# Accessing  image from input folder, before accssesing be sure that you unzip folder or system will atomatically generated\n",
    "if not os.path.exists('Input'):\n",
    "    print(\"Wait DataSet is loading \")\n",
    "    %run Input.ipynb\n",
    "    print(\"Dataset is ready\")\n",
    "    \n",
    "\n",
    "Input = os.listdir(base)\n",
    "total = len(Input)\n",
    "for Custome_Image in Input:\n",
    "        Actual_color_name=Custome_Image.split('_')[0]\n",
    "        prediction_color=color_prediction(base+Custome_Image,model)\n",
    "        if   Actual_color_name != prediction_color:\n",
    "            Fault_prediction +=1\n",
    "        print(\"\\n\\n Image:\",Custome_Image, \"\\n Predicted_color: \",prediction_color,\"\\n Actual_color: \",Actual_color_name)\n"
   ]
  },
  {
   "cell_type": "code",
   "execution_count": 55,
   "metadata": {},
   "outputs": [
    {
     "data": {
      "image/png": "[encoded data removed]",
      "text/plain": [
       "<Figure size 576x576 with 1 Axes>"
      ]
     },
     "metadata": {},
     "output_type": "display_data"
    }
   ],
   "source": [
    "fig = plt.figure(figsize=(8,8))\n",
    "ax = fig.add_axes([0,0,1,1])\n",
    "ax.axis('equal')\n",
    "color_Loss=cm.Set1(0.18) \n",
    "color_accuracy =cm.Set1(0.075) \n",
    "Color = [color_Loss,color_accuracy]\n",
    "Label = ['Correct_Prediction', 'Wrong_Prediction']\n",
    "Value = [total-Fault_prediction,Fault_prediction]\n",
    "ax.pie(Value, labels = Label,autopct='%1.2f%%',colors =Color)\n",
    "plt.show()"
   ]
  },
  {
   "cell_type": "code",
   "execution_count": 67,
   "metadata": {},
   "outputs": [
    {
     "name": "stdout",
     "output_type": "stream",
     "text": [
      "According value Color is Red \n",
      "According to Model output is :\n"
     ]
    },
    {
     "data": {
      "text/plain": [
       "'red'"
      ]
     },
     "execution_count": 67,
     "metadata": {},
     "output_type": "execute_result"
    },
    {
     "data": {
      "image/png": "[encoded data removed]",
      "text/plain": [
       "<Figure size 432x288 with 1 Axes>"
      ]
     },
     "metadata": {
      "needs_background": "light"
     },
     "output_type": "display_data"
    }
   ],
   "source": [
    "import matplotlib.image as mpimg\n",
    "\n",
    "PREDICT_IMG=Prediction_Image_Creation(255,200,200)\n",
    "img = mpimg.imread(PREDICT_IMG)\n",
    "plt.imshow(img)\n",
    "print(\"According value Color is Red \\nAccording to Model output is :\")\n",
    "color_prediction(\"Prediction.jpg\",model)"
   ]
  },
  {
   "cell_type": "code",
   "execution_count": 69,
   "metadata": {},
   "outputs": [
    {
     "name": "stdout",
     "output_type": "stream",
     "text": [
      "According value Color is Red \n",
      "According to Model output is :\n"
     ]
    },
    {
     "data": {
      "text/plain": [
       "'red'"
      ]
     },
     "execution_count": 69,
     "metadata": {},
     "output_type": "execute_result"
    },
    {
     "data": {
      "image/png": "[encoded data removed]",
      "text/plain": [
       "<Figure size 432x288 with 1 Axes>"
      ]
     },
     "metadata": {
      "needs_background": "light"
     },
     "output_type": "display_data"
    }
   ],
   "source": [
    "PREDICT_IMG=Prediction_Image_Creation(150,0,0)\n",
    "img = mpimg.imread(PREDICT_IMG)\n",
    "plt.imshow(img)\n",
    "print(\"According value Color is Red \\nAccording to Model output is :\")\n",
    "color_prediction(\"Prediction.jpg\",model)"
   ]
  },
  {
   "cell_type": "code",
   "execution_count": 59,
   "metadata": {},
   "outputs": [
    {
     "name": "stdout",
     "output_type": "stream",
     "text": [
      "According value Color is blue \n",
      "According to Model output is :\n"
     ]
    },
    {
     "data": {
      "text/plain": [
       "'blue'"
      ]
     },
     "execution_count": 59,
     "metadata": {},
     "output_type": "execute_result"
    },
    {
     "data": {
      "image/png": "[encoded data removed]",
      "text/plain": [
       "<Figure size 432x288 with 1 Axes>"
      ]
     },
     "metadata": {
      "needs_background": "light"
     },
     "output_type": "display_data"
    }
   ],
   "source": [
    "Prediction_Image_Creation(179,179,255)\n",
    "img = mpimg.imread(PREDICT_IMG)\n",
    "plt.imshow(img)\n",
    "print(\"According value Color is blue \\nAccording to Model output is :\")\n",
    "color_prediction(\"Prediction.jpg\",model)"
   ]
  },
  {
   "cell_type": "code",
   "execution_count": 60,
   "metadata": {},
   "outputs": [
    {
     "name": "stdout",
     "output_type": "stream",
     "text": [
      "According value Color is blue \n",
      "According to Model output is :\n"
     ]
    },
    {
     "data": {
      "text/plain": [
       "'blue'"
      ]
     },
     "execution_count": 60,
     "metadata": {},
     "output_type": "execute_result"
    },
    {
     "data": {
      "image/png": "[encoded data removed]",
      "text/plain": [
       "<Figure size 432x288 with 1 Axes>"
      ]
     },
     "metadata": {
      "needs_background": "light"
     },
     "output_type": "display_data"
    }
   ],
   "source": [
    "PREDICT_IMG=Prediction_Image_Creation(26,0,153)\n",
    "img = mpimg.imread(PREDICT_IMG)\n",
    "plt.imshow(img)\n",
    "print(\"According value Color is blue \\nAccording to Model output is :\")\n",
    "color_prediction(\"Prediction.jpg\",model)"
   ]
  },
  {
   "cell_type": "code",
   "execution_count": 61,
   "metadata": {},
   "outputs": [
    {
     "name": "stdout",
     "output_type": "stream",
     "text": [
      "According value Color is blue \n",
      "According to Model output is :\n"
     ]
    },
    {
     "data": {
      "text/plain": [
       "'green'"
      ]
     },
     "execution_count": 61,
     "metadata": {},
     "output_type": "execute_result"
    },
    {
     "data": {
      "image/png": "[encoded data removed]",
      "text/plain": [
       "<Figure size 432x288 with 1 Axes>"
      ]
     },
     "metadata": {
      "needs_background": "light"
     },
     "output_type": "display_data"
    }
   ],
   "source": [
    "PREDICT_IMG=Prediction_Image_Creation(9,51,0)\n",
    "img = mpimg.imread(PREDICT_IMG)\n",
    "plt.imshow(img)\n",
    "print(\"According value Color is blue \\nAccording to Model output is :\")\n",
    "color_prediction(\"Prediction.jpg\",model)"
   ]
  },
  {
   "cell_type": "code",
   "execution_count": 62,
   "metadata": {},
   "outputs": [
    {
     "name": "stdout",
     "output_type": "stream",
     "text": [
      "According value Color is blue \n",
      "According to Model output is :\n"
     ]
    },
    {
     "data": {
      "text/plain": [
       "'green'"
      ]
     },
     "execution_count": 62,
     "metadata": {},
     "output_type": "execute_result"
    },
    {
     "data": {
      "image/png": "[encoded data removed]",
      "text/plain": [
       "<Figure size 432x288 with 1 Axes>"
      ]
     },
     "metadata": {
      "needs_background": "light"
     },
     "output_type": "display_data"
    }
   ],
   "source": [
    "PREDICT_IMG=Prediction_Image_Creation(204,255,179)\n",
    "img = mpimg.imread(PREDICT_IMG)\n",
    "plt.imshow(img)\n",
    "print(\"According value Color is blue \\nAccording to Model output is :\")\n",
    "color_prediction(\"Prediction.jpg\",model)"
   ]
  },
  {
   "cell_type": "code",
   "execution_count": null,
   "metadata": {},
   "outputs": [],
   "source": []
  }
 ],
 "metadata": {
  "kernelspec": {
   "display_name": "Python 3",
   "language": "python",
   "name": "python3"
  },
  "language_info": {
   "codemirror_mode": {
    "name": "ipython",
    "version": 3
   },
   "file_extension": ".py",
   "mimetype": "text/x-python",
   "name": "python",
   "nbconvert_exporter": "python",
   "pygments_lexer": "ipython3",
   "version": "3.7.7"
  }
 },
 "nbformat": 4,
 "nbformat_minor": 4
}
