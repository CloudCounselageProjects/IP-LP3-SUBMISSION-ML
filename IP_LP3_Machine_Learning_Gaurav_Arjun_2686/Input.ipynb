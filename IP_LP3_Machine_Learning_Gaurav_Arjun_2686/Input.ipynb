{
 "cells": [
  {
   "cell_type": "code",
   "execution_count": 1,
   "metadata": {},
   "outputs": [],
   "source": [
    "import cv2\n",
    "import numpy as np\n",
    "import os\n",
    "height, width = 48, 48\n",
    "blank_image = np.zeros((height, width, 3), np.uint8)\n",
    "\n",
    "\n",
    "def create_img(color):\n",
    "    counter = 0\n",
    "    path = \"Input//\"\n",
    "    for ind in range(0, 255, 30):\n",
    "        counter += 1\n",
    "\n",
    "        if color == 'red':\n",
    "            blank_image[:, 0:width] = (0, 0, ind)\n",
    "            \n",
    "        elif color == 'blue':\n",
    "            blank_image[:, 0:width] = (ind, 0, 0)\n",
    "            \n",
    "        elif color == 'green':\n",
    "            blank_image[:, 0:width] = (0, ind, 0)\n",
    "        \n",
    "    \n",
    "    \n",
    "    \n",
    "        if not os.path.exists(path):\n",
    "                os.makedirs(path)\n",
    "\n",
    "                \n",
    "                \n",
    "        path_image = path + color + \"_\" + str(counter) + '.jpg'\n",
    "        cv2.imwrite(path_image, blank_image)\n",
    "     \n",
    "    \n",
    "    \n",
    "    \n",
    "create_img('blue')\n",
    "create_img('red')\n",
    "create_img('green')\n",
    "\n"
   ]
  },
  {
   "cell_type": "code",
   "execution_count": null,
   "metadata": {},
   "outputs": [],
   "source": []
  },
  {
   "cell_type": "code",
   "execution_count": null,
   "metadata": {},
   "outputs": [],
   "source": []
  }
 ],
 "metadata": {
  "kernelspec": {
   "display_name": "Python 3",
   "language": "python",
   "name": "python3"
  },
  "language_info": {
   "codemirror_mode": {
    "name": "ipython",
    "version": 3
   },
   "file_extension": ".py",
   "mimetype": "text/x-python",
   "name": "python",
   "nbconvert_exporter": "python",
   "pygments_lexer": "ipython3",
   "version": "3.7.6"
  }
 },
 "nbformat": 4,
 "nbformat_minor": 4
}
