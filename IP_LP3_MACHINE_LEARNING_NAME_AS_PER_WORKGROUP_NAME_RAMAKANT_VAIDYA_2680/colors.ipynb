{
 "cells": [
  {
   "cell_type": "markdown",
   "metadata": {},
   "source": [
    "# Ramakant Vaidya\n",
    "Problem Statement : Create a model for identification of color. Code will be given as an input image and code is supposed to categorize which RGB color it matches to."
   ]
  },
  {
   "cell_type": "code",
   "execution_count": 1,
   "metadata": {},
   "outputs": [],
   "source": [
    "#importing packages\n",
    "import numpy as np\n",
    "import pandas as pd\n",
    "import tensorflow as tf"
   ]
  },
  {
   "cell_type": "code",
   "execution_count": 2,
   "metadata": {},
   "outputs": [],
   "source": [
    "#Read CSV file \n",
    "data = pd.read_csv('colours_rgb_shades.csv')"
   ]
  },
  {
   "cell_type": "code",
   "execution_count": 3,
   "metadata": {},
   "outputs": [
    {
     "data": {
      "text/html": [
       "<div>\n",
       "<style scoped>\n",
       "    .dataframe tbody tr th:only-of-type {\n",
       "        vertical-align: middle;\n",
       "    }\n",
       "\n",
       "    .dataframe tbody tr th {\n",
       "        vertical-align: top;\n",
       "    }\n",
       "\n",
       "    .dataframe thead th {\n",
       "        text-align: right;\n",
       "    }\n",
       "</style>\n",
       "<table border=\"1\" class=\"dataframe\">\n",
       "  <thead>\n",
       "    <tr style=\"text-align: right;\">\n",
       "      <th></th>\n",
       "      <th>Color Name</th>\n",
       "      <th>Credits</th>\n",
       "      <th>R;G;B Dec</th>\n",
       "      <th>RGB Hex</th>\n",
       "      <th>CSS Hex</th>\n",
       "      <th>BG/FG color sample</th>\n",
       "    </tr>\n",
       "  </thead>\n",
       "  <tbody>\n",
       "    <tr>\n",
       "      <th>0</th>\n",
       "      <td>Grey</td>\n",
       "      <td>N</td>\n",
       "      <td>84;84;84</td>\n",
       "      <td>545454</td>\n",
       "      <td>NaN</td>\n",
       "      <td>### SAMPLE ###</td>\n",
       "    </tr>\n",
       "    <tr>\n",
       "      <th>1</th>\n",
       "      <td>Grey, Silver</td>\n",
       "      <td>V</td>\n",
       "      <td>192;192;192</td>\n",
       "      <td>C0C0C0</td>\n",
       "      <td>NaN</td>\n",
       "      <td>### SAMPLE ###</td>\n",
       "    </tr>\n",
       "    <tr>\n",
       "      <th>2</th>\n",
       "      <td>grey</td>\n",
       "      <td>X</td>\n",
       "      <td>190;190;190</td>\n",
       "      <td>BEBEBE</td>\n",
       "      <td>NaN</td>\n",
       "      <td>### SAMPLE ###</td>\n",
       "    </tr>\n",
       "    <tr>\n",
       "      <th>3</th>\n",
       "      <td>LightGray</td>\n",
       "      <td>X</td>\n",
       "      <td>211;211;211</td>\n",
       "      <td>D3D3D3</td>\n",
       "      <td>NaN</td>\n",
       "      <td>### SAMPLE ###</td>\n",
       "    </tr>\n",
       "    <tr>\n",
       "      <th>4</th>\n",
       "      <td>LightSlateGrey</td>\n",
       "      <td>X</td>\n",
       "      <td>119;136;153</td>\n",
       "      <td>778899</td>\n",
       "      <td>789</td>\n",
       "      <td>### SAMPLE ###</td>\n",
       "    </tr>\n",
       "  </tbody>\n",
       "</table>\n",
       "</div>"
      ],
      "text/plain": [
       "       Color Name Credits    R;G;B Dec RGB Hex CSS Hex BG/FG color sample\n",
       "0            Grey       N     84;84;84  545454     NaN     ### SAMPLE ###\n",
       "1    Grey, Silver       V  192;192;192  C0C0C0     NaN     ### SAMPLE ###\n",
       "2            grey       X  190;190;190  BEBEBE     NaN     ### SAMPLE ###\n",
       "3       LightGray       X  211;211;211  D3D3D3     NaN     ### SAMPLE ###\n",
       "4  LightSlateGrey       X  119;136;153  778899     789     ### SAMPLE ###"
      ]
     },
     "execution_count": 3,
     "metadata": {},
     "output_type": "execute_result"
    }
   ],
   "source": [
    "#visualising data in short format\n",
    "data.head()"
   ]
  },
  {
   "cell_type": "code",
   "execution_count": 4,
   "metadata": {},
   "outputs": [],
   "source": [
    "#dropping unnecessary columns or null value columns \n",
    "data.drop(['BG/FG color sample', 'Credits', 'RGB Hex', 'CSS Hex'], axis = 1, inplace=True)"
   ]
  },
  {
   "cell_type": "code",
   "execution_count": 5,
   "metadata": {},
   "outputs": [
    {
     "data": {
      "text/html": [
       "<div>\n",
       "<style scoped>\n",
       "    .dataframe tbody tr th:only-of-type {\n",
       "        vertical-align: middle;\n",
       "    }\n",
       "\n",
       "    .dataframe tbody tr th {\n",
       "        vertical-align: top;\n",
       "    }\n",
       "\n",
       "    .dataframe thead th {\n",
       "        text-align: right;\n",
       "    }\n",
       "</style>\n",
       "<table border=\"1\" class=\"dataframe\">\n",
       "  <thead>\n",
       "    <tr style=\"text-align: right;\">\n",
       "      <th></th>\n",
       "      <th>Color Name</th>\n",
       "      <th>R;G;B Dec</th>\n",
       "    </tr>\n",
       "  </thead>\n",
       "  <tbody>\n",
       "    <tr>\n",
       "      <th>0</th>\n",
       "      <td>Grey</td>\n",
       "      <td>84;84;84</td>\n",
       "    </tr>\n",
       "    <tr>\n",
       "      <th>1</th>\n",
       "      <td>Grey, Silver</td>\n",
       "      <td>192;192;192</td>\n",
       "    </tr>\n",
       "    <tr>\n",
       "      <th>2</th>\n",
       "      <td>grey</td>\n",
       "      <td>190;190;190</td>\n",
       "    </tr>\n",
       "    <tr>\n",
       "      <th>3</th>\n",
       "      <td>LightGray</td>\n",
       "      <td>211;211;211</td>\n",
       "    </tr>\n",
       "    <tr>\n",
       "      <th>4</th>\n",
       "      <td>LightSlateGrey</td>\n",
       "      <td>119;136;153</td>\n",
       "    </tr>\n",
       "    <tr>\n",
       "      <th>...</th>\n",
       "      <td>...</td>\n",
       "      <td>...</td>\n",
       "    </tr>\n",
       "    <tr>\n",
       "      <th>655</th>\n",
       "      <td>gold</td>\n",
       "      <td>205;127;50</td>\n",
       "    </tr>\n",
       "    <tr>\n",
       "      <th>656</th>\n",
       "      <td>silver</td>\n",
       "      <td>230;232;250</td>\n",
       "    </tr>\n",
       "    <tr>\n",
       "      <th>657</th>\n",
       "      <td>Silver, Grey</td>\n",
       "      <td>192;192;192</td>\n",
       "    </tr>\n",
       "    <tr>\n",
       "      <th>658</th>\n",
       "      <td>Light Steel Blue</td>\n",
       "      <td>84;84;84</td>\n",
       "    </tr>\n",
       "    <tr>\n",
       "      <th>659</th>\n",
       "      <td>Steel Blue</td>\n",
       "      <td>35;107;142</td>\n",
       "    </tr>\n",
       "  </tbody>\n",
       "</table>\n",
       "<p>660 rows × 2 columns</p>\n",
       "</div>"
      ],
      "text/plain": [
       "           Color Name    R;G;B Dec\n",
       "0                Grey     84;84;84\n",
       "1        Grey, Silver  192;192;192\n",
       "2                grey  190;190;190\n",
       "3           LightGray  211;211;211\n",
       "4      LightSlateGrey  119;136;153\n",
       "..                ...          ...\n",
       "655              gold   205;127;50\n",
       "656            silver  230;232;250\n",
       "657      Silver, Grey  192;192;192\n",
       "658  Light Steel Blue     84;84;84\n",
       "659        Steel Blue   35;107;142\n",
       "\n",
       "[660 rows x 2 columns]"
      ]
     },
     "execution_count": 5,
     "metadata": {},
     "output_type": "execute_result"
    }
   ],
   "source": [
    "data"
   ]
  },
  {
   "cell_type": "code",
   "execution_count": 6,
   "metadata": {},
   "outputs": [
    {
     "name": "stdout",
     "output_type": "stream",
     "text": [
      "<class 'pandas.core.frame.DataFrame'>\n",
      "RangeIndex: 660 entries, 0 to 659\n",
      "Data columns (total 2 columns):\n",
      " #   Column      Non-Null Count  Dtype \n",
      "---  ------      --------------  ----- \n",
      " 0   Color Name  646 non-null    object\n",
      " 1   R;G;B Dec   660 non-null    object\n",
      "dtypes: object(2)\n",
      "memory usage: 10.4+ KB\n"
     ]
    }
   ],
   "source": [
    "data.info()"
   ]
  },
  {
   "cell_type": "code",
   "execution_count": 7,
   "metadata": {},
   "outputs": [],
   "source": [
    "data.dropna(axis=0, inplace=True)"
   ]
  },
  {
   "cell_type": "code",
   "execution_count": 8,
   "metadata": {},
   "outputs": [],
   "source": [
    "#splitting data by ; \n",
    "\n",
    "data['R'] = data['R;G;B Dec'].apply(lambda x : int(x.split(';')[0]))\n",
    "data['G'] = data['R;G;B Dec'].apply(lambda x : int(x.split(';')[1]))\n",
    "data['B'] = data['R;G;B Dec'].apply(lambda x : int(x.split(';')[2]))\n",
    "data.drop('R;G;B Dec', axis = 1, inplace=True)"
   ]
  },
  {
   "cell_type": "code",
   "execution_count": 9,
   "metadata": {},
   "outputs": [
    {
     "data": {
      "text/html": [
       "<div>\n",
       "<style scoped>\n",
       "    .dataframe tbody tr th:only-of-type {\n",
       "        vertical-align: middle;\n",
       "    }\n",
       "\n",
       "    .dataframe tbody tr th {\n",
       "        vertical-align: top;\n",
       "    }\n",
       "\n",
       "    .dataframe thead th {\n",
       "        text-align: right;\n",
       "    }\n",
       "</style>\n",
       "<table border=\"1\" class=\"dataframe\">\n",
       "  <thead>\n",
       "    <tr style=\"text-align: right;\">\n",
       "      <th></th>\n",
       "      <th>Color Name</th>\n",
       "      <th>R</th>\n",
       "      <th>G</th>\n",
       "      <th>B</th>\n",
       "    </tr>\n",
       "  </thead>\n",
       "  <tbody>\n",
       "    <tr>\n",
       "      <th>0</th>\n",
       "      <td>Grey</td>\n",
       "      <td>84</td>\n",
       "      <td>84</td>\n",
       "      <td>84</td>\n",
       "    </tr>\n",
       "    <tr>\n",
       "      <th>1</th>\n",
       "      <td>Grey, Silver</td>\n",
       "      <td>192</td>\n",
       "      <td>192</td>\n",
       "      <td>192</td>\n",
       "    </tr>\n",
       "    <tr>\n",
       "      <th>2</th>\n",
       "      <td>grey</td>\n",
       "      <td>190</td>\n",
       "      <td>190</td>\n",
       "      <td>190</td>\n",
       "    </tr>\n",
       "    <tr>\n",
       "      <th>3</th>\n",
       "      <td>LightGray</td>\n",
       "      <td>211</td>\n",
       "      <td>211</td>\n",
       "      <td>211</td>\n",
       "    </tr>\n",
       "    <tr>\n",
       "      <th>4</th>\n",
       "      <td>LightSlateGrey</td>\n",
       "      <td>119</td>\n",
       "      <td>136</td>\n",
       "      <td>153</td>\n",
       "    </tr>\n",
       "    <tr>\n",
       "      <th>...</th>\n",
       "      <td>...</td>\n",
       "      <td>...</td>\n",
       "      <td>...</td>\n",
       "      <td>...</td>\n",
       "    </tr>\n",
       "    <tr>\n",
       "      <th>655</th>\n",
       "      <td>gold</td>\n",
       "      <td>205</td>\n",
       "      <td>127</td>\n",
       "      <td>50</td>\n",
       "    </tr>\n",
       "    <tr>\n",
       "      <th>656</th>\n",
       "      <td>silver</td>\n",
       "      <td>230</td>\n",
       "      <td>232</td>\n",
       "      <td>250</td>\n",
       "    </tr>\n",
       "    <tr>\n",
       "      <th>657</th>\n",
       "      <td>Silver, Grey</td>\n",
       "      <td>192</td>\n",
       "      <td>192</td>\n",
       "      <td>192</td>\n",
       "    </tr>\n",
       "    <tr>\n",
       "      <th>658</th>\n",
       "      <td>Light Steel Blue</td>\n",
       "      <td>84</td>\n",
       "      <td>84</td>\n",
       "      <td>84</td>\n",
       "    </tr>\n",
       "    <tr>\n",
       "      <th>659</th>\n",
       "      <td>Steel Blue</td>\n",
       "      <td>35</td>\n",
       "      <td>107</td>\n",
       "      <td>142</td>\n",
       "    </tr>\n",
       "  </tbody>\n",
       "</table>\n",
       "<p>646 rows × 4 columns</p>\n",
       "</div>"
      ],
      "text/plain": [
       "           Color Name    R    G    B\n",
       "0                Grey   84   84   84\n",
       "1        Grey, Silver  192  192  192\n",
       "2                grey  190  190  190\n",
       "3           LightGray  211  211  211\n",
       "4      LightSlateGrey  119  136  153\n",
       "..                ...  ...  ...  ...\n",
       "655              gold  205  127   50\n",
       "656            silver  230  232  250\n",
       "657      Silver, Grey  192  192  192\n",
       "658  Light Steel Blue   84   84   84\n",
       "659        Steel Blue   35  107  142\n",
       "\n",
       "[646 rows x 4 columns]"
      ]
     },
     "execution_count": 9,
     "metadata": {},
     "output_type": "execute_result"
    }
   ],
   "source": [
    "data"
   ]
  },
  {
   "cell_type": "code",
   "execution_count": 10,
   "metadata": {},
   "outputs": [],
   "source": [
    "#assigning index\n",
    "data.index = [i for i in range(0, data.shape[0])]"
   ]
  },
  {
   "cell_type": "code",
   "execution_count": 11,
   "metadata": {},
   "outputs": [],
   "source": [
    "data.reset_index(drop = False, inplace=True)"
   ]
  },
  {
   "cell_type": "code",
   "execution_count": 12,
   "metadata": {},
   "outputs": [
    {
     "data": {
      "text/html": [
       "<div>\n",
       "<style scoped>\n",
       "    .dataframe tbody tr th:only-of-type {\n",
       "        vertical-align: middle;\n",
       "    }\n",
       "\n",
       "    .dataframe tbody tr th {\n",
       "        vertical-align: top;\n",
       "    }\n",
       "\n",
       "    .dataframe thead th {\n",
       "        text-align: right;\n",
       "    }\n",
       "</style>\n",
       "<table border=\"1\" class=\"dataframe\">\n",
       "  <thead>\n",
       "    <tr style=\"text-align: right;\">\n",
       "      <th></th>\n",
       "      <th>index</th>\n",
       "      <th>Color Name</th>\n",
       "      <th>R</th>\n",
       "      <th>G</th>\n",
       "      <th>B</th>\n",
       "    </tr>\n",
       "  </thead>\n",
       "  <tbody>\n",
       "    <tr>\n",
       "      <th>0</th>\n",
       "      <td>0</td>\n",
       "      <td>Grey</td>\n",
       "      <td>84</td>\n",
       "      <td>84</td>\n",
       "      <td>84</td>\n",
       "    </tr>\n",
       "    <tr>\n",
       "      <th>1</th>\n",
       "      <td>1</td>\n",
       "      <td>Grey, Silver</td>\n",
       "      <td>192</td>\n",
       "      <td>192</td>\n",
       "      <td>192</td>\n",
       "    </tr>\n",
       "    <tr>\n",
       "      <th>2</th>\n",
       "      <td>2</td>\n",
       "      <td>grey</td>\n",
       "      <td>190</td>\n",
       "      <td>190</td>\n",
       "      <td>190</td>\n",
       "    </tr>\n",
       "    <tr>\n",
       "      <th>3</th>\n",
       "      <td>3</td>\n",
       "      <td>LightGray</td>\n",
       "      <td>211</td>\n",
       "      <td>211</td>\n",
       "      <td>211</td>\n",
       "    </tr>\n",
       "    <tr>\n",
       "      <th>4</th>\n",
       "      <td>4</td>\n",
       "      <td>LightSlateGrey</td>\n",
       "      <td>119</td>\n",
       "      <td>136</td>\n",
       "      <td>153</td>\n",
       "    </tr>\n",
       "  </tbody>\n",
       "</table>\n",
       "</div>"
      ],
      "text/plain": [
       "   index      Color Name    R    G    B\n",
       "0      0            Grey   84   84   84\n",
       "1      1    Grey, Silver  192  192  192\n",
       "2      2            grey  190  190  190\n",
       "3      3       LightGray  211  211  211\n",
       "4      4  LightSlateGrey  119  136  153"
      ]
     },
     "execution_count": 12,
     "metadata": {},
     "output_type": "execute_result"
    }
   ],
   "source": [
    "data.head()"
   ]
  },
  {
   "cell_type": "code",
   "execution_count": 13,
   "metadata": {},
   "outputs": [],
   "source": [
    "from sklearn.neighbors import KNeighborsRegressor\n",
    "\n",
    "from sklearn.model_selection import train_test_split\n",
    "\n",
    "dataset=data[['index', 'R', 'G', 'B']].values"
   ]
  },
  {
   "cell_type": "code",
   "execution_count": 14,
   "metadata": {},
   "outputs": [
    {
     "data": {
      "text/plain": [
       "numpy.ndarray"
      ]
     },
     "execution_count": 14,
     "metadata": {},
     "output_type": "execute_result"
    }
   ],
   "source": [
    "type(dataset)"
   ]
  },
  {
   "cell_type": "code",
   "execution_count": 15,
   "metadata": {},
   "outputs": [],
   "source": [
    "X = dataset[:, 1:]\n",
    "\n",
    "Y = dataset[:, 0].reshape(-1,1)"
   ]
  },
  {
   "cell_type": "code",
   "execution_count": 16,
   "metadata": {},
   "outputs": [
    {
     "data": {
      "text/plain": [
       "(646, 3)"
      ]
     },
     "execution_count": 16,
     "metadata": {},
     "output_type": "execute_result"
    }
   ],
   "source": [
    "X.shape"
   ]
  },
  {
   "cell_type": "code",
   "execution_count": 17,
   "metadata": {},
   "outputs": [
    {
     "data": {
      "text/plain": [
       "(646, 1)"
      ]
     },
     "execution_count": 17,
     "metadata": {},
     "output_type": "execute_result"
    }
   ],
   "source": [
    "Y.shape"
   ]
  },
  {
   "cell_type": "code",
   "execution_count": 18,
   "metadata": {},
   "outputs": [],
   "source": [
    "#creating knn model \n",
    "\n",
    "knn = KNeighborsRegressor(n_neighbors=1)"
   ]
  },
  {
   "cell_type": "code",
   "execution_count": 19,
   "metadata": {},
   "outputs": [],
   "source": [
    "#X_train,X_test,y_train,y_test = train_test_split(X,Y,test_size=0.2,random_state = 0)"
   ]
  },
  {
   "cell_type": "code",
   "execution_count": 20,
   "metadata": {},
   "outputs": [
    {
     "name": "stdout",
     "output_type": "stream",
     "text": [
      "0.933150571271473\n"
     ]
    }
   ],
   "source": [
    "#fitting knn model by X and Y\n",
    "\n",
    "knn.fit(X, Y)\n",
    "print(knn.score(X,Y))\n",
    "#print(knn.score(X_test,y_test))"
   ]
  },
  {
   "cell_type": "code",
   "execution_count": 21,
   "metadata": {},
   "outputs": [],
   "source": [
    "import cv2"
   ]
  },
  {
   "cell_type": "code",
   "execution_count": 22,
   "metadata": {},
   "outputs": [],
   "source": [
    "#read image as input\n",
    "\n",
    "img = cv2.imread('red.jpeg')"
   ]
  },
  {
   "cell_type": "code",
   "execution_count": 23,
   "metadata": {},
   "outputs": [
    {
     "data": {
      "text/plain": [
       "numpy.ndarray"
      ]
     },
     "execution_count": 23,
     "metadata": {},
     "output_type": "execute_result"
    }
   ],
   "source": [
    "type(img)"
   ]
  },
  {
   "cell_type": "code",
   "execution_count": 24,
   "metadata": {},
   "outputs": [
    {
     "data": {
      "text/plain": [
       "(225, 225, 3)"
      ]
     },
     "execution_count": 24,
     "metadata": {},
     "output_type": "execute_result"
    }
   ],
   "source": [
    "img.shape"
   ]
  },
  {
   "cell_type": "code",
   "execution_count": 25,
   "metadata": {},
   "outputs": [],
   "source": [
    "#getting the center pixel\n",
    "row = int(img.shape[0]/2)\n",
    "col = int(img.shape[1]/2)"
   ]
  },
  {
   "cell_type": "code",
   "execution_count": 26,
   "metadata": {},
   "outputs": [],
   "source": [
    "#creating array as RGB by arranging BGR \n",
    "arr = np.array([int(img[row, col, 2]), int(img[row, col, 1]), int(img[row, col, 0])]).reshape(1, -1)"
   ]
  },
  {
   "cell_type": "code",
   "execution_count": 27,
   "metadata": {},
   "outputs": [
    {
     "data": {
      "text/plain": [
       "array([[255,   0,   0]])"
      ]
     },
     "execution_count": 27,
     "metadata": {},
     "output_type": "execute_result"
    }
   ],
   "source": [
    "arr"
   ]
  },
  {
   "cell_type": "code",
   "execution_count": 28,
   "metadata": {},
   "outputs": [
    {
     "data": {
      "text/plain": [
       "array([[458.]])"
      ]
     },
     "execution_count": 28,
     "metadata": {},
     "output_type": "execute_result"
    }
   ],
   "source": [
    "#predicting input image by using knn prediction on trained data\n",
    "knn.predict(arr)"
   ]
  },
  {
   "cell_type": "code",
   "execution_count": 29,
   "metadata": {},
   "outputs": [
    {
     "name": "stdout",
     "output_type": "stream",
     "text": [
      "Class:  Red\n",
      "Color Name: 458    red\n",
      "Name: Color Name, dtype: object\n"
     ]
    }
   ],
   "source": [
    "#displaying output\n",
    "\n",
    "names=['Red', 'Green', 'Blue']\n",
    "print('Class: ',names[arr.argmax()])\n",
    "print('Color Name: %s' %data[data['index']==int(knn.predict(arr)[0][0])]['Color Name'])"
   ]
  },
  {
   "cell_type": "code",
   "execution_count": 30,
   "metadata": {},
   "outputs": [
    {
     "name": "stdout",
     "output_type": "stream",
     "text": [
      "Class:  Red\n",
      "Color Name: 474    Spicy Pink\n",
      "Name: Color Name, dtype: object\n"
     ]
    }
   ],
   "source": [
    "#testing with image with pink color\n",
    "\n",
    "img = cv2.imread('vk.jpeg')\n",
    "row = int(img.shape[0]/2)\n",
    "col = int(img.shape[1]/2)\n",
    "arr = np.array([int(img[row, col, 2]), int(img[row, col, 1]), int(img[row, col, 0])]).reshape(1, -1)\n",
    "knn.predict(arr)\n",
    "names=['Red', 'Green', 'Blue']\n",
    "print('Class: ',names[arr.argmax()])\n",
    "print('Color Name: %s' %data[data['index']==int(knn.predict(arr)[0][0])]['Color Name'])"
   ]
  },
  {
   "cell_type": "code",
   "execution_count": 31,
   "metadata": {},
   "outputs": [
    {
     "name": "stdout",
     "output_type": "stream",
     "text": [
      "Class:  Blue\n",
      "Color Name: 177    RoyalBlue5\n",
      "Name: Color Name, dtype: object\n"
     ]
    }
   ],
   "source": [
    "#testing with image with dark blue color\n",
    "\n",
    "img = cv2.imread('navy.jpeg')\n",
    "row = int(img.shape[0]/2)\n",
    "col = int(img.shape[1]/2)\n",
    "arr = np.array([int(img[row, col, 2]), int(img[row, col, 1]), int(img[row, col, 0])]).reshape(1, -1)\n",
    "knn.predict(arr)\n",
    "names=['Red', 'Green', 'Blue']\n",
    "print('Class: ',names[arr.argmax()])\n",
    "print('Color Name: %s' %data[data['index']==int(knn.predict(arr)[0][0])]['Color Name'])"
   ]
  },
  {
   "cell_type": "code",
   "execution_count": null,
   "metadata": {},
   "outputs": [],
   "source": []
  }
 ],
 "metadata": {
  "kernelspec": {
   "display_name": "Python 3",
   "language": "python",
   "name": "python3"
  },
  "language_info": {
   "codemirror_mode": {
    "name": "ipython",
    "version": 3
   },
   "file_extension": ".py",
   "mimetype": "text/x-python",
   "name": "python",
   "nbconvert_exporter": "python",
   "pygments_lexer": "ipython3",
   "version": "3.7.6"
  }
 },
 "nbformat": 4,
 "nbformat_minor": 4
}
