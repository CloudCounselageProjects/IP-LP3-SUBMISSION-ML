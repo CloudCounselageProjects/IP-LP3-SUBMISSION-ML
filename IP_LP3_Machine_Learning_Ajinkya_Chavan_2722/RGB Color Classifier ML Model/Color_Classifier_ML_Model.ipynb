{
  "nbformat": 4,
  "nbformat_minor": 0,
  "metadata": {
    "colab": {
      "name": "Color Classifier ML Model.ipynb",
      "provenance": []
    },
    "kernelspec": {
      "name": "python3",
      "display_name": "Python 3"
    }
  },
  "cells": [
    {
      "cell_type": "markdown",
      "metadata": {
        "id": "gkV_k4u56Tzp",
        "colab_type": "text"
      },
      "source": [
        "# Importing Libraries"
      ]
    },
    {
      "cell_type": "code",
      "metadata": {
        "id": "MhCFJ4JP5ESj",
        "colab_type": "code",
        "colab": {}
      },
      "source": [
        "import numpy as np\n",
        "import pandas as pd\n",
        "import seaborn as sns\n",
        "import pathlib\n",
        "import matplotlib.pyplot as plt"
      ],
      "execution_count": 0,
      "outputs": []
    },
    {
      "cell_type": "code",
      "metadata": {
        "id": "AnzkOJjw6kjd",
        "colab_type": "code",
        "outputId": "8b85cb54-9cef-4a7f-a96d-b2b61d083f70",
        "colab": {
          "base_uri": "https://localhost:8080/",
          "height": 34
        }
      },
      "source": [
        "# Importing Tensorflow\n",
        "import tensorflow as tf\n",
        "\n",
        "from tensorflow import keras\n",
        "from tensorflow.keras import layers\n",
        "\n",
        "print(tf.__version__)"
      ],
      "execution_count": 0,
      "outputs": [
        {
          "output_type": "stream",
          "text": [
            "2.2.0\n"
          ],
          "name": "stdout"
        }
      ]
    },
    {
      "cell_type": "code",
      "metadata": {
        "id": "-lvbXbtc62Pz",
        "colab_type": "code",
        "outputId": "8a6288a7-1e80-44ad-a11d-88471aae5beb",
        "colab": {
          "base_uri": "https://localhost:8080/",
          "height": 283
        }
      },
      "source": [
        "!pip install git+https://github.com/tensorflow/docs # Use some functions from tensorflow_docs"
      ],
      "execution_count": 0,
      "outputs": [
        {
          "output_type": "stream",
          "text": [
            "Collecting git+https://github.com/tensorflow/docs\n",
            "  Cloning https://github.com/tensorflow/docs to /tmp/pip-req-build-ufcwk31n\n",
            "  Running command git clone -q https://github.com/tensorflow/docs /tmp/pip-req-build-ufcwk31n\n",
            "Requirement already satisfied (use --upgrade to upgrade): tensorflow-docs===0.0.0f6a904b5c1e41e43dc29e43665fe1d4aca929cf8- from git+https://github.com/tensorflow/docs in /usr/local/lib/python3.6/dist-packages\n",
            "Requirement already satisfied: astor in /usr/local/lib/python3.6/dist-packages (from tensorflow-docs===0.0.0f6a904b5c1e41e43dc29e43665fe1d4aca929cf8-) (0.8.1)\n",
            "Requirement already satisfied: absl-py in /usr/local/lib/python3.6/dist-packages (from tensorflow-docs===0.0.0f6a904b5c1e41e43dc29e43665fe1d4aca929cf8-) (0.9.0)\n",
            "Requirement already satisfied: protobuf in /usr/local/lib/python3.6/dist-packages (from tensorflow-docs===0.0.0f6a904b5c1e41e43dc29e43665fe1d4aca929cf8-) (3.10.0)\n",
            "Requirement already satisfied: pyyaml in /usr/local/lib/python3.6/dist-packages (from tensorflow-docs===0.0.0f6a904b5c1e41e43dc29e43665fe1d4aca929cf8-) (3.13)\n",
            "Requirement already satisfied: six in /usr/local/lib/python3.6/dist-packages (from absl-py->tensorflow-docs===0.0.0f6a904b5c1e41e43dc29e43665fe1d4aca929cf8-) (1.12.0)\n",
            "Requirement already satisfied: setuptools in /usr/local/lib/python3.6/dist-packages (from protobuf->tensorflow-docs===0.0.0f6a904b5c1e41e43dc29e43665fe1d4aca929cf8-) (47.1.1)\n",
            "Building wheels for collected packages: tensorflow-docs\n",
            "  Building wheel for tensorflow-docs (setup.py) ... \u001b[?25l\u001b[?25hdone\n",
            "  Created wheel for tensorflow-docs: filename=tensorflow_docs-0.0.0f6a904b5c1e41e43dc29e43665fe1d4aca929cf8_-cp36-none-any.whl size=114634 sha256=ae6322b51a29fdf2925c0d6d7cc4661dc6ef68da9c3eae0f37500a056fef4717\n",
            "  Stored in directory: /tmp/pip-ephem-wheel-cache-nwvcme8e/wheels/eb/1b/35/fce87697be00d2fc63e0b4b395b0d9c7e391a10e98d9a0d97f\n",
            "Successfully built tensorflow-docs\n"
          ],
          "name": "stdout"
        }
      ]
    },
    {
      "cell_type": "code",
      "metadata": {
        "id": "sTkUcVPX67ZO",
        "colab_type": "code",
        "colab": {}
      },
      "source": [
        "import tensorflow_docs as tfdocs\n",
        "import tensorflow_docs.plots\n",
        "import tensorflow_docs.modeling"
      ],
      "execution_count": 0,
      "outputs": []
    },
    {
      "cell_type": "code",
      "metadata": {
        "id": "IEHMTfp95ITI",
        "colab_type": "code",
        "colab": {
          "base_uri": "https://localhost:8080/",
          "height": 70
        },
        "outputId": "7ce74dbb-5b6d-416e-95a3-64de1205c342"
      },
      "source": [
        "#plotly used for plotting Interactive Graphs\n",
        "!pip install plotly\n",
        "import plotly.offline as py\n",
        "import plotly.express as px\n",
        "import plotly.graph_objs as go"
      ],
      "execution_count": 82,
      "outputs": [
        {
          "output_type": "stream",
          "text": [
            "Requirement already satisfied: plotly in /usr/local/lib/python3.6/dist-packages (4.4.1)\n",
            "Requirement already satisfied: six in /usr/local/lib/python3.6/dist-packages (from plotly) (1.12.0)\n",
            "Requirement already satisfied: retrying>=1.3.3 in /usr/local/lib/python3.6/dist-packages (from plotly) (1.3.3)\n"
          ],
          "name": "stdout"
        }
      ]
    },
    {
      "cell_type": "markdown",
      "metadata": {
        "id": "f17SxDZ_8KQG",
        "colab_type": "text"
      },
      "source": [
        "# Loading Dataset"
      ]
    },
    {
      "cell_type": "code",
      "metadata": {
        "id": "eECtLI2K7CIc",
        "colab_type": "code",
        "outputId": "f26e46c9-ecd4-47ae-8d76-fe5b2ba1c334",
        "colab": {
          "base_uri": "https://localhost:8080/",
          "height": 406
        }
      },
      "source": [
        "dataset = pd.read_csv('final_data.csv')\n",
        "dataset"
      ],
      "execution_count": 0,
      "outputs": [
        {
          "output_type": "execute_result",
          "data": {
            "text/html": [
              "<div>\n",
              "<style scoped>\n",
              "    .dataframe tbody tr th:only-of-type {\n",
              "        vertical-align: middle;\n",
              "    }\n",
              "\n",
              "    .dataframe tbody tr th {\n",
              "        vertical-align: top;\n",
              "    }\n",
              "\n",
              "    .dataframe thead th {\n",
              "        text-align: right;\n",
              "    }\n",
              "</style>\n",
              "<table border=\"1\" class=\"dataframe\">\n",
              "  <thead>\n",
              "    <tr style=\"text-align: right;\">\n",
              "      <th></th>\n",
              "      <th>red</th>\n",
              "      <th>green</th>\n",
              "      <th>blue</th>\n",
              "      <th>label</th>\n",
              "    </tr>\n",
              "  </thead>\n",
              "  <tbody>\n",
              "    <tr>\n",
              "      <th>0</th>\n",
              "      <td>20</td>\n",
              "      <td>139</td>\n",
              "      <td>240</td>\n",
              "      <td>Blue</td>\n",
              "    </tr>\n",
              "    <tr>\n",
              "      <th>1</th>\n",
              "      <td>174</td>\n",
              "      <td>83</td>\n",
              "      <td>72</td>\n",
              "      <td>Brown</td>\n",
              "    </tr>\n",
              "    <tr>\n",
              "      <th>2</th>\n",
              "      <td>144</td>\n",
              "      <td>249</td>\n",
              "      <td>131</td>\n",
              "      <td>Green</td>\n",
              "    </tr>\n",
              "    <tr>\n",
              "      <th>3</th>\n",
              "      <td>168</td>\n",
              "      <td>25</td>\n",
              "      <td>156</td>\n",
              "      <td>Pink</td>\n",
              "    </tr>\n",
              "    <tr>\n",
              "      <th>4</th>\n",
              "      <td>30</td>\n",
              "      <td>182</td>\n",
              "      <td>136</td>\n",
              "      <td>Green</td>\n",
              "    </tr>\n",
              "    <tr>\n",
              "      <th>...</th>\n",
              "      <td>...</td>\n",
              "      <td>...</td>\n",
              "      <td>...</td>\n",
              "      <td>...</td>\n",
              "    </tr>\n",
              "    <tr>\n",
              "      <th>5000</th>\n",
              "      <td>15</td>\n",
              "      <td>117</td>\n",
              "      <td>39</td>\n",
              "      <td>Green</td>\n",
              "    </tr>\n",
              "    <tr>\n",
              "      <th>5001</th>\n",
              "      <td>107</td>\n",
              "      <td>78</td>\n",
              "      <td>245</td>\n",
              "      <td>Blue</td>\n",
              "    </tr>\n",
              "    <tr>\n",
              "      <th>5002</th>\n",
              "      <td>110</td>\n",
              "      <td>176</td>\n",
              "      <td>82</td>\n",
              "      <td>Green</td>\n",
              "    </tr>\n",
              "    <tr>\n",
              "      <th>5003</th>\n",
              "      <td>97</td>\n",
              "      <td>192</td>\n",
              "      <td>125</td>\n",
              "      <td>Green</td>\n",
              "    </tr>\n",
              "    <tr>\n",
              "      <th>5004</th>\n",
              "      <td>242</td>\n",
              "      <td>63</td>\n",
              "      <td>233</td>\n",
              "      <td>Pink</td>\n",
              "    </tr>\n",
              "  </tbody>\n",
              "</table>\n",
              "<p>5005 rows × 4 columns</p>\n",
              "</div>"
            ],
            "text/plain": [
              "      red  green  blue  label\n",
              "0      20    139   240   Blue\n",
              "1     174     83    72  Brown\n",
              "2     144    249   131  Green\n",
              "3     168     25   156   Pink\n",
              "4      30    182   136  Green\n",
              "...   ...    ...   ...    ...\n",
              "5000   15    117    39  Green\n",
              "5001  107     78   245   Blue\n",
              "5002  110    176    82  Green\n",
              "5003   97    192   125  Green\n",
              "5004  242     63   233   Pink\n",
              "\n",
              "[5005 rows x 4 columns]"
            ]
          },
          "metadata": {
            "tags": []
          },
          "execution_count": 8
        }
      ]
    },
    {
      "cell_type": "code",
      "metadata": {
        "id": "3b3_1z3FAwLb",
        "colab_type": "code",
        "outputId": "f12f5752-5d2a-4eb2-e94d-9c7fe672eac0",
        "colab": {
          "base_uri": "https://localhost:8080/",
          "height": 287
        }
      },
      "source": [
        "dataset.describe()"
      ],
      "execution_count": 0,
      "outputs": [
        {
          "output_type": "execute_result",
          "data": {
            "text/html": [
              "<div>\n",
              "<style scoped>\n",
              "    .dataframe tbody tr th:only-of-type {\n",
              "        vertical-align: middle;\n",
              "    }\n",
              "\n",
              "    .dataframe tbody tr th {\n",
              "        vertical-align: top;\n",
              "    }\n",
              "\n",
              "    .dataframe thead th {\n",
              "        text-align: right;\n",
              "    }\n",
              "</style>\n",
              "<table border=\"1\" class=\"dataframe\">\n",
              "  <thead>\n",
              "    <tr style=\"text-align: right;\">\n",
              "      <th></th>\n",
              "      <th>red</th>\n",
              "      <th>green</th>\n",
              "      <th>blue</th>\n",
              "    </tr>\n",
              "  </thead>\n",
              "  <tbody>\n",
              "    <tr>\n",
              "      <th>count</th>\n",
              "      <td>5005.000000</td>\n",
              "      <td>5005.000000</td>\n",
              "      <td>5005.000000</td>\n",
              "    </tr>\n",
              "    <tr>\n",
              "      <th>mean</th>\n",
              "      <td>127.732468</td>\n",
              "      <td>126.623776</td>\n",
              "      <td>128.658741</td>\n",
              "    </tr>\n",
              "    <tr>\n",
              "      <th>std</th>\n",
              "      <td>73.494665</td>\n",
              "      <td>74.474670</td>\n",
              "      <td>73.715089</td>\n",
              "    </tr>\n",
              "    <tr>\n",
              "      <th>min</th>\n",
              "      <td>0.000000</td>\n",
              "      <td>0.000000</td>\n",
              "      <td>0.000000</td>\n",
              "    </tr>\n",
              "    <tr>\n",
              "      <th>25%</th>\n",
              "      <td>64.000000</td>\n",
              "      <td>61.000000</td>\n",
              "      <td>64.000000</td>\n",
              "    </tr>\n",
              "    <tr>\n",
              "      <th>50%</th>\n",
              "      <td>128.000000</td>\n",
              "      <td>127.000000</td>\n",
              "      <td>130.000000</td>\n",
              "    </tr>\n",
              "    <tr>\n",
              "      <th>75%</th>\n",
              "      <td>191.000000</td>\n",
              "      <td>191.000000</td>\n",
              "      <td>192.000000</td>\n",
              "    </tr>\n",
              "    <tr>\n",
              "      <th>max</th>\n",
              "      <td>254.000000</td>\n",
              "      <td>254.000000</td>\n",
              "      <td>254.000000</td>\n",
              "    </tr>\n",
              "  </tbody>\n",
              "</table>\n",
              "</div>"
            ],
            "text/plain": [
              "               red        green         blue\n",
              "count  5005.000000  5005.000000  5005.000000\n",
              "mean    127.732468   126.623776   128.658741\n",
              "std      73.494665    74.474670    73.715089\n",
              "min       0.000000     0.000000     0.000000\n",
              "25%      64.000000    61.000000    64.000000\n",
              "50%     128.000000   127.000000   130.000000\n",
              "75%     191.000000   191.000000   192.000000\n",
              "max     254.000000   254.000000   254.000000"
            ]
          },
          "metadata": {
            "tags": []
          },
          "execution_count": 9
        }
      ]
    },
    {
      "cell_type": "code",
      "metadata": {
        "id": "5jqc-bLaA8bL",
        "colab_type": "code",
        "outputId": "8dd09fd9-babb-4b6e-be57-8211f38fc2f4",
        "colab": {
          "base_uri": "https://localhost:8080/",
          "height": 212
        }
      },
      "source": [
        "dataset.info()"
      ],
      "execution_count": 0,
      "outputs": [
        {
          "output_type": "stream",
          "text": [
            "<class 'pandas.core.frame.DataFrame'>\n",
            "RangeIndex: 5005 entries, 0 to 5004\n",
            "Data columns (total 4 columns):\n",
            " #   Column  Non-Null Count  Dtype \n",
            "---  ------  --------------  ----- \n",
            " 0   red     5005 non-null   int64 \n",
            " 1   green   5005 non-null   int64 \n",
            " 2   blue    5005 non-null   int64 \n",
            " 3   label   5005 non-null   object\n",
            "dtypes: int64(3), object(1)\n",
            "memory usage: 156.5+ KB\n"
          ],
          "name": "stdout"
        }
      ]
    },
    {
      "cell_type": "markdown",
      "metadata": {
        "id": "1VgFqoDWBq67",
        "colab_type": "text"
      },
      "source": [
        "# Pre Process, Clean the Data"
      ]
    },
    {
      "cell_type": "markdown",
      "metadata": {
        "id": "J8Ou4yvmB0Wt",
        "colab_type": "text"
      },
      "source": [
        "## Eliminate Null if it exists"
      ]
    },
    {
      "cell_type": "code",
      "metadata": {
        "id": "ws6WKP8HBGJi",
        "colab_type": "code",
        "outputId": "b98b69d9-ed95-4f68-d2ac-48a0c471d2a9",
        "colab": {
          "base_uri": "https://localhost:8080/",
          "height": 105
        }
      },
      "source": [
        "#To find whether null entries are present \n",
        "dataset.isnull().sum()"
      ],
      "execution_count": 0,
      "outputs": [
        {
          "output_type": "execute_result",
          "data": {
            "text/plain": [
              "red      0\n",
              "green    0\n",
              "blue     0\n",
              "label    0\n",
              "dtype: int64"
            ]
          },
          "metadata": {
            "tags": []
          },
          "execution_count": 11
        }
      ]
    },
    {
      "cell_type": "markdown",
      "metadata": {
        "id": "7d0lNSvsCGz9",
        "colab_type": "text"
      },
      "source": [
        "## Converting Categorical Data of 'label` into Numerical"
      ]
    },
    {
      "cell_type": "code",
      "metadata": {
        "id": "ZQKMfhMYClxE",
        "colab_type": "code",
        "outputId": "0cfe7cd8-065d-4fa6-8c0f-25fb66f812af",
        "colab": {
          "base_uri": "https://localhost:8080/",
          "height": 52
        }
      },
      "source": [
        "dataset.label.unique()"
      ],
      "execution_count": 0,
      "outputs": [
        {
          "output_type": "execute_result",
          "data": {
            "text/plain": [
              "array(['Blue', 'Brown', 'Green', 'Pink', 'Yellow', 'Orange', 'Purple',\n",
              "       'Red', 'Grey', 'White', 'Black'], dtype=object)"
            ]
          },
          "metadata": {
            "tags": []
          },
          "execution_count": 12
        }
      ]
    },
    {
      "cell_type": "code",
      "metadata": {
        "id": "WeSHiHsSCUTV",
        "colab_type": "code",
        "outputId": "681fd938-ecfb-47b6-d9d3-ff7ea4586070",
        "colab": {
          "base_uri": "https://localhost:8080/",
          "height": 406
        }
      },
      "source": [
        "# One-Hot-Encoding\n",
        "dataset = pd.get_dummies(dataset, columns=['label'])\n",
        "dataset"
      ],
      "execution_count": 0,
      "outputs": [
        {
          "output_type": "execute_result",
          "data": {
            "text/html": [
              "<div>\n",
              "<style scoped>\n",
              "    .dataframe tbody tr th:only-of-type {\n",
              "        vertical-align: middle;\n",
              "    }\n",
              "\n",
              "    .dataframe tbody tr th {\n",
              "        vertical-align: top;\n",
              "    }\n",
              "\n",
              "    .dataframe thead th {\n",
              "        text-align: right;\n",
              "    }\n",
              "</style>\n",
              "<table border=\"1\" class=\"dataframe\">\n",
              "  <thead>\n",
              "    <tr style=\"text-align: right;\">\n",
              "      <th></th>\n",
              "      <th>red</th>\n",
              "      <th>green</th>\n",
              "      <th>blue</th>\n",
              "      <th>label_Black</th>\n",
              "      <th>label_Blue</th>\n",
              "      <th>label_Brown</th>\n",
              "      <th>label_Green</th>\n",
              "      <th>label_Grey</th>\n",
              "      <th>label_Orange</th>\n",
              "      <th>label_Pink</th>\n",
              "      <th>label_Purple</th>\n",
              "      <th>label_Red</th>\n",
              "      <th>label_White</th>\n",
              "      <th>label_Yellow</th>\n",
              "    </tr>\n",
              "  </thead>\n",
              "  <tbody>\n",
              "    <tr>\n",
              "      <th>0</th>\n",
              "      <td>20</td>\n",
              "      <td>139</td>\n",
              "      <td>240</td>\n",
              "      <td>0</td>\n",
              "      <td>1</td>\n",
              "      <td>0</td>\n",
              "      <td>0</td>\n",
              "      <td>0</td>\n",
              "      <td>0</td>\n",
              "      <td>0</td>\n",
              "      <td>0</td>\n",
              "      <td>0</td>\n",
              "      <td>0</td>\n",
              "      <td>0</td>\n",
              "    </tr>\n",
              "    <tr>\n",
              "      <th>1</th>\n",
              "      <td>174</td>\n",
              "      <td>83</td>\n",
              "      <td>72</td>\n",
              "      <td>0</td>\n",
              "      <td>0</td>\n",
              "      <td>1</td>\n",
              "      <td>0</td>\n",
              "      <td>0</td>\n",
              "      <td>0</td>\n",
              "      <td>0</td>\n",
              "      <td>0</td>\n",
              "      <td>0</td>\n",
              "      <td>0</td>\n",
              "      <td>0</td>\n",
              "    </tr>\n",
              "    <tr>\n",
              "      <th>2</th>\n",
              "      <td>144</td>\n",
              "      <td>249</td>\n",
              "      <td>131</td>\n",
              "      <td>0</td>\n",
              "      <td>0</td>\n",
              "      <td>0</td>\n",
              "      <td>1</td>\n",
              "      <td>0</td>\n",
              "      <td>0</td>\n",
              "      <td>0</td>\n",
              "      <td>0</td>\n",
              "      <td>0</td>\n",
              "      <td>0</td>\n",
              "      <td>0</td>\n",
              "    </tr>\n",
              "    <tr>\n",
              "      <th>3</th>\n",
              "      <td>168</td>\n",
              "      <td>25</td>\n",
              "      <td>156</td>\n",
              "      <td>0</td>\n",
              "      <td>0</td>\n",
              "      <td>0</td>\n",
              "      <td>0</td>\n",
              "      <td>0</td>\n",
              "      <td>0</td>\n",
              "      <td>1</td>\n",
              "      <td>0</td>\n",
              "      <td>0</td>\n",
              "      <td>0</td>\n",
              "      <td>0</td>\n",
              "    </tr>\n",
              "    <tr>\n",
              "      <th>4</th>\n",
              "      <td>30</td>\n",
              "      <td>182</td>\n",
              "      <td>136</td>\n",
              "      <td>0</td>\n",
              "      <td>0</td>\n",
              "      <td>0</td>\n",
              "      <td>1</td>\n",
              "      <td>0</td>\n",
              "      <td>0</td>\n",
              "      <td>0</td>\n",
              "      <td>0</td>\n",
              "      <td>0</td>\n",
              "      <td>0</td>\n",
              "      <td>0</td>\n",
              "    </tr>\n",
              "    <tr>\n",
              "      <th>...</th>\n",
              "      <td>...</td>\n",
              "      <td>...</td>\n",
              "      <td>...</td>\n",
              "      <td>...</td>\n",
              "      <td>...</td>\n",
              "      <td>...</td>\n",
              "      <td>...</td>\n",
              "      <td>...</td>\n",
              "      <td>...</td>\n",
              "      <td>...</td>\n",
              "      <td>...</td>\n",
              "      <td>...</td>\n",
              "      <td>...</td>\n",
              "      <td>...</td>\n",
              "    </tr>\n",
              "    <tr>\n",
              "      <th>5000</th>\n",
              "      <td>15</td>\n",
              "      <td>117</td>\n",
              "      <td>39</td>\n",
              "      <td>0</td>\n",
              "      <td>0</td>\n",
              "      <td>0</td>\n",
              "      <td>1</td>\n",
              "      <td>0</td>\n",
              "      <td>0</td>\n",
              "      <td>0</td>\n",
              "      <td>0</td>\n",
              "      <td>0</td>\n",
              "      <td>0</td>\n",
              "      <td>0</td>\n",
              "    </tr>\n",
              "    <tr>\n",
              "      <th>5001</th>\n",
              "      <td>107</td>\n",
              "      <td>78</td>\n",
              "      <td>245</td>\n",
              "      <td>0</td>\n",
              "      <td>1</td>\n",
              "      <td>0</td>\n",
              "      <td>0</td>\n",
              "      <td>0</td>\n",
              "      <td>0</td>\n",
              "      <td>0</td>\n",
              "      <td>0</td>\n",
              "      <td>0</td>\n",
              "      <td>0</td>\n",
              "      <td>0</td>\n",
              "    </tr>\n",
              "    <tr>\n",
              "      <th>5002</th>\n",
              "      <td>110</td>\n",
              "      <td>176</td>\n",
              "      <td>82</td>\n",
              "      <td>0</td>\n",
              "      <td>0</td>\n",
              "      <td>0</td>\n",
              "      <td>1</td>\n",
              "      <td>0</td>\n",
              "      <td>0</td>\n",
              "      <td>0</td>\n",
              "      <td>0</td>\n",
              "      <td>0</td>\n",
              "      <td>0</td>\n",
              "      <td>0</td>\n",
              "    </tr>\n",
              "    <tr>\n",
              "      <th>5003</th>\n",
              "      <td>97</td>\n",
              "      <td>192</td>\n",
              "      <td>125</td>\n",
              "      <td>0</td>\n",
              "      <td>0</td>\n",
              "      <td>0</td>\n",
              "      <td>1</td>\n",
              "      <td>0</td>\n",
              "      <td>0</td>\n",
              "      <td>0</td>\n",
              "      <td>0</td>\n",
              "      <td>0</td>\n",
              "      <td>0</td>\n",
              "      <td>0</td>\n",
              "    </tr>\n",
              "    <tr>\n",
              "      <th>5004</th>\n",
              "      <td>242</td>\n",
              "      <td>63</td>\n",
              "      <td>233</td>\n",
              "      <td>0</td>\n",
              "      <td>0</td>\n",
              "      <td>0</td>\n",
              "      <td>0</td>\n",
              "      <td>0</td>\n",
              "      <td>0</td>\n",
              "      <td>1</td>\n",
              "      <td>0</td>\n",
              "      <td>0</td>\n",
              "      <td>0</td>\n",
              "      <td>0</td>\n",
              "    </tr>\n",
              "  </tbody>\n",
              "</table>\n",
              "<p>5005 rows × 14 columns</p>\n",
              "</div>"
            ],
            "text/plain": [
              "      red  green  blue  ...  label_Red  label_White  label_Yellow\n",
              "0      20    139   240  ...          0            0             0\n",
              "1     174     83    72  ...          0            0             0\n",
              "2     144    249   131  ...          0            0             0\n",
              "3     168     25   156  ...          0            0             0\n",
              "4      30    182   136  ...          0            0             0\n",
              "...   ...    ...   ...  ...        ...          ...           ...\n",
              "5000   15    117    39  ...          0            0             0\n",
              "5001  107     78   245  ...          0            0             0\n",
              "5002  110    176    82  ...          0            0             0\n",
              "5003   97    192   125  ...          0            0             0\n",
              "5004  242     63   233  ...          0            0             0\n",
              "\n",
              "[5005 rows x 14 columns]"
            ]
          },
          "metadata": {
            "tags": []
          },
          "execution_count": 13
        }
      ]
    },
    {
      "cell_type": "markdown",
      "metadata": {
        "id": "6gEmAfsZG5KQ",
        "colab_type": "text"
      },
      "source": [
        "## Reorder"
      ]
    },
    {
      "cell_type": "code",
      "metadata": {
        "id": "yCgvNc6aG-kI",
        "colab_type": "code",
        "outputId": "4cbff78c-41e6-459e-be25-bf025ba38e86",
        "colab": {
          "base_uri": "https://localhost:8080/",
          "height": 406
        }
      },
      "source": [
        "dataset = dataset[['red', 'green', 'blue', 'label_Red', 'label_Green', 'label_Blue', 'label_Yellow', 'label_Orange', 'label_Pink', 'label_Purple', 'label_Brown', 'label_Grey', 'label_Black', 'label_White']]\n",
        "dataset"
      ],
      "execution_count": 0,
      "outputs": [
        {
          "output_type": "execute_result",
          "data": {
            "text/html": [
              "<div>\n",
              "<style scoped>\n",
              "    .dataframe tbody tr th:only-of-type {\n",
              "        vertical-align: middle;\n",
              "    }\n",
              "\n",
              "    .dataframe tbody tr th {\n",
              "        vertical-align: top;\n",
              "    }\n",
              "\n",
              "    .dataframe thead th {\n",
              "        text-align: right;\n",
              "    }\n",
              "</style>\n",
              "<table border=\"1\" class=\"dataframe\">\n",
              "  <thead>\n",
              "    <tr style=\"text-align: right;\">\n",
              "      <th></th>\n",
              "      <th>red</th>\n",
              "      <th>green</th>\n",
              "      <th>blue</th>\n",
              "      <th>label_Red</th>\n",
              "      <th>label_Green</th>\n",
              "      <th>label_Blue</th>\n",
              "      <th>label_Yellow</th>\n",
              "      <th>label_Orange</th>\n",
              "      <th>label_Pink</th>\n",
              "      <th>label_Purple</th>\n",
              "      <th>label_Brown</th>\n",
              "      <th>label_Grey</th>\n",
              "      <th>label_Black</th>\n",
              "      <th>label_White</th>\n",
              "    </tr>\n",
              "  </thead>\n",
              "  <tbody>\n",
              "    <tr>\n",
              "      <th>0</th>\n",
              "      <td>20</td>\n",
              "      <td>139</td>\n",
              "      <td>240</td>\n",
              "      <td>0</td>\n",
              "      <td>0</td>\n",
              "      <td>1</td>\n",
              "      <td>0</td>\n",
              "      <td>0</td>\n",
              "      <td>0</td>\n",
              "      <td>0</td>\n",
              "      <td>0</td>\n",
              "      <td>0</td>\n",
              "      <td>0</td>\n",
              "      <td>0</td>\n",
              "    </tr>\n",
              "    <tr>\n",
              "      <th>1</th>\n",
              "      <td>174</td>\n",
              "      <td>83</td>\n",
              "      <td>72</td>\n",
              "      <td>0</td>\n",
              "      <td>0</td>\n",
              "      <td>0</td>\n",
              "      <td>0</td>\n",
              "      <td>0</td>\n",
              "      <td>0</td>\n",
              "      <td>0</td>\n",
              "      <td>1</td>\n",
              "      <td>0</td>\n",
              "      <td>0</td>\n",
              "      <td>0</td>\n",
              "    </tr>\n",
              "    <tr>\n",
              "      <th>2</th>\n",
              "      <td>144</td>\n",
              "      <td>249</td>\n",
              "      <td>131</td>\n",
              "      <td>0</td>\n",
              "      <td>1</td>\n",
              "      <td>0</td>\n",
              "      <td>0</td>\n",
              "      <td>0</td>\n",
              "      <td>0</td>\n",
              "      <td>0</td>\n",
              "      <td>0</td>\n",
              "      <td>0</td>\n",
              "      <td>0</td>\n",
              "      <td>0</td>\n",
              "    </tr>\n",
              "    <tr>\n",
              "      <th>3</th>\n",
              "      <td>168</td>\n",
              "      <td>25</td>\n",
              "      <td>156</td>\n",
              "      <td>0</td>\n",
              "      <td>0</td>\n",
              "      <td>0</td>\n",
              "      <td>0</td>\n",
              "      <td>0</td>\n",
              "      <td>1</td>\n",
              "      <td>0</td>\n",
              "      <td>0</td>\n",
              "      <td>0</td>\n",
              "      <td>0</td>\n",
              "      <td>0</td>\n",
              "    </tr>\n",
              "    <tr>\n",
              "      <th>4</th>\n",
              "      <td>30</td>\n",
              "      <td>182</td>\n",
              "      <td>136</td>\n",
              "      <td>0</td>\n",
              "      <td>1</td>\n",
              "      <td>0</td>\n",
              "      <td>0</td>\n",
              "      <td>0</td>\n",
              "      <td>0</td>\n",
              "      <td>0</td>\n",
              "      <td>0</td>\n",
              "      <td>0</td>\n",
              "      <td>0</td>\n",
              "      <td>0</td>\n",
              "    </tr>\n",
              "    <tr>\n",
              "      <th>...</th>\n",
              "      <td>...</td>\n",
              "      <td>...</td>\n",
              "      <td>...</td>\n",
              "      <td>...</td>\n",
              "      <td>...</td>\n",
              "      <td>...</td>\n",
              "      <td>...</td>\n",
              "      <td>...</td>\n",
              "      <td>...</td>\n",
              "      <td>...</td>\n",
              "      <td>...</td>\n",
              "      <td>...</td>\n",
              "      <td>...</td>\n",
              "      <td>...</td>\n",
              "    </tr>\n",
              "    <tr>\n",
              "      <th>5000</th>\n",
              "      <td>15</td>\n",
              "      <td>117</td>\n",
              "      <td>39</td>\n",
              "      <td>0</td>\n",
              "      <td>1</td>\n",
              "      <td>0</td>\n",
              "      <td>0</td>\n",
              "      <td>0</td>\n",
              "      <td>0</td>\n",
              "      <td>0</td>\n",
              "      <td>0</td>\n",
              "      <td>0</td>\n",
              "      <td>0</td>\n",
              "      <td>0</td>\n",
              "    </tr>\n",
              "    <tr>\n",
              "      <th>5001</th>\n",
              "      <td>107</td>\n",
              "      <td>78</td>\n",
              "      <td>245</td>\n",
              "      <td>0</td>\n",
              "      <td>0</td>\n",
              "      <td>1</td>\n",
              "      <td>0</td>\n",
              "      <td>0</td>\n",
              "      <td>0</td>\n",
              "      <td>0</td>\n",
              "      <td>0</td>\n",
              "      <td>0</td>\n",
              "      <td>0</td>\n",
              "      <td>0</td>\n",
              "    </tr>\n",
              "    <tr>\n",
              "      <th>5002</th>\n",
              "      <td>110</td>\n",
              "      <td>176</td>\n",
              "      <td>82</td>\n",
              "      <td>0</td>\n",
              "      <td>1</td>\n",
              "      <td>0</td>\n",
              "      <td>0</td>\n",
              "      <td>0</td>\n",
              "      <td>0</td>\n",
              "      <td>0</td>\n",
              "      <td>0</td>\n",
              "      <td>0</td>\n",
              "      <td>0</td>\n",
              "      <td>0</td>\n",
              "    </tr>\n",
              "    <tr>\n",
              "      <th>5003</th>\n",
              "      <td>97</td>\n",
              "      <td>192</td>\n",
              "      <td>125</td>\n",
              "      <td>0</td>\n",
              "      <td>1</td>\n",
              "      <td>0</td>\n",
              "      <td>0</td>\n",
              "      <td>0</td>\n",
              "      <td>0</td>\n",
              "      <td>0</td>\n",
              "      <td>0</td>\n",
              "      <td>0</td>\n",
              "      <td>0</td>\n",
              "      <td>0</td>\n",
              "    </tr>\n",
              "    <tr>\n",
              "      <th>5004</th>\n",
              "      <td>242</td>\n",
              "      <td>63</td>\n",
              "      <td>233</td>\n",
              "      <td>0</td>\n",
              "      <td>0</td>\n",
              "      <td>0</td>\n",
              "      <td>0</td>\n",
              "      <td>0</td>\n",
              "      <td>1</td>\n",
              "      <td>0</td>\n",
              "      <td>0</td>\n",
              "      <td>0</td>\n",
              "      <td>0</td>\n",
              "      <td>0</td>\n",
              "    </tr>\n",
              "  </tbody>\n",
              "</table>\n",
              "<p>5005 rows × 14 columns</p>\n",
              "</div>"
            ],
            "text/plain": [
              "      red  green  blue  ...  label_Grey  label_Black  label_White\n",
              "0      20    139   240  ...           0            0            0\n",
              "1     174     83    72  ...           0            0            0\n",
              "2     144    249   131  ...           0            0            0\n",
              "3     168     25   156  ...           0            0            0\n",
              "4      30    182   136  ...           0            0            0\n",
              "...   ...    ...   ...  ...         ...          ...          ...\n",
              "5000   15    117    39  ...           0            0            0\n",
              "5001  107     78   245  ...           0            0            0\n",
              "5002  110    176    82  ...           0            0            0\n",
              "5003   97    192   125  ...           0            0            0\n",
              "5004  242     63   233  ...           0            0            0\n",
              "\n",
              "[5005 rows x 14 columns]"
            ]
          },
          "metadata": {
            "tags": []
          },
          "execution_count": 14
        }
      ]
    },
    {
      "cell_type": "markdown",
      "metadata": {
        "id": "cvdxg7-rJDG9",
        "colab_type": "text"
      },
      "source": [
        "# Data Correlation"
      ]
    },
    {
      "cell_type": "code",
      "metadata": {
        "id": "4_VA4nqUJGQ7",
        "colab_type": "code",
        "outputId": "11a96613-2deb-4091-a8ae-1b34c262e709",
        "colab": {
          "base_uri": "https://localhost:8080/",
          "height": 657
        }
      },
      "source": [
        "# Correlation Matrix Heatmap\n",
        "f, ax = plt.subplots(figsize=(15, 9))\n",
        "corr = dataset.corr()\n",
        "hm = sns.heatmap(round(corr,2), annot=True, ax=ax, cmap=\"coolwarm\",fmt='.2f',\n",
        "                 linewidths=.05)\n",
        "f.subplots_adjust(top=0.93)\n",
        "t= f.suptitle('Correlation Heatmap', fontsize=15)"
      ],
      "execution_count": 0,
      "outputs": [
        {
          "output_type": "display_data",
          "data": {
            "image/png": "[encoded data removed]",
            "text/plain": [
              "<Figure size 1080x648 with 2 Axes>"
            ]
          },
          "metadata": {
            "tags": [],
            "needs_background": "light"
          }
        }
      ]
    },
    {
      "cell_type": "markdown",
      "metadata": {
        "id": "pPufJUsdK5Aj",
        "colab_type": "text"
      },
      "source": [
        "# Split the data into train and test"
      ]
    },
    {
      "cell_type": "code",
      "metadata": {
        "id": "nm2w3Tn1K_TG",
        "colab_type": "code",
        "outputId": "19298a3c-c3eb-4a8d-d61a-f12487b923a9",
        "colab": {
          "base_uri": "https://localhost:8080/",
          "height": 406
        }
      },
      "source": [
        "train_dataset = dataset.sample(frac=0.8, random_state=9) #train = 80%,  random_state = any int value means every time when you run your program you will get the same output for train and test dataset, random_state is None by default which means every time when you run your program you will get different output because of splitting between train and test varies within \n",
        "test_dataset = dataset.drop(train_dataset.index) #remove train_dataset from dataframe to get test_dataset\n",
        "train_dataset"
      ],
      "execution_count": 29,
      "outputs": [
        {
          "output_type": "execute_result",
          "data": {
            "text/html": [
              "<div>\n",
              "<style scoped>\n",
              "    .dataframe tbody tr th:only-of-type {\n",
              "        vertical-align: middle;\n",
              "    }\n",
              "\n",
              "    .dataframe tbody tr th {\n",
              "        vertical-align: top;\n",
              "    }\n",
              "\n",
              "    .dataframe thead th {\n",
              "        text-align: right;\n",
              "    }\n",
              "</style>\n",
              "<table border=\"1\" class=\"dataframe\">\n",
              "  <thead>\n",
              "    <tr style=\"text-align: right;\">\n",
              "      <th></th>\n",
              "      <th>red</th>\n",
              "      <th>green</th>\n",
              "      <th>blue</th>\n",
              "      <th>label_Red</th>\n",
              "      <th>label_Green</th>\n",
              "      <th>label_Blue</th>\n",
              "      <th>label_Yellow</th>\n",
              "      <th>label_Orange</th>\n",
              "      <th>label_Pink</th>\n",
              "      <th>label_Purple</th>\n",
              "      <th>label_Brown</th>\n",
              "      <th>label_Grey</th>\n",
              "      <th>label_Black</th>\n",
              "      <th>label_White</th>\n",
              "    </tr>\n",
              "  </thead>\n",
              "  <tbody>\n",
              "    <tr>\n",
              "      <th>3319</th>\n",
              "      <td>81</td>\n",
              "      <td>53</td>\n",
              "      <td>243</td>\n",
              "      <td>0</td>\n",
              "      <td>0</td>\n",
              "      <td>1</td>\n",
              "      <td>0</td>\n",
              "      <td>0</td>\n",
              "      <td>0</td>\n",
              "      <td>0</td>\n",
              "      <td>0</td>\n",
              "      <td>0</td>\n",
              "      <td>0</td>\n",
              "      <td>0</td>\n",
              "    </tr>\n",
              "    <tr>\n",
              "      <th>3450</th>\n",
              "      <td>254</td>\n",
              "      <td>118</td>\n",
              "      <td>250</td>\n",
              "      <td>0</td>\n",
              "      <td>0</td>\n",
              "      <td>0</td>\n",
              "      <td>0</td>\n",
              "      <td>0</td>\n",
              "      <td>1</td>\n",
              "      <td>0</td>\n",
              "      <td>0</td>\n",
              "      <td>0</td>\n",
              "      <td>0</td>\n",
              "      <td>0</td>\n",
              "    </tr>\n",
              "    <tr>\n",
              "      <th>1942</th>\n",
              "      <td>127</td>\n",
              "      <td>53</td>\n",
              "      <td>69</td>\n",
              "      <td>0</td>\n",
              "      <td>0</td>\n",
              "      <td>0</td>\n",
              "      <td>0</td>\n",
              "      <td>0</td>\n",
              "      <td>0</td>\n",
              "      <td>0</td>\n",
              "      <td>1</td>\n",
              "      <td>0</td>\n",
              "      <td>0</td>\n",
              "      <td>0</td>\n",
              "    </tr>\n",
              "    <tr>\n",
              "      <th>1803</th>\n",
              "      <td>162</td>\n",
              "      <td>4</td>\n",
              "      <td>242</td>\n",
              "      <td>0</td>\n",
              "      <td>0</td>\n",
              "      <td>0</td>\n",
              "      <td>0</td>\n",
              "      <td>0</td>\n",
              "      <td>0</td>\n",
              "      <td>1</td>\n",
              "      <td>0</td>\n",
              "      <td>0</td>\n",
              "      <td>0</td>\n",
              "      <td>0</td>\n",
              "    </tr>\n",
              "    <tr>\n",
              "      <th>4583</th>\n",
              "      <td>13</td>\n",
              "      <td>57</td>\n",
              "      <td>85</td>\n",
              "      <td>0</td>\n",
              "      <td>0</td>\n",
              "      <td>1</td>\n",
              "      <td>0</td>\n",
              "      <td>0</td>\n",
              "      <td>0</td>\n",
              "      <td>0</td>\n",
              "      <td>0</td>\n",
              "      <td>0</td>\n",
              "      <td>0</td>\n",
              "      <td>0</td>\n",
              "    </tr>\n",
              "    <tr>\n",
              "      <th>...</th>\n",
              "      <td>...</td>\n",
              "      <td>...</td>\n",
              "      <td>...</td>\n",
              "      <td>...</td>\n",
              "      <td>...</td>\n",
              "      <td>...</td>\n",
              "      <td>...</td>\n",
              "      <td>...</td>\n",
              "      <td>...</td>\n",
              "      <td>...</td>\n",
              "      <td>...</td>\n",
              "      <td>...</td>\n",
              "      <td>...</td>\n",
              "      <td>...</td>\n",
              "    </tr>\n",
              "    <tr>\n",
              "      <th>2768</th>\n",
              "      <td>91</td>\n",
              "      <td>197</td>\n",
              "      <td>240</td>\n",
              "      <td>0</td>\n",
              "      <td>0</td>\n",
              "      <td>1</td>\n",
              "      <td>0</td>\n",
              "      <td>0</td>\n",
              "      <td>0</td>\n",
              "      <td>0</td>\n",
              "      <td>0</td>\n",
              "      <td>0</td>\n",
              "      <td>0</td>\n",
              "      <td>0</td>\n",
              "    </tr>\n",
              "    <tr>\n",
              "      <th>4239</th>\n",
              "      <td>167</td>\n",
              "      <td>88</td>\n",
              "      <td>12</td>\n",
              "      <td>0</td>\n",
              "      <td>0</td>\n",
              "      <td>0</td>\n",
              "      <td>0</td>\n",
              "      <td>0</td>\n",
              "      <td>0</td>\n",
              "      <td>0</td>\n",
              "      <td>1</td>\n",
              "      <td>0</td>\n",
              "      <td>0</td>\n",
              "      <td>0</td>\n",
              "    </tr>\n",
              "    <tr>\n",
              "      <th>1745</th>\n",
              "      <td>87</td>\n",
              "      <td>237</td>\n",
              "      <td>62</td>\n",
              "      <td>0</td>\n",
              "      <td>1</td>\n",
              "      <td>0</td>\n",
              "      <td>0</td>\n",
              "      <td>0</td>\n",
              "      <td>0</td>\n",
              "      <td>0</td>\n",
              "      <td>0</td>\n",
              "      <td>0</td>\n",
              "      <td>0</td>\n",
              "      <td>0</td>\n",
              "    </tr>\n",
              "    <tr>\n",
              "      <th>2291</th>\n",
              "      <td>190</td>\n",
              "      <td>132</td>\n",
              "      <td>64</td>\n",
              "      <td>0</td>\n",
              "      <td>0</td>\n",
              "      <td>0</td>\n",
              "      <td>0</td>\n",
              "      <td>0</td>\n",
              "      <td>0</td>\n",
              "      <td>0</td>\n",
              "      <td>1</td>\n",
              "      <td>0</td>\n",
              "      <td>0</td>\n",
              "      <td>0</td>\n",
              "    </tr>\n",
              "    <tr>\n",
              "      <th>3566</th>\n",
              "      <td>57</td>\n",
              "      <td>4</td>\n",
              "      <td>55</td>\n",
              "      <td>0</td>\n",
              "      <td>0</td>\n",
              "      <td>0</td>\n",
              "      <td>0</td>\n",
              "      <td>0</td>\n",
              "      <td>0</td>\n",
              "      <td>1</td>\n",
              "      <td>0</td>\n",
              "      <td>0</td>\n",
              "      <td>0</td>\n",
              "      <td>0</td>\n",
              "    </tr>\n",
              "  </tbody>\n",
              "</table>\n",
              "<p>4004 rows × 14 columns</p>\n",
              "</div>"
            ],
            "text/plain": [
              "      red  green  blue  ...  label_Grey  label_Black  label_White\n",
              "3319   81     53   243  ...           0            0            0\n",
              "3450  254    118   250  ...           0            0            0\n",
              "1942  127     53    69  ...           0            0            0\n",
              "1803  162      4   242  ...           0            0            0\n",
              "4583   13     57    85  ...           0            0            0\n",
              "...   ...    ...   ...  ...         ...          ...          ...\n",
              "2768   91    197   240  ...           0            0            0\n",
              "4239  167     88    12  ...           0            0            0\n",
              "1745   87    237    62  ...           0            0            0\n",
              "2291  190    132    64  ...           0            0            0\n",
              "3566   57      4    55  ...           0            0            0\n",
              "\n",
              "[4004 rows x 14 columns]"
            ]
          },
          "metadata": {
            "tags": []
          },
          "execution_count": 29
        }
      ]
    },
    {
      "cell_type": "code",
      "metadata": {
        "id": "SIoAOBwuLpt1",
        "colab_type": "code",
        "outputId": "30dc238a-5c3a-4a6e-a2ed-13f7b1f1af0c",
        "colab": {
          "base_uri": "https://localhost:8080/",
          "height": 406
        }
      },
      "source": [
        "test_dataset"
      ],
      "execution_count": 30,
      "outputs": [
        {
          "output_type": "execute_result",
          "data": {
            "text/html": [
              "<div>\n",
              "<style scoped>\n",
              "    .dataframe tbody tr th:only-of-type {\n",
              "        vertical-align: middle;\n",
              "    }\n",
              "\n",
              "    .dataframe tbody tr th {\n",
              "        vertical-align: top;\n",
              "    }\n",
              "\n",
              "    .dataframe thead th {\n",
              "        text-align: right;\n",
              "    }\n",
              "</style>\n",
              "<table border=\"1\" class=\"dataframe\">\n",
              "  <thead>\n",
              "    <tr style=\"text-align: right;\">\n",
              "      <th></th>\n",
              "      <th>red</th>\n",
              "      <th>green</th>\n",
              "      <th>blue</th>\n",
              "      <th>label_Red</th>\n",
              "      <th>label_Green</th>\n",
              "      <th>label_Blue</th>\n",
              "      <th>label_Yellow</th>\n",
              "      <th>label_Orange</th>\n",
              "      <th>label_Pink</th>\n",
              "      <th>label_Purple</th>\n",
              "      <th>label_Brown</th>\n",
              "      <th>label_Grey</th>\n",
              "      <th>label_Black</th>\n",
              "      <th>label_White</th>\n",
              "    </tr>\n",
              "  </thead>\n",
              "  <tbody>\n",
              "    <tr>\n",
              "      <th>0</th>\n",
              "      <td>20</td>\n",
              "      <td>139</td>\n",
              "      <td>240</td>\n",
              "      <td>0</td>\n",
              "      <td>0</td>\n",
              "      <td>1</td>\n",
              "      <td>0</td>\n",
              "      <td>0</td>\n",
              "      <td>0</td>\n",
              "      <td>0</td>\n",
              "      <td>0</td>\n",
              "      <td>0</td>\n",
              "      <td>0</td>\n",
              "      <td>0</td>\n",
              "    </tr>\n",
              "    <tr>\n",
              "      <th>3</th>\n",
              "      <td>168</td>\n",
              "      <td>25</td>\n",
              "      <td>156</td>\n",
              "      <td>0</td>\n",
              "      <td>0</td>\n",
              "      <td>0</td>\n",
              "      <td>0</td>\n",
              "      <td>0</td>\n",
              "      <td>1</td>\n",
              "      <td>0</td>\n",
              "      <td>0</td>\n",
              "      <td>0</td>\n",
              "      <td>0</td>\n",
              "      <td>0</td>\n",
              "    </tr>\n",
              "    <tr>\n",
              "      <th>11</th>\n",
              "      <td>249</td>\n",
              "      <td>99</td>\n",
              "      <td>108</td>\n",
              "      <td>0</td>\n",
              "      <td>0</td>\n",
              "      <td>0</td>\n",
              "      <td>0</td>\n",
              "      <td>0</td>\n",
              "      <td>1</td>\n",
              "      <td>0</td>\n",
              "      <td>0</td>\n",
              "      <td>0</td>\n",
              "      <td>0</td>\n",
              "      <td>0</td>\n",
              "    </tr>\n",
              "    <tr>\n",
              "      <th>12</th>\n",
              "      <td>24</td>\n",
              "      <td>161</td>\n",
              "      <td>177</td>\n",
              "      <td>0</td>\n",
              "      <td>0</td>\n",
              "      <td>1</td>\n",
              "      <td>0</td>\n",
              "      <td>0</td>\n",
              "      <td>0</td>\n",
              "      <td>0</td>\n",
              "      <td>0</td>\n",
              "      <td>0</td>\n",
              "      <td>0</td>\n",
              "      <td>0</td>\n",
              "    </tr>\n",
              "    <tr>\n",
              "      <th>14</th>\n",
              "      <td>125</td>\n",
              "      <td>103</td>\n",
              "      <td>236</td>\n",
              "      <td>0</td>\n",
              "      <td>0</td>\n",
              "      <td>1</td>\n",
              "      <td>0</td>\n",
              "      <td>0</td>\n",
              "      <td>0</td>\n",
              "      <td>0</td>\n",
              "      <td>0</td>\n",
              "      <td>0</td>\n",
              "      <td>0</td>\n",
              "      <td>0</td>\n",
              "    </tr>\n",
              "    <tr>\n",
              "      <th>...</th>\n",
              "      <td>...</td>\n",
              "      <td>...</td>\n",
              "      <td>...</td>\n",
              "      <td>...</td>\n",
              "      <td>...</td>\n",
              "      <td>...</td>\n",
              "      <td>...</td>\n",
              "      <td>...</td>\n",
              "      <td>...</td>\n",
              "      <td>...</td>\n",
              "      <td>...</td>\n",
              "      <td>...</td>\n",
              "      <td>...</td>\n",
              "      <td>...</td>\n",
              "    </tr>\n",
              "    <tr>\n",
              "      <th>4988</th>\n",
              "      <td>55</td>\n",
              "      <td>248</td>\n",
              "      <td>149</td>\n",
              "      <td>0</td>\n",
              "      <td>1</td>\n",
              "      <td>0</td>\n",
              "      <td>0</td>\n",
              "      <td>0</td>\n",
              "      <td>0</td>\n",
              "      <td>0</td>\n",
              "      <td>0</td>\n",
              "      <td>0</td>\n",
              "      <td>0</td>\n",
              "      <td>0</td>\n",
              "    </tr>\n",
              "    <tr>\n",
              "      <th>4993</th>\n",
              "      <td>11</td>\n",
              "      <td>200</td>\n",
              "      <td>35</td>\n",
              "      <td>0</td>\n",
              "      <td>1</td>\n",
              "      <td>0</td>\n",
              "      <td>0</td>\n",
              "      <td>0</td>\n",
              "      <td>0</td>\n",
              "      <td>0</td>\n",
              "      <td>0</td>\n",
              "      <td>0</td>\n",
              "      <td>0</td>\n",
              "      <td>0</td>\n",
              "    </tr>\n",
              "    <tr>\n",
              "      <th>4994</th>\n",
              "      <td>101</td>\n",
              "      <td>130</td>\n",
              "      <td>192</td>\n",
              "      <td>0</td>\n",
              "      <td>0</td>\n",
              "      <td>1</td>\n",
              "      <td>0</td>\n",
              "      <td>0</td>\n",
              "      <td>0</td>\n",
              "      <td>0</td>\n",
              "      <td>0</td>\n",
              "      <td>0</td>\n",
              "      <td>0</td>\n",
              "      <td>0</td>\n",
              "    </tr>\n",
              "    <tr>\n",
              "      <th>4996</th>\n",
              "      <td>221</td>\n",
              "      <td>153</td>\n",
              "      <td>34</td>\n",
              "      <td>0</td>\n",
              "      <td>0</td>\n",
              "      <td>0</td>\n",
              "      <td>0</td>\n",
              "      <td>1</td>\n",
              "      <td>0</td>\n",
              "      <td>0</td>\n",
              "      <td>0</td>\n",
              "      <td>0</td>\n",
              "      <td>0</td>\n",
              "      <td>0</td>\n",
              "    </tr>\n",
              "    <tr>\n",
              "      <th>5001</th>\n",
              "      <td>107</td>\n",
              "      <td>78</td>\n",
              "      <td>245</td>\n",
              "      <td>0</td>\n",
              "      <td>0</td>\n",
              "      <td>1</td>\n",
              "      <td>0</td>\n",
              "      <td>0</td>\n",
              "      <td>0</td>\n",
              "      <td>0</td>\n",
              "      <td>0</td>\n",
              "      <td>0</td>\n",
              "      <td>0</td>\n",
              "      <td>0</td>\n",
              "    </tr>\n",
              "  </tbody>\n",
              "</table>\n",
              "<p>1001 rows × 14 columns</p>\n",
              "</div>"
            ],
            "text/plain": [
              "      red  green  blue  ...  label_Grey  label_Black  label_White\n",
              "0      20    139   240  ...           0            0            0\n",
              "3     168     25   156  ...           0            0            0\n",
              "11    249     99   108  ...           0            0            0\n",
              "12     24    161   177  ...           0            0            0\n",
              "14    125    103   236  ...           0            0            0\n",
              "...   ...    ...   ...  ...         ...          ...          ...\n",
              "4988   55    248   149  ...           0            0            0\n",
              "4993   11    200    35  ...           0            0            0\n",
              "4994  101    130   192  ...           0            0            0\n",
              "4996  221    153    34  ...           0            0            0\n",
              "5001  107     78   245  ...           0            0            0\n",
              "\n",
              "[1001 rows x 14 columns]"
            ]
          },
          "metadata": {
            "tags": []
          },
          "execution_count": 30
        }
      ]
    },
    {
      "cell_type": "markdown",
      "metadata": {
        "id": "lrb5CxEdL7u-",
        "colab_type": "text"
      },
      "source": [
        "## Split features: `red`, `green`, `blue` and labels"
      ]
    },
    {
      "cell_type": "code",
      "metadata": {
        "id": "xv3NMZAlLtDY",
        "colab_type": "code",
        "outputId": "7c1e7ce6-3bee-428b-da8b-383b97a46d98",
        "colab": {
          "base_uri": "https://localhost:8080/",
          "height": 406
        }
      },
      "source": [
        "train_labels = pd.DataFrame([train_dataset.pop(x) for x in ['label_Red', 'label_Green', 'label_Blue', 'label_Yellow', 'label_Orange', 'label_Pink', 'label_Purple', 'label_Brown', 'label_Grey', 'label_Black', 'label_White']]).T\n",
        "train_labels"
      ],
      "execution_count": 31,
      "outputs": [
        {
          "output_type": "execute_result",
          "data": {
            "text/html": [
              "<div>\n",
              "<style scoped>\n",
              "    .dataframe tbody tr th:only-of-type {\n",
              "        vertical-align: middle;\n",
              "    }\n",
              "\n",
              "    .dataframe tbody tr th {\n",
              "        vertical-align: top;\n",
              "    }\n",
              "\n",
              "    .dataframe thead th {\n",
              "        text-align: right;\n",
              "    }\n",
              "</style>\n",
              "<table border=\"1\" class=\"dataframe\">\n",
              "  <thead>\n",
              "    <tr style=\"text-align: right;\">\n",
              "      <th></th>\n",
              "      <th>label_Red</th>\n",
              "      <th>label_Green</th>\n",
              "      <th>label_Blue</th>\n",
              "      <th>label_Yellow</th>\n",
              "      <th>label_Orange</th>\n",
              "      <th>label_Pink</th>\n",
              "      <th>label_Purple</th>\n",
              "      <th>label_Brown</th>\n",
              "      <th>label_Grey</th>\n",
              "      <th>label_Black</th>\n",
              "      <th>label_White</th>\n",
              "    </tr>\n",
              "  </thead>\n",
              "  <tbody>\n",
              "    <tr>\n",
              "      <th>3319</th>\n",
              "      <td>0</td>\n",
              "      <td>0</td>\n",
              "      <td>1</td>\n",
              "      <td>0</td>\n",
              "      <td>0</td>\n",
              "      <td>0</td>\n",
              "      <td>0</td>\n",
              "      <td>0</td>\n",
              "      <td>0</td>\n",
              "      <td>0</td>\n",
              "      <td>0</td>\n",
              "    </tr>\n",
              "    <tr>\n",
              "      <th>3450</th>\n",
              "      <td>0</td>\n",
              "      <td>0</td>\n",
              "      <td>0</td>\n",
              "      <td>0</td>\n",
              "      <td>0</td>\n",
              "      <td>1</td>\n",
              "      <td>0</td>\n",
              "      <td>0</td>\n",
              "      <td>0</td>\n",
              "      <td>0</td>\n",
              "      <td>0</td>\n",
              "    </tr>\n",
              "    <tr>\n",
              "      <th>1942</th>\n",
              "      <td>0</td>\n",
              "      <td>0</td>\n",
              "      <td>0</td>\n",
              "      <td>0</td>\n",
              "      <td>0</td>\n",
              "      <td>0</td>\n",
              "      <td>0</td>\n",
              "      <td>1</td>\n",
              "      <td>0</td>\n",
              "      <td>0</td>\n",
              "      <td>0</td>\n",
              "    </tr>\n",
              "    <tr>\n",
              "      <th>1803</th>\n",
              "      <td>0</td>\n",
              "      <td>0</td>\n",
              "      <td>0</td>\n",
              "      <td>0</td>\n",
              "      <td>0</td>\n",
              "      <td>0</td>\n",
              "      <td>1</td>\n",
              "      <td>0</td>\n",
              "      <td>0</td>\n",
              "      <td>0</td>\n",
              "      <td>0</td>\n",
              "    </tr>\n",
              "    <tr>\n",
              "      <th>4583</th>\n",
              "      <td>0</td>\n",
              "      <td>0</td>\n",
              "      <td>1</td>\n",
              "      <td>0</td>\n",
              "      <td>0</td>\n",
              "      <td>0</td>\n",
              "      <td>0</td>\n",
              "      <td>0</td>\n",
              "      <td>0</td>\n",
              "      <td>0</td>\n",
              "      <td>0</td>\n",
              "    </tr>\n",
              "    <tr>\n",
              "      <th>...</th>\n",
              "      <td>...</td>\n",
              "      <td>...</td>\n",
              "      <td>...</td>\n",
              "      <td>...</td>\n",
              "      <td>...</td>\n",
              "      <td>...</td>\n",
              "      <td>...</td>\n",
              "      <td>...</td>\n",
              "      <td>...</td>\n",
              "      <td>...</td>\n",
              "      <td>...</td>\n",
              "    </tr>\n",
              "    <tr>\n",
              "      <th>2768</th>\n",
              "      <td>0</td>\n",
              "      <td>0</td>\n",
              "      <td>1</td>\n",
              "      <td>0</td>\n",
              "      <td>0</td>\n",
              "      <td>0</td>\n",
              "      <td>0</td>\n",
              "      <td>0</td>\n",
              "      <td>0</td>\n",
              "      <td>0</td>\n",
              "      <td>0</td>\n",
              "    </tr>\n",
              "    <tr>\n",
              "      <th>4239</th>\n",
              "      <td>0</td>\n",
              "      <td>0</td>\n",
              "      <td>0</td>\n",
              "      <td>0</td>\n",
              "      <td>0</td>\n",
              "      <td>0</td>\n",
              "      <td>0</td>\n",
              "      <td>1</td>\n",
              "      <td>0</td>\n",
              "      <td>0</td>\n",
              "      <td>0</td>\n",
              "    </tr>\n",
              "    <tr>\n",
              "      <th>1745</th>\n",
              "      <td>0</td>\n",
              "      <td>1</td>\n",
              "      <td>0</td>\n",
              "      <td>0</td>\n",
              "      <td>0</td>\n",
              "      <td>0</td>\n",
              "      <td>0</td>\n",
              "      <td>0</td>\n",
              "      <td>0</td>\n",
              "      <td>0</td>\n",
              "      <td>0</td>\n",
              "    </tr>\n",
              "    <tr>\n",
              "      <th>2291</th>\n",
              "      <td>0</td>\n",
              "      <td>0</td>\n",
              "      <td>0</td>\n",
              "      <td>0</td>\n",
              "      <td>0</td>\n",
              "      <td>0</td>\n",
              "      <td>0</td>\n",
              "      <td>1</td>\n",
              "      <td>0</td>\n",
              "      <td>0</td>\n",
              "      <td>0</td>\n",
              "    </tr>\n",
              "    <tr>\n",
              "      <th>3566</th>\n",
              "      <td>0</td>\n",
              "      <td>0</td>\n",
              "      <td>0</td>\n",
              "      <td>0</td>\n",
              "      <td>0</td>\n",
              "      <td>0</td>\n",
              "      <td>1</td>\n",
              "      <td>0</td>\n",
              "      <td>0</td>\n",
              "      <td>0</td>\n",
              "      <td>0</td>\n",
              "    </tr>\n",
              "  </tbody>\n",
              "</table>\n",
              "<p>4004 rows × 11 columns</p>\n",
              "</div>"
            ],
            "text/plain": [
              "      label_Red  label_Green  label_Blue  ...  label_Grey  label_Black  label_White\n",
              "3319          0            0           1  ...           0            0            0\n",
              "3450          0            0           0  ...           0            0            0\n",
              "1942          0            0           0  ...           0            0            0\n",
              "1803          0            0           0  ...           0            0            0\n",
              "4583          0            0           1  ...           0            0            0\n",
              "...         ...          ...         ...  ...         ...          ...          ...\n",
              "2768          0            0           1  ...           0            0            0\n",
              "4239          0            0           0  ...           0            0            0\n",
              "1745          0            1           0  ...           0            0            0\n",
              "2291          0            0           0  ...           0            0            0\n",
              "3566          0            0           0  ...           0            0            0\n",
              "\n",
              "[4004 rows x 11 columns]"
            ]
          },
          "metadata": {
            "tags": []
          },
          "execution_count": 31
        }
      ]
    },
    {
      "cell_type": "code",
      "metadata": {
        "id": "ev4dPvzKWw0_",
        "colab_type": "code",
        "outputId": "738e95b2-9b3b-4da9-fda5-cb45417da71e",
        "colab": {
          "base_uri": "https://localhost:8080/",
          "height": 406
        }
      },
      "source": [
        "train_dataset"
      ],
      "execution_count": 32,
      "outputs": [
        {
          "output_type": "execute_result",
          "data": {
            "text/html": [
              "<div>\n",
              "<style scoped>\n",
              "    .dataframe tbody tr th:only-of-type {\n",
              "        vertical-align: middle;\n",
              "    }\n",
              "\n",
              "    .dataframe tbody tr th {\n",
              "        vertical-align: top;\n",
              "    }\n",
              "\n",
              "    .dataframe thead th {\n",
              "        text-align: right;\n",
              "    }\n",
              "</style>\n",
              "<table border=\"1\" class=\"dataframe\">\n",
              "  <thead>\n",
              "    <tr style=\"text-align: right;\">\n",
              "      <th></th>\n",
              "      <th>red</th>\n",
              "      <th>green</th>\n",
              "      <th>blue</th>\n",
              "    </tr>\n",
              "  </thead>\n",
              "  <tbody>\n",
              "    <tr>\n",
              "      <th>3319</th>\n",
              "      <td>81</td>\n",
              "      <td>53</td>\n",
              "      <td>243</td>\n",
              "    </tr>\n",
              "    <tr>\n",
              "      <th>3450</th>\n",
              "      <td>254</td>\n",
              "      <td>118</td>\n",
              "      <td>250</td>\n",
              "    </tr>\n",
              "    <tr>\n",
              "      <th>1942</th>\n",
              "      <td>127</td>\n",
              "      <td>53</td>\n",
              "      <td>69</td>\n",
              "    </tr>\n",
              "    <tr>\n",
              "      <th>1803</th>\n",
              "      <td>162</td>\n",
              "      <td>4</td>\n",
              "      <td>242</td>\n",
              "    </tr>\n",
              "    <tr>\n",
              "      <th>4583</th>\n",
              "      <td>13</td>\n",
              "      <td>57</td>\n",
              "      <td>85</td>\n",
              "    </tr>\n",
              "    <tr>\n",
              "      <th>...</th>\n",
              "      <td>...</td>\n",
              "      <td>...</td>\n",
              "      <td>...</td>\n",
              "    </tr>\n",
              "    <tr>\n",
              "      <th>2768</th>\n",
              "      <td>91</td>\n",
              "      <td>197</td>\n",
              "      <td>240</td>\n",
              "    </tr>\n",
              "    <tr>\n",
              "      <th>4239</th>\n",
              "      <td>167</td>\n",
              "      <td>88</td>\n",
              "      <td>12</td>\n",
              "    </tr>\n",
              "    <tr>\n",
              "      <th>1745</th>\n",
              "      <td>87</td>\n",
              "      <td>237</td>\n",
              "      <td>62</td>\n",
              "    </tr>\n",
              "    <tr>\n",
              "      <th>2291</th>\n",
              "      <td>190</td>\n",
              "      <td>132</td>\n",
              "      <td>64</td>\n",
              "    </tr>\n",
              "    <tr>\n",
              "      <th>3566</th>\n",
              "      <td>57</td>\n",
              "      <td>4</td>\n",
              "      <td>55</td>\n",
              "    </tr>\n",
              "  </tbody>\n",
              "</table>\n",
              "<p>4004 rows × 3 columns</p>\n",
              "</div>"
            ],
            "text/plain": [
              "      red  green  blue\n",
              "3319   81     53   243\n",
              "3450  254    118   250\n",
              "1942  127     53    69\n",
              "1803  162      4   242\n",
              "4583   13     57    85\n",
              "...   ...    ...   ...\n",
              "2768   91    197   240\n",
              "4239  167     88    12\n",
              "1745   87    237    62\n",
              "2291  190    132    64\n",
              "3566   57      4    55\n",
              "\n",
              "[4004 rows x 3 columns]"
            ]
          },
          "metadata": {
            "tags": []
          },
          "execution_count": 32
        }
      ]
    },
    {
      "cell_type": "code",
      "metadata": {
        "id": "4jJYbg89Myxq",
        "colab_type": "code",
        "outputId": "a4f38470-01bf-4c6f-ad41-821f54d9d955",
        "colab": {
          "base_uri": "https://localhost:8080/",
          "height": 406
        }
      },
      "source": [
        "test_labels = pd.DataFrame([test_dataset.pop(x) for x in ['label_Red', 'label_Green', 'label_Blue', 'label_Yellow', 'label_Orange', 'label_Pink', 'label_Purple', 'label_Brown', 'label_Grey', 'label_Black', 'label_White']]).T\n",
        "test_labels"
      ],
      "execution_count": 33,
      "outputs": [
        {
          "output_type": "execute_result",
          "data": {
            "text/html": [
              "<div>\n",
              "<style scoped>\n",
              "    .dataframe tbody tr th:only-of-type {\n",
              "        vertical-align: middle;\n",
              "    }\n",
              "\n",
              "    .dataframe tbody tr th {\n",
              "        vertical-align: top;\n",
              "    }\n",
              "\n",
              "    .dataframe thead th {\n",
              "        text-align: right;\n",
              "    }\n",
              "</style>\n",
              "<table border=\"1\" class=\"dataframe\">\n",
              "  <thead>\n",
              "    <tr style=\"text-align: right;\">\n",
              "      <th></th>\n",
              "      <th>label_Red</th>\n",
              "      <th>label_Green</th>\n",
              "      <th>label_Blue</th>\n",
              "      <th>label_Yellow</th>\n",
              "      <th>label_Orange</th>\n",
              "      <th>label_Pink</th>\n",
              "      <th>label_Purple</th>\n",
              "      <th>label_Brown</th>\n",
              "      <th>label_Grey</th>\n",
              "      <th>label_Black</th>\n",
              "      <th>label_White</th>\n",
              "    </tr>\n",
              "  </thead>\n",
              "  <tbody>\n",
              "    <tr>\n",
              "      <th>0</th>\n",
              "      <td>0</td>\n",
              "      <td>0</td>\n",
              "      <td>1</td>\n",
              "      <td>0</td>\n",
              "      <td>0</td>\n",
              "      <td>0</td>\n",
              "      <td>0</td>\n",
              "      <td>0</td>\n",
              "      <td>0</td>\n",
              "      <td>0</td>\n",
              "      <td>0</td>\n",
              "    </tr>\n",
              "    <tr>\n",
              "      <th>3</th>\n",
              "      <td>0</td>\n",
              "      <td>0</td>\n",
              "      <td>0</td>\n",
              "      <td>0</td>\n",
              "      <td>0</td>\n",
              "      <td>1</td>\n",
              "      <td>0</td>\n",
              "      <td>0</td>\n",
              "      <td>0</td>\n",
              "      <td>0</td>\n",
              "      <td>0</td>\n",
              "    </tr>\n",
              "    <tr>\n",
              "      <th>11</th>\n",
              "      <td>0</td>\n",
              "      <td>0</td>\n",
              "      <td>0</td>\n",
              "      <td>0</td>\n",
              "      <td>0</td>\n",
              "      <td>1</td>\n",
              "      <td>0</td>\n",
              "      <td>0</td>\n",
              "      <td>0</td>\n",
              "      <td>0</td>\n",
              "      <td>0</td>\n",
              "    </tr>\n",
              "    <tr>\n",
              "      <th>12</th>\n",
              "      <td>0</td>\n",
              "      <td>0</td>\n",
              "      <td>1</td>\n",
              "      <td>0</td>\n",
              "      <td>0</td>\n",
              "      <td>0</td>\n",
              "      <td>0</td>\n",
              "      <td>0</td>\n",
              "      <td>0</td>\n",
              "      <td>0</td>\n",
              "      <td>0</td>\n",
              "    </tr>\n",
              "    <tr>\n",
              "      <th>14</th>\n",
              "      <td>0</td>\n",
              "      <td>0</td>\n",
              "      <td>1</td>\n",
              "      <td>0</td>\n",
              "      <td>0</td>\n",
              "      <td>0</td>\n",
              "      <td>0</td>\n",
              "      <td>0</td>\n",
              "      <td>0</td>\n",
              "      <td>0</td>\n",
              "      <td>0</td>\n",
              "    </tr>\n",
              "    <tr>\n",
              "      <th>...</th>\n",
              "      <td>...</td>\n",
              "      <td>...</td>\n",
              "      <td>...</td>\n",
              "      <td>...</td>\n",
              "      <td>...</td>\n",
              "      <td>...</td>\n",
              "      <td>...</td>\n",
              "      <td>...</td>\n",
              "      <td>...</td>\n",
              "      <td>...</td>\n",
              "      <td>...</td>\n",
              "    </tr>\n",
              "    <tr>\n",
              "      <th>4988</th>\n",
              "      <td>0</td>\n",
              "      <td>1</td>\n",
              "      <td>0</td>\n",
              "      <td>0</td>\n",
              "      <td>0</td>\n",
              "      <td>0</td>\n",
              "      <td>0</td>\n",
              "      <td>0</td>\n",
              "      <td>0</td>\n",
              "      <td>0</td>\n",
              "      <td>0</td>\n",
              "    </tr>\n",
              "    <tr>\n",
              "      <th>4993</th>\n",
              "      <td>0</td>\n",
              "      <td>1</td>\n",
              "      <td>0</td>\n",
              "      <td>0</td>\n",
              "      <td>0</td>\n",
              "      <td>0</td>\n",
              "      <td>0</td>\n",
              "      <td>0</td>\n",
              "      <td>0</td>\n",
              "      <td>0</td>\n",
              "      <td>0</td>\n",
              "    </tr>\n",
              "    <tr>\n",
              "      <th>4994</th>\n",
              "      <td>0</td>\n",
              "      <td>0</td>\n",
              "      <td>1</td>\n",
              "      <td>0</td>\n",
              "      <td>0</td>\n",
              "      <td>0</td>\n",
              "      <td>0</td>\n",
              "      <td>0</td>\n",
              "      <td>0</td>\n",
              "      <td>0</td>\n",
              "      <td>0</td>\n",
              "    </tr>\n",
              "    <tr>\n",
              "      <th>4996</th>\n",
              "      <td>0</td>\n",
              "      <td>0</td>\n",
              "      <td>0</td>\n",
              "      <td>0</td>\n",
              "      <td>1</td>\n",
              "      <td>0</td>\n",
              "      <td>0</td>\n",
              "      <td>0</td>\n",
              "      <td>0</td>\n",
              "      <td>0</td>\n",
              "      <td>0</td>\n",
              "    </tr>\n",
              "    <tr>\n",
              "      <th>5001</th>\n",
              "      <td>0</td>\n",
              "      <td>0</td>\n",
              "      <td>1</td>\n",
              "      <td>0</td>\n",
              "      <td>0</td>\n",
              "      <td>0</td>\n",
              "      <td>0</td>\n",
              "      <td>0</td>\n",
              "      <td>0</td>\n",
              "      <td>0</td>\n",
              "      <td>0</td>\n",
              "    </tr>\n",
              "  </tbody>\n",
              "</table>\n",
              "<p>1001 rows × 11 columns</p>\n",
              "</div>"
            ],
            "text/plain": [
              "      label_Red  label_Green  label_Blue  ...  label_Grey  label_Black  label_White\n",
              "0             0            0           1  ...           0            0            0\n",
              "3             0            0           0  ...           0            0            0\n",
              "11            0            0           0  ...           0            0            0\n",
              "12            0            0           1  ...           0            0            0\n",
              "14            0            0           1  ...           0            0            0\n",
              "...         ...          ...         ...  ...         ...          ...          ...\n",
              "4988          0            1           0  ...           0            0            0\n",
              "4993          0            1           0  ...           0            0            0\n",
              "4994          0            0           1  ...           0            0            0\n",
              "4996          0            0           0  ...           0            0            0\n",
              "5001          0            0           1  ...           0            0            0\n",
              "\n",
              "[1001 rows x 11 columns]"
            ]
          },
          "metadata": {
            "tags": []
          },
          "execution_count": 33
        }
      ]
    },
    {
      "cell_type": "code",
      "metadata": {
        "id": "ldjQZXqNW0T1",
        "colab_type": "code",
        "outputId": "758512a1-7df4-40b9-e83a-c0880a334e1c",
        "colab": {
          "base_uri": "https://localhost:8080/",
          "height": 406
        }
      },
      "source": [
        "test_dataset"
      ],
      "execution_count": 0,
      "outputs": [
        {
          "output_type": "execute_result",
          "data": {
            "text/html": [
              "<div>\n",
              "<style scoped>\n",
              "    .dataframe tbody tr th:only-of-type {\n",
              "        vertical-align: middle;\n",
              "    }\n",
              "\n",
              "    .dataframe tbody tr th {\n",
              "        vertical-align: top;\n",
              "    }\n",
              "\n",
              "    .dataframe thead th {\n",
              "        text-align: right;\n",
              "    }\n",
              "</style>\n",
              "<table border=\"1\" class=\"dataframe\">\n",
              "  <thead>\n",
              "    <tr style=\"text-align: right;\">\n",
              "      <th></th>\n",
              "      <th>red</th>\n",
              "      <th>green</th>\n",
              "      <th>blue</th>\n",
              "    </tr>\n",
              "  </thead>\n",
              "  <tbody>\n",
              "    <tr>\n",
              "      <th>0</th>\n",
              "      <td>20</td>\n",
              "      <td>139</td>\n",
              "      <td>240</td>\n",
              "    </tr>\n",
              "    <tr>\n",
              "      <th>3</th>\n",
              "      <td>168</td>\n",
              "      <td>25</td>\n",
              "      <td>156</td>\n",
              "    </tr>\n",
              "    <tr>\n",
              "      <th>11</th>\n",
              "      <td>249</td>\n",
              "      <td>99</td>\n",
              "      <td>108</td>\n",
              "    </tr>\n",
              "    <tr>\n",
              "      <th>12</th>\n",
              "      <td>24</td>\n",
              "      <td>161</td>\n",
              "      <td>177</td>\n",
              "    </tr>\n",
              "    <tr>\n",
              "      <th>14</th>\n",
              "      <td>125</td>\n",
              "      <td>103</td>\n",
              "      <td>236</td>\n",
              "    </tr>\n",
              "    <tr>\n",
              "      <th>...</th>\n",
              "      <td>...</td>\n",
              "      <td>...</td>\n",
              "      <td>...</td>\n",
              "    </tr>\n",
              "    <tr>\n",
              "      <th>4988</th>\n",
              "      <td>55</td>\n",
              "      <td>248</td>\n",
              "      <td>149</td>\n",
              "    </tr>\n",
              "    <tr>\n",
              "      <th>4993</th>\n",
              "      <td>11</td>\n",
              "      <td>200</td>\n",
              "      <td>35</td>\n",
              "    </tr>\n",
              "    <tr>\n",
              "      <th>4994</th>\n",
              "      <td>101</td>\n",
              "      <td>130</td>\n",
              "      <td>192</td>\n",
              "    </tr>\n",
              "    <tr>\n",
              "      <th>4996</th>\n",
              "      <td>221</td>\n",
              "      <td>153</td>\n",
              "      <td>34</td>\n",
              "    </tr>\n",
              "    <tr>\n",
              "      <th>5001</th>\n",
              "      <td>107</td>\n",
              "      <td>78</td>\n",
              "      <td>245</td>\n",
              "    </tr>\n",
              "  </tbody>\n",
              "</table>\n",
              "<p>1001 rows × 3 columns</p>\n",
              "</div>"
            ],
            "text/plain": [
              "      red  green  blue\n",
              "0      20    139   240\n",
              "3     168     25   156\n",
              "11    249     99   108\n",
              "12     24    161   177\n",
              "14    125    103   236\n",
              "...   ...    ...   ...\n",
              "4988   55    248   149\n",
              "4993   11    200    35\n",
              "4994  101    130   192\n",
              "4996  221    153    34\n",
              "5001  107     78   245\n",
              "\n",
              "[1001 rows x 3 columns]"
            ]
          },
          "metadata": {
            "tags": []
          },
          "execution_count": 21
        }
      ]
    },
    {
      "cell_type": "markdown",
      "metadata": {
        "id": "gPXdgIZ_TU04",
        "colab_type": "text"
      },
      "source": [
        "# Build & Compile the Model"
      ]
    },
    {
      "cell_type": "markdown",
      "metadata": {
        "id": "f5JljEapUR_T",
        "colab_type": "text"
      },
      "source": [
        "## Set up the layers"
      ]
    },
    {
      "cell_type": "code",
      "metadata": {
        "id": "RKh634-eTXgC",
        "colab_type": "code",
        "colab": {}
      },
      "source": [
        "from keras import regularizers\n",
        "model = keras.Sequential([\n",
        "    layers.Dense(3, kernel_regularizer=regularizers.l2(0.001), activation='relu', input_shape=[len(train_dataset.keys())]), #inputshape=[3]\n",
        "    layers.Dense(24, kernel_regularizer=regularizers.l2(0.001), activation='relu'),\n",
        "    layers.Dense(11)\n",
        "  ])"
      ],
      "execution_count": 0,
      "outputs": []
    },
    {
      "cell_type": "markdown",
      "metadata": {
        "id": "fCD_Pm6gUaxQ",
        "colab_type": "text"
      },
      "source": [
        "## Compile the model"
      ]
    },
    {
      "cell_type": "code",
      "metadata": {
        "id": "WtENxFDvUVSS",
        "colab_type": "code",
        "colab": {}
      },
      "source": [
        "optimizer = keras.optimizers.Adam(learning_rate=0.001)\n",
        "loss_function = tf.keras.losses.CategoricalCrossentropy(from_logits=True)\n",
        "\n",
        "model.compile(loss=loss_function,\n",
        "                optimizer=optimizer,\n",
        "                metrics=['accuracy'])\n"
      ],
      "execution_count": 0,
      "outputs": []
    },
    {
      "cell_type": "code",
      "metadata": {
        "id": "gs8DaJPKWV1f",
        "colab_type": "code",
        "outputId": "35925d37-eee1-4470-a20e-c1f0ac46b255",
        "colab": {
          "base_uri": "https://localhost:8080/",
          "height": 265
        }
      },
      "source": [
        "model.summary()"
      ],
      "execution_count": 0,
      "outputs": [
        {
          "output_type": "stream",
          "text": [
            "Model: \"sequential_4\"\n",
            "_________________________________________________________________\n",
            "Layer (type)                 Output Shape              Param #   \n",
            "=================================================================\n",
            "dense_12 (Dense)             (None, 3)                 12        \n",
            "_________________________________________________________________\n",
            "dense_13 (Dense)             (None, 24)                96        \n",
            "_________________________________________________________________\n",
            "dense_14 (Dense)             (None, 11)                275       \n",
            "=================================================================\n",
            "Total params: 383\n",
            "Trainable params: 383\n",
            "Non-trainable params: 0\n",
            "_________________________________________________________________\n"
          ],
          "name": "stdout"
        }
      ]
    },
    {
      "cell_type": "markdown",
      "metadata": {
        "id": "lz09-vP3WeYg",
        "colab_type": "text"
      },
      "source": [
        "## Train the model"
      ]
    },
    {
      "cell_type": "code",
      "metadata": {
        "id": "6vYbpLvlWbK-",
        "colab_type": "code",
        "outputId": "f306584d-cfbd-4cda-8a94-c747ab66d390",
        "colab": {
          "base_uri": "https://localhost:8080/",
          "height": 1000
        }
      },
      "source": [
        "history = model.fit(x=train_dataset, y=train_labels, \n",
        "                    validation_split=0.3, \n",
        "                    epochs=10001, \n",
        "                    batch_size=48, \n",
        "                    verbose=0,\n",
        "                    callbacks=[tfdocs.modeling.EpochDots()], \n",
        "                    shuffle=True)"
      ],
      "execution_count": 0,
      "outputs": [
        {
          "output_type": "stream",
          "text": [
            "\n",
            "Epoch: 0, accuracy:0.1167,  loss:15.2542,  val_accuracy:0.3020,  val_loss:5.9221,  \n",
            "....................................................................................................\n",
            "Epoch: 100, accuracy:0.7223,  loss:0.6345,  val_accuracy:0.7296,  val_loss:0.6229,  \n",
            "....................................................................................................\n",
            "Epoch: 200, accuracy:0.7702,  loss:0.5441,  val_accuracy:0.7587,  val_loss:0.5735,  \n",
            "....................................................................................................\n",
            "Epoch: 300, accuracy:0.7994,  loss:0.5037,  val_accuracy:0.7754,  val_loss:0.5366,  \n",
            "....................................................................................................\n",
            "Epoch: 400, accuracy:0.8308,  loss:0.4257,  val_accuracy:0.8195,  val_loss:0.4507,  \n",
            "....................................................................................................\n",
            "Epoch: 500, accuracy:0.8747,  loss:0.3342,  val_accuracy:0.8594,  val_loss:0.3548,  \n",
            "....................................................................................................\n",
            "Epoch: 600, accuracy:0.8758,  loss:0.3196,  val_accuracy:0.8561,  val_loss:0.3410,  \n",
            "....................................................................................................\n",
            "Epoch: 700, accuracy:0.8840,  loss:0.2965,  val_accuracy:0.8644,  val_loss:0.3406,  \n",
            "....................................................................................................\n",
            "Epoch: 800, accuracy:0.8844,  loss:0.3022,  val_accuracy:0.8536,  val_loss:0.3407,  \n",
            "....................................................................................................\n",
            "Epoch: 900, accuracy:0.8829,  loss:0.2927,  val_accuracy:0.8536,  val_loss:0.3377,  \n",
            "....................................................................................................\n",
            "Epoch: 1000, accuracy:0.8844,  loss:0.3019,  val_accuracy:0.8602,  val_loss:0.3305,  \n",
            "....................................................................................................\n",
            "Epoch: 1100, accuracy:0.8869,  loss:0.2853,  val_accuracy:0.8502,  val_loss:0.3727,  \n",
            "....................................................................................................\n",
            "Epoch: 1200, accuracy:0.8847,  loss:0.2937,  val_accuracy:0.8602,  val_loss:0.3296,  \n",
            "....................................................................................................\n",
            "Epoch: 1300, accuracy:0.8858,  loss:0.2918,  val_accuracy:0.8536,  val_loss:0.3519,  \n",
            "....................................................................................................\n",
            "Epoch: 1400, accuracy:0.8872,  loss:0.2870,  val_accuracy:0.8536,  val_loss:0.3577,  \n",
            "....................................................................................................\n",
            "Epoch: 1500, accuracy:0.8883,  loss:0.2856,  val_accuracy:0.8644,  val_loss:0.3491,  \n",
            "....................................................................................................\n",
            "Epoch: 1600, accuracy:0.8801,  loss:0.2876,  val_accuracy:0.8511,  val_loss:0.3418,  \n",
            "....................................................................................................\n",
            "Epoch: 1700, accuracy:0.8894,  loss:0.2811,  val_accuracy:0.8502,  val_loss:0.3794,  \n",
            "....................................................................................................\n",
            "Epoch: 1800, accuracy:0.8919,  loss:0.2861,  val_accuracy:0.8577,  val_loss:0.3279,  \n",
            "....................................................................................................\n",
            "Epoch: 1900, accuracy:0.8894,  loss:0.2825,  val_accuracy:0.8561,  val_loss:0.3754,  \n",
            "....................................................................................................\n",
            "Epoch: 2000, accuracy:0.8951,  loss:0.2778,  val_accuracy:0.8552,  val_loss:0.3471,  \n",
            "....................................................................................................\n",
            "Epoch: 2100, accuracy:0.8922,  loss:0.2828,  val_accuracy:0.8627,  val_loss:0.3385,  \n",
            "....................................................................................................\n",
            "Epoch: 2200, accuracy:0.8876,  loss:0.2879,  val_accuracy:0.8611,  val_loss:0.3429,  \n",
            "....................................................................................................\n",
            "Epoch: 2300, accuracy:0.8847,  loss:0.2743,  val_accuracy:0.8611,  val_loss:0.3495,  \n",
            "....................................................................................................\n",
            "Epoch: 2400, accuracy:0.8862,  loss:0.2863,  val_accuracy:0.8561,  val_loss:0.3536,  \n",
            "....................................................................................................\n",
            "Epoch: 2500, accuracy:0.8936,  loss:0.2765,  val_accuracy:0.8661,  val_loss:0.3385,  \n",
            "....................................................................................................\n",
            "Epoch: 2600, accuracy:0.8922,  loss:0.2731,  val_accuracy:0.8552,  val_loss:0.3426,  \n",
            "....................................................................................................\n",
            "Epoch: 2700, accuracy:0.8947,  loss:0.2767,  val_accuracy:0.8669,  val_loss:0.3390,  \n",
            "....................................................................................................\n",
            "Epoch: 2800, accuracy:0.8926,  loss:0.2754,  val_accuracy:0.8677,  val_loss:0.3345,  \n",
            "....................................................................................................\n",
            "Epoch: 2900, accuracy:0.8944,  loss:0.2722,  val_accuracy:0.8602,  val_loss:0.3545,  \n",
            "....................................................................................................\n",
            "Epoch: 3000, accuracy:0.8954,  loss:0.2772,  val_accuracy:0.8478,  val_loss:0.3831,  \n",
            "....................................................................................................\n",
            "Epoch: 3100, accuracy:0.8951,  loss:0.2758,  val_accuracy:0.8677,  val_loss:0.3435,  \n",
            "....................................................................................................\n",
            "Epoch: 3200, accuracy:0.8879,  loss:0.2828,  val_accuracy:0.8677,  val_loss:0.3426,  \n",
            "....................................................................................................\n",
            "Epoch: 3300, accuracy:0.8965,  loss:0.2686,  val_accuracy:0.8636,  val_loss:0.3548,  \n",
            "....................................................................................................\n",
            "Epoch: 3400, accuracy:0.8858,  loss:0.2792,  val_accuracy:0.8527,  val_loss:0.3718,  \n",
            "....................................................................................................\n",
            "Epoch: 3500, accuracy:0.8933,  loss:0.2754,  val_accuracy:0.8511,  val_loss:0.3598,  \n",
            "....................................................................................................\n",
            "Epoch: 3600, accuracy:0.8897,  loss:0.2787,  val_accuracy:0.8602,  val_loss:0.3524,  \n",
            "....................................................................................................\n",
            "Epoch: 3700, accuracy:0.8965,  loss:0.2734,  val_accuracy:0.8519,  val_loss:0.3508,  \n",
            "....................................................................................................\n",
            "Epoch: 3800, accuracy:0.8951,  loss:0.2755,  val_accuracy:0.8586,  val_loss:0.3560,  \n",
            "....................................................................................................\n",
            "Epoch: 3900, accuracy:0.8933,  loss:0.2754,  val_accuracy:0.8636,  val_loss:0.3571,  \n",
            "....................................................................................................\n",
            "Epoch: 4000, accuracy:0.8901,  loss:0.2821,  val_accuracy:0.8561,  val_loss:0.3583,  \n",
            "....................................................................................................\n",
            "Epoch: 4100, accuracy:0.8944,  loss:0.2744,  val_accuracy:0.8552,  val_loss:0.3822,  \n",
            "....................................................................................................\n",
            "Epoch: 4200, accuracy:0.8901,  loss:0.2757,  val_accuracy:0.8527,  val_loss:0.3585,  \n",
            "....................................................................................................\n",
            "Epoch: 4300, accuracy:0.8940,  loss:0.2676,  val_accuracy:0.8544,  val_loss:0.3788,  \n",
            "....................................................................................................\n",
            "Epoch: 4400, accuracy:0.8965,  loss:0.2756,  val_accuracy:0.8619,  val_loss:0.3620,  \n",
            "....................................................................................................\n",
            "Epoch: 4500, accuracy:0.8961,  loss:0.2735,  val_accuracy:0.8627,  val_loss:0.3537,  \n",
            "....................................................................................................\n",
            "Epoch: 4600, accuracy:0.8940,  loss:0.2694,  val_accuracy:0.8611,  val_loss:0.3576,  \n",
            "....................................................................................................\n",
            "Epoch: 4700, accuracy:0.8961,  loss:0.2719,  val_accuracy:0.8619,  val_loss:0.3648,  \n",
            "....................................................................................................\n",
            "Epoch: 4800, accuracy:0.8954,  loss:0.2702,  val_accuracy:0.8594,  val_loss:0.3471,  \n",
            "....................................................................................................\n",
            "Epoch: 4900, accuracy:0.8897,  loss:0.2697,  val_accuracy:0.8669,  val_loss:0.3530,  \n",
            "....................................................................................................\n",
            "Epoch: 5000, accuracy:0.8944,  loss:0.2774,  val_accuracy:0.8602,  val_loss:0.3625,  \n",
            "....................................................................................................\n",
            "Epoch: 5100, accuracy:0.8954,  loss:0.2732,  val_accuracy:0.8611,  val_loss:0.3541,  \n",
            "....................................................................................................\n",
            "Epoch: 5200, accuracy:0.8961,  loss:0.2704,  val_accuracy:0.8577,  val_loss:0.3895,  \n",
            "....................................................................................................\n",
            "Epoch: 5300, accuracy:0.8887,  loss:0.2725,  val_accuracy:0.8569,  val_loss:0.3785,  \n",
            "....................................................................................................\n",
            "Epoch: 5400, accuracy:0.8908,  loss:0.2705,  val_accuracy:0.8561,  val_loss:0.3720,  \n",
            "....................................................................................................\n",
            "Epoch: 5500, accuracy:0.8990,  loss:0.2691,  val_accuracy:0.8502,  val_loss:0.3833,  \n",
            "....................................................................................................\n",
            "Epoch: 5600, accuracy:0.8947,  loss:0.2715,  val_accuracy:0.8544,  val_loss:0.3620,  \n",
            "....................................................................................................\n",
            "Epoch: 5700, accuracy:0.8940,  loss:0.2685,  val_accuracy:0.8577,  val_loss:0.3640,  \n",
            "....................................................................................................\n",
            "Epoch: 5800, accuracy:0.8929,  loss:0.2688,  val_accuracy:0.8569,  val_loss:0.3508,  \n",
            "....................................................................................................\n",
            "Epoch: 5900, accuracy:0.8922,  loss:0.2754,  val_accuracy:0.8552,  val_loss:0.3908,  \n",
            "....................................................................................................\n",
            "Epoch: 6000, accuracy:0.8986,  loss:0.2732,  val_accuracy:0.8686,  val_loss:0.3897,  \n",
            "....................................................................................................\n",
            "Epoch: 6100, accuracy:0.9004,  loss:0.2667,  val_accuracy:0.8594,  val_loss:0.3722,  \n",
            "....................................................................................................\n",
            "Epoch: 6200, accuracy:0.8965,  loss:0.2683,  val_accuracy:0.8669,  val_loss:0.3455,  \n",
            "....................................................................................................\n",
            "Epoch: 6300, accuracy:0.8979,  loss:0.2696,  val_accuracy:0.8519,  val_loss:0.3820,  \n",
            "....................................................................................................\n",
            "Epoch: 6400, accuracy:0.8922,  loss:0.2697,  val_accuracy:0.8586,  val_loss:0.3870,  \n",
            "....................................................................................................\n",
            "Epoch: 6500, accuracy:0.8983,  loss:0.2708,  val_accuracy:0.8403,  val_loss:0.3819,  \n",
            "....................................................................................................\n",
            "Epoch: 6600, accuracy:0.8951,  loss:0.2618,  val_accuracy:0.8627,  val_loss:0.3849,  \n",
            "....................................................................................................\n",
            "Epoch: 6700, accuracy:0.8947,  loss:0.2646,  val_accuracy:0.8561,  val_loss:0.3648,  \n",
            "....................................................................................................\n",
            "Epoch: 6800, accuracy:0.8951,  loss:0.2648,  val_accuracy:0.8661,  val_loss:0.3867,  \n",
            "....................................................................................................\n",
            "Epoch: 6900, accuracy:0.8954,  loss:0.2696,  val_accuracy:0.8561,  val_loss:0.3963,  \n",
            "....................................................................................................\n",
            "Epoch: 7000, accuracy:0.8976,  loss:0.2671,  val_accuracy:0.8511,  val_loss:0.3886,  \n",
            "....................................................................................................\n",
            "Epoch: 7100, accuracy:0.8947,  loss:0.2703,  val_accuracy:0.8636,  val_loss:0.3846,  \n",
            "....................................................................................................\n",
            "Epoch: 7200, accuracy:0.8936,  loss:0.2647,  val_accuracy:0.8619,  val_loss:0.3686,  \n",
            "....................................................................................................\n",
            "Epoch: 7300, accuracy:0.9026,  loss:0.2640,  val_accuracy:0.8577,  val_loss:0.3683,  \n",
            "....................................................................................................\n",
            "Epoch: 7400, accuracy:0.8940,  loss:0.2707,  val_accuracy:0.8502,  val_loss:0.3892,  \n",
            "....................................................................................................\n",
            "Epoch: 7500, accuracy:0.8887,  loss:0.2666,  val_accuracy:0.8611,  val_loss:0.3926,  \n",
            "....................................................................................................\n",
            "Epoch: 7600, accuracy:0.8944,  loss:0.2672,  val_accuracy:0.8594,  val_loss:0.3711,  \n",
            "....................................................................................................\n",
            "Epoch: 7700, accuracy:0.8961,  loss:0.2687,  val_accuracy:0.8602,  val_loss:0.3574,  \n",
            "....................................................................................................\n",
            "Epoch: 7800, accuracy:0.8940,  loss:0.2690,  val_accuracy:0.8669,  val_loss:0.3790,  \n",
            "....................................................................................................\n",
            "Epoch: 7900, accuracy:0.8969,  loss:0.2624,  val_accuracy:0.8561,  val_loss:0.3728,  \n",
            "....................................................................................................\n",
            "Epoch: 8000, accuracy:0.8951,  loss:0.2642,  val_accuracy:0.8577,  val_loss:0.3697,  \n",
            "....................................................................................................\n",
            "Epoch: 8100, accuracy:0.8919,  loss:0.2691,  val_accuracy:0.8577,  val_loss:0.3984,  \n",
            "....................................................................................................\n",
            "Epoch: 8200, accuracy:0.8951,  loss:0.2658,  val_accuracy:0.8502,  val_loss:0.3902,  \n",
            "....................................................................................................\n",
            "Epoch: 8300, accuracy:0.8961,  loss:0.2666,  val_accuracy:0.8511,  val_loss:0.3939,  \n",
            "....................................................................................................\n",
            "Epoch: 8400, accuracy:0.8919,  loss:0.2719,  val_accuracy:0.8669,  val_loss:0.3843,  \n",
            "....................................................................................................\n",
            "Epoch: 8500, accuracy:0.8894,  loss:0.2867,  val_accuracy:0.8552,  val_loss:0.3922,  \n",
            "....................................................................................................\n",
            "Epoch: 8600, accuracy:0.8904,  loss:0.2692,  val_accuracy:0.8619,  val_loss:0.3968,  \n",
            "....................................................................................................\n",
            "Epoch: 8700, accuracy:0.8986,  loss:0.2648,  val_accuracy:0.8627,  val_loss:0.3770,  \n",
            "....................................................................................................\n",
            "Epoch: 8800, accuracy:0.8944,  loss:0.2660,  val_accuracy:0.8594,  val_loss:0.3962,  \n",
            "....................................................................................................\n",
            "Epoch: 8900, accuracy:0.8947,  loss:0.2616,  val_accuracy:0.8627,  val_loss:0.3736,  \n",
            "....................................................................................................\n",
            "Epoch: 9000, accuracy:0.8936,  loss:0.2678,  val_accuracy:0.8594,  val_loss:0.3741,  \n",
            "....................................................................................................\n",
            "Epoch: 9100, accuracy:0.8972,  loss:0.2710,  val_accuracy:0.8594,  val_loss:0.3759,  \n",
            "....................................................................................................\n",
            "Epoch: 9200, accuracy:0.8954,  loss:0.2622,  val_accuracy:0.8619,  val_loss:0.3791,  \n",
            "....................................................................................................\n",
            "Epoch: 9300, accuracy:0.8929,  loss:0.2662,  val_accuracy:0.8611,  val_loss:0.3750,  \n",
            "....................................................................................................\n",
            "Epoch: 9400, accuracy:0.8940,  loss:0.2630,  val_accuracy:0.8611,  val_loss:0.3948,  \n",
            "....................................................................................................\n",
            "Epoch: 9500, accuracy:0.8936,  loss:0.2666,  val_accuracy:0.8478,  val_loss:0.3937,  \n",
            "....................................................................................................\n",
            "Epoch: 9600, accuracy:0.8944,  loss:0.2643,  val_accuracy:0.8652,  val_loss:0.3844,  \n",
            "....................................................................................................\n",
            "Epoch: 9700, accuracy:0.8936,  loss:0.2662,  val_accuracy:0.8611,  val_loss:0.4038,  \n",
            "....................................................................................................\n",
            "Epoch: 9800, accuracy:0.8919,  loss:0.2651,  val_accuracy:0.8652,  val_loss:0.3903,  \n",
            "....................................................................................................\n",
            "Epoch: 9900, accuracy:0.8940,  loss:0.2667,  val_accuracy:0.8611,  val_loss:0.3774,  \n",
            "....................................................................................................\n",
            "Epoch: 10000, accuracy:0.8958,  loss:0.2676,  val_accuracy:0.8652,  val_loss:0.3761,  \n",
            "."
          ],
          "name": "stdout"
        }
      ]
    },
    {
      "cell_type": "code",
      "metadata": {
        "id": "IOUa3rnHYZHP",
        "colab_type": "code",
        "outputId": "338cefd2-03f3-4603-ffe5-da543dc742e9",
        "colab": {
          "base_uri": "https://localhost:8080/",
          "height": 197
        }
      },
      "source": [
        "hist = pd.DataFrame(history.history)\n",
        "hist['epoch'] = history.epoch\n",
        "hist.tail()"
      ],
      "execution_count": 0,
      "outputs": [
        {
          "output_type": "execute_result",
          "data": {
            "text/html": [
              "<div>\n",
              "<style scoped>\n",
              "    .dataframe tbody tr th:only-of-type {\n",
              "        vertical-align: middle;\n",
              "    }\n",
              "\n",
              "    .dataframe tbody tr th {\n",
              "        vertical-align: top;\n",
              "    }\n",
              "\n",
              "    .dataframe thead th {\n",
              "        text-align: right;\n",
              "    }\n",
              "</style>\n",
              "<table border=\"1\" class=\"dataframe\">\n",
              "  <thead>\n",
              "    <tr style=\"text-align: right;\">\n",
              "      <th></th>\n",
              "      <th>loss</th>\n",
              "      <th>accuracy</th>\n",
              "      <th>val_loss</th>\n",
              "      <th>val_accuracy</th>\n",
              "      <th>epoch</th>\n",
              "    </tr>\n",
              "  </thead>\n",
              "  <tbody>\n",
              "    <tr>\n",
              "      <th>9996</th>\n",
              "      <td>0.268287</td>\n",
              "      <td>0.890435</td>\n",
              "      <td>0.373256</td>\n",
              "      <td>0.857737</td>\n",
              "      <td>9996</td>\n",
              "    </tr>\n",
              "    <tr>\n",
              "      <th>9997</th>\n",
              "      <td>0.264617</td>\n",
              "      <td>0.895075</td>\n",
              "      <td>0.386736</td>\n",
              "      <td>0.866057</td>\n",
              "      <td>9997</td>\n",
              "    </tr>\n",
              "    <tr>\n",
              "      <th>9998</th>\n",
              "      <td>0.262233</td>\n",
              "      <td>0.897573</td>\n",
              "      <td>0.373922</td>\n",
              "      <td>0.863561</td>\n",
              "      <td>9998</td>\n",
              "    </tr>\n",
              "    <tr>\n",
              "      <th>9999</th>\n",
              "      <td>0.263340</td>\n",
              "      <td>0.899714</td>\n",
              "      <td>0.376406</td>\n",
              "      <td>0.867720</td>\n",
              "      <td>9999</td>\n",
              "    </tr>\n",
              "    <tr>\n",
              "      <th>10000</th>\n",
              "      <td>0.267564</td>\n",
              "      <td>0.895789</td>\n",
              "      <td>0.376120</td>\n",
              "      <td>0.865225</td>\n",
              "      <td>10000</td>\n",
              "    </tr>\n",
              "  </tbody>\n",
              "</table>\n",
              "</div>"
            ],
            "text/plain": [
              "           loss  accuracy  val_loss  val_accuracy  epoch\n",
              "9996   0.268287  0.890435  0.373256      0.857737   9996\n",
              "9997   0.264617  0.895075  0.386736      0.866057   9997\n",
              "9998   0.262233  0.897573  0.373922      0.863561   9998\n",
              "9999   0.263340  0.899714  0.376406      0.867720   9999\n",
              "10000  0.267564  0.895789  0.376120      0.865225  10000"
            ]
          },
          "metadata": {
            "tags": []
          },
          "execution_count": 52
        }
      ]
    },
    {
      "cell_type": "code",
      "metadata": {
        "id": "Ys1G6EVPZeWn",
        "colab_type": "code",
        "colab": {}
      },
      "source": [
        "plotter = tfdocs.plots.HistoryPlotter(smoothing_std=2)"
      ],
      "execution_count": 0,
      "outputs": []
    },
    {
      "cell_type": "code",
      "metadata": {
        "id": "r0re9qhzZiGy",
        "colab_type": "code",
        "outputId": "9b99c4c4-1cda-4f73-97a2-a96960934035",
        "colab": {
          "base_uri": "https://localhost:8080/",
          "height": 301
        }
      },
      "source": [
        "plotter.plot({'Basic': history}, metric = \"accuracy\")\n",
        "plt.ylim([0, 1])\n",
        "plt.ylabel('accuracy [Color]')"
      ],
      "execution_count": 0,
      "outputs": [
        {
          "output_type": "execute_result",
          "data": {
            "text/plain": [
              "Text(0, 0.5, 'accuracy [Color]')"
            ]
          },
          "metadata": {
            "tags": []
          },
          "execution_count": 54
        },
        {
          "output_type": "display_data",
          "data": {
            "image/png": "[encoded data removed]",
            "text/plain": [
              "<Figure size 432x288 with 1 Axes>"
            ]
          },
          "metadata": {
            "tags": [],
            "needs_background": "light"
          }
        }
      ]
    },
    {
      "cell_type": "code",
      "metadata": {
        "id": "JHbf7wC1j4ch",
        "colab_type": "code",
        "outputId": "d0b23379-a4b8-4a2a-d841-c761e192d504",
        "colab": {
          "base_uri": "https://localhost:8080/",
          "height": 301
        }
      },
      "source": [
        "plotter.plot({'Basic': history}, metric = \"loss\")\n",
        "plt.ylim([0, 1])\n",
        "plt.ylabel('loss [Color]')"
      ],
      "execution_count": 0,
      "outputs": [
        {
          "output_type": "execute_result",
          "data": {
            "text/plain": [
              "Text(0, 0.5, 'loss [Color]')"
            ]
          },
          "metadata": {
            "tags": []
          },
          "execution_count": 91
        },
        {
          "output_type": "display_data",
          "data": {
            "image/png": "[encoded data removed]",
            "text/plain": [
              "<Figure size 432x288 with 1 Axes>"
            ]
          },
          "metadata": {
            "tags": [],
            "needs_background": "light"
          }
        }
      ]
    },
    {
      "cell_type": "markdown",
      "metadata": {
        "id": "7TBuP3rL3dG9",
        "colab_type": "text"
      },
      "source": [
        "# Save Model"
      ]
    },
    {
      "cell_type": "code",
      "metadata": {
        "id": "KCKkwLGA3dct",
        "colab_type": "code",
        "colab": {}
      },
      "source": [
        "#Install PyDrive library into Google Colab notebook\n",
        "!pip install -U -q PyDrive\n",
        "from pydrive.auth import GoogleAuth\n",
        "from pydrive.drive import GoogleDrive \n",
        "from google.colab import auth \n",
        "from oauth2client.client import GoogleCredentials"
      ],
      "execution_count": 0,
      "outputs": []
    },
    {
      "cell_type": "code",
      "metadata": {
        "id": "IesvceMJ3xmr",
        "colab_type": "code",
        "colab": {}
      },
      "source": [
        "#Authenticate and create the PyDrive client\n",
        "auth.authenticate_user()\n",
        "gauth = GoogleAuth()\n",
        "gauth.credentials = GoogleCredentials.get_application_default()                       \n",
        "drive = GoogleDrive(gauth)"
      ],
      "execution_count": 0,
      "outputs": []
    },
    {
      "cell_type": "code",
      "metadata": {
        "id": "Jc2idwd432Uj",
        "colab_type": "code",
        "outputId": "5d1060f7-e9d9-4e21-f8c9-c5369a3f2b27",
        "colab": {
          "base_uri": "https://localhost:8080/",
          "height": 87
        }
      },
      "source": [
        "!pip install pyyaml h5py  # Required to save models in HDF5 format"
      ],
      "execution_count": 0,
      "outputs": [
        {
          "output_type": "stream",
          "text": [
            "Requirement already satisfied: pyyaml in /usr/local/lib/python3.6/dist-packages (3.13)\n",
            "Requirement already satisfied: h5py in /usr/local/lib/python3.6/dist-packages (2.10.0)\n",
            "Requirement already satisfied: numpy>=1.7 in /usr/local/lib/python3.6/dist-packages (from h5py) (1.18.5)\n",
            "Requirement already satisfied: six in /usr/local/lib/python3.6/dist-packages (from h5py) (1.12.0)\n"
          ],
          "name": "stdout"
        }
      ]
    },
    {
      "cell_type": "code",
      "metadata": {
        "id": "ELYSzs2V34tr",
        "colab_type": "code",
        "colab": {}
      },
      "source": [
        "# Save Model or weights on google drive and create on Colab directory in Google Drive\n",
        "\n",
        "# Save the entire model to a HDF5 file.\n",
        "# The '.h5' extension indicates that the model should be saved to HDF5.\n",
        "model.save('colormodel_acu_89.h5')\n",
        "model_file = drive.CreateFile({'title' : 'colormodel_acu_89.h5'}) # colormodel_acu_  .h5 is the name of the model uploaded to Drive                   \n",
        "model_file.SetContentFile('colormodel_acu_89.h5')                       \n",
        "model_file.Upload()"
      ],
      "execution_count": 0,
      "outputs": []
    },
    {
      "cell_type": "code",
      "metadata": {
        "id": "TnzOoZq6N4ih",
        "colab_type": "code",
        "outputId": "b3ac8b30-55e6-44ce-a2fc-2eba3c96c3c6",
        "colab": {
          "base_uri": "https://localhost:8080/",
          "height": 34
        }
      },
      "source": [
        "# download to google drive                       \n",
        "drive.CreateFile({'id': model_file.get('id')}) ### very important to run this last cell for loading the model in new notebook"
      ],
      "execution_count": 0,
      "outputs": [
        {
          "output_type": "execute_result",
          "data": {
            "text/plain": [
              "GoogleDriveFile({'id': '14Jxscgqc0bF34V7Nlh7dmqS9rL0EV-Yy'})"
            ]
          },
          "metadata": {
            "tags": []
          },
          "execution_count": 61
        }
      ]
    },
    {
      "cell_type": "code",
      "metadata": {
        "id": "u2atLZGfOAla",
        "colab_type": "code",
        "colab": {}
      },
      "source": [
        "#Load model from google drive into colab\n",
        "file_obj = drive.CreateFile({'id': '14Jxscgqc0bF34V7Nlh7dmqS9rL0EV-Yy'})                       \n",
        "file_obj.GetContentFile('colormodel_trained_89.h5') #colormodel_trained.h5 is the name of model uploaded to colab"
      ],
      "execution_count": 0,
      "outputs": []
    },
    {
      "cell_type": "code",
      "metadata": {
        "id": "ISG3PgtS661E",
        "colab_type": "code",
        "outputId": "96560470-1228-45b6-889d-c027ce8ff22b",
        "colab": {
          "base_uri": "https://localhost:8080/",
          "height": 34
        }
      },
      "source": [
        "ls"
      ],
      "execution_count": 36,
      "outputs": [
        {
          "output_type": "stream",
          "text": [
            "adc.json  colormodel_trained_89.h5  \u001b[0m\u001b[01;34mdrive\u001b[0m/  final_data.csv  \u001b[01;34msample_data\u001b[0m/\n"
          ],
          "name": "stdout"
        }
      ]
    },
    {
      "cell_type": "code",
      "metadata": {
        "id": "l5LlE9uOjljp",
        "colab_type": "code",
        "colab": {
          "base_uri": "https://localhost:8080/",
          "height": 265
        },
        "outputId": "35c65a7b-ddf8-410a-ff4b-28af3754c819"
      },
      "source": [
        "# Recreate the exact same model, including its weights and the optimizer\n",
        "model = tf.keras.models.load_model('colormodel_trained_89.h5') #very important\n",
        "\n",
        "# Show the model architecture\n",
        "model.summary()"
      ],
      "execution_count": 37,
      "outputs": [
        {
          "output_type": "stream",
          "text": [
            "Model: \"sequential_4\"\n",
            "_________________________________________________________________\n",
            "Layer (type)                 Output Shape              Param #   \n",
            "=================================================================\n",
            "dense_12 (Dense)             (None, 3)                 12        \n",
            "_________________________________________________________________\n",
            "dense_13 (Dense)             (None, 24)                96        \n",
            "_________________________________________________________________\n",
            "dense_14 (Dense)             (None, 11)                275       \n",
            "=================================================================\n",
            "Total params: 383\n",
            "Trainable params: 383\n",
            "Non-trainable params: 0\n",
            "_________________________________________________________________\n"
          ],
          "name": "stdout"
        }
      ]
    },
    {
      "cell_type": "markdown",
      "metadata": {
        "id": "7GrAHGTk6lvT",
        "colab_type": "text"
      },
      "source": [
        "# Make Prediction"
      ]
    },
    {
      "cell_type": "markdown",
      "metadata": {
        "id": "bJoCCgusn1bM",
        "colab_type": "text"
      },
      "source": [
        "The prediction by the ANN model is an array of 11 numbers. \n",
        "\n",
        "They represent the model's \"confidence\" that the RGB color corresponds to each of the 11 different classes of color as follows:\n",
        "\n",
        "* 0 for Red\n",
        "* 1 for Green\n",
        "* 2 for Blue \n",
        "* 3 for Yellow\n",
        "* 4 for Orange\n",
        "* 5 for Pink\n",
        "* 6 for Purple\n",
        "* 7 for Brown\n",
        "* 8 for Grey\n",
        "* 9 for Black\n",
        "* 10 for White \n",
        "\n",
        "\n",
        "\n",
        "\n",
        "You can see which out of the 11 labels has the highest confidence value "
      ]
    },
    {
      "cell_type": "markdown",
      "metadata": {
        "id": "tcvavsyCwHEs",
        "colab_type": "text"
      },
      "source": [
        "## Train Dataset Prediction"
      ]
    },
    {
      "cell_type": "code",
      "metadata": {
        "id": "hTekMPXwBgbk",
        "colab_type": "code",
        "outputId": "048537bc-5638-42da-f518-4406a736cd3c",
        "colab": {
          "base_uri": "https://localhost:8080/",
          "height": 247
        }
      },
      "source": [
        "train_predictions = model.predict(train_dataset)\n",
        "train_predictions"
      ],
      "execution_count": 38,
      "outputs": [
        {
          "output_type": "execute_result",
          "data": {
            "text/plain": [
              "array([[-1.45159497e+03, -9.19311981e+01,  1.60281677e+01, ...,\n",
              "        -5.31841621e+01, -1.38194290e+02, -3.75688744e+01],\n",
              "       [-2.95384460e+02, -1.57632217e+02, -1.08682434e+02, ...,\n",
              "        -1.11155815e+02, -2.68150848e+02, -3.41254921e+01],\n",
              "       [ 2.73200870e+00, -3.94391441e+00, -1.48897903e+02, ...,\n",
              "        -4.51327801e+00, -1.44434464e+02, -6.25244293e+01],\n",
              "       ...,\n",
              "       [-7.10819397e+02,  2.65214291e+01, -8.56236219e-01, ...,\n",
              "        -1.71013947e+01, -1.11367102e+03, -7.37005692e+01],\n",
              "       [-6.66845417e+00, -3.04958248e+00, -1.98993149e+02, ...,\n",
              "        -9.58117104e+00, -7.05867676e+02, -7.63229370e+01],\n",
              "       [-8.53220215e+01, -3.15850258e+01, -4.46201591e+01, ...,\n",
              "        -2.14530983e+01, -3.35549507e+01, -4.06006966e+01]], dtype=float32)"
            ]
          },
          "metadata": {
            "tags": []
          },
          "execution_count": 38
        }
      ]
    },
    {
      "cell_type": "markdown",
      "metadata": {
        "id": "oCb5U39RutDc",
        "colab_type": "text"
      },
      "source": [
        "### Selecting Class with highest confidence"
      ]
    },
    {
      "cell_type": "code",
      "metadata": {
        "id": "FekJ3FSDlUdd",
        "colab_type": "code",
        "colab": {
          "base_uri": "https://localhost:8080/",
          "height": 34
        },
        "outputId": "0b4fff7f-28bf-4581-e09d-bae243ad0339"
      },
      "source": [
        "actual_encoded_train_labels = np.argmax(train_labels.to_numpy(), axis=1) #train_labels were originally in one-hot\n",
        "actual_encoded_train_labels"
      ],
      "execution_count": 61,
      "outputs": [
        {
          "output_type": "execute_result",
          "data": {
            "text/plain": [
              "array([2, 5, 7, ..., 1, 7, 6])"
            ]
          },
          "metadata": {
            "tags": []
          },
          "execution_count": 61
        }
      ]
    },
    {
      "cell_type": "code",
      "metadata": {
        "id": "5Hwf0rUf7_v-",
        "colab_type": "code",
        "outputId": "c9e60276-3188-407a-eb4b-c5c2eb88e7d9",
        "colab": {
          "base_uri": "https://localhost:8080/",
          "height": 34
        }
      },
      "source": [
        "predicted_encoded_train_labels = np.argmax(train_predictions, axis=1)\n",
        "predicted_encoded_train_labels"
      ],
      "execution_count": 62,
      "outputs": [
        {
          "output_type": "execute_result",
          "data": {
            "text/plain": [
              "array([2, 5, 7, ..., 1, 7, 6])"
            ]
          },
          "metadata": {
            "tags": []
          },
          "execution_count": 62
        }
      ]
    },
    {
      "cell_type": "markdown",
      "metadata": {
        "id": "cHO_UhVauykL",
        "colab_type": "text"
      },
      "source": [
        "### Converting numpy array to pandas dataframe"
      ]
    },
    {
      "cell_type": "code",
      "metadata": {
        "id": "5LiS-igjsThR",
        "colab_type": "code",
        "colab": {
          "base_uri": "https://localhost:8080/",
          "height": 406
        },
        "outputId": "23594558-5cd0-431e-9229-26e21152870c"
      },
      "source": [
        "actual_encoded_train_labels = pd.DataFrame(actual_encoded_train_labels, columns=['Labels'])\n",
        "actual_encoded_train_labels"
      ],
      "execution_count": 78,
      "outputs": [
        {
          "output_type": "execute_result",
          "data": {
            "text/html": [
              "<div>\n",
              "<style scoped>\n",
              "    .dataframe tbody tr th:only-of-type {\n",
              "        vertical-align: middle;\n",
              "    }\n",
              "\n",
              "    .dataframe tbody tr th {\n",
              "        vertical-align: top;\n",
              "    }\n",
              "\n",
              "    .dataframe thead th {\n",
              "        text-align: right;\n",
              "    }\n",
              "</style>\n",
              "<table border=\"1\" class=\"dataframe\">\n",
              "  <thead>\n",
              "    <tr style=\"text-align: right;\">\n",
              "      <th></th>\n",
              "      <th>Labels</th>\n",
              "    </tr>\n",
              "  </thead>\n",
              "  <tbody>\n",
              "    <tr>\n",
              "      <th>0</th>\n",
              "      <td>2</td>\n",
              "    </tr>\n",
              "    <tr>\n",
              "      <th>1</th>\n",
              "      <td>5</td>\n",
              "    </tr>\n",
              "    <tr>\n",
              "      <th>2</th>\n",
              "      <td>7</td>\n",
              "    </tr>\n",
              "    <tr>\n",
              "      <th>3</th>\n",
              "      <td>6</td>\n",
              "    </tr>\n",
              "    <tr>\n",
              "      <th>4</th>\n",
              "      <td>2</td>\n",
              "    </tr>\n",
              "    <tr>\n",
              "      <th>...</th>\n",
              "      <td>...</td>\n",
              "    </tr>\n",
              "    <tr>\n",
              "      <th>3999</th>\n",
              "      <td>2</td>\n",
              "    </tr>\n",
              "    <tr>\n",
              "      <th>4000</th>\n",
              "      <td>7</td>\n",
              "    </tr>\n",
              "    <tr>\n",
              "      <th>4001</th>\n",
              "      <td>1</td>\n",
              "    </tr>\n",
              "    <tr>\n",
              "      <th>4002</th>\n",
              "      <td>7</td>\n",
              "    </tr>\n",
              "    <tr>\n",
              "      <th>4003</th>\n",
              "      <td>6</td>\n",
              "    </tr>\n",
              "  </tbody>\n",
              "</table>\n",
              "<p>4004 rows × 1 columns</p>\n",
              "</div>"
            ],
            "text/plain": [
              "      Labels\n",
              "0          2\n",
              "1          5\n",
              "2          7\n",
              "3          6\n",
              "4          2\n",
              "...      ...\n",
              "3999       2\n",
              "4000       7\n",
              "4001       1\n",
              "4002       7\n",
              "4003       6\n",
              "\n",
              "[4004 rows x 1 columns]"
            ]
          },
          "metadata": {
            "tags": []
          },
          "execution_count": 78
        }
      ]
    },
    {
      "cell_type": "code",
      "metadata": {
        "id": "dN7flvP3vOa_",
        "colab_type": "code",
        "colab": {
          "base_uri": "https://localhost:8080/",
          "height": 406
        },
        "outputId": "7910e900-5a0f-40aa-bcca-493de5a2d182"
      },
      "source": [
        "predicted_encoded_train_labels = pd.DataFrame(predicted_encoded_train_labels, columns=['Labels'])\n",
        "predicted_encoded_train_labels"
      ],
      "execution_count": 64,
      "outputs": [
        {
          "output_type": "execute_result",
          "data": {
            "text/html": [
              "<div>\n",
              "<style scoped>\n",
              "    .dataframe tbody tr th:only-of-type {\n",
              "        vertical-align: middle;\n",
              "    }\n",
              "\n",
              "    .dataframe tbody tr th {\n",
              "        vertical-align: top;\n",
              "    }\n",
              "\n",
              "    .dataframe thead th {\n",
              "        text-align: right;\n",
              "    }\n",
              "</style>\n",
              "<table border=\"1\" class=\"dataframe\">\n",
              "  <thead>\n",
              "    <tr style=\"text-align: right;\">\n",
              "      <th></th>\n",
              "      <th>Labels</th>\n",
              "    </tr>\n",
              "  </thead>\n",
              "  <tbody>\n",
              "    <tr>\n",
              "      <th>0</th>\n",
              "      <td>2</td>\n",
              "    </tr>\n",
              "    <tr>\n",
              "      <th>1</th>\n",
              "      <td>5</td>\n",
              "    </tr>\n",
              "    <tr>\n",
              "      <th>2</th>\n",
              "      <td>7</td>\n",
              "    </tr>\n",
              "    <tr>\n",
              "      <th>3</th>\n",
              "      <td>6</td>\n",
              "    </tr>\n",
              "    <tr>\n",
              "      <th>4</th>\n",
              "      <td>2</td>\n",
              "    </tr>\n",
              "    <tr>\n",
              "      <th>...</th>\n",
              "      <td>...</td>\n",
              "    </tr>\n",
              "    <tr>\n",
              "      <th>3999</th>\n",
              "      <td>2</td>\n",
              "    </tr>\n",
              "    <tr>\n",
              "      <th>4000</th>\n",
              "      <td>7</td>\n",
              "    </tr>\n",
              "    <tr>\n",
              "      <th>4001</th>\n",
              "      <td>1</td>\n",
              "    </tr>\n",
              "    <tr>\n",
              "      <th>4002</th>\n",
              "      <td>7</td>\n",
              "    </tr>\n",
              "    <tr>\n",
              "      <th>4003</th>\n",
              "      <td>6</td>\n",
              "    </tr>\n",
              "  </tbody>\n",
              "</table>\n",
              "<p>4004 rows × 1 columns</p>\n",
              "</div>"
            ],
            "text/plain": [
              "      Labels\n",
              "0          2\n",
              "1          5\n",
              "2          7\n",
              "3          6\n",
              "4          2\n",
              "...      ...\n",
              "3999       2\n",
              "4000       7\n",
              "4001       1\n",
              "4002       7\n",
              "4003       6\n",
              "\n",
              "[4004 rows x 1 columns]"
            ]
          },
          "metadata": {
            "tags": []
          },
          "execution_count": 64
        }
      ]
    },
    {
      "cell_type": "markdown",
      "metadata": {
        "id": "N8AyYkpd8F9O",
        "colab_type": "text"
      },
      "source": [
        "### Visualize Prediction for Train Dataset"
      ]
    },
    {
      "cell_type": "code",
      "metadata": {
        "id": "KBMLd2094oOa",
        "colab_type": "code",
        "colab": {
          "base_uri": "https://localhost:8080/",
          "height": 542
        },
        "outputId": "7c49ae93-a0d6-46df-fec4-1fdc7814351b"
      },
      "source": [
        "#Plot Actual vs Predicted Class for Training Dataset\n",
        "actual_chart = go.Scatter(x=actual_encoded_train_labels.index, y=actual_encoded_train_labels.Labels, name= 'Actual Label')\n",
        "predict_chart = go.Scatter(x=actual_encoded_train_labels.index, y=predicted_encoded_train_labels.Labels, name= 'Predicted Label')\n",
        "py.iplot([predict_chart, actual_chart])"
      ],
      "execution_count": 88,
      "outputs": [
        {
          "output_type": "display_data",
          "data": {
            "text/html": [
              "<html>\n",
              "<head><meta charset=\"utf-8\" /></head>\n",
              "<body>\n",
              "    <div>\n",
              "            <script src=\"https://cdnjs.cloudflare.com/ajax/libs/mathjax/2.7.5/MathJax.js?config=TeX-AMS-MML_SVG\"></script><script type=\"text/javascript\">if (window.MathJax) {MathJax.Hub.Config({SVG: {font: \"STIX-Web\"}});}</script>\n",
              "                <script type=\"text/javascript\">window.PlotlyConfig = {MathJaxConfig: 'local'};</script>\n",
              "        <script src=\"https://cdn.plot.ly/plotly-latest.min.js\"></script>    \n",
              "            <div id=\"bc008132-d6f8-4dd0-81b9-b448746760f1\" class=\"plotly-graph-div\" style=\"height:525px; width:100%;\"></div>\n",
              "            <script type=\"text/javascript\">\n",
              "                \n",
              "                    window.PLOTLYENV=window.PLOTLYENV || {};\n",
              "                    \n",
              "                if (document.getElementById(\"bc008132-d6f8-4dd0-81b9-b448746760f1\")) {\n",
              "                    Plotly.newPlot(\n",
              "                        'bc008132-d6f8-4dd0-81b9-b448746760f1',\n",
              "                        [{\"name\": \"Predicted Label\", \"type\": \"scatter\", \"x\": [0, 1, 2, 3, 4, 5, 6, 7, 8, 9, 10, 11, 12, 13, 14, 15, 16, 17, 18, 19, 20, 21, 22, 23, 24, 25, 26, 27, 28, 29, 30, 31, 32, 33, 34, 35, 36, 37, 38, 39, 40, 41, 42, 43, 44, 45, 46, 47, 48, 49, 50, 51, 52, 53, 54, 55, 56, 57, 58, 59, 60, 61, 62, 63, 64, 65, 66, 67, 68, 69, 70, 71, 72, 73, 74, 75, 76, 77, 78, 79, 80, 81, 82, 83, 84, 85, 86, 87, 88, 89, 90, 91, 92, 93, 94, 95, 96, 97, 98, 99, 100, 101, 102, 103, 104, 105, 106, 107, 108, 109, 110, 111, 112, 113, 114, 115, 116, 117, 118, 119, 120, 121, 122, 123, 124, 125, 126, 127, 128, 129, 130, 131, 132, 133, 134, 135, 136, 137, 138, 139, 140, 141, 142, 143, 144, 145, 146, 147, 148, 149, 150, 151, 152, 153, 154, 155, 156, 157, 158, 159, 160, 161, 162, 163, 164, 165, 166, 167, 168, 169, 170, 171, 172, 173, 174, 175, 176, 177, 178, 179, 180, 181, 182, 183, 184, 185, 186, 187, 188, 189, 190, 191, 192, 193, 194, 195, 196, 197, 198, 199, 200, 201, 202, 203, 204, 205, 206, 207, 208, 209, 210, 211, 212, 213, 214, 215, 216, 217, 218, 219, 220, 221, 222, 223, 224, 225, 226, 227, 228, 229, 230, 231, 232, 233, 234, 235, 236, 237, 238, 239, 240, 241, 242, 243, 244, 245, 246, 247, 248, 249, 250, 251, 252, 253, 254, 255, 256, 257, 258, 259, 260, 261, 262, 263, 264, 265, 266, 267, 268, 269, 270, 271, 272, 273, 274, 275, 276, 277, 278, 279, 280, 281, 282, 283, 284, 285, 286, 287, 288, 289, 290, 291, 292, 293, 294, 295, 296, 297, 298, 299, 300, 301, 302, 303, 304, 305, 306, 307, 308, 309, 310, 311, 312, 313, 314, 315, 316, 317, 318, 319, 320, 321, 322, 323, 324, 325, 326, 327, 328, 329, 330, 331, 332, 333, 334, 335, 336, 337, 338, 339, 340, 341, 342, 343, 344, 345, 346, 347, 348, 349, 350, 351, 352, 353, 354, 355, 356, 357, 358, 359, 360, 361, 362, 363, 364, 365, 366, 367, 368, 369, 370, 371, 372, 373, 374, 375, 376, 377, 378, 379, 380, 381, 382, 383, 384, 385, 386, 387, 388, 389, 390, 391, 392, 393, 394, 395, 396, 397, 398, 399, 400, 401, 402, 403, 404, 405, 406, 407, 408, 409, 410, 411, 412, 413, 414, 415, 416, 417, 418, 419, 420, 421, 422, 423, 424, 425, 426, 427, 428, 429, 430, 431, 432, 433, 434, 435, 436, 437, 438, 439, 440, 441, 442, 443, 444, 445, 446, 447, 448, 449, 450, 451, 452, 453, 454, 455, 456, 457, 458, 459, 460, 461, 462, 463, 464, 465, 466, 467, 468, 469, 470, 471, 472, 473, 474, 475, 476, 477, 478, 479, 480, 481, 482, 483, 484, 485, 486, 487, 488, 489, 490, 491, 492, 493, 494, 495, 496, 497, 498, 499, 500, 501, 502, 503, 504, 505, 506, 507, 508, 509, 510, 511, 512, 513, 514, 515, 516, 517, 518, 519, 520, 521, 522, 523, 524, 525, 526, 527, 528, 529, 530, 531, 532, 533, 534, 535, 536, 537, 538, 539, 540, 541, 542, 543, 544, 545, 546, 547, 548, 549, 550, 551, 552, 553, 554, 555, 556, 557, 558, 559, 560, 561, 562, 563, 564, 565, 566, 567, 568, 569, 570, 571, 572, 573, 574, 575, 576, 577, 578, 579, 580, 581, 582, 583, 584, 585, 586, 587, 588, 589, 590, 591, 592, 593, 594, 595, 596, 597, 598, 599, 600, 601, 602, 603, 604, 605, 606, 607, 608, 609, 610, 611, 612, 613, 614, 615, 616, 617, 618, 619, 620, 621, 622, 623, 624, 625, 626, 627, 628, 629, 630, 631, 632, 633, 634, 635, 636, 637, 638, 639, 640, 641, 642, 643, 644, 645, 646, 647, 648, 649, 650, 651, 652, 653, 654, 655, 656, 657, 658, 659, 660, 661, 662, 663, 664, 665, 666, 667, 668, 669, 670, 671, 672, 673, 674, 675, 676, 677, 678, 679, 680, 681, 682, 683, 684, 685, 686, 687, 688, 689, 690, 691, 692, 693, 694, 695, 696, 697, 698, 699, 700, 701, 702, 703, 704, 705, 706, 707, 708, 709, 710, 711, 712, 713, 714, 715, 716, 717, 718, 719, 720, 721, 722, 723, 724, 725, 726, 727, 728, 729, 730, 731, 732, 733, 734, 735, 736, 737, 738, 739, 740, 741, 742, 743, 744, 745, 746, 747, 748, 749, 750, 751, 752, 753, 754, 755, 756, 757, 758, 759, 760, 761, 762, 763, 764, 765, 766, 767, 768, 769, 770, 771, 772, 773, 774, 775, 776, 777, 778, 779, 780, 781, 782, 783, 784, 785, 786, 787, 788, 789, 790, 791, 792, 793, 794, 795, 796, 797, 798, 799, 800, 801, 802, 803, 804, 805, 806, 807, 808, 809, 810, 811, 812, 813, 814, 815, 816, 817, 818, 819, 820, 821, 822, 823, 824, 825, 826, 827, 828, 829, 830, 831, 832, 833, 834, 835, 836, 837, 838, 839, 840, 841, 842, 843, 844, 845, 846, 847, 848, 849, 850, 851, 852, 853, 854, 855, 856, 857, 858, 859, 860, 861, 862, 863, 864, 865, 866, 867, 868, 869, 870, 871, 872, 873, 874, 875, 876, 877, 878, 879, 880, 881, 882, 883, 884, 885, 886, 887, 888, 889, 890, 891, 892, 893, 894, 895, 896, 897, 898, 899, 900, 901, 902, 903, 904, 905, 906, 907, 908, 909, 910, 911, 912, 913, 914, 915, 916, 917, 918, 919, 920, 921, 922, 923, 924, 925, 926, 927, 928, 929, 930, 931, 932, 933, 934, 935, 936, 937, 938, 939, 940, 941, 942, 943, 944, 945, 946, 947, 948, 949, 950, 951, 952, 953, 954, 955, 956, 957, 958, 959, 960, 961, 962, 963, 964, 965, 966, 967, 968, 969, 970, 971, 972, 973, 974, 975, 976, 977, 978, 979, 980, 981, 982, 983, 984, 985, 986, 987, 988, 989, 990, 991, 992, 993, 994, 995, 996, 997, 998, 999, 1000, 1001, 1002, 1003, 1004, 1005, 1006, 1007, 1008, 1009, 1010, 1011, 1012, 1013, 1014, 1015, 1016, 1017, 1018, 1019, 1020, 1021, 1022, 1023, 1024, 1025, 1026, 1027, 1028, 1029, 1030, 1031, 1032, 1033, 1034, 1035, 1036, 1037, 1038, 1039, 1040, 1041, 1042, 1043, 1044, 1045, 1046, 1047, 1048, 1049, 1050, 1051, 1052, 1053, 1054, 1055, 1056, 1057, 1058, 1059, 1060, 1061, 1062, 1063, 1064, 1065, 1066, 1067, 1068, 1069, 1070, 1071, 1072, 1073, 1074, 1075, 1076, 1077, 1078, 1079, 1080, 1081, 1082, 1083, 1084, 1085, 1086, 1087, 1088, 1089, 1090, 1091, 1092, 1093, 1094, 1095, 1096, 1097, 1098, 1099, 1100, 1101, 1102, 1103, 1104, 1105, 1106, 1107, 1108, 1109, 1110, 1111, 1112, 1113, 1114, 1115, 1116, 1117, 1118, 1119, 1120, 1121, 1122, 1123, 1124, 1125, 1126, 1127, 1128, 1129, 1130, 1131, 1132, 1133, 1134, 1135, 1136, 1137, 1138, 1139, 1140, 1141, 1142, 1143, 1144, 1145, 1146, 1147, 1148, 1149, 1150, 1151, 1152, 1153, 1154, 1155, 1156, 1157, 1158, 1159, 1160, 1161, 1162, 1163, 1164, 1165, 1166, 1167, 1168, 1169, 1170, 1171, 1172, 1173, 1174, 1175, 1176, 1177, 1178, 1179, 1180, 1181, 1182, 1183, 1184, 1185, 1186, 1187, 1188, 1189, 1190, 1191, 1192, 1193, 1194, 1195, 1196, 1197, 1198, 1199, 1200, 1201, 1202, 1203, 1204, 1205, 1206, 1207, 1208, 1209, 1210, 1211, 1212, 1213, 1214, 1215, 1216, 1217, 1218, 1219, 1220, 1221, 1222, 1223, 1224, 1225, 1226, 1227, 1228, 1229, 1230, 1231, 1232, 1233, 1234, 1235, 1236, 1237, 1238, 1239, 1240, 1241, 1242, 1243, 1244, 1245, 1246, 1247, 1248, 1249, 1250, 1251, 1252, 1253, 1254, 1255, 1256, 1257, 1258, 1259, 1260, 1261, 1262, 1263, 1264, 1265, 1266, 1267, 1268, 1269, 1270, 1271, 1272, 1273, 1274, 1275, 1276, 1277, 1278, 1279, 1280, 1281, 1282, 1283, 1284, 1285, 1286, 1287, 1288, 1289, 1290, 1291, 1292, 1293, 1294, 1295, 1296, 1297, 1298, 1299, 1300, 1301, 1302, 1303, 1304, 1305, 1306, 1307, 1308, 1309, 1310, 1311, 1312, 1313, 1314, 1315, 1316, 1317, 1318, 1319, 1320, 1321, 1322, 1323, 1324, 1325, 1326, 1327, 1328, 1329, 1330, 1331, 1332, 1333, 1334, 1335, 1336, 1337, 1338, 1339, 1340, 1341, 1342, 1343, 1344, 1345, 1346, 1347, 1348, 1349, 1350, 1351, 1352, 1353, 1354, 1355, 1356, 1357, 1358, 1359, 1360, 1361, 1362, 1363, 1364, 1365, 1366, 1367, 1368, 1369, 1370, 1371, 1372, 1373, 1374, 1375, 1376, 1377, 1378, 1379, 1380, 1381, 1382, 1383, 1384, 1385, 1386, 1387, 1388, 1389, 1390, 1391, 1392, 1393, 1394, 1395, 1396, 1397, 1398, 1399, 1400, 1401, 1402, 1403, 1404, 1405, 1406, 1407, 1408, 1409, 1410, 1411, 1412, 1413, 1414, 1415, 1416, 1417, 1418, 1419, 1420, 1421, 1422, 1423, 1424, 1425, 1426, 1427, 1428, 1429, 1430, 1431, 1432, 1433, 1434, 1435, 1436, 1437, 1438, 1439, 1440, 1441, 1442, 1443, 1444, 1445, 1446, 1447, 1448, 1449, 1450, 1451, 1452, 1453, 1454, 1455, 1456, 1457, 1458, 1459, 1460, 1461, 1462, 1463, 1464, 1465, 1466, 1467, 1468, 1469, 1470, 1471, 1472, 1473, 1474, 1475, 1476, 1477, 1478, 1479, 1480, 1481, 1482, 1483, 1484, 1485, 1486, 1487, 1488, 1489, 1490, 1491, 1492, 1493, 1494, 1495, 1496, 1497, 1498, 1499, 1500, 1501, 1502, 1503, 1504, 1505, 1506, 1507, 1508, 1509, 1510, 1511, 1512, 1513, 1514, 1515, 1516, 1517, 1518, 1519, 1520, 1521, 1522, 1523, 1524, 1525, 1526, 1527, 1528, 1529, 1530, 1531, 1532, 1533, 1534, 1535, 1536, 1537, 1538, 1539, 1540, 1541, 1542, 1543, 1544, 1545, 1546, 1547, 1548, 1549, 1550, 1551, 1552, 1553, 1554, 1555, 1556, 1557, 1558, 1559, 1560, 1561, 1562, 1563, 1564, 1565, 1566, 1567, 1568, 1569, 1570, 1571, 1572, 1573, 1574, 1575, 1576, 1577, 1578, 1579, 1580, 1581, 1582, 1583, 1584, 1585, 1586, 1587, 1588, 1589, 1590, 1591, 1592, 1593, 1594, 1595, 1596, 1597, 1598, 1599, 1600, 1601, 1602, 1603, 1604, 1605, 1606, 1607, 1608, 1609, 1610, 1611, 1612, 1613, 1614, 1615, 1616, 1617, 1618, 1619, 1620, 1621, 1622, 1623, 1624, 1625, 1626, 1627, 1628, 1629, 1630, 1631, 1632, 1633, 1634, 1635, 1636, 1637, 1638, 1639, 1640, 1641, 1642, 1643, 1644, 1645, 1646, 1647, 1648, 1649, 1650, 1651, 1652, 1653, 1654, 1655, 1656, 1657, 1658, 1659, 1660, 1661, 1662, 1663, 1664, 1665, 1666, 1667, 1668, 1669, 1670, 1671, 1672, 1673, 1674, 1675, 1676, 1677, 1678, 1679, 1680, 1681, 1682, 1683, 1684, 1685, 1686, 1687, 1688, 1689, 1690, 1691, 1692, 1693, 1694, 1695, 1696, 1697, 1698, 1699, 1700, 1701, 1702, 1703, 1704, 1705, 1706, 1707, 1708, 1709, 1710, 1711, 1712, 1713, 1714, 1715, 1716, 1717, 1718, 1719, 1720, 1721, 1722, 1723, 1724, 1725, 1726, 1727, 1728, 1729, 1730, 1731, 1732, 1733, 1734, 1735, 1736, 1737, 1738, 1739, 1740, 1741, 1742, 1743, 1744, 1745, 1746, 1747, 1748, 1749, 1750, 1751, 1752, 1753, 1754, 1755, 1756, 1757, 1758, 1759, 1760, 1761, 1762, 1763, 1764, 1765, 1766, 1767, 1768, 1769, 1770, 1771, 1772, 1773, 1774, 1775, 1776, 1777, 1778, 1779, 1780, 1781, 1782, 1783, 1784, 1785, 1786, 1787, 1788, 1789, 1790, 1791, 1792, 1793, 1794, 1795, 1796, 1797, 1798, 1799, 1800, 1801, 1802, 1803, 1804, 1805, 1806, 1807, 1808, 1809, 1810, 1811, 1812, 1813, 1814, 1815, 1816, 1817, 1818, 1819, 1820, 1821, 1822, 1823, 1824, 1825, 1826, 1827, 1828, 1829, 1830, 1831, 1832, 1833, 1834, 1835, 1836, 1837, 1838, 1839, 1840, 1841, 1842, 1843, 1844, 1845, 1846, 1847, 1848, 1849, 1850, 1851, 1852, 1853, 1854, 1855, 1856, 1857, 1858, 1859, 1860, 1861, 1862, 1863, 1864, 1865, 1866, 1867, 1868, 1869, 1870, 1871, 1872, 1873, 1874, 1875, 1876, 1877, 1878, 1879, 1880, 1881, 1882, 1883, 1884, 1885, 1886, 1887, 1888, 1889, 1890, 1891, 1892, 1893, 1894, 1895, 1896, 1897, 1898, 1899, 1900, 1901, 1902, 1903, 1904, 1905, 1906, 1907, 1908, 1909, 1910, 1911, 1912, 1913, 1914, 1915, 1916, 1917, 1918, 1919, 1920, 1921, 1922, 1923, 1924, 1925, 1926, 1927, 1928, 1929, 1930, 1931, 1932, 1933, 1934, 1935, 1936, 1937, 1938, 1939, 1940, 1941, 1942, 1943, 1944, 1945, 1946, 1947, 1948, 1949, 1950, 1951, 1952, 1953, 1954, 1955, 1956, 1957, 1958, 1959, 1960, 1961, 1962, 1963, 1964, 1965, 1966, 1967, 1968, 1969, 1970, 1971, 1972, 1973, 1974, 1975, 1976, 1977, 1978, 1979, 1980, 1981, 1982, 1983, 1984, 1985, 1986, 1987, 1988, 1989, 1990, 1991, 1992, 1993, 1994, 1995, 1996, 1997, 1998, 1999, 2000, 2001, 2002, 2003, 2004, 2005, 2006, 2007, 2008, 2009, 2010, 2011, 2012, 2013, 2014, 2015, 2016, 2017, 2018, 2019, 2020, 2021, 2022, 2023, 2024, 2025, 2026, 2027, 2028, 2029, 2030, 2031, 2032, 2033, 2034, 2035, 2036, 2037, 2038, 2039, 2040, 2041, 2042, 2043, 2044, 2045, 2046, 2047, 2048, 2049, 2050, 2051, 2052, 2053, 2054, 2055, 2056, 2057, 2058, 2059, 2060, 2061, 2062, 2063, 2064, 2065, 2066, 2067, 2068, 2069, 2070, 2071, 2072, 2073, 2074, 2075, 2076, 2077, 2078, 2079, 2080, 2081, 2082, 2083, 2084, 2085, 2086, 2087, 2088, 2089, 2090, 2091, 2092, 2093, 2094, 2095, 2096, 2097, 2098, 2099, 2100, 2101, 2102, 2103, 2104, 2105, 2106, 2107, 2108, 2109, 2110, 2111, 2112, 2113, 2114, 2115, 2116, 2117, 2118, 2119, 2120, 2121, 2122, 2123, 2124, 2125, 2126, 2127, 2128, 2129, 2130, 2131, 2132, 2133, 2134, 2135, 2136, 2137, 2138, 2139, 2140, 2141, 2142, 2143, 2144, 2145, 2146, 2147, 2148, 2149, 2150, 2151, 2152, 2153, 2154, 2155, 2156, 2157, 2158, 2159, 2160, 2161, 2162, 2163, 2164, 2165, 2166, 2167, 2168, 2169, 2170, 2171, 2172, 2173, 2174, 2175, 2176, 2177, 2178, 2179, 2180, 2181, 2182, 2183, 2184, 2185, 2186, 2187, 2188, 2189, 2190, 2191, 2192, 2193, 2194, 2195, 2196, 2197, 2198, 2199, 2200, 2201, 2202, 2203, 2204, 2205, 2206, 2207, 2208, 2209, 2210, 2211, 2212, 2213, 2214, 2215, 2216, 2217, 2218, 2219, 2220, 2221, 2222, 2223, 2224, 2225, 2226, 2227, 2228, 2229, 2230, 2231, 2232, 2233, 2234, 2235, 2236, 2237, 2238, 2239, 2240, 2241, 2242, 2243, 2244, 2245, 2246, 2247, 2248, 2249, 2250, 2251, 2252, 2253, 2254, 2255, 2256, 2257, 2258, 2259, 2260, 2261, 2262, 2263, 2264, 2265, 2266, 2267, 2268, 2269, 2270, 2271, 2272, 2273, 2274, 2275, 2276, 2277, 2278, 2279, 2280, 2281, 2282, 2283, 2284, 2285, 2286, 2287, 2288, 2289, 2290, 2291, 2292, 2293, 2294, 2295, 2296, 2297, 2298, 2299, 2300, 2301, 2302, 2303, 2304, 2305, 2306, 2307, 2308, 2309, 2310, 2311, 2312, 2313, 2314, 2315, 2316, 2317, 2318, 2319, 2320, 2321, 2322, 2323, 2324, 2325, 2326, 2327, 2328, 2329, 2330, 2331, 2332, 2333, 2334, 2335, 2336, 2337, 2338, 2339, 2340, 2341, 2342, 2343, 2344, 2345, 2346, 2347, 2348, 2349, 2350, 2351, 2352, 2353, 2354, 2355, 2356, 2357, 2358, 2359, 2360, 2361, 2362, 2363, 2364, 2365, 2366, 2367, 2368, 2369, 2370, 2371, 2372, 2373, 2374, 2375, 2376, 2377, 2378, 2379, 2380, 2381, 2382, 2383, 2384, 2385, 2386, 2387, 2388, 2389, 2390, 2391, 2392, 2393, 2394, 2395, 2396, 2397, 2398, 2399, 2400, 2401, 2402, 2403, 2404, 2405, 2406, 2407, 2408, 2409, 2410, 2411, 2412, 2413, 2414, 2415, 2416, 2417, 2418, 2419, 2420, 2421, 2422, 2423, 2424, 2425, 2426, 2427, 2428, 2429, 2430, 2431, 2432, 2433, 2434, 2435, 2436, 2437, 2438, 2439, 2440, 2441, 2442, 2443, 2444, 2445, 2446, 2447, 2448, 2449, 2450, 2451, 2452, 2453, 2454, 2455, 2456, 2457, 2458, 2459, 2460, 2461, 2462, 2463, 2464, 2465, 2466, 2467, 2468, 2469, 2470, 2471, 2472, 2473, 2474, 2475, 2476, 2477, 2478, 2479, 2480, 2481, 2482, 2483, 2484, 2485, 2486, 2487, 2488, 2489, 2490, 2491, 2492, 2493, 2494, 2495, 2496, 2497, 2498, 2499, 2500, 2501, 2502, 2503, 2504, 2505, 2506, 2507, 2508, 2509, 2510, 2511, 2512, 2513, 2514, 2515, 2516, 2517, 2518, 2519, 2520, 2521, 2522, 2523, 2524, 2525, 2526, 2527, 2528, 2529, 2530, 2531, 2532, 2533, 2534, 2535, 2536, 2537, 2538, 2539, 2540, 2541, 2542, 2543, 2544, 2545, 2546, 2547, 2548, 2549, 2550, 2551, 2552, 2553, 2554, 2555, 2556, 2557, 2558, 2559, 2560, 2561, 2562, 2563, 2564, 2565, 2566, 2567, 2568, 2569, 2570, 2571, 2572, 2573, 2574, 2575, 2576, 2577, 2578, 2579, 2580, 2581, 2582, 2583, 2584, 2585, 2586, 2587, 2588, 2589, 2590, 2591, 2592, 2593, 2594, 2595, 2596, 2597, 2598, 2599, 2600, 2601, 2602, 2603, 2604, 2605, 2606, 2607, 2608, 2609, 2610, 2611, 2612, 2613, 2614, 2615, 2616, 2617, 2618, 2619, 2620, 2621, 2622, 2623, 2624, 2625, 2626, 2627, 2628, 2629, 2630, 2631, 2632, 2633, 2634, 2635, 2636, 2637, 2638, 2639, 2640, 2641, 2642, 2643, 2644, 2645, 2646, 2647, 2648, 2649, 2650, 2651, 2652, 2653, 2654, 2655, 2656, 2657, 2658, 2659, 2660, 2661, 2662, 2663, 2664, 2665, 2666, 2667, 2668, 2669, 2670, 2671, 2672, 2673, 2674, 2675, 2676, 2677, 2678, 2679, 2680, 2681, 2682, 2683, 2684, 2685, 2686, 2687, 2688, 2689, 2690, 2691, 2692, 2693, 2694, 2695, 2696, 2697, 2698, 2699, 2700, 2701, 2702, 2703, 2704, 2705, 2706, 2707, 2708, 2709, 2710, 2711, 2712, 2713, 2714, 2715, 2716, 2717, 2718, 2719, 2720, 2721, 2722, 2723, 2724, 2725, 2726, 2727, 2728, 2729, 2730, 2731, 2732, 2733, 2734, 2735, 2736, 2737, 2738, 2739, 2740, 2741, 2742, 2743, 2744, 2745, 2746, 2747, 2748, 2749, 2750, 2751, 2752, 2753, 2754, 2755, 2756, 2757, 2758, 2759, 2760, 2761, 2762, 2763, 2764, 2765, 2766, 2767, 2768, 2769, 2770, 2771, 2772, 2773, 2774, 2775, 2776, 2777, 2778, 2779, 2780, 2781, 2782, 2783, 2784, 2785, 2786, 2787, 2788, 2789, 2790, 2791, 2792, 2793, 2794, 2795, 2796, 2797, 2798, 2799, 2800, 2801, 2802, 2803, 2804, 2805, 2806, 2807, 2808, 2809, 2810, 2811, 2812, 2813, 2814, 2815, 2816, 2817, 2818, 2819, 2820, 2821, 2822, 2823, 2824, 2825, 2826, 2827, 2828, 2829, 2830, 2831, 2832, 2833, 2834, 2835, 2836, 2837, 2838, 2839, 2840, 2841, 2842, 2843, 2844, 2845, 2846, 2847, 2848, 2849, 2850, 2851, 2852, 2853, 2854, 2855, 2856, 2857, 2858, 2859, 2860, 2861, 2862, 2863, 2864, 2865, 2866, 2867, 2868, 2869, 2870, 2871, 2872, 2873, 2874, 2875, 2876, 2877, 2878, 2879, 2880, 2881, 2882, 2883, 2884, 2885, 2886, 2887, 2888, 2889, 2890, 2891, 2892, 2893, 2894, 2895, 2896, 2897, 2898, 2899, 2900, 2901, 2902, 2903, 2904, 2905, 2906, 2907, 2908, 2909, 2910, 2911, 2912, 2913, 2914, 2915, 2916, 2917, 2918, 2919, 2920, 2921, 2922, 2923, 2924, 2925, 2926, 2927, 2928, 2929, 2930, 2931, 2932, 2933, 2934, 2935, 2936, 2937, 2938, 2939, 2940, 2941, 2942, 2943, 2944, 2945, 2946, 2947, 2948, 2949, 2950, 2951, 2952, 2953, 2954, 2955, 2956, 2957, 2958, 2959, 2960, 2961, 2962, 2963, 2964, 2965, 2966, 2967, 2968, 2969, 2970, 2971, 2972, 2973, 2974, 2975, 2976, 2977, 2978, 2979, 2980, 2981, 2982, 2983, 2984, 2985, 2986, 2987, 2988, 2989, 2990, 2991, 2992, 2993, 2994, 2995, 2996, 2997, 2998, 2999, 3000, 3001, 3002, 3003, 3004, 3005, 3006, 3007, 3008, 3009, 3010, 3011, 3012, 3013, 3014, 3015, 3016, 3017, 3018, 3019, 3020, 3021, 3022, 3023, 3024, 3025, 3026, 3027, 3028, 3029, 3030, 3031, 3032, 3033, 3034, 3035, 3036, 3037, 3038, 3039, 3040, 3041, 3042, 3043, 3044, 3045, 3046, 3047, 3048, 3049, 3050, 3051, 3052, 3053, 3054, 3055, 3056, 3057, 3058, 3059, 3060, 3061, 3062, 3063, 3064, 3065, 3066, 3067, 3068, 3069, 3070, 3071, 3072, 3073, 3074, 3075, 3076, 3077, 3078, 3079, 3080, 3081, 3082, 3083, 3084, 3085, 3086, 3087, 3088, 3089, 3090, 3091, 3092, 3093, 3094, 3095, 3096, 3097, 3098, 3099, 3100, 3101, 3102, 3103, 3104, 3105, 3106, 3107, 3108, 3109, 3110, 3111, 3112, 3113, 3114, 3115, 3116, 3117, 3118, 3119, 3120, 3121, 3122, 3123, 3124, 3125, 3126, 3127, 3128, 3129, 3130, 3131, 3132, 3133, 3134, 3135, 3136, 3137, 3138, 3139, 3140, 3141, 3142, 3143, 3144, 3145, 3146, 3147, 3148, 3149, 3150, 3151, 3152, 3153, 3154, 3155, 3156, 3157, 3158, 3159, 3160, 3161, 3162, 3163, 3164, 3165, 3166, 3167, 3168, 3169, 3170, 3171, 3172, 3173, 3174, 3175, 3176, 3177, 3178, 3179, 3180, 3181, 3182, 3183, 3184, 3185, 3186, 3187, 3188, 3189, 3190, 3191, 3192, 3193, 3194, 3195, 3196, 3197, 3198, 3199, 3200, 3201, 3202, 3203, 3204, 3205, 3206, 3207, 3208, 3209, 3210, 3211, 3212, 3213, 3214, 3215, 3216, 3217, 3218, 3219, 3220, 3221, 3222, 3223, 3224, 3225, 3226, 3227, 3228, 3229, 3230, 3231, 3232, 3233, 3234, 3235, 3236, 3237, 3238, 3239, 3240, 3241, 3242, 3243, 3244, 3245, 3246, 3247, 3248, 3249, 3250, 3251, 3252, 3253, 3254, 3255, 3256, 3257, 3258, 3259, 3260, 3261, 3262, 3263, 3264, 3265, 3266, 3267, 3268, 3269, 3270, 3271, 3272, 3273, 3274, 3275, 3276, 3277, 3278, 3279, 3280, 3281, 3282, 3283, 3284, 3285, 3286, 3287, 3288, 3289, 3290, 3291, 3292, 3293, 3294, 3295, 3296, 3297, 3298, 3299, 3300, 3301, 3302, 3303, 3304, 3305, 3306, 3307, 3308, 3309, 3310, 3311, 3312, 3313, 3314, 3315, 3316, 3317, 3318, 3319, 3320, 3321, 3322, 3323, 3324, 3325, 3326, 3327, 3328, 3329, 3330, 3331, 3332, 3333, 3334, 3335, 3336, 3337, 3338, 3339, 3340, 3341, 3342, 3343, 3344, 3345, 3346, 3347, 3348, 3349, 3350, 3351, 3352, 3353, 3354, 3355, 3356, 3357, 3358, 3359, 3360, 3361, 3362, 3363, 3364, 3365, 3366, 3367, 3368, 3369, 3370, 3371, 3372, 3373, 3374, 3375, 3376, 3377, 3378, 3379, 3380, 3381, 3382, 3383, 3384, 3385, 3386, 3387, 3388, 3389, 3390, 3391, 3392, 3393, 3394, 3395, 3396, 3397, 3398, 3399, 3400, 3401, 3402, 3403, 3404, 3405, 3406, 3407, 3408, 3409, 3410, 3411, 3412, 3413, 3414, 3415, 3416, 3417, 3418, 3419, 3420, 3421, 3422, 3423, 3424, 3425, 3426, 3427, 3428, 3429, 3430, 3431, 3432, 3433, 3434, 3435, 3436, 3437, 3438, 3439, 3440, 3441, 3442, 3443, 3444, 3445, 3446, 3447, 3448, 3449, 3450, 3451, 3452, 3453, 3454, 3455, 3456, 3457, 3458, 3459, 3460, 3461, 3462, 3463, 3464, 3465, 3466, 3467, 3468, 3469, 3470, 3471, 3472, 3473, 3474, 3475, 3476, 3477, 3478, 3479, 3480, 3481, 3482, 3483, 3484, 3485, 3486, 3487, 3488, 3489, 3490, 3491, 3492, 3493, 3494, 3495, 3496, 3497, 3498, 3499, 3500, 3501, 3502, 3503, 3504, 3505, 3506, 3507, 3508, 3509, 3510, 3511, 3512, 3513, 3514, 3515, 3516, 3517, 3518, 3519, 3520, 3521, 3522, 3523, 3524, 3525, 3526, 3527, 3528, 3529, 3530, 3531, 3532, 3533, 3534, 3535, 3536, 3537, 3538, 3539, 3540, 3541, 3542, 3543, 3544, 3545, 3546, 3547, 3548, 3549, 3550, 3551, 3552, 3553, 3554, 3555, 3556, 3557, 3558, 3559, 3560, 3561, 3562, 3563, 3564, 3565, 3566, 3567, 3568, 3569, 3570, 3571, 3572, 3573, 3574, 3575, 3576, 3577, 3578, 3579, 3580, 3581, 3582, 3583, 3584, 3585, 3586, 3587, 3588, 3589, 3590, 3591, 3592, 3593, 3594, 3595, 3596, 3597, 3598, 3599, 3600, 3601, 3602, 3603, 3604, 3605, 3606, 3607, 3608, 3609, 3610, 3611, 3612, 3613, 3614, 3615, 3616, 3617, 3618, 3619, 3620, 3621, 3622, 3623, 3624, 3625, 3626, 3627, 3628, 3629, 3630, 3631, 3632, 3633, 3634, 3635, 3636, 3637, 3638, 3639, 3640, 3641, 3642, 3643, 3644, 3645, 3646, 3647, 3648, 3649, 3650, 3651, 3652, 3653, 3654, 3655, 3656, 3657, 3658, 3659, 3660, 3661, 3662, 3663, 3664, 3665, 3666, 3667, 3668, 3669, 3670, 3671, 3672, 3673, 3674, 3675, 3676, 3677, 3678, 3679, 3680, 3681, 3682, 3683, 3684, 3685, 3686, 3687, 3688, 3689, 3690, 3691, 3692, 3693, 3694, 3695, 3696, 3697, 3698, 3699, 3700, 3701, 3702, 3703, 3704, 3705, 3706, 3707, 3708, 3709, 3710, 3711, 3712, 3713, 3714, 3715, 3716, 3717, 3718, 3719, 3720, 3721, 3722, 3723, 3724, 3725, 3726, 3727, 3728, 3729, 3730, 3731, 3732, 3733, 3734, 3735, 3736, 3737, 3738, 3739, 3740, 3741, 3742, 3743, 3744, 3745, 3746, 3747, 3748, 3749, 3750, 3751, 3752, 3753, 3754, 3755, 3756, 3757, 3758, 3759, 3760, 3761, 3762, 3763, 3764, 3765, 3766, 3767, 3768, 3769, 3770, 3771, 3772, 3773, 3774, 3775, 3776, 3777, 3778, 3779, 3780, 3781, 3782, 3783, 3784, 3785, 3786, 3787, 3788, 3789, 3790, 3791, 3792, 3793, 3794, 3795, 3796, 3797, 3798, 3799, 3800, 3801, 3802, 3803, 3804, 3805, 3806, 3807, 3808, 3809, 3810, 3811, 3812, 3813, 3814, 3815, 3816, 3817, 3818, 3819, 3820, 3821, 3822, 3823, 3824, 3825, 3826, 3827, 3828, 3829, 3830, 3831, 3832, 3833, 3834, 3835, 3836, 3837, 3838, 3839, 3840, 3841, 3842, 3843, 3844, 3845, 3846, 3847, 3848, 3849, 3850, 3851, 3852, 3853, 3854, 3855, 3856, 3857, 3858, 3859, 3860, 3861, 3862, 3863, 3864, 3865, 3866, 3867, 3868, 3869, 3870, 3871, 3872, 3873, 3874, 3875, 3876, 3877, 3878, 3879, 3880, 3881, 3882, 3883, 3884, 3885, 3886, 3887, 3888, 3889, 3890, 3891, 3892, 3893, 3894, 3895, 3896, 3897, 3898, 3899, 3900, 3901, 3902, 3903, 3904, 3905, 3906, 3907, 3908, 3909, 3910, 3911, 3912, 3913, 3914, 3915, 3916, 3917, 3918, 3919, 3920, 3921, 3922, 3923, 3924, 3925, 3926, 3927, 3928, 3929, 3930, 3931, 3932, 3933, 3934, 3935, 3936, 3937, 3938, 3939, 3940, 3941, 3942, 3943, 3944, 3945, 3946, 3947, 3948, 3949, 3950, 3951, 3952, 3953, 3954, 3955, 3956, 3957, 3958, 3959, 3960, 3961, 3962, 3963, 3964, 3965, 3966, 3967, 3968, 3969, 3970, 3971, 3972, 3973, 3974, 3975, 3976, 3977, 3978, 3979, 3980, 3981, 3982, 3983, 3984, 3985, 3986, 3987, 3988, 3989, 3990, 3991, 3992, 3993, 3994, 3995, 3996, 3997, 3998, 3999, 4000, 4001, 4002, 4003], \"y\": [2, 5, 7, 6, 2, 2, 7, 1, 8, 2, 2, 2, 7, 1, 1, 1, 2, 2, 6, 2, 5, 2, 8, 8, 2, 1, 2, 1, 7, 2, 3, 5, 5, 2, 2, 1, 2, 7, 3, 1, 3, 5, 2, 6, 1, 6, 6, 2, 6, 1, 1, 1, 2, 5, 2, 2, 3, 1, 1, 3, 2, 8, 1, 0, 1, 2, 2, 6, 1, 3, 6, 6, 1, 8, 2, 5, 3, 4, 1, 5, 4, 1, 1, 5, 5, 2, 2, 1, 3, 2, 6, 6, 2, 5, 1, 6, 5, 3, 5, 6, 2, 7, 2, 2, 2, 0, 1, 6, 1, 4, 6, 5, 2, 1, 1, 4, 3, 7, 6, 1, 1, 7, 1, 5, 1, 2, 1, 7, 5, 8, 5, 4, 6, 7, 1, 6, 6, 9, 8, 1, 9, 1, 5, 1, 1, 2, 1, 2, 2, 8, 1, 7, 2, 1, 7, 1, 2, 2, 8, 4, 6, 8, 1, 5, 5, 10, 1, 7, 5, 5, 2, 3, 2, 1, 6, 3, 7, 1, 6, 1, 5, 5, 1, 8, 2, 3, 4, 3, 0, 2, 7, 4, 1, 1, 5, 5, 1, 1, 5, 2, 1, 0, 0, 1, 2, 7, 6, 2, 4, 7, 8, 4, 1, 1, 6, 2, 10, 7, 1, 1, 1, 1, 1, 8, 2, 6, 6, 2, 1, 2, 3, 1, 1, 5, 1, 8, 5, 2, 4, 8, 2, 1, 1, 6, 2, 2, 6, 0, 1, 2, 1, 1, 1, 3, 5, 1, 0, 2, 1, 7, 2, 10, 1, 1, 2, 2, 2, 8, 1, 3, 2, 5, 6, 5, 2, 0, 1, 7, 1, 1, 5, 6, 7, 1, 0, 3, 2, 3, 4, 8, 2, 6, 1, 1, 7, 2, 7, 1, 4, 2, 2, 2, 1, 1, 1, 5, 6, 1, 2, 6, 1, 2, 6, 2, 8, 5, 3, 6, 1, 8, 5, 5, 6, 5, 7, 4, 6, 1, 6, 4, 2, 3, 1, 1, 2, 2, 4, 8, 7, 2, 2, 2, 0, 5, 1, 2, 2, 2, 7, 6, 6, 1, 5, 1, 1, 2, 2, 1, 1, 8, 6, 1, 2, 2, 1, 1, 1, 6, 2, 5, 5, 6, 6, 1, 3, 8, 1, 3, 1, 3, 8, 5, 1, 2, 7, 1, 1, 7, 1, 5, 1, 1, 6, 2, 2, 2, 3, 3, 1, 3, 8, 1, 1, 2, 1, 1, 5, 2, 8, 8, 5, 3, 2, 2, 6, 6, 7, 5, 0, 6, 5, 6, 6, 5, 1, 1, 1, 5, 2, 2, 2, 2, 1, 1, 5, 2, 1, 1, 2, 5, 2, 1, 1, 4, 1, 5, 2, 1, 5, 6, 6, 5, 2, 1, 1, 1, 6, 1, 2, 1, 3, 5, 1, 6, 2, 1, 1, 7, 7, 1, 1, 7, 1, 5, 2, 4, 3, 6, 6, 0, 6, 1, 2, 1, 1, 6, 7, 6, 1, 6, 3, 0, 1, 2, 2, 1, 1, 6, 1, 4, 1, 5, 6, 0, 6, 3, 6, 0, 0, 2, 6, 2, 0, 2, 1, 5, 7, 2, 8, 3, 2, 6, 6, 2, 1, 1, 0, 1, 5, 5, 2, 7, 1, 1, 2, 6, 7, 1, 2, 1, 0, 0, 8, 7, 5, 1, 7, 1, 6, 5, 5, 1, 5, 2, 6, 6, 9, 1, 7, 1, 2, 1, 1, 2, 3, 5, 3, 2, 3, 2, 3, 2, 5, 6, 1, 1, 4, 2, 5, 1, 1, 5, 1, 2, 1, 2, 2, 1, 1, 6, 1, 2, 0, 2, 8, 4, 1, 2, 1, 7, 6, 3, 2, 1, 1, 2, 2, 6, 2, 1, 1, 4, 6, 1, 1, 7, 7, 7, 1, 2, 0, 7, 2, 1, 6, 5, 3, 7, 9, 5, 7, 5, 5, 1, 1, 6, 3, 7, 1, 5, 6, 5, 5, 2, 7, 3, 2, 3, 3, 2, 3, 5, 2, 0, 1, 6, 1, 6, 2, 1, 6, 1, 0, 1, 1, 7, 6, 6, 5, 2, 2, 5, 6, 1, 4, 5, 1, 1, 4, 6, 5, 5, 7, 1, 6, 4, 6, 2, 7, 1, 5, 3, 6, 2, 0, 6, 7, 4, 1, 4, 6, 1, 1, 0, 1, 2, 5, 2, 4, 7, 6, 7, 3, 1, 5, 8, 2, 1, 7, 2, 1, 1, 7, 1, 2, 2, 2, 9, 1, 6, 1, 5, 5, 1, 0, 1, 5, 1, 2, 1, 6, 1, 4, 8, 8, 6, 4, 1, 8, 2, 7, 2, 3, 7, 1, 3, 6, 2, 2, 4, 2, 1, 3, 6, 1, 0, 6, 6, 1, 8, 1, 5, 7, 6, 1, 5, 1, 0, 3, 2, 1, 6, 1, 1, 7, 5, 1, 2, 6, 2, 2, 6, 3, 6, 5, 5, 1, 3, 8, 4, 6, 1, 0, 3, 5, 1, 3, 1, 0, 10, 2, 7, 0, 1, 1, 1, 7, 1, 7, 2, 6, 5, 4, 3, 4, 8, 0, 7, 7, 1, 2, 1, 1, 5, 2, 1, 7, 1, 7, 2, 6, 5, 7, 7, 1, 6, 2, 2, 7, 1, 2, 0, 10, 8, 0, 5, 3, 7, 6, 0, 2, 7, 2, 3, 1, 0, 1, 5, 4, 1, 6, 7, 7, 5, 4, 1, 3, 0, 7, 1, 6, 6, 4, 3, 5, 7, 2, 3, 2, 1, 8, 5, 1, 8, 1, 5, 2, 2, 3, 1, 4, 1, 4, 2, 5, 2, 6, 4, 5, 1, 1, 2, 7, 2, 4, 2, 7, 1, 2, 2, 1, 7, 7, 1, 6, 6, 6, 1, 5, 5, 2, 7, 6, 2, 6, 1, 2, 1, 4, 0, 0, 2, 0, 8, 4, 1, 5, 4, 2, 2, 6, 5, 5, 2, 2, 8, 1, 1, 5, 1, 7, 5, 5, 1, 8, 6, 1, 1, 2, 5, 1, 1, 6, 1, 1, 2, 2, 1, 1, 1, 2, 8, 7, 1, 2, 2, 6, 2, 2, 1, 6, 2, 2, 8, 1, 1, 5, 1, 6, 6, 8, 1, 1, 10, 6, 1, 5, 5, 6, 1, 8, 2, 1, 4, 2, 5, 2, 8, 5, 5, 1, 1, 6, 8, 1, 5, 5, 3, 2, 1, 1, 1, 1, 6, 1, 1, 5, 2, 4, 5, 7, 1, 4, 0, 1, 1, 5, 1, 2, 5, 2, 2, 1, 5, 5, 1, 6, 5, 5, 0, 1, 2, 1, 3, 6, 1, 0, 7, 7, 1, 1, 1, 8, 0, 3, 7, 8, 7, 2, 2, 1, 2, 6, 1, 2, 1, 3, 2, 1, 6, 0, 3, 0, 6, 3, 2, 1, 0, 4, 1, 1, 7, 1, 5, 1, 1, 2, 5, 3, 1, 5, 1, 1, 1, 1, 0, 8, 1, 6, 1, 4, 1, 7, 1, 1, 1, 6, 5, 1, 6, 2, 3, 1, 1, 5, 1, 6, 3, 4, 5, 2, 1, 2, 5, 2, 8, 1, 4, 6, 2, 4, 2, 1, 1, 5, 1, 5, 2, 2, 0, 6, 2, 5, 7, 2, 3, 1, 6, 1, 1, 6, 7, 1, 6, 2, 4, 1, 1, 1, 5, 1, 2, 6, 1, 1, 2, 1, 1, 1, 6, 1, 1, 2, 8, 1, 1, 5, 1, 1, 1, 1, 1, 2, 5, 1, 1, 0, 1, 2, 1, 6, 2, 2, 1, 6, 2, 5, 5, 2, 6, 1, 10, 3, 1, 1, 2, 2, 1, 1, 2, 8, 3, 8, 0, 6, 7, 7, 3, 1, 1, 6, 2, 1, 0, 6, 6, 2, 6, 5, 1, 2, 5, 1, 2, 2, 1, 6, 1, 4, 7, 0, 7, 2, 2, 1, 7, 0, 1, 6, 1, 10, 3, 2, 1, 4, 3, 6, 2, 0, 1, 0, 6, 1, 2, 7, 6, 1, 1, 2, 1, 4, 2, 7, 8, 6, 3, 0, 1, 5, 4, 0, 5, 2, 1, 1, 2, 8, 5, 5, 1, 6, 4, 0, 5, 2, 2, 2, 7, 2, 1, 3, 6, 1, 7, 2, 5, 1, 2, 1, 1, 6, 1, 1, 1, 2, 0, 6, 1, 7, 1, 1, 1, 2, 1, 2, 5, 7, 1, 0, 1, 3, 0, 5, 2, 6, 2, 1, 0, 2, 6, 4, 2, 2, 2, 2, 6, 3, 2, 2, 7, 2, 2, 1, 2, 2, 1, 8, 1, 5, 0, 1, 7, 7, 5, 6, 2, 5, 5, 0, 1, 1, 3, 10, 6, 1, 2, 0, 6, 2, 2, 2, 1, 5, 5, 4, 6, 8, 1, 1, 1, 8, 1, 6, 7, 1, 5, 8, 1, 2, 1, 6, 1, 1, 1, 9, 6, 1, 7, 8, 2, 5, 7, 2, 2, 7, 2, 6, 2, 1, 2, 1, 2, 2, 1, 4, 5, 6, 1, 2, 1, 6, 3, 6, 7, 2, 0, 1, 1, 2, 2, 1, 5, 1, 2, 2, 0, 10, 6, 1, 1, 2, 2, 5, 7, 1, 0, 6, 2, 5, 1, 4, 6, 2, 1, 4, 0, 10, 5, 1, 0, 8, 1, 1, 6, 7, 1, 5, 8, 2, 5, 2, 5, 3, 4, 2, 5, 5, 1, 5, 1, 6, 0, 7, 2, 7, 2, 2, 7, 2, 7, 7, 5, 1, 0, 6, 1, 6, 6, 6, 1, 1, 7, 1, 1, 7, 6, 0, 5, 0, 1, 7, 8, 2, 2, 2, 1, 1, 0, 0, 6, 6, 9, 1, 0, 1, 2, 1, 1, 1, 2, 1, 4, 5, 2, 6, 1, 5, 2, 5, 4, 1, 6, 5, 1, 6, 4, 7, 2, 3, 1, 5, 2, 6, 5, 7, 5, 1, 1, 1, 2, 3, 1, 1, 7, 0, 1, 1, 1, 1, 5, 1, 7, 2, 5, 1, 1, 2, 1, 5, 5, 5, 1, 5, 1, 1, 1, 5, 6, 8, 2, 0, 7, 2, 7, 2, 0, 1, 2, 8, 6, 2, 2, 2, 1, 4, 6, 5, 1, 6, 1, 1, 1, 2, 1, 7, 8, 1, 5, 6, 6, 1, 0, 6, 9, 1, 6, 4, 3, 7, 2, 2, 1, 6, 4, 5, 6, 0, 2, 5, 3, 5, 3, 1, 1, 1, 1, 1, 1, 2, 1, 6, 6, 1, 1, 2, 1, 0, 8, 1, 6, 1, 1, 2, 1, 1, 5, 1, 5, 1, 1, 1, 1, 1, 1, 6, 7, 0, 6, 1, 2, 2, 2, 8, 2, 2, 3, 1, 8, 1, 6, 4, 7, 7, 2, 6, 1, 2, 1, 3, 6, 8, 1, 2, 6, 2, 1, 3, 3, 2, 2, 1, 1, 6, 7, 2, 2, 1, 1, 5, 1, 1, 3, 2, 2, 7, 3, 2, 0, 6, 8, 8, 2, 7, 6, 5, 6, 3, 2, 5, 1, 2, 1, 1, 7, 5, 3, 2, 1, 8, 1, 7, 0, 1, 6, 5, 5, 6, 2, 2, 5, 5, 1, 6, 2, 1, 2, 1, 2, 1, 2, 5, 1, 1, 7, 2, 3, 7, 5, 6, 1, 4, 5, 7, 0, 2, 1, 8, 8, 1, 3, 1, 6, 1, 3, 1, 1, 6, 6, 8, 2, 2, 1, 6, 6, 7, 5, 7, 4, 2, 6, 7, 8, 10, 2, 1, 2, 1, 0, 1, 1, 5, 2, 6, 7, 6, 7, 3, 6, 2, 4, 1, 2, 1, 1, 2, 5, 2, 2, 5, 6, 1, 1, 5, 6, 2, 2, 2, 2, 7, 9, 2, 6, 1, 8, 6, 7, 4, 3, 1, 1, 1, 7, 0, 2, 7, 1, 5, 3, 1, 1, 6, 1, 6, 1, 2, 0, 1, 1, 6, 6, 1, 8, 4, 8, 1, 7, 2, 1, 6, 2, 1, 1, 0, 6, 6, 2, 4, 5, 1, 1, 6, 1, 7, 6, 2, 2, 5, 1, 5, 1, 2, 7, 7, 6, 1, 6, 2, 1, 6, 1, 8, 1, 7, 1, 1, 5, 1, 2, 7, 1, 3, 0, 2, 1, 6, 4, 2, 2, 1, 5, 1, 1, 6, 3, 0, 1, 6, 2, 1, 1, 2, 1, 7, 1, 2, 1, 5, 2, 1, 9, 1, 0, 1, 7, 2, 2, 1, 5, 2, 2, 6, 8, 7, 5, 2, 1, 2, 1, 1, 3, 6, 5, 7, 1, 6, 1, 6, 6, 1, 1, 1, 2, 4, 2, 3, 0, 7, 1, 2, 1, 6, 2, 7, 1, 2, 0, 3, 3, 5, 2, 6, 2, 1, 0, 2, 2, 3, 3, 5, 5, 4, 1, 0, 1, 1, 7, 5, 1, 1, 8, 1, 1, 2, 5, 5, 7, 10, 2, 2, 1, 3, 0, 1, 1, 1, 6, 7, 7, 2, 6, 0, 2, 0, 1, 6, 1, 7, 7, 6, 1, 1, 1, 5, 2, 1, 0, 6, 1, 8, 1, 3, 6, 6, 2, 3, 1, 2, 1, 4, 2, 1, 5, 3, 3, 1, 2, 0, 2, 2, 2, 0, 2, 1, 4, 2, 2, 2, 2, 1, 7, 2, 6, 1, 1, 2, 6, 1, 4, 1, 5, 5, 3, 6, 2, 1, 5, 3, 1, 1, 7, 7, 1, 8, 1, 5, 6, 2, 4, 0, 1, 1, 2, 3, 5, 4, 5, 1, 6, 6, 6, 1, 7, 0, 4, 7, 2, 6, 5, 2, 5, 0, 1, 2, 1, 3, 8, 6, 5, 1, 6, 1, 5, 2, 1, 5, 2, 2, 5, 6, 2, 7, 8, 2, 2, 5, 2, 1, 6, 1, 1, 2, 3, 7, 1, 2, 1, 2, 2, 2, 0, 3, 2, 2, 4, 4, 1, 1, 4, 2, 1, 6, 1, 1, 2, 6, 1, 0, 2, 8, 2, 6, 1, 1, 2, 2, 3, 2, 5, 2, 2, 6, 7, 1, 1, 1, 1, 1, 5, 6, 6, 1, 2, 5, 5, 2, 6, 5, 6, 7, 0, 1, 2, 6, 6, 4, 2, 7, 1, 0, 0, 6, 7, 2, 1, 1, 6, 3, 1, 1, 2, 1, 1, 7, 5, 2, 1, 0, 1, 2, 1, 5, 3, 1, 1, 2, 7, 1, 1, 1, 2, 1, 5, 2, 2, 8, 6, 2, 2, 8, 7, 5, 2, 2, 3, 1, 1, 6, 1, 1, 7, 1, 5, 6, 4, 5, 2, 6, 6, 1, 1, 2, 5, 0, 1, 2, 2, 2, 4, 2, 2, 1, 2, 1, 1, 7, 6, 6, 6, 3, 2, 6, 1, 1, 2, 7, 6, 2, 2, 0, 8, 7, 6, 0, 1, 3, 0, 2, 1, 2, 1, 8, 2, 5, 0, 1, 2, 2, 7, 2, 6, 4, 2, 3, 8, 7, 1, 1, 5, 1, 2, 7, 2, 1, 1, 7, 2, 7, 5, 5, 2, 6, 3, 7, 2, 1, 2, 6, 6, 7, 2, 7, 2, 2, 0, 7, 4, 6, 3, 8, 1, 6, 1, 8, 2, 7, 2, 6, 1, 8, 3, 2, 5, 4, 1, 1, 3, 1, 2, 5, 5, 1, 0, 5, 3, 2, 1, 7, 8, 6, 4, 2, 6, 5, 2, 2, 2, 7, 0, 2, 1, 4, 1, 5, 5, 6, 2, 1, 7, 1, 5, 4, 2, 1, 6, 8, 2, 0, 1, 7, 6, 7, 1, 5, 5, 4, 2, 1, 7, 2, 6, 5, 1, 6, 2, 1, 6, 9, 2, 1, 6, 2, 1, 1, 7, 1, 3, 5, 0, 4, 5, 1, 5, 4, 2, 6, 1, 5, 6, 1, 1, 2, 2, 5, 6, 7, 2, 2, 6, 2, 1, 1, 5, 1, 7, 6, 2, 10, 2, 8, 2, 1, 8, 2, 1, 1, 5, 1, 6, 0, 2, 6, 2, 2, 7, 1, 7, 1, 7, 5, 2, 2, 5, 10, 5, 6, 2, 2, 6, 1, 1, 7, 5, 2, 5, 0, 0, 5, 3, 1, 1, 1, 3, 2, 3, 1, 7, 2, 7, 2, 8, 1, 2, 6, 4, 1, 2, 2, 2, 2, 1, 1, 6, 1, 2, 2, 2, 1, 2, 5, 8, 5, 1, 9, 7, 0, 5, 0, 2, 1, 5, 6, 0, 2, 1, 2, 5, 7, 1, 1, 1, 8, 2, 1, 0, 5, 1, 3, 1, 5, 0, 1, 2, 7, 6, 2, 6, 1, 2, 4, 1, 2, 4, 1, 0, 3, 7, 2, 6, 5, 6, 1, 7, 2, 2, 2, 5, 7, 2, 3, 1, 8, 5, 1, 2, 8, 3, 4, 8, 4, 1, 6, 1, 1, 4, 7, 6, 1, 1, 1, 2, 1, 1, 1, 2, 1, 6, 1, 0, 7, 2, 1, 2, 1, 7, 7, 1, 2, 2, 1, 1, 2, 1, 1, 1, 1, 6, 6, 7, 3, 2, 7, 2, 2, 5, 2, 4, 1, 1, 5, 7, 1, 6, 5, 5, 6, 1, 1, 2, 1, 7, 4, 6, 7, 5, 1, 2, 8, 2, 6, 3, 8, 5, 4, 2, 1, 7, 1, 2, 2, 6, 2, 2, 2, 10, 6, 1, 7, 5, 5, 1, 5, 2, 5, 6, 1, 1, 2, 3, 2, 6, 4, 0, 6, 5, 6, 5, 6, 1, 8, 2, 1, 4, 1, 2, 1, 2, 1, 6, 3, 5, 2, 6, 8, 1, 1, 2, 1, 1, 2, 0, 7, 1, 1, 4, 3, 7, 2, 5, 6, 2, 8, 7, 7, 2, 1, 1, 1, 1, 2, 6, 8, 2, 6, 2, 6, 6, 1, 3, 2, 1, 5, 1, 8, 8, 7, 7, 1, 1, 6, 5, 1, 1, 3, 2, 1, 0, 3, 6, 2, 7, 1, 5, 1, 8, 7, 6, 7, 2, 2, 5, 3, 1, 1, 5, 1, 5, 2, 3, 5, 2, 2, 1, 5, 7, 9, 6, 1, 5, 1, 1, 4, 8, 5, 6, 5, 2, 1, 1, 7, 8, 5, 1, 2, 0, 2, 7, 6, 6, 2, 3, 1, 1, 2, 6, 1, 2, 6, 1, 7, 0, 2, 4, 5, 6, 1, 4, 2, 2, 5, 4, 5, 3, 0, 5, 1, 0, 7, 5, 1, 1, 7, 1, 3, 4, 0, 1, 4, 3, 5, 2, 2, 6, 2, 8, 2, 1, 2, 6, 7, 6, 7, 2, 5, 3, 7, 8, 8, 1, 0, 0, 1, 2, 3, 2, 6, 5, 1, 2, 2, 0, 0, 6, 1, 5, 2, 5, 0, 1, 2, 2, 1, 7, 5, 2, 5, 7, 6, 6, 1, 8, 1, 2, 2, 1, 3, 6, 5, 0, 3, 2, 1, 6, 3, 1, 2, 6, 3, 7, 3, 2, 1, 1, 5, 3, 4, 2, 5, 6, 5, 2, 2, 6, 2, 3, 2, 2, 7, 2, 6, 2, 7, 2, 1, 1, 2, 4, 1, 3, 6, 5, 1, 6, 5, 1, 5, 4, 8, 5, 2, 2, 6, 8, 2, 1, 2, 5, 2, 2, 4, 4, 4, 5, 2, 5, 6, 2, 2, 2, 0, 5, 2, 2, 0, 1, 2, 8, 5, 6, 8, 0, 2, 2, 8, 2, 1, 1, 1, 2, 2, 2, 2, 1, 2, 6, 5, 1, 1, 2, 5, 0, 4, 1, 5, 1, 1, 4, 2, 5, 6, 7, 1, 3, 7, 1, 6, 1, 2, 4, 3, 5, 7, 1, 7, 0, 3, 2, 8, 0, 2, 2, 1, 1, 1, 2, 1, 4, 4, 7, 5, 1, 0, 7, 7, 6, 8, 8, 1, 2, 1, 8, 4, 5, 7, 8, 2, 10, 0, 1, 2, 1, 1, 2, 1, 5, 2, 2, 2, 1, 1, 2, 2, 1, 2, 6, 6, 1, 3, 7, 6, 4, 2, 2, 1, 1, 0, 7, 6, 2, 6, 1, 0, 1, 7, 2, 2, 7, 2, 1, 8, 2, 2, 8, 8, 6, 1, 7, 1, 7, 2, 4, 5, 0, 8, 1, 1, 4, 1, 4, 10, 6, 1, 1, 5, 1, 2, 1, 3, 6, 1, 7, 3, 5, 0, 2, 2, 3, 1, 7, 4, 4, 1, 6, 4, 2, 2, 3, 6, 6, 3, 0, 1, 7, 2, 2, 1, 3, 2, 5, 1, 5, 2, 1, 5, 4, 1, 2, 6, 4, 1, 5, 1, 2, 1, 7, 7, 6, 7, 2, 1, 1, 6, 0, 8, 1, 1, 3, 5, 1, 2, 1, 2, 3, 2, 2, 8, 1, 7, 6, 6, 1, 1, 0, 4, 1, 7, 5, 0, 0, 8, 3, 4, 0, 1, 7, 7, 7, 1, 2, 7, 1, 2, 2, 2, 1, 1, 8, 2, 6, 6, 7, 1, 1, 7, 1, 1, 1, 4, 1, 5, 5, 1, 4, 0, 7, 1, 1, 2, 0, 1, 8, 6, 6, 6, 6, 2, 8, 2, 1, 2, 7, 5, 1, 1, 5, 1, 2, 1, 3, 7, 6, 0, 3, 1, 6, 3, 1, 1, 2, 2, 4, 1, 1, 0, 1, 2, 1, 1, 5, 3, 7, 1, 6, 5, 1, 0, 1, 1, 1, 1, 1, 3, 1, 2, 1, 1, 2, 1, 0, 7, 1, 2, 5, 1, 7, 1, 1, 2, 4, 5, 8, 1, 1, 3, 1, 1, 3, 2, 5, 1, 1, 6, 2, 6, 5, 2, 2, 2, 6, 8, 7, 6, 0, 6, 6, 5, 1, 0, 1, 2, 2, 2, 1, 7, 1, 8, 5, 5, 3, 6, 3, 2, 6, 2, 5, 6, 1, 1, 3, 5, 2, 6, 5, 1, 1, 0, 1, 1, 1, 0, 0, 1, 1, 1, 1, 8, 1, 1, 4, 7, 1, 6, 5, 1, 1, 4, 4, 2, 5, 7, 2, 3, 2, 2, 1, 6, 2, 6, 2, 1, 1, 2, 4, 2, 1, 6, 1, 5, 7, 6, 2, 8, 1, 2, 1, 5, 2, 0, 5, 2, 7, 9, 4, 9, 1, 1, 1, 4, 5, 1, 6, 2, 1, 0, 1, 2, 7, 2, 2, 7, 6, 7, 5, 4, 6, 2, 1, 6, 5, 1, 5, 5, 6, 1, 2, 2, 2, 2, 1, 8, 7, 2, 5, 6, 0, 2, 2, 7, 1, 1, 7, 3, 1, 3, 1, 6, 1, 5, 1, 2, 2, 2, 6, 6, 3, 2, 6, 1, 1, 1, 3, 5, 7, 5, 3, 7, 2, 5, 2, 6, 3, 4, 1, 0, 2, 1, 5, 2, 2, 2, 2, 1, 7, 5, 2, 2, 5, 1, 8, 1, 6, 7, 7, 4, 2, 1, 1, 7, 5, 6, 2, 7, 2, 1, 2, 1, 1, 3, 1, 1, 1, 2, 2, 0, 3, 1, 7, 5, 7, 5, 7, 0, 5, 1, 7, 2, 2, 1, 1, 2, 8, 6, 1, 1, 1, 1, 1, 2, 5, 2, 2, 1, 1, 3, 7, 1, 1, 1, 1, 5, 5, 1, 2, 4, 5, 6, 2, 1, 1, 7, 3, 1, 1, 6, 2, 1, 6, 2, 2, 2, 0, 3, 1, 1, 2, 1, 1, 5, 2, 2, 2, 2, 4, 1, 1, 10, 0, 2, 6, 1, 1, 2, 7, 2, 7, 8, 7, 1, 4, 6, 0, 1, 1, 2, 7, 7, 5, 1, 5, 2, 1, 6, 1, 3, 6, 6, 0, 2, 1, 3, 2, 3, 2, 2, 1, 1, 4, 1, 2, 0, 4, 7, 7, 1, 6, 6, 1, 1, 6, 1, 1, 5, 4, 0, 1, 2, 6, 1, 7, 7, 2, 3, 2, 1, 1, 2, 1, 3, 1, 1, 1, 1, 5, 2, 2, 1, 1, 1, 1, 5, 1, 2, 2, 4, 1, 0, 6, 2, 7, 1, 5, 2, 2, 5, 2, 6, 5, 2, 0, 3, 2, 2, 6, 1, 5, 1, 1, 7, 6, 6, 8, 2, 6, 2, 1, 1, 1, 1, 1, 1, 4, 1, 2, 1, 7, 4, 7, 10, 6, 1, 4, 2, 6, 7, 2, 1, 1, 6, 1, 1, 0, 7, 0, 1, 6, 6, 2, 5, 1, 1, 1, 4, 4, 2, 0, 2, 4, 8, 4, 7, 3, 1, 2, 2, 0, 0, 3, 7, 5, 1, 0, 4, 1, 2, 1, 6, 8, 2, 1, 1, 7, 6, 0, 1, 8, 2, 8, 1, 1, 1, 1, 6, 1, 4, 6, 1, 1, 2, 6, 6, 2, 2, 2, 1, 5, 8, 1, 6, 7, 9, 5, 1, 1, 1, 6, 1, 5, 1, 6, 6, 2, 2, 2, 6, 0, 5, 5, 1, 1, 2, 1, 6, 1, 7, 1, 7, 6, 1, 7, 2, 1, 7, 6, 1, 3, 1, 2, 2, 5, 7, 2, 7, 1, 7, 6]}, {\"name\": \"Actual Label\", \"type\": \"scatter\", \"x\": [0, 1, 2, 3, 4, 5, 6, 7, 8, 9, 10, 11, 12, 13, 14, 15, 16, 17, 18, 19, 20, 21, 22, 23, 24, 25, 26, 27, 28, 29, 30, 31, 32, 33, 34, 35, 36, 37, 38, 39, 40, 41, 42, 43, 44, 45, 46, 47, 48, 49, 50, 51, 52, 53, 54, 55, 56, 57, 58, 59, 60, 61, 62, 63, 64, 65, 66, 67, 68, 69, 70, 71, 72, 73, 74, 75, 76, 77, 78, 79, 80, 81, 82, 83, 84, 85, 86, 87, 88, 89, 90, 91, 92, 93, 94, 95, 96, 97, 98, 99, 100, 101, 102, 103, 104, 105, 106, 107, 108, 109, 110, 111, 112, 113, 114, 115, 116, 117, 118, 119, 120, 121, 122, 123, 124, 125, 126, 127, 128, 129, 130, 131, 132, 133, 134, 135, 136, 137, 138, 139, 140, 141, 142, 143, 144, 145, 146, 147, 148, 149, 150, 151, 152, 153, 154, 155, 156, 157, 158, 159, 160, 161, 162, 163, 164, 165, 166, 167, 168, 169, 170, 171, 172, 173, 174, 175, 176, 177, 178, 179, 180, 181, 182, 183, 184, 185, 186, 187, 188, 189, 190, 191, 192, 193, 194, 195, 196, 197, 198, 199, 200, 201, 202, 203, 204, 205, 206, 207, 208, 209, 210, 211, 212, 213, 214, 215, 216, 217, 218, 219, 220, 221, 222, 223, 224, 225, 226, 227, 228, 229, 230, 231, 232, 233, 234, 235, 236, 237, 238, 239, 240, 241, 242, 243, 244, 245, 246, 247, 248, 249, 250, 251, 252, 253, 254, 255, 256, 257, 258, 259, 260, 261, 262, 263, 264, 265, 266, 267, 268, 269, 270, 271, 272, 273, 274, 275, 276, 277, 278, 279, 280, 281, 282, 283, 284, 285, 286, 287, 288, 289, 290, 291, 292, 293, 294, 295, 296, 297, 298, 299, 300, 301, 302, 303, 304, 305, 306, 307, 308, 309, 310, 311, 312, 313, 314, 315, 316, 317, 318, 319, 320, 321, 322, 323, 324, 325, 326, 327, 328, 329, 330, 331, 332, 333, 334, 335, 336, 337, 338, 339, 340, 341, 342, 343, 344, 345, 346, 347, 348, 349, 350, 351, 352, 353, 354, 355, 356, 357, 358, 359, 360, 361, 362, 363, 364, 365, 366, 367, 368, 369, 370, 371, 372, 373, 374, 375, 376, 377, 378, 379, 380, 381, 382, 383, 384, 385, 386, 387, 388, 389, 390, 391, 392, 393, 394, 395, 396, 397, 398, 399, 400, 401, 402, 403, 404, 405, 406, 407, 408, 409, 410, 411, 412, 413, 414, 415, 416, 417, 418, 419, 420, 421, 422, 423, 424, 425, 426, 427, 428, 429, 430, 431, 432, 433, 434, 435, 436, 437, 438, 439, 440, 441, 442, 443, 444, 445, 446, 447, 448, 449, 450, 451, 452, 453, 454, 455, 456, 457, 458, 459, 460, 461, 462, 463, 464, 465, 466, 467, 468, 469, 470, 471, 472, 473, 474, 475, 476, 477, 478, 479, 480, 481, 482, 483, 484, 485, 486, 487, 488, 489, 490, 491, 492, 493, 494, 495, 496, 497, 498, 499, 500, 501, 502, 503, 504, 505, 506, 507, 508, 509, 510, 511, 512, 513, 514, 515, 516, 517, 518, 519, 520, 521, 522, 523, 524, 525, 526, 527, 528, 529, 530, 531, 532, 533, 534, 535, 536, 537, 538, 539, 540, 541, 542, 543, 544, 545, 546, 547, 548, 549, 550, 551, 552, 553, 554, 555, 556, 557, 558, 559, 560, 561, 562, 563, 564, 565, 566, 567, 568, 569, 570, 571, 572, 573, 574, 575, 576, 577, 578, 579, 580, 581, 582, 583, 584, 585, 586, 587, 588, 589, 590, 591, 592, 593, 594, 595, 596, 597, 598, 599, 600, 601, 602, 603, 604, 605, 606, 607, 608, 609, 610, 611, 612, 613, 614, 615, 616, 617, 618, 619, 620, 621, 622, 623, 624, 625, 626, 627, 628, 629, 630, 631, 632, 633, 634, 635, 636, 637, 638, 639, 640, 641, 642, 643, 644, 645, 646, 647, 648, 649, 650, 651, 652, 653, 654, 655, 656, 657, 658, 659, 660, 661, 662, 663, 664, 665, 666, 667, 668, 669, 670, 671, 672, 673, 674, 675, 676, 677, 678, 679, 680, 681, 682, 683, 684, 685, 686, 687, 688, 689, 690, 691, 692, 693, 694, 695, 696, 697, 698, 699, 700, 701, 702, 703, 704, 705, 706, 707, 708, 709, 710, 711, 712, 713, 714, 715, 716, 717, 718, 719, 720, 721, 722, 723, 724, 725, 726, 727, 728, 729, 730, 731, 732, 733, 734, 735, 736, 737, 738, 739, 740, 741, 742, 743, 744, 745, 746, 747, 748, 749, 750, 751, 752, 753, 754, 755, 756, 757, 758, 759, 760, 761, 762, 763, 764, 765, 766, 767, 768, 769, 770, 771, 772, 773, 774, 775, 776, 777, 778, 779, 780, 781, 782, 783, 784, 785, 786, 787, 788, 789, 790, 791, 792, 793, 794, 795, 796, 797, 798, 799, 800, 801, 802, 803, 804, 805, 806, 807, 808, 809, 810, 811, 812, 813, 814, 815, 816, 817, 818, 819, 820, 821, 822, 823, 824, 825, 826, 827, 828, 829, 830, 831, 832, 833, 834, 835, 836, 837, 838, 839, 840, 841, 842, 843, 844, 845, 846, 847, 848, 849, 850, 851, 852, 853, 854, 855, 856, 857, 858, 859, 860, 861, 862, 863, 864, 865, 866, 867, 868, 869, 870, 871, 872, 873, 874, 875, 876, 877, 878, 879, 880, 881, 882, 883, 884, 885, 886, 887, 888, 889, 890, 891, 892, 893, 894, 895, 896, 897, 898, 899, 900, 901, 902, 903, 904, 905, 906, 907, 908, 909, 910, 911, 912, 913, 914, 915, 916, 917, 918, 919, 920, 921, 922, 923, 924, 925, 926, 927, 928, 929, 930, 931, 932, 933, 934, 935, 936, 937, 938, 939, 940, 941, 942, 943, 944, 945, 946, 947, 948, 949, 950, 951, 952, 953, 954, 955, 956, 957, 958, 959, 960, 961, 962, 963, 964, 965, 966, 967, 968, 969, 970, 971, 972, 973, 974, 975, 976, 977, 978, 979, 980, 981, 982, 983, 984, 985, 986, 987, 988, 989, 990, 991, 992, 993, 994, 995, 996, 997, 998, 999, 1000, 1001, 1002, 1003, 1004, 1005, 1006, 1007, 1008, 1009, 1010, 1011, 1012, 1013, 1014, 1015, 1016, 1017, 1018, 1019, 1020, 1021, 1022, 1023, 1024, 1025, 1026, 1027, 1028, 1029, 1030, 1031, 1032, 1033, 1034, 1035, 1036, 1037, 1038, 1039, 1040, 1041, 1042, 1043, 1044, 1045, 1046, 1047, 1048, 1049, 1050, 1051, 1052, 1053, 1054, 1055, 1056, 1057, 1058, 1059, 1060, 1061, 1062, 1063, 1064, 1065, 1066, 1067, 1068, 1069, 1070, 1071, 1072, 1073, 1074, 1075, 1076, 1077, 1078, 1079, 1080, 1081, 1082, 1083, 1084, 1085, 1086, 1087, 1088, 1089, 1090, 1091, 1092, 1093, 1094, 1095, 1096, 1097, 1098, 1099, 1100, 1101, 1102, 1103, 1104, 1105, 1106, 1107, 1108, 1109, 1110, 1111, 1112, 1113, 1114, 1115, 1116, 1117, 1118, 1119, 1120, 1121, 1122, 1123, 1124, 1125, 1126, 1127, 1128, 1129, 1130, 1131, 1132, 1133, 1134, 1135, 1136, 1137, 1138, 1139, 1140, 1141, 1142, 1143, 1144, 1145, 1146, 1147, 1148, 1149, 1150, 1151, 1152, 1153, 1154, 1155, 1156, 1157, 1158, 1159, 1160, 1161, 1162, 1163, 1164, 1165, 1166, 1167, 1168, 1169, 1170, 1171, 1172, 1173, 1174, 1175, 1176, 1177, 1178, 1179, 1180, 1181, 1182, 1183, 1184, 1185, 1186, 1187, 1188, 1189, 1190, 1191, 1192, 1193, 1194, 1195, 1196, 1197, 1198, 1199, 1200, 1201, 1202, 1203, 1204, 1205, 1206, 1207, 1208, 1209, 1210, 1211, 1212, 1213, 1214, 1215, 1216, 1217, 1218, 1219, 1220, 1221, 1222, 1223, 1224, 1225, 1226, 1227, 1228, 1229, 1230, 1231, 1232, 1233, 1234, 1235, 1236, 1237, 1238, 1239, 1240, 1241, 1242, 1243, 1244, 1245, 1246, 1247, 1248, 1249, 1250, 1251, 1252, 1253, 1254, 1255, 1256, 1257, 1258, 1259, 1260, 1261, 1262, 1263, 1264, 1265, 1266, 1267, 1268, 1269, 1270, 1271, 1272, 1273, 1274, 1275, 1276, 1277, 1278, 1279, 1280, 1281, 1282, 1283, 1284, 1285, 1286, 1287, 1288, 1289, 1290, 1291, 1292, 1293, 1294, 1295, 1296, 1297, 1298, 1299, 1300, 1301, 1302, 1303, 1304, 1305, 1306, 1307, 1308, 1309, 1310, 1311, 1312, 1313, 1314, 1315, 1316, 1317, 1318, 1319, 1320, 1321, 1322, 1323, 1324, 1325, 1326, 1327, 1328, 1329, 1330, 1331, 1332, 1333, 1334, 1335, 1336, 1337, 1338, 1339, 1340, 1341, 1342, 1343, 1344, 1345, 1346, 1347, 1348, 1349, 1350, 1351, 1352, 1353, 1354, 1355, 1356, 1357, 1358, 1359, 1360, 1361, 1362, 1363, 1364, 1365, 1366, 1367, 1368, 1369, 1370, 1371, 1372, 1373, 1374, 1375, 1376, 1377, 1378, 1379, 1380, 1381, 1382, 1383, 1384, 1385, 1386, 1387, 1388, 1389, 1390, 1391, 1392, 1393, 1394, 1395, 1396, 1397, 1398, 1399, 1400, 1401, 1402, 1403, 1404, 1405, 1406, 1407, 1408, 1409, 1410, 1411, 1412, 1413, 1414, 1415, 1416, 1417, 1418, 1419, 1420, 1421, 1422, 1423, 1424, 1425, 1426, 1427, 1428, 1429, 1430, 1431, 1432, 1433, 1434, 1435, 1436, 1437, 1438, 1439, 1440, 1441, 1442, 1443, 1444, 1445, 1446, 1447, 1448, 1449, 1450, 1451, 1452, 1453, 1454, 1455, 1456, 1457, 1458, 1459, 1460, 1461, 1462, 1463, 1464, 1465, 1466, 1467, 1468, 1469, 1470, 1471, 1472, 1473, 1474, 1475, 1476, 1477, 1478, 1479, 1480, 1481, 1482, 1483, 1484, 1485, 1486, 1487, 1488, 1489, 1490, 1491, 1492, 1493, 1494, 1495, 1496, 1497, 1498, 1499, 1500, 1501, 1502, 1503, 1504, 1505, 1506, 1507, 1508, 1509, 1510, 1511, 1512, 1513, 1514, 1515, 1516, 1517, 1518, 1519, 1520, 1521, 1522, 1523, 1524, 1525, 1526, 1527, 1528, 1529, 1530, 1531, 1532, 1533, 1534, 1535, 1536, 1537, 1538, 1539, 1540, 1541, 1542, 1543, 1544, 1545, 1546, 1547, 1548, 1549, 1550, 1551, 1552, 1553, 1554, 1555, 1556, 1557, 1558, 1559, 1560, 1561, 1562, 1563, 1564, 1565, 1566, 1567, 1568, 1569, 1570, 1571, 1572, 1573, 1574, 1575, 1576, 1577, 1578, 1579, 1580, 1581, 1582, 1583, 1584, 1585, 1586, 1587, 1588, 1589, 1590, 1591, 1592, 1593, 1594, 1595, 1596, 1597, 1598, 1599, 1600, 1601, 1602, 1603, 1604, 1605, 1606, 1607, 1608, 1609, 1610, 1611, 1612, 1613, 1614, 1615, 1616, 1617, 1618, 1619, 1620, 1621, 1622, 1623, 1624, 1625, 1626, 1627, 1628, 1629, 1630, 1631, 1632, 1633, 1634, 1635, 1636, 1637, 1638, 1639, 1640, 1641, 1642, 1643, 1644, 1645, 1646, 1647, 1648, 1649, 1650, 1651, 1652, 1653, 1654, 1655, 1656, 1657, 1658, 1659, 1660, 1661, 1662, 1663, 1664, 1665, 1666, 1667, 1668, 1669, 1670, 1671, 1672, 1673, 1674, 1675, 1676, 1677, 1678, 1679, 1680, 1681, 1682, 1683, 1684, 1685, 1686, 1687, 1688, 1689, 1690, 1691, 1692, 1693, 1694, 1695, 1696, 1697, 1698, 1699, 1700, 1701, 1702, 1703, 1704, 1705, 1706, 1707, 1708, 1709, 1710, 1711, 1712, 1713, 1714, 1715, 1716, 1717, 1718, 1719, 1720, 1721, 1722, 1723, 1724, 1725, 1726, 1727, 1728, 1729, 1730, 1731, 1732, 1733, 1734, 1735, 1736, 1737, 1738, 1739, 1740, 1741, 1742, 1743, 1744, 1745, 1746, 1747, 1748, 1749, 1750, 1751, 1752, 1753, 1754, 1755, 1756, 1757, 1758, 1759, 1760, 1761, 1762, 1763, 1764, 1765, 1766, 1767, 1768, 1769, 1770, 1771, 1772, 1773, 1774, 1775, 1776, 1777, 1778, 1779, 1780, 1781, 1782, 1783, 1784, 1785, 1786, 1787, 1788, 1789, 1790, 1791, 1792, 1793, 1794, 1795, 1796, 1797, 1798, 1799, 1800, 1801, 1802, 1803, 1804, 1805, 1806, 1807, 1808, 1809, 1810, 1811, 1812, 1813, 1814, 1815, 1816, 1817, 1818, 1819, 1820, 1821, 1822, 1823, 1824, 1825, 1826, 1827, 1828, 1829, 1830, 1831, 1832, 1833, 1834, 1835, 1836, 1837, 1838, 1839, 1840, 1841, 1842, 1843, 1844, 1845, 1846, 1847, 1848, 1849, 1850, 1851, 1852, 1853, 1854, 1855, 1856, 1857, 1858, 1859, 1860, 1861, 1862, 1863, 1864, 1865, 1866, 1867, 1868, 1869, 1870, 1871, 1872, 1873, 1874, 1875, 1876, 1877, 1878, 1879, 1880, 1881, 1882, 1883, 1884, 1885, 1886, 1887, 1888, 1889, 1890, 1891, 1892, 1893, 1894, 1895, 1896, 1897, 1898, 1899, 1900, 1901, 1902, 1903, 1904, 1905, 1906, 1907, 1908, 1909, 1910, 1911, 1912, 1913, 1914, 1915, 1916, 1917, 1918, 1919, 1920, 1921, 1922, 1923, 1924, 1925, 1926, 1927, 1928, 1929, 1930, 1931, 1932, 1933, 1934, 1935, 1936, 1937, 1938, 1939, 1940, 1941, 1942, 1943, 1944, 1945, 1946, 1947, 1948, 1949, 1950, 1951, 1952, 1953, 1954, 1955, 1956, 1957, 1958, 1959, 1960, 1961, 1962, 1963, 1964, 1965, 1966, 1967, 1968, 1969, 1970, 1971, 1972, 1973, 1974, 1975, 1976, 1977, 1978, 1979, 1980, 1981, 1982, 1983, 1984, 1985, 1986, 1987, 1988, 1989, 1990, 1991, 1992, 1993, 1994, 1995, 1996, 1997, 1998, 1999, 2000, 2001, 2002, 2003, 2004, 2005, 2006, 2007, 2008, 2009, 2010, 2011, 2012, 2013, 2014, 2015, 2016, 2017, 2018, 2019, 2020, 2021, 2022, 2023, 2024, 2025, 2026, 2027, 2028, 2029, 2030, 2031, 2032, 2033, 2034, 2035, 2036, 2037, 2038, 2039, 2040, 2041, 2042, 2043, 2044, 2045, 2046, 2047, 2048, 2049, 2050, 2051, 2052, 2053, 2054, 2055, 2056, 2057, 2058, 2059, 2060, 2061, 2062, 2063, 2064, 2065, 2066, 2067, 2068, 2069, 2070, 2071, 2072, 2073, 2074, 2075, 2076, 2077, 2078, 2079, 2080, 2081, 2082, 2083, 2084, 2085, 2086, 2087, 2088, 2089, 2090, 2091, 2092, 2093, 2094, 2095, 2096, 2097, 2098, 2099, 2100, 2101, 2102, 2103, 2104, 2105, 2106, 2107, 2108, 2109, 2110, 2111, 2112, 2113, 2114, 2115, 2116, 2117, 2118, 2119, 2120, 2121, 2122, 2123, 2124, 2125, 2126, 2127, 2128, 2129, 2130, 2131, 2132, 2133, 2134, 2135, 2136, 2137, 2138, 2139, 2140, 2141, 2142, 2143, 2144, 2145, 2146, 2147, 2148, 2149, 2150, 2151, 2152, 2153, 2154, 2155, 2156, 2157, 2158, 2159, 2160, 2161, 2162, 2163, 2164, 2165, 2166, 2167, 2168, 2169, 2170, 2171, 2172, 2173, 2174, 2175, 2176, 2177, 2178, 2179, 2180, 2181, 2182, 2183, 2184, 2185, 2186, 2187, 2188, 2189, 2190, 2191, 2192, 2193, 2194, 2195, 2196, 2197, 2198, 2199, 2200, 2201, 2202, 2203, 2204, 2205, 2206, 2207, 2208, 2209, 2210, 2211, 2212, 2213, 2214, 2215, 2216, 2217, 2218, 2219, 2220, 2221, 2222, 2223, 2224, 2225, 2226, 2227, 2228, 2229, 2230, 2231, 2232, 2233, 2234, 2235, 2236, 2237, 2238, 2239, 2240, 2241, 2242, 2243, 2244, 2245, 2246, 2247, 2248, 2249, 2250, 2251, 2252, 2253, 2254, 2255, 2256, 2257, 2258, 2259, 2260, 2261, 2262, 2263, 2264, 2265, 2266, 2267, 2268, 2269, 2270, 2271, 2272, 2273, 2274, 2275, 2276, 2277, 2278, 2279, 2280, 2281, 2282, 2283, 2284, 2285, 2286, 2287, 2288, 2289, 2290, 2291, 2292, 2293, 2294, 2295, 2296, 2297, 2298, 2299, 2300, 2301, 2302, 2303, 2304, 2305, 2306, 2307, 2308, 2309, 2310, 2311, 2312, 2313, 2314, 2315, 2316, 2317, 2318, 2319, 2320, 2321, 2322, 2323, 2324, 2325, 2326, 2327, 2328, 2329, 2330, 2331, 2332, 2333, 2334, 2335, 2336, 2337, 2338, 2339, 2340, 2341, 2342, 2343, 2344, 2345, 2346, 2347, 2348, 2349, 2350, 2351, 2352, 2353, 2354, 2355, 2356, 2357, 2358, 2359, 2360, 2361, 2362, 2363, 2364, 2365, 2366, 2367, 2368, 2369, 2370, 2371, 2372, 2373, 2374, 2375, 2376, 2377, 2378, 2379, 2380, 2381, 2382, 2383, 2384, 2385, 2386, 2387, 2388, 2389, 2390, 2391, 2392, 2393, 2394, 2395, 2396, 2397, 2398, 2399, 2400, 2401, 2402, 2403, 2404, 2405, 2406, 2407, 2408, 2409, 2410, 2411, 2412, 2413, 2414, 2415, 2416, 2417, 2418, 2419, 2420, 2421, 2422, 2423, 2424, 2425, 2426, 2427, 2428, 2429, 2430, 2431, 2432, 2433, 2434, 2435, 2436, 2437, 2438, 2439, 2440, 2441, 2442, 2443, 2444, 2445, 2446, 2447, 2448, 2449, 2450, 2451, 2452, 2453, 2454, 2455, 2456, 2457, 2458, 2459, 2460, 2461, 2462, 2463, 2464, 2465, 2466, 2467, 2468, 2469, 2470, 2471, 2472, 2473, 2474, 2475, 2476, 2477, 2478, 2479, 2480, 2481, 2482, 2483, 2484, 2485, 2486, 2487, 2488, 2489, 2490, 2491, 2492, 2493, 2494, 2495, 2496, 2497, 2498, 2499, 2500, 2501, 2502, 2503, 2504, 2505, 2506, 2507, 2508, 2509, 2510, 2511, 2512, 2513, 2514, 2515, 2516, 2517, 2518, 2519, 2520, 2521, 2522, 2523, 2524, 2525, 2526, 2527, 2528, 2529, 2530, 2531, 2532, 2533, 2534, 2535, 2536, 2537, 2538, 2539, 2540, 2541, 2542, 2543, 2544, 2545, 2546, 2547, 2548, 2549, 2550, 2551, 2552, 2553, 2554, 2555, 2556, 2557, 2558, 2559, 2560, 2561, 2562, 2563, 2564, 2565, 2566, 2567, 2568, 2569, 2570, 2571, 2572, 2573, 2574, 2575, 2576, 2577, 2578, 2579, 2580, 2581, 2582, 2583, 2584, 2585, 2586, 2587, 2588, 2589, 2590, 2591, 2592, 2593, 2594, 2595, 2596, 2597, 2598, 2599, 2600, 2601, 2602, 2603, 2604, 2605, 2606, 2607, 2608, 2609, 2610, 2611, 2612, 2613, 2614, 2615, 2616, 2617, 2618, 2619, 2620, 2621, 2622, 2623, 2624, 2625, 2626, 2627, 2628, 2629, 2630, 2631, 2632, 2633, 2634, 2635, 2636, 2637, 2638, 2639, 2640, 2641, 2642, 2643, 2644, 2645, 2646, 2647, 2648, 2649, 2650, 2651, 2652, 2653, 2654, 2655, 2656, 2657, 2658, 2659, 2660, 2661, 2662, 2663, 2664, 2665, 2666, 2667, 2668, 2669, 2670, 2671, 2672, 2673, 2674, 2675, 2676, 2677, 2678, 2679, 2680, 2681, 2682, 2683, 2684, 2685, 2686, 2687, 2688, 2689, 2690, 2691, 2692, 2693, 2694, 2695, 2696, 2697, 2698, 2699, 2700, 2701, 2702, 2703, 2704, 2705, 2706, 2707, 2708, 2709, 2710, 2711, 2712, 2713, 2714, 2715, 2716, 2717, 2718, 2719, 2720, 2721, 2722, 2723, 2724, 2725, 2726, 2727, 2728, 2729, 2730, 2731, 2732, 2733, 2734, 2735, 2736, 2737, 2738, 2739, 2740, 2741, 2742, 2743, 2744, 2745, 2746, 2747, 2748, 2749, 2750, 2751, 2752, 2753, 2754, 2755, 2756, 2757, 2758, 2759, 2760, 2761, 2762, 2763, 2764, 2765, 2766, 2767, 2768, 2769, 2770, 2771, 2772, 2773, 2774, 2775, 2776, 2777, 2778, 2779, 2780, 2781, 2782, 2783, 2784, 2785, 2786, 2787, 2788, 2789, 2790, 2791, 2792, 2793, 2794, 2795, 2796, 2797, 2798, 2799, 2800, 2801, 2802, 2803, 2804, 2805, 2806, 2807, 2808, 2809, 2810, 2811, 2812, 2813, 2814, 2815, 2816, 2817, 2818, 2819, 2820, 2821, 2822, 2823, 2824, 2825, 2826, 2827, 2828, 2829, 2830, 2831, 2832, 2833, 2834, 2835, 2836, 2837, 2838, 2839, 2840, 2841, 2842, 2843, 2844, 2845, 2846, 2847, 2848, 2849, 2850, 2851, 2852, 2853, 2854, 2855, 2856, 2857, 2858, 2859, 2860, 2861, 2862, 2863, 2864, 2865, 2866, 2867, 2868, 2869, 2870, 2871, 2872, 2873, 2874, 2875, 2876, 2877, 2878, 2879, 2880, 2881, 2882, 2883, 2884, 2885, 2886, 2887, 2888, 2889, 2890, 2891, 2892, 2893, 2894, 2895, 2896, 2897, 2898, 2899, 2900, 2901, 2902, 2903, 2904, 2905, 2906, 2907, 2908, 2909, 2910, 2911, 2912, 2913, 2914, 2915, 2916, 2917, 2918, 2919, 2920, 2921, 2922, 2923, 2924, 2925, 2926, 2927, 2928, 2929, 2930, 2931, 2932, 2933, 2934, 2935, 2936, 2937, 2938, 2939, 2940, 2941, 2942, 2943, 2944, 2945, 2946, 2947, 2948, 2949, 2950, 2951, 2952, 2953, 2954, 2955, 2956, 2957, 2958, 2959, 2960, 2961, 2962, 2963, 2964, 2965, 2966, 2967, 2968, 2969, 2970, 2971, 2972, 2973, 2974, 2975, 2976, 2977, 2978, 2979, 2980, 2981, 2982, 2983, 2984, 2985, 2986, 2987, 2988, 2989, 2990, 2991, 2992, 2993, 2994, 2995, 2996, 2997, 2998, 2999, 3000, 3001, 3002, 3003, 3004, 3005, 3006, 3007, 3008, 3009, 3010, 3011, 3012, 3013, 3014, 3015, 3016, 3017, 3018, 3019, 3020, 3021, 3022, 3023, 3024, 3025, 3026, 3027, 3028, 3029, 3030, 3031, 3032, 3033, 3034, 3035, 3036, 3037, 3038, 3039, 3040, 3041, 3042, 3043, 3044, 3045, 3046, 3047, 3048, 3049, 3050, 3051, 3052, 3053, 3054, 3055, 3056, 3057, 3058, 3059, 3060, 3061, 3062, 3063, 3064, 3065, 3066, 3067, 3068, 3069, 3070, 3071, 3072, 3073, 3074, 3075, 3076, 3077, 3078, 3079, 3080, 3081, 3082, 3083, 3084, 3085, 3086, 3087, 3088, 3089, 3090, 3091, 3092, 3093, 3094, 3095, 3096, 3097, 3098, 3099, 3100, 3101, 3102, 3103, 3104, 3105, 3106, 3107, 3108, 3109, 3110, 3111, 3112, 3113, 3114, 3115, 3116, 3117, 3118, 3119, 3120, 3121, 3122, 3123, 3124, 3125, 3126, 3127, 3128, 3129, 3130, 3131, 3132, 3133, 3134, 3135, 3136, 3137, 3138, 3139, 3140, 3141, 3142, 3143, 3144, 3145, 3146, 3147, 3148, 3149, 3150, 3151, 3152, 3153, 3154, 3155, 3156, 3157, 3158, 3159, 3160, 3161, 3162, 3163, 3164, 3165, 3166, 3167, 3168, 3169, 3170, 3171, 3172, 3173, 3174, 3175, 3176, 3177, 3178, 3179, 3180, 3181, 3182, 3183, 3184, 3185, 3186, 3187, 3188, 3189, 3190, 3191, 3192, 3193, 3194, 3195, 3196, 3197, 3198, 3199, 3200, 3201, 3202, 3203, 3204, 3205, 3206, 3207, 3208, 3209, 3210, 3211, 3212, 3213, 3214, 3215, 3216, 3217, 3218, 3219, 3220, 3221, 3222, 3223, 3224, 3225, 3226, 3227, 3228, 3229, 3230, 3231, 3232, 3233, 3234, 3235, 3236, 3237, 3238, 3239, 3240, 3241, 3242, 3243, 3244, 3245, 3246, 3247, 3248, 3249, 3250, 3251, 3252, 3253, 3254, 3255, 3256, 3257, 3258, 3259, 3260, 3261, 3262, 3263, 3264, 3265, 3266, 3267, 3268, 3269, 3270, 3271, 3272, 3273, 3274, 3275, 3276, 3277, 3278, 3279, 3280, 3281, 3282, 3283, 3284, 3285, 3286, 3287, 3288, 3289, 3290, 3291, 3292, 3293, 3294, 3295, 3296, 3297, 3298, 3299, 3300, 3301, 3302, 3303, 3304, 3305, 3306, 3307, 3308, 3309, 3310, 3311, 3312, 3313, 3314, 3315, 3316, 3317, 3318, 3319, 3320, 3321, 3322, 3323, 3324, 3325, 3326, 3327, 3328, 3329, 3330, 3331, 3332, 3333, 3334, 3335, 3336, 3337, 3338, 3339, 3340, 3341, 3342, 3343, 3344, 3345, 3346, 3347, 3348, 3349, 3350, 3351, 3352, 3353, 3354, 3355, 3356, 3357, 3358, 3359, 3360, 3361, 3362, 3363, 3364, 3365, 3366, 3367, 3368, 3369, 3370, 3371, 3372, 3373, 3374, 3375, 3376, 3377, 3378, 3379, 3380, 3381, 3382, 3383, 3384, 3385, 3386, 3387, 3388, 3389, 3390, 3391, 3392, 3393, 3394, 3395, 3396, 3397, 3398, 3399, 3400, 3401, 3402, 3403, 3404, 3405, 3406, 3407, 3408, 3409, 3410, 3411, 3412, 3413, 3414, 3415, 3416, 3417, 3418, 3419, 3420, 3421, 3422, 3423, 3424, 3425, 3426, 3427, 3428, 3429, 3430, 3431, 3432, 3433, 3434, 3435, 3436, 3437, 3438, 3439, 3440, 3441, 3442, 3443, 3444, 3445, 3446, 3447, 3448, 3449, 3450, 3451, 3452, 3453, 3454, 3455, 3456, 3457, 3458, 3459, 3460, 3461, 3462, 3463, 3464, 3465, 3466, 3467, 3468, 3469, 3470, 3471, 3472, 3473, 3474, 3475, 3476, 3477, 3478, 3479, 3480, 3481, 3482, 3483, 3484, 3485, 3486, 3487, 3488, 3489, 3490, 3491, 3492, 3493, 3494, 3495, 3496, 3497, 3498, 3499, 3500, 3501, 3502, 3503, 3504, 3505, 3506, 3507, 3508, 3509, 3510, 3511, 3512, 3513, 3514, 3515, 3516, 3517, 3518, 3519, 3520, 3521, 3522, 3523, 3524, 3525, 3526, 3527, 3528, 3529, 3530, 3531, 3532, 3533, 3534, 3535, 3536, 3537, 3538, 3539, 3540, 3541, 3542, 3543, 3544, 3545, 3546, 3547, 3548, 3549, 3550, 3551, 3552, 3553, 3554, 3555, 3556, 3557, 3558, 3559, 3560, 3561, 3562, 3563, 3564, 3565, 3566, 3567, 3568, 3569, 3570, 3571, 3572, 3573, 3574, 3575, 3576, 3577, 3578, 3579, 3580, 3581, 3582, 3583, 3584, 3585, 3586, 3587, 3588, 3589, 3590, 3591, 3592, 3593, 3594, 3595, 3596, 3597, 3598, 3599, 3600, 3601, 3602, 3603, 3604, 3605, 3606, 3607, 3608, 3609, 3610, 3611, 3612, 3613, 3614, 3615, 3616, 3617, 3618, 3619, 3620, 3621, 3622, 3623, 3624, 3625, 3626, 3627, 3628, 3629, 3630, 3631, 3632, 3633, 3634, 3635, 3636, 3637, 3638, 3639, 3640, 3641, 3642, 3643, 3644, 3645, 3646, 3647, 3648, 3649, 3650, 3651, 3652, 3653, 3654, 3655, 3656, 3657, 3658, 3659, 3660, 3661, 3662, 3663, 3664, 3665, 3666, 3667, 3668, 3669, 3670, 3671, 3672, 3673, 3674, 3675, 3676, 3677, 3678, 3679, 3680, 3681, 3682, 3683, 3684, 3685, 3686, 3687, 3688, 3689, 3690, 3691, 3692, 3693, 3694, 3695, 3696, 3697, 3698, 3699, 3700, 3701, 3702, 3703, 3704, 3705, 3706, 3707, 3708, 3709, 3710, 3711, 3712, 3713, 3714, 3715, 3716, 3717, 3718, 3719, 3720, 3721, 3722, 3723, 3724, 3725, 3726, 3727, 3728, 3729, 3730, 3731, 3732, 3733, 3734, 3735, 3736, 3737, 3738, 3739, 3740, 3741, 3742, 3743, 3744, 3745, 3746, 3747, 3748, 3749, 3750, 3751, 3752, 3753, 3754, 3755, 3756, 3757, 3758, 3759, 3760, 3761, 3762, 3763, 3764, 3765, 3766, 3767, 3768, 3769, 3770, 3771, 3772, 3773, 3774, 3775, 3776, 3777, 3778, 3779, 3780, 3781, 3782, 3783, 3784, 3785, 3786, 3787, 3788, 3789, 3790, 3791, 3792, 3793, 3794, 3795, 3796, 3797, 3798, 3799, 3800, 3801, 3802, 3803, 3804, 3805, 3806, 3807, 3808, 3809, 3810, 3811, 3812, 3813, 3814, 3815, 3816, 3817, 3818, 3819, 3820, 3821, 3822, 3823, 3824, 3825, 3826, 3827, 3828, 3829, 3830, 3831, 3832, 3833, 3834, 3835, 3836, 3837, 3838, 3839, 3840, 3841, 3842, 3843, 3844, 3845, 3846, 3847, 3848, 3849, 3850, 3851, 3852, 3853, 3854, 3855, 3856, 3857, 3858, 3859, 3860, 3861, 3862, 3863, 3864, 3865, 3866, 3867, 3868, 3869, 3870, 3871, 3872, 3873, 3874, 3875, 3876, 3877, 3878, 3879, 3880, 3881, 3882, 3883, 3884, 3885, 3886, 3887, 3888, 3889, 3890, 3891, 3892, 3893, 3894, 3895, 3896, 3897, 3898, 3899, 3900, 3901, 3902, 3903, 3904, 3905, 3906, 3907, 3908, 3909, 3910, 3911, 3912, 3913, 3914, 3915, 3916, 3917, 3918, 3919, 3920, 3921, 3922, 3923, 3924, 3925, 3926, 3927, 3928, 3929, 3930, 3931, 3932, 3933, 3934, 3935, 3936, 3937, 3938, 3939, 3940, 3941, 3942, 3943, 3944, 3945, 3946, 3947, 3948, 3949, 3950, 3951, 3952, 3953, 3954, 3955, 3956, 3957, 3958, 3959, 3960, 3961, 3962, 3963, 3964, 3965, 3966, 3967, 3968, 3969, 3970, 3971, 3972, 3973, 3974, 3975, 3976, 3977, 3978, 3979, 3980, 3981, 3982, 3983, 3984, 3985, 3986, 3987, 3988, 3989, 3990, 3991, 3992, 3993, 3994, 3995, 3996, 3997, 3998, 3999, 4000, 4001, 4002, 4003], \"y\": [2, 5, 7, 6, 2, 2, 7, 1, 8, 2, 2, 2, 7, 1, 1, 1, 2, 2, 6, 2, 6, 2, 8, 1, 2, 1, 1, 1, 7, 2, 3, 7, 5, 2, 2, 1, 6, 1, 3, 1, 3, 5, 2, 6, 1, 6, 6, 2, 6, 1, 1, 1, 2, 5, 2, 2, 3, 1, 1, 3, 2, 2, 1, 0, 1, 2, 2, 6, 1, 3, 5, 6, 1, 8, 2, 5, 1, 4, 1, 5, 4, 1, 1, 5, 5, 2, 2, 1, 3, 2, 6, 6, 2, 5, 1, 5, 5, 3, 5, 6, 2, 7, 2, 2, 2, 4, 1, 6, 1, 4, 6, 5, 2, 1, 1, 4, 3, 7, 6, 1, 1, 7, 1, 6, 1, 2, 1, 5, 5, 8, 5, 4, 6, 7, 1, 6, 6, 9, 8, 1, 6, 1, 5, 8, 1, 2, 1, 2, 2, 8, 1, 7, 2, 1, 7, 1, 6, 2, 8, 4, 6, 8, 1, 6, 5, 10, 1, 3, 5, 0, 2, 3, 2, 1, 6, 3, 7, 1, 6, 1, 5, 6, 1, 2, 2, 3, 4, 3, 0, 2, 4, 4, 1, 1, 5, 5, 1, 1, 5, 2, 1, 4, 0, 1, 2, 7, 6, 2, 4, 7, 8, 3, 1, 1, 6, 2, 10, 7, 1, 1, 1, 1, 1, 8, 2, 6, 6, 2, 1, 2, 3, 1, 1, 6, 1, 8, 5, 2, 4, 8, 1, 1, 1, 6, 2, 2, 6, 0, 2, 2, 1, 1, 1, 3, 5, 1, 0, 2, 1, 7, 2, 10, 1, 1, 2, 2, 2, 8, 1, 3, 2, 5, 6, 5, 2, 0, 1, 7, 1, 1, 5, 6, 7, 1, 0, 3, 2, 3, 3, 8, 2, 6, 1, 1, 7, 2, 3, 1, 4, 2, 1, 6, 1, 1, 1, 5, 6, 1, 6, 2, 1, 2, 6, 2, 6, 5, 3, 5, 1, 8, 5, 5, 6, 5, 7, 7, 6, 1, 6, 4, 2, 3, 1, 1, 2, 2, 4, 8, 7, 2, 2, 8, 5, 5, 1, 2, 2, 1, 7, 5, 5, 1, 5, 1, 1, 2, 6, 1, 1, 8, 6, 1, 2, 6, 1, 1, 1, 7, 2, 5, 5, 6, 6, 1, 3, 8, 1, 3, 1, 3, 8, 5, 1, 2, 7, 1, 1, 7, 1, 5, 1, 1, 6, 2, 2, 2, 3, 4, 1, 3, 2, 1, 1, 2, 1, 1, 5, 2, 8, 8, 5, 3, 2, 2, 6, 6, 7, 5, 0, 6, 5, 6, 6, 5, 1, 1, 1, 5, 2, 2, 2, 2, 1, 1, 5, 2, 1, 3, 2, 5, 2, 2, 1, 3, 1, 5, 2, 1, 5, 6, 6, 5, 2, 1, 1, 1, 6, 1, 2, 1, 3, 5, 1, 6, 2, 1, 1, 8, 7, 1, 1, 7, 1, 5, 2, 4, 3, 6, 8, 0, 6, 1, 2, 1, 1, 6, 7, 6, 1, 8, 3, 0, 1, 2, 2, 1, 1, 6, 1, 4, 1, 5, 6, 0, 6, 3, 5, 0, 0, 2, 6, 2, 0, 2, 1, 5, 7, 2, 8, 3, 2, 6, 6, 2, 1, 1, 5, 1, 5, 5, 2, 7, 1, 3, 2, 6, 7, 1, 2, 1, 0, 0, 2, 7, 5, 1, 7, 1, 6, 5, 5, 1, 5, 2, 6, 8, 9, 1, 7, 1, 2, 1, 1, 2, 3, 6, 3, 2, 3, 2, 3, 2, 5, 6, 1, 1, 4, 2, 6, 1, 1, 5, 2, 2, 1, 2, 2, 1, 1, 6, 1, 2, 0, 2, 8, 4, 1, 2, 1, 7, 6, 3, 2, 1, 1, 2, 2, 6, 2, 1, 1, 4, 6, 2, 1, 7, 7, 7, 1, 2, 0, 7, 2, 1, 5, 5, 3, 7, 9, 5, 7, 5, 5, 1, 1, 6, 1, 7, 1, 5, 6, 5, 5, 1, 7, 3, 2, 3, 3, 2, 3, 5, 2, 0, 1, 6, 1, 6, 2, 1, 6, 1, 4, 1, 1, 7, 6, 8, 5, 2, 2, 5, 2, 1, 0, 5, 1, 1, 4, 6, 5, 5, 7, 1, 2, 4, 6, 2, 8, 1, 5, 3, 6, 2, 0, 6, 7, 4, 1, 4, 6, 1, 1, 0, 1, 2, 5, 2, 3, 7, 6, 7, 3, 1, 5, 6, 2, 1, 7, 2, 1, 1, 7, 1, 2, 2, 2, 9, 1, 6, 1, 5, 5, 1, 0, 1, 5, 1, 2, 1, 6, 1, 4, 8, 2, 7, 4, 1, 2, 2, 7, 2, 3, 7, 1, 3, 5, 2, 2, 4, 2, 1, 1, 5, 1, 0, 6, 6, 1, 8, 1, 5, 7, 6, 3, 5, 1, 0, 3, 2, 1, 6, 1, 1, 7, 5, 1, 2, 8, 2, 2, 6, 3, 6, 5, 7, 1, 3, 8, 4, 6, 1, 0, 3, 5, 1, 3, 1, 0, 1, 2, 7, 0, 1, 1, 1, 7, 1, 7, 2, 2, 5, 4, 3, 4, 8, 0, 7, 7, 1, 2, 1, 1, 5, 2, 1, 7, 1, 7, 2, 6, 5, 7, 7, 1, 6, 2, 2, 7, 1, 2, 0, 10, 8, 7, 5, 3, 7, 6, 0, 2, 7, 2, 3, 1, 0, 1, 5, 4, 1, 6, 7, 7, 5, 4, 1, 3, 0, 6, 1, 6, 6, 4, 3, 5, 7, 2, 3, 2, 1, 8, 6, 1, 8, 1, 5, 2, 2, 4, 1, 4, 1, 4, 2, 5, 2, 5, 3, 5, 1, 1, 2, 7, 2, 3, 2, 7, 1, 2, 2, 1, 7, 7, 1, 2, 6, 6, 1, 5, 5, 2, 7, 6, 2, 6, 1, 2, 1, 4, 0, 4, 2, 0, 6, 4, 1, 5, 4, 2, 2, 2, 5, 0, 2, 2, 8, 1, 1, 5, 1, 7, 5, 5, 1, 10, 6, 1, 1, 2, 5, 1, 1, 6, 1, 1, 2, 2, 1, 1, 1, 2, 1, 7, 1, 2, 2, 6, 2, 2, 1, 6, 2, 2, 10, 1, 1, 5, 3, 6, 2, 8, 1, 1, 10, 6, 1, 5, 5, 6, 1, 8, 2, 1, 4, 1, 5, 2, 8, 5, 5, 1, 1, 6, 8, 1, 5, 5, 3, 2, 1, 1, 1, 1, 6, 1, 1, 5, 2, 4, 5, 7, 1, 4, 0, 1, 1, 5, 1, 2, 5, 2, 2, 1, 5, 5, 1, 6, 5, 6, 0, 1, 2, 1, 3, 6, 1, 0, 7, 7, 1, 1, 1, 8, 0, 3, 7, 2, 7, 2, 2, 1, 2, 6, 1, 2, 1, 3, 2, 1, 6, 7, 3, 4, 6, 3, 2, 1, 0, 4, 1, 1, 7, 1, 5, 1, 1, 2, 5, 3, 1, 5, 1, 1, 1, 1, 0, 1, 1, 6, 1, 4, 1, 7, 1, 1, 1, 6, 5, 1, 6, 2, 3, 1, 1, 5, 1, 6, 3, 7, 5, 2, 2, 2, 5, 2, 1, 1, 4, 6, 2, 3, 2, 1, 1, 5, 1, 5, 2, 2, 4, 5, 2, 6, 7, 2, 3, 1, 6, 1, 1, 6, 5, 1, 6, 2, 4, 1, 2, 1, 5, 1, 2, 5, 1, 1, 2, 1, 1, 1, 5, 1, 1, 2, 8, 1, 1, 5, 1, 1, 1, 1, 1, 2, 5, 1, 2, 0, 1, 1, 1, 6, 1, 2, 1, 6, 2, 5, 5, 2, 6, 1, 8, 3, 1, 1, 2, 2, 1, 1, 2, 10, 1, 8, 0, 6, 0, 7, 3, 1, 1, 6, 2, 1, 0, 2, 6, 2, 5, 5, 1, 2, 5, 1, 2, 2, 1, 6, 1, 3, 7, 0, 7, 2, 2, 1, 7, 5, 1, 6, 2, 10, 3, 6, 1, 4, 3, 5, 2, 4, 1, 0, 6, 1, 2, 7, 6, 1, 1, 2, 1, 0, 2, 7, 8, 6, 1, 0, 1, 5, 4, 0, 6, 2, 1, 1, 2, 8, 5, 5, 7, 6, 4, 5, 5, 2, 2, 10, 7, 2, 1, 3, 6, 1, 6, 2, 0, 1, 8, 1, 1, 6, 1, 1, 1, 2, 0, 6, 1, 5, 1, 1, 1, 2, 3, 2, 5, 7, 3, 0, 1, 3, 0, 5, 2, 6, 2, 1, 0, 2, 6, 4, 2, 2, 2, 2, 6, 1, 2, 2, 7, 2, 2, 1, 2, 2, 1, 8, 1, 5, 0, 1, 3, 7, 5, 6, 2, 5, 5, 0, 1, 1, 3, 2, 6, 1, 2, 4, 2, 2, 2, 6, 1, 5, 5, 4, 5, 8, 1, 1, 1, 7, 2, 6, 1, 1, 6, 8, 1, 2, 1, 6, 1, 1, 1, 9, 6, 1, 7, 8, 2, 5, 7, 2, 2, 7, 2, 6, 2, 1, 2, 1, 2, 2, 1, 4, 5, 6, 1, 2, 1, 8, 7, 6, 7, 2, 0, 1, 1, 2, 2, 1, 5, 1, 2, 2, 7, 6, 5, 1, 1, 2, 2, 5, 6, 1, 0, 6, 2, 5, 1, 4, 6, 2, 1, 4, 0, 10, 5, 1, 0, 8, 1, 1, 5, 7, 1, 0, 8, 2, 5, 2, 5, 3, 4, 2, 5, 5, 1, 5, 1, 6, 0, 7, 2, 7, 2, 2, 4, 2, 7, 7, 5, 1, 0, 6, 1, 6, 6, 6, 1, 1, 7, 1, 1, 7, 6, 0, 5, 0, 1, 7, 8, 2, 2, 2, 1, 1, 5, 0, 6, 6, 9, 1, 0, 2, 2, 1, 1, 1, 2, 2, 4, 5, 2, 6, 1, 5, 2, 5, 4, 1, 6, 5, 1, 6, 0, 7, 2, 3, 1, 5, 2, 6, 5, 7, 6, 1, 1, 1, 2, 3, 1, 1, 7, 0, 1, 1, 1, 1, 5, 1, 7, 2, 5, 1, 1, 6, 1, 5, 5, 5, 1, 5, 1, 1, 1, 5, 6, 8, 2, 7, 7, 2, 3, 2, 0, 1, 2, 6, 6, 2, 2, 2, 1, 4, 6, 5, 1, 6, 1, 1, 1, 2, 1, 7, 10, 1, 5, 5, 5, 1, 0, 6, 9, 1, 6, 4, 3, 7, 2, 2, 2, 6, 4, 5, 6, 0, 2, 5, 1, 5, 3, 1, 1, 1, 1, 1, 1, 2, 1, 6, 6, 1, 1, 1, 1, 5, 8, 1, 5, 1, 1, 2, 1, 1, 5, 1, 5, 1, 1, 1, 1, 1, 1, 5, 7, 0, 6, 1, 1, 2, 2, 8, 2, 2, 3, 1, 8, 1, 5, 3, 7, 7, 2, 6, 1, 2, 1, 1, 6, 8, 1, 2, 5, 2, 1, 3, 3, 1, 2, 1, 1, 6, 7, 2, 2, 1, 1, 5, 1, 1, 3, 2, 2, 7, 3, 2, 0, 6, 6, 5, 2, 7, 6, 5, 6, 3, 2, 5, 1, 2, 1, 1, 7, 5, 3, 2, 1, 1, 1, 7, 0, 1, 6, 5, 5, 6, 2, 2, 5, 5, 1, 2, 2, 1, 2, 1, 2, 1, 2, 5, 1, 1, 7, 2, 3, 7, 6, 6, 1, 3, 5, 7, 0, 1, 1, 1, 8, 1, 3, 1, 6, 1, 3, 1, 1, 6, 6, 8, 2, 2, 1, 6, 6, 7, 5, 7, 4, 2, 6, 7, 8, 10, 2, 1, 2, 1, 0, 1, 1, 5, 2, 6, 7, 6, 5, 3, 6, 2, 4, 1, 2, 1, 1, 2, 5, 2, 2, 7, 5, 1, 1, 5, 6, 2, 2, 2, 2, 7, 9, 6, 6, 1, 8, 5, 7, 4, 3, 1, 1, 1, 7, 0, 2, 7, 1, 5, 3, 1, 1, 6, 3, 6, 1, 2, 0, 1, 1, 6, 6, 1, 8, 4, 8, 1, 3, 2, 1, 5, 2, 1, 1, 5, 6, 6, 2, 4, 5, 1, 1, 6, 1, 7, 6, 2, 2, 5, 1, 5, 1, 2, 7, 7, 6, 1, 6, 2, 1, 6, 1, 8, 1, 7, 1, 1, 5, 1, 2, 7, 1, 3, 0, 2, 1, 6, 4, 2, 2, 1, 5, 1, 1, 6, 3, 0, 1, 6, 2, 1, 1, 2, 1, 7, 1, 2, 1, 5, 2, 1, 9, 1, 5, 1, 7, 2, 2, 1, 5, 2, 2, 6, 8, 7, 6, 2, 3, 2, 1, 1, 3, 6, 5, 7, 1, 2, 1, 5, 6, 1, 1, 1, 2, 4, 2, 3, 0, 7, 1, 2, 1, 6, 2, 7, 1, 2, 5, 3, 3, 5, 2, 5, 2, 1, 0, 2, 2, 3, 3, 5, 5, 4, 1, 0, 1, 1, 0, 5, 1, 1, 8, 1, 1, 2, 5, 5, 7, 10, 2, 2, 1, 3, 0, 1, 1, 1, 6, 7, 7, 2, 2, 6, 2, 0, 1, 6, 1, 7, 7, 6, 2, 2, 1, 5, 2, 1, 0, 6, 1, 8, 1, 3, 6, 6, 2, 3, 1, 2, 3, 4, 2, 1, 5, 3, 3, 1, 2, 7, 2, 2, 2, 0, 1, 1, 4, 2, 2, 2, 2, 1, 7, 2, 6, 1, 1, 2, 6, 1, 4, 1, 5, 5, 3, 6, 2, 1, 5, 7, 1, 1, 7, 7, 1, 8, 1, 5, 6, 2, 4, 0, 1, 1, 2, 3, 5, 4, 5, 1, 6, 2, 6, 1, 7, 0, 4, 7, 2, 6, 5, 2, 6, 0, 1, 2, 1, 3, 8, 6, 5, 1, 6, 1, 5, 2, 1, 5, 2, 2, 5, 6, 2, 7, 1, 1, 2, 5, 8, 1, 5, 1, 1, 2, 3, 7, 1, 2, 1, 2, 2, 2, 4, 3, 2, 2, 4, 4, 1, 1, 4, 2, 1, 6, 1, 1, 2, 6, 1, 4, 2, 8, 2, 6, 1, 1, 2, 2, 3, 2, 5, 2, 2, 6, 7, 1, 1, 1, 1, 1, 5, 6, 6, 1, 2, 5, 5, 2, 6, 5, 6, 0, 7, 1, 2, 6, 6, 4, 2, 7, 1, 0, 0, 6, 7, 2, 2, 1, 2, 3, 1, 1, 2, 1, 1, 7, 5, 2, 1, 0, 1, 2, 1, 5, 3, 1, 1, 2, 7, 1, 1, 1, 2, 1, 5, 2, 6, 8, 6, 2, 2, 8, 7, 5, 2, 2, 7, 1, 1, 6, 1, 1, 7, 1, 5, 6, 4, 5, 2, 6, 6, 1, 1, 2, 5, 0, 1, 2, 2, 2, 4, 2, 2, 1, 2, 1, 1, 7, 6, 6, 6, 3, 2, 6, 1, 1, 2, 7, 5, 2, 2, 0, 8, 5, 6, 0, 1, 3, 5, 2, 1, 1, 1, 8, 2, 5, 0, 1, 2, 2, 7, 8, 6, 4, 2, 3, 2, 4, 1, 1, 5, 1, 2, 5, 2, 1, 1, 7, 2, 7, 5, 5, 2, 2, 3, 7, 2, 1, 2, 6, 6, 7, 2, 7, 2, 2, 0, 7, 4, 6, 3, 8, 1, 6, 1, 8, 2, 7, 2, 5, 1, 8, 3, 2, 5, 4, 1, 1, 3, 1, 2, 5, 5, 1, 0, 6, 3, 2, 1, 0, 8, 6, 4, 2, 2, 5, 2, 2, 2, 7, 4, 2, 1, 4, 1, 5, 5, 6, 2, 1, 7, 1, 5, 4, 2, 2, 6, 8, 2, 0, 1, 7, 0, 5, 1, 5, 6, 4, 2, 1, 7, 2, 5, 5, 1, 6, 2, 1, 6, 9, 2, 1, 6, 2, 1, 1, 7, 1, 3, 5, 0, 4, 5, 1, 5, 4, 2, 6, 1, 5, 5, 1, 1, 2, 2, 5, 6, 7, 2, 2, 6, 2, 1, 1, 5, 2, 7, 5, 2, 10, 2, 8, 2, 1, 8, 2, 1, 1, 5, 1, 6, 0, 2, 6, 2, 2, 7, 1, 1, 1, 7, 5, 2, 2, 5, 10, 5, 5, 2, 1, 6, 1, 1, 7, 5, 2, 6, 0, 0, 5, 3, 1, 1, 1, 1, 2, 3, 3, 7, 2, 7, 2, 8, 1, 2, 5, 4, 1, 2, 2, 2, 2, 1, 1, 6, 1, 2, 2, 2, 1, 2, 5, 8, 5, 1, 9, 7, 0, 5, 0, 2, 1, 5, 6, 0, 2, 1, 2, 5, 7, 1, 1, 1, 8, 2, 1, 0, 0, 1, 3, 1, 5, 0, 1, 2, 7, 5, 2, 6, 1, 2, 4, 1, 2, 3, 1, 0, 3, 7, 2, 6, 5, 6, 1, 7, 2, 2, 8, 5, 7, 2, 3, 1, 8, 5, 1, 2, 8, 3, 4, 3, 4, 1, 6, 1, 1, 4, 7, 6, 1, 1, 1, 2, 1, 1, 1, 2, 1, 8, 3, 0, 7, 2, 1, 2, 1, 7, 7, 1, 2, 2, 1, 1, 2, 1, 1, 1, 1, 6, 6, 8, 3, 2, 7, 2, 2, 5, 2, 0, 1, 1, 5, 7, 3, 6, 5, 5, 6, 1, 1, 2, 1, 7, 4, 6, 7, 5, 1, 2, 8, 2, 6, 3, 10, 5, 0, 2, 1, 7, 1, 2, 2, 6, 2, 2, 2, 10, 6, 1, 0, 5, 5, 1, 0, 2, 1, 6, 1, 1, 2, 3, 2, 5, 4, 0, 6, 5, 2, 5, 6, 1, 8, 2, 1, 4, 1, 2, 1, 2, 1, 6, 3, 5, 2, 6, 2, 1, 1, 2, 1, 1, 2, 5, 7, 1, 1, 4, 1, 7, 2, 5, 2, 2, 8, 7, 7, 2, 1, 1, 1, 1, 2, 6, 1, 2, 2, 2, 6, 6, 1, 3, 2, 1, 5, 1, 8, 8, 7, 1, 1, 1, 6, 5, 1, 1, 3, 2, 1, 0, 1, 6, 2, 7, 1, 5, 1, 8, 7, 6, 7, 2, 2, 5, 3, 1, 1, 5, 1, 5, 1, 3, 5, 2, 2, 1, 5, 1, 9, 5, 1, 5, 1, 1, 4, 8, 5, 2, 0, 2, 1, 1, 7, 2, 5, 1, 2, 0, 2, 4, 6, 6, 2, 1, 3, 1, 2, 6, 1, 2, 6, 1, 7, 0, 6, 4, 5, 6, 1, 4, 2, 2, 5, 4, 5, 3, 0, 5, 1, 7, 7, 5, 1, 1, 7, 1, 3, 4, 4, 1, 3, 3, 6, 2, 2, 2, 2, 8, 2, 1, 2, 6, 7, 6, 7, 2, 5, 3, 7, 8, 7, 1, 4, 5, 1, 2, 3, 2, 9, 5, 1, 2, 2, 0, 0, 6, 1, 0, 2, 5, 0, 1, 2, 2, 1, 7, 5, 2, 6, 7, 6, 6, 1, 8, 1, 2, 2, 1, 3, 2, 5, 0, 3, 2, 1, 6, 3, 1, 2, 6, 1, 7, 3, 2, 1, 1, 5, 3, 4, 2, 5, 6, 5, 2, 2, 5, 2, 3, 2, 2, 7, 2, 6, 2, 5, 2, 1, 1, 2, 4, 1, 3, 6, 5, 1, 6, 5, 1, 5, 3, 10, 5, 2, 2, 6, 8, 2, 1, 2, 5, 1, 2, 3, 4, 3, 6, 2, 5, 6, 1, 2, 2, 0, 5, 6, 2, 0, 1, 2, 8, 5, 6, 7, 0, 2, 2, 8, 2, 3, 2, 1, 2, 2, 1, 2, 1, 2, 6, 5, 1, 1, 2, 5, 0, 4, 1, 5, 2, 1, 4, 2, 0, 6, 7, 1, 3, 7, 1, 5, 1, 2, 4, 3, 5, 1, 2, 7, 0, 3, 2, 8, 0, 2, 2, 1, 1, 1, 2, 1, 4, 4, 7, 5, 1, 0, 7, 7, 6, 8, 8, 1, 2, 1, 8, 4, 5, 7, 6, 2, 8, 0, 1, 2, 1, 1, 2, 1, 5, 2, 2, 2, 1, 1, 2, 2, 1, 2, 6, 6, 2, 3, 6, 6, 4, 2, 2, 1, 1, 5, 7, 6, 2, 5, 1, 0, 1, 7, 2, 2, 7, 2, 1, 2, 2, 2, 8, 10, 6, 1, 4, 1, 7, 2, 4, 5, 0, 8, 1, 1, 4, 1, 7, 6, 6, 1, 1, 5, 1, 2, 1, 1, 6, 1, 7, 1, 5, 4, 2, 2, 3, 1, 7, 4, 7, 1, 6, 4, 2, 1, 3, 6, 5, 1, 0, 1, 7, 2, 2, 1, 3, 2, 5, 1, 5, 2, 1, 5, 0, 1, 2, 6, 4, 1, 0, 1, 2, 1, 7, 7, 6, 7, 2, 1, 1, 6, 0, 2, 1, 1, 3, 5, 1, 2, 1, 2, 3, 2, 2, 8, 1, 7, 6, 6, 1, 1, 0, 4, 1, 7, 5, 0, 7, 8, 3, 3, 0, 1, 7, 7, 7, 1, 2, 0, 1, 2, 2, 2, 1, 1, 8, 2, 6, 6, 3, 1, 1, 7, 1, 1, 1, 4, 1, 5, 5, 1, 4, 5, 7, 1, 1, 8, 0, 1, 9, 6, 6, 6, 6, 2, 8, 2, 1, 2, 7, 5, 1, 1, 5, 1, 2, 1, 1, 8, 6, 0, 3, 1, 6, 3, 1, 1, 2, 2, 4, 1, 1, 0, 1, 2, 1, 1, 5, 3, 4, 1, 6, 5, 1, 0, 1, 1, 1, 3, 1, 3, 1, 2, 1, 1, 2, 1, 4, 7, 1, 2, 5, 1, 8, 1, 1, 2, 4, 5, 8, 1, 1, 3, 1, 1, 3, 2, 5, 1, 1, 6, 2, 6, 5, 2, 2, 2, 6, 1, 7, 6, 0, 6, 5, 0, 1, 0, 2, 2, 6, 2, 1, 8, 1, 8, 5, 5, 1, 6, 3, 2, 6, 2, 5, 6, 1, 1, 3, 6, 2, 6, 5, 1, 1, 0, 1, 1, 1, 0, 0, 1, 1, 1, 1, 1, 1, 1, 0, 0, 1, 6, 5, 1, 1, 7, 4, 2, 5, 0, 2, 3, 2, 2, 1, 6, 2, 6, 2, 1, 1, 2, 4, 2, 1, 6, 1, 5, 0, 6, 2, 8, 1, 2, 3, 5, 2, 5, 5, 2, 1, 2, 4, 9, 1, 2, 3, 4, 5, 1, 6, 2, 1, 0, 1, 2, 7, 2, 2, 7, 6, 7, 5, 7, 6, 2, 1, 6, 4, 1, 6, 6, 5, 1, 2, 2, 2, 2, 2, 8, 7, 2, 0, 6, 0, 2, 2, 7, 1, 1, 7, 3, 1, 3, 1, 6, 1, 5, 1, 2, 2, 2, 6, 6, 8, 2, 6, 1, 1, 1, 3, 5, 7, 5, 1, 7, 2, 5, 2, 6, 3, 4, 1, 0, 2, 1, 5, 2, 2, 2, 2, 1, 1, 5, 2, 2, 5, 1, 8, 1, 5, 8, 1, 4, 2, 1, 1, 7, 5, 2, 2, 7, 2, 1, 2, 1, 1, 3, 1, 1, 1, 2, 2, 0, 3, 1, 7, 5, 7, 5, 7, 4, 6, 1, 7, 2, 2, 1, 1, 2, 8, 6, 1, 1, 1, 1, 3, 2, 5, 2, 2, 1, 1, 3, 7, 1, 1, 1, 1, 5, 5, 3, 2, 4, 5, 2, 2, 1, 1, 7, 3, 1, 1, 6, 2, 1, 6, 2, 2, 2, 0, 3, 1, 1, 2, 1, 1, 5, 8, 2, 6, 2, 4, 1, 1, 10, 0, 2, 5, 1, 1, 2, 7, 2, 7, 10, 1, 1, 4, 5, 0, 1, 1, 2, 7, 8, 5, 1, 5, 2, 1, 6, 1, 3, 6, 6, 0, 2, 1, 1, 2, 3, 2, 1, 1, 1, 4, 1, 2, 0, 4, 7, 7, 1, 6, 6, 1, 1, 6, 1, 1, 5, 7, 4, 1, 2, 6, 1, 7, 7, 2, 3, 2, 1, 1, 6, 1, 7, 1, 1, 1, 1, 6, 2, 2, 1, 1, 1, 1, 5, 1, 2, 2, 4, 1, 0, 6, 2, 7, 1, 5, 2, 2, 5, 2, 6, 8, 2, 0, 3, 2, 2, 6, 1, 6, 1, 1, 7, 6, 6, 7, 6, 6, 2, 1, 1, 1, 1, 1, 1, 0, 1, 2, 1, 7, 4, 7, 10, 6, 1, 4, 1, 6, 7, 2, 1, 1, 6, 1, 1, 0, 7, 0, 2, 6, 6, 2, 5, 1, 1, 1, 4, 4, 2, 0, 2, 4, 8, 4, 7, 3, 1, 2, 1, 0, 0, 4, 7, 5, 1, 5, 4, 1, 2, 1, 6, 8, 6, 1, 1, 4, 6, 0, 8, 8, 2, 8, 1, 1, 1, 1, 6, 1, 0, 6, 3, 1, 2, 2, 6, 2, 2, 10, 3, 5, 8, 1, 6, 7, 9, 5, 1, 1, 1, 6, 1, 5, 1, 6, 5, 2, 2, 1, 6, 0, 5, 8, 1, 1, 6, 1, 5, 1, 7, 1, 0, 6, 1, 7, 1, 1, 7, 6, 1, 3, 1, 2, 2, 5, 7, 2, 7, 1, 7, 6]}],\n",
              "                        {\"template\": {\"data\": {\"bar\": [{\"error_x\": {\"color\": \"#2a3f5f\"}, \"error_y\": {\"color\": \"#2a3f5f\"}, \"marker\": {\"line\": {\"color\": \"#E5ECF6\", \"width\": 0.5}}, \"type\": \"bar\"}], \"barpolar\": [{\"marker\": {\"line\": {\"color\": \"#E5ECF6\", \"width\": 0.5}}, \"type\": \"barpolar\"}], \"carpet\": [{\"aaxis\": {\"endlinecolor\": \"#2a3f5f\", \"gridcolor\": \"white\", \"linecolor\": \"white\", \"minorgridcolor\": \"white\", \"startlinecolor\": \"#2a3f5f\"}, \"baxis\": {\"endlinecolor\": \"#2a3f5f\", \"gridcolor\": \"white\", \"linecolor\": \"white\", \"minorgridcolor\": \"white\", \"startlinecolor\": \"#2a3f5f\"}, \"type\": \"carpet\"}], \"choropleth\": [{\"colorbar\": {\"outlinewidth\": 0, \"ticks\": \"\"}, \"type\": \"choropleth\"}], \"contour\": [{\"colorbar\": {\"outlinewidth\": 0, \"ticks\": \"\"}, \"colorscale\": [[0.0, \"#0d0887\"], [0.1111111111111111, \"#46039f\"], [0.2222222222222222, \"#7201a8\"], [0.3333333333333333, \"#9c179e\"], [0.4444444444444444, \"#bd3786\"], [0.5555555555555556, \"#d8576b\"], [0.6666666666666666, \"#ed7953\"], [0.7777777777777778, \"#fb9f3a\"], [0.8888888888888888, \"#fdca26\"], [1.0, \"#f0f921\"]], \"type\": \"contour\"}], \"contourcarpet\": [{\"colorbar\": {\"outlinewidth\": 0, \"ticks\": \"\"}, \"type\": \"contourcarpet\"}], \"heatmap\": [{\"colorbar\": {\"outlinewidth\": 0, \"ticks\": \"\"}, \"colorscale\": [[0.0, \"#0d0887\"], [0.1111111111111111, \"#46039f\"], [0.2222222222222222, \"#7201a8\"], [0.3333333333333333, \"#9c179e\"], [0.4444444444444444, \"#bd3786\"], [0.5555555555555556, \"#d8576b\"], [0.6666666666666666, \"#ed7953\"], [0.7777777777777778, \"#fb9f3a\"], [0.8888888888888888, \"#fdca26\"], [1.0, \"#f0f921\"]], \"type\": \"heatmap\"}], \"heatmapgl\": [{\"colorbar\": {\"outlinewidth\": 0, \"ticks\": \"\"}, \"colorscale\": [[0.0, \"#0d0887\"], [0.1111111111111111, \"#46039f\"], [0.2222222222222222, \"#7201a8\"], [0.3333333333333333, \"#9c179e\"], [0.4444444444444444, \"#bd3786\"], [0.5555555555555556, \"#d8576b\"], [0.6666666666666666, \"#ed7953\"], [0.7777777777777778, \"#fb9f3a\"], [0.8888888888888888, \"#fdca26\"], [1.0, \"#f0f921\"]], \"type\": \"heatmapgl\"}], \"histogram\": [{\"marker\": {\"colorbar\": {\"outlinewidth\": 0, \"ticks\": \"\"}}, \"type\": \"histogram\"}], \"histogram2d\": [{\"colorbar\": {\"outlinewidth\": 0, \"ticks\": \"\"}, \"colorscale\": [[0.0, \"#0d0887\"], [0.1111111111111111, \"#46039f\"], [0.2222222222222222, \"#7201a8\"], [0.3333333333333333, \"#9c179e\"], [0.4444444444444444, \"#bd3786\"], [0.5555555555555556, \"#d8576b\"], [0.6666666666666666, \"#ed7953\"], [0.7777777777777778, \"#fb9f3a\"], [0.8888888888888888, \"#fdca26\"], [1.0, \"#f0f921\"]], \"type\": \"histogram2d\"}], \"histogram2dcontour\": [{\"colorbar\": {\"outlinewidth\": 0, \"ticks\": \"\"}, \"colorscale\": [[0.0, \"#0d0887\"], [0.1111111111111111, \"#46039f\"], [0.2222222222222222, \"#7201a8\"], [0.3333333333333333, \"#9c179e\"], [0.4444444444444444, \"#bd3786\"], [0.5555555555555556, \"#d8576b\"], [0.6666666666666666, \"#ed7953\"], [0.7777777777777778, \"#fb9f3a\"], [0.8888888888888888, \"#fdca26\"], [1.0, \"#f0f921\"]], \"type\": \"histogram2dcontour\"}], \"mesh3d\": [{\"colorbar\": {\"outlinewidth\": 0, \"ticks\": \"\"}, \"type\": \"mesh3d\"}], \"parcoords\": [{\"line\": {\"colorbar\": {\"outlinewidth\": 0, \"ticks\": \"\"}}, \"type\": \"parcoords\"}], \"pie\": [{\"automargin\": true, \"type\": \"pie\"}], \"scatter\": [{\"marker\": {\"colorbar\": {\"outlinewidth\": 0, \"ticks\": \"\"}}, \"type\": \"scatter\"}], \"scatter3d\": [{\"line\": {\"colorbar\": {\"outlinewidth\": 0, \"ticks\": \"\"}}, \"marker\": {\"colorbar\": {\"outlinewidth\": 0, \"ticks\": \"\"}}, \"type\": \"scatter3d\"}], \"scattercarpet\": [{\"marker\": {\"colorbar\": {\"outlinewidth\": 0, \"ticks\": \"\"}}, \"type\": \"scattercarpet\"}], \"scattergeo\": [{\"marker\": {\"colorbar\": {\"outlinewidth\": 0, \"ticks\": \"\"}}, \"type\": \"scattergeo\"}], \"scattergl\": [{\"marker\": {\"colorbar\": {\"outlinewidth\": 0, \"ticks\": \"\"}}, \"type\": \"scattergl\"}], \"scattermapbox\": [{\"marker\": {\"colorbar\": {\"outlinewidth\": 0, \"ticks\": \"\"}}, \"type\": \"scattermapbox\"}], \"scatterpolar\": [{\"marker\": {\"colorbar\": {\"outlinewidth\": 0, \"ticks\": \"\"}}, \"type\": \"scatterpolar\"}], \"scatterpolargl\": [{\"marker\": {\"colorbar\": {\"outlinewidth\": 0, \"ticks\": \"\"}}, \"type\": \"scatterpolargl\"}], \"scatterternary\": [{\"marker\": {\"colorbar\": {\"outlinewidth\": 0, \"ticks\": \"\"}}, \"type\": \"scatterternary\"}], \"surface\": [{\"colorbar\": {\"outlinewidth\": 0, \"ticks\": \"\"}, \"colorscale\": [[0.0, \"#0d0887\"], [0.1111111111111111, \"#46039f\"], [0.2222222222222222, \"#7201a8\"], [0.3333333333333333, \"#9c179e\"], [0.4444444444444444, \"#bd3786\"], [0.5555555555555556, \"#d8576b\"], [0.6666666666666666, \"#ed7953\"], [0.7777777777777778, \"#fb9f3a\"], [0.8888888888888888, \"#fdca26\"], [1.0, \"#f0f921\"]], \"type\": \"surface\"}], \"table\": [{\"cells\": {\"fill\": {\"color\": \"#EBF0F8\"}, \"line\": {\"color\": \"white\"}}, \"header\": {\"fill\": {\"color\": \"#C8D4E3\"}, \"line\": {\"color\": \"white\"}}, \"type\": \"table\"}]}, \"layout\": {\"annotationdefaults\": {\"arrowcolor\": \"#2a3f5f\", \"arrowhead\": 0, \"arrowwidth\": 1}, \"coloraxis\": {\"colorbar\": {\"outlinewidth\": 0, \"ticks\": \"\"}}, \"colorscale\": {\"diverging\": [[0, \"#8e0152\"], [0.1, \"#c51b7d\"], [0.2, \"#de77ae\"], [0.3, \"#f1b6da\"], [0.4, \"#fde0ef\"], [0.5, \"#f7f7f7\"], [0.6, \"#e6f5d0\"], [0.7, \"#b8e186\"], [0.8, \"#7fbc41\"], [0.9, \"#4d9221\"], [1, \"#276419\"]], \"sequential\": [[0.0, \"#0d0887\"], [0.1111111111111111, \"#46039f\"], [0.2222222222222222, \"#7201a8\"], [0.3333333333333333, \"#9c179e\"], [0.4444444444444444, \"#bd3786\"], [0.5555555555555556, \"#d8576b\"], [0.6666666666666666, \"#ed7953\"], [0.7777777777777778, \"#fb9f3a\"], [0.8888888888888888, \"#fdca26\"], [1.0, \"#f0f921\"]], \"sequentialminus\": [[0.0, \"#0d0887\"], [0.1111111111111111, \"#46039f\"], [0.2222222222222222, \"#7201a8\"], [0.3333333333333333, \"#9c179e\"], [0.4444444444444444, \"#bd3786\"], [0.5555555555555556, \"#d8576b\"], [0.6666666666666666, \"#ed7953\"], [0.7777777777777778, \"#fb9f3a\"], [0.8888888888888888, \"#fdca26\"], [1.0, \"#f0f921\"]]}, \"colorway\": [\"#636efa\", \"#EF553B\", \"#00cc96\", \"#ab63fa\", \"#FFA15A\", \"#19d3f3\", \"#FF6692\", \"#B6E880\", \"#FF97FF\", \"#FECB52\"], \"font\": {\"color\": \"#2a3f5f\"}, \"geo\": {\"bgcolor\": \"white\", \"lakecolor\": \"white\", \"landcolor\": \"#E5ECF6\", \"showlakes\": true, \"showland\": true, \"subunitcolor\": \"white\"}, \"hoverlabel\": {\"align\": \"left\"}, \"hovermode\": \"closest\", \"mapbox\": {\"style\": \"light\"}, \"paper_bgcolor\": \"white\", \"plot_bgcolor\": \"#E5ECF6\", \"polar\": {\"angularaxis\": {\"gridcolor\": \"white\", \"linecolor\": \"white\", \"ticks\": \"\"}, \"bgcolor\": \"#E5ECF6\", \"radialaxis\": {\"gridcolor\": \"white\", \"linecolor\": \"white\", \"ticks\": \"\"}}, \"scene\": {\"xaxis\": {\"backgroundcolor\": \"#E5ECF6\", \"gridcolor\": \"white\", \"gridwidth\": 2, \"linecolor\": \"white\", \"showbackground\": true, \"ticks\": \"\", \"zerolinecolor\": \"white\"}, \"yaxis\": {\"backgroundcolor\": \"#E5ECF6\", \"gridcolor\": \"white\", \"gridwidth\": 2, \"linecolor\": \"white\", \"showbackground\": true, \"ticks\": \"\", \"zerolinecolor\": \"white\"}, \"zaxis\": {\"backgroundcolor\": \"#E5ECF6\", \"gridcolor\": \"white\", \"gridwidth\": 2, \"linecolor\": \"white\", \"showbackground\": true, \"ticks\": \"\", \"zerolinecolor\": \"white\"}}, \"shapedefaults\": {\"line\": {\"color\": \"#2a3f5f\"}}, \"ternary\": {\"aaxis\": {\"gridcolor\": \"white\", \"linecolor\": \"white\", \"ticks\": \"\"}, \"baxis\": {\"gridcolor\": \"white\", \"linecolor\": \"white\", \"ticks\": \"\"}, \"bgcolor\": \"#E5ECF6\", \"caxis\": {\"gridcolor\": \"white\", \"linecolor\": \"white\", \"ticks\": \"\"}}, \"title\": {\"x\": 0.05}, \"xaxis\": {\"automargin\": true, \"gridcolor\": \"white\", \"linecolor\": \"white\", \"ticks\": \"\", \"title\": {\"standoff\": 15}, \"zerolinecolor\": \"white\", \"zerolinewidth\": 2}, \"yaxis\": {\"automargin\": true, \"gridcolor\": \"white\", \"linecolor\": \"white\", \"ticks\": \"\", \"title\": {\"standoff\": 15}, \"zerolinecolor\": \"white\", \"zerolinewidth\": 2}}}},\n",
              "                        {\"responsive\": true}\n",
              "                    ).then(function(){\n",
              "                            \n",
              "var gd = document.getElementById('bc008132-d6f8-4dd0-81b9-b448746760f1');\n",
              "var x = new MutationObserver(function (mutations, observer) {{\n",
              "        var display = window.getComputedStyle(gd).display;\n",
              "        if (!display || display === 'none') {{\n",
              "            console.log([gd, 'removed!']);\n",
              "            Plotly.purge(gd);\n",
              "            observer.disconnect();\n",
              "        }}\n",
              "}});\n",
              "\n",
              "// Listen for the removal of the full notebook cells\n",
              "var notebookContainer = gd.closest('#notebook-container');\n",
              "if (notebookContainer) {{\n",
              "    x.observe(notebookContainer, {childList: true});\n",
              "}}\n",
              "\n",
              "// Listen for the clearing of the current output cell\n",
              "var outputEl = gd.closest('.output');\n",
              "if (outputEl) {{\n",
              "    x.observe(outputEl, {childList: true});\n",
              "}}\n",
              "\n",
              "                        })\n",
              "                };\n",
              "                \n",
              "            </script>\n",
              "        </div>\n",
              "</body>\n",
              "</html>"
            ]
          },
          "metadata": {
            "tags": []
          }
        }
      ]
    },
    {
      "cell_type": "markdown",
      "metadata": {
        "id": "ptnmeZHYwQeK",
        "colab_type": "text"
      },
      "source": [
        "## Test Dataset Prediction"
      ]
    },
    {
      "cell_type": "code",
      "metadata": {
        "id": "vvCnXbCb76uY",
        "colab_type": "code",
        "outputId": "7819eea9-d227-4091-c12a-d6d5e150126a",
        "colab": {
          "base_uri": "https://localhost:8080/",
          "height": 247
        }
      },
      "source": [
        "test_predictions = model.predict(test_dataset)\n",
        "test_predictions"
      ],
      "execution_count": 105,
      "outputs": [
        {
          "output_type": "execute_result",
          "data": {
            "text/plain": [
              "array([[-1.58302722e+03, -7.64244223e+00,  1.88653831e+01, ...,\n",
              "         1.25160217e-02, -1.47531815e+02, -2.60393867e+01],\n",
              "       [-1.38278427e+02, -1.03924072e+02, -1.00652954e+02, ...,\n",
              "        -7.17310028e+01, -1.51663467e+02, -4.31833954e+01],\n",
              "       [ 8.58559990e+00, -2.44478559e+00, -3.27335815e+02, ...,\n",
              "        -2.16148262e+01, -5.42797974e+02, -9.64576187e+01],\n",
              "       ...,\n",
              "       [-8.12271851e+02, -3.51537085e+00,  1.06403341e+01, ...,\n",
              "         3.43817997e+00, -8.27839508e+01, -2.00045261e+01],\n",
              "       [-7.78367710e+00, -5.08272457e+00, -2.22560593e+02, ...,\n",
              "        -1.62821426e+01, -1.01915076e+03, -7.89449921e+01],\n",
              "       [-1.23760437e+03, -1.01077080e+02,  1.35246687e+01, ...,\n",
              "        -5.88888702e+01, -1.52003204e+02, -3.46540527e+01]], dtype=float32)"
            ]
          },
          "metadata": {
            "tags": []
          },
          "execution_count": 105
        }
      ]
    },
    {
      "cell_type": "markdown",
      "metadata": {
        "colab_type": "text",
        "id": "uLNnEVm-yOTk"
      },
      "source": [
        "### Selecting Class with highest confidence"
      ]
    },
    {
      "cell_type": "code",
      "metadata": {
        "id": "ZdUxGacfwQIY",
        "colab_type": "code",
        "colab": {
          "base_uri": "https://localhost:8080/",
          "height": 34
        },
        "outputId": "5c0f047c-783d-47e3-9052-e0989b7c56a8"
      },
      "source": [
        "actual_encoded_test_labels = np.argmax(test_labels.to_numpy(), axis=1) \n",
        "actual_encoded_test_labels"
      ],
      "execution_count": 106,
      "outputs": [
        {
          "output_type": "execute_result",
          "data": {
            "text/plain": [
              "array([2, 5, 5, ..., 2, 4, 2])"
            ]
          },
          "metadata": {
            "tags": []
          },
          "execution_count": 106
        }
      ]
    },
    {
      "cell_type": "code",
      "metadata": {
        "id": "z4_B5VxRwr5I",
        "colab_type": "code",
        "colab": {
          "base_uri": "https://localhost:8080/",
          "height": 34
        },
        "outputId": "591002f7-231a-4d37-f473-2ad1362020b3"
      },
      "source": [
        "predicted_encoded_test_labels = np.argmax(test_predictions, axis=1)\n",
        "predicted_encoded_test_labels"
      ],
      "execution_count": 107,
      "outputs": [
        {
          "output_type": "execute_result",
          "data": {
            "text/plain": [
              "array([2, 6, 0, ..., 2, 4, 2])"
            ]
          },
          "metadata": {
            "tags": []
          },
          "execution_count": 107
        }
      ]
    },
    {
      "cell_type": "markdown",
      "metadata": {
        "colab_type": "text",
        "id": "W7Qbq802yZz8"
      },
      "source": [
        "### Converting numpy array to pandas dataframe"
      ]
    },
    {
      "cell_type": "code",
      "metadata": {
        "id": "eCVMpcP2ydfy",
        "colab_type": "code",
        "colab": {
          "base_uri": "https://localhost:8080/",
          "height": 406
        },
        "outputId": "5580bb54-c0dc-4bd5-aa3c-0997043c23ad"
      },
      "source": [
        "actual_encoded_test_labels = pd.DataFrame(actual_encoded_test_labels, columns=['Labels'])\n",
        "actual_encoded_test_labels"
      ],
      "execution_count": 108,
      "outputs": [
        {
          "output_type": "execute_result",
          "data": {
            "text/html": [
              "<div>\n",
              "<style scoped>\n",
              "    .dataframe tbody tr th:only-of-type {\n",
              "        vertical-align: middle;\n",
              "    }\n",
              "\n",
              "    .dataframe tbody tr th {\n",
              "        vertical-align: top;\n",
              "    }\n",
              "\n",
              "    .dataframe thead th {\n",
              "        text-align: right;\n",
              "    }\n",
              "</style>\n",
              "<table border=\"1\" class=\"dataframe\">\n",
              "  <thead>\n",
              "    <tr style=\"text-align: right;\">\n",
              "      <th></th>\n",
              "      <th>Labels</th>\n",
              "    </tr>\n",
              "  </thead>\n",
              "  <tbody>\n",
              "    <tr>\n",
              "      <th>0</th>\n",
              "      <td>2</td>\n",
              "    </tr>\n",
              "    <tr>\n",
              "      <th>1</th>\n",
              "      <td>5</td>\n",
              "    </tr>\n",
              "    <tr>\n",
              "      <th>2</th>\n",
              "      <td>5</td>\n",
              "    </tr>\n",
              "    <tr>\n",
              "      <th>3</th>\n",
              "      <td>2</td>\n",
              "    </tr>\n",
              "    <tr>\n",
              "      <th>4</th>\n",
              "      <td>2</td>\n",
              "    </tr>\n",
              "    <tr>\n",
              "      <th>...</th>\n",
              "      <td>...</td>\n",
              "    </tr>\n",
              "    <tr>\n",
              "      <th>996</th>\n",
              "      <td>1</td>\n",
              "    </tr>\n",
              "    <tr>\n",
              "      <th>997</th>\n",
              "      <td>1</td>\n",
              "    </tr>\n",
              "    <tr>\n",
              "      <th>998</th>\n",
              "      <td>2</td>\n",
              "    </tr>\n",
              "    <tr>\n",
              "      <th>999</th>\n",
              "      <td>4</td>\n",
              "    </tr>\n",
              "    <tr>\n",
              "      <th>1000</th>\n",
              "      <td>2</td>\n",
              "    </tr>\n",
              "  </tbody>\n",
              "</table>\n",
              "<p>1001 rows × 1 columns</p>\n",
              "</div>"
            ],
            "text/plain": [
              "      Labels\n",
              "0          2\n",
              "1          5\n",
              "2          5\n",
              "3          2\n",
              "4          2\n",
              "...      ...\n",
              "996        1\n",
              "997        1\n",
              "998        2\n",
              "999        4\n",
              "1000       2\n",
              "\n",
              "[1001 rows x 1 columns]"
            ]
          },
          "metadata": {
            "tags": []
          },
          "execution_count": 108
        }
      ]
    },
    {
      "cell_type": "code",
      "metadata": {
        "id": "KpVGEWCEyihR",
        "colab_type": "code",
        "colab": {
          "base_uri": "https://localhost:8080/",
          "height": 406
        },
        "outputId": "ffff7d31-cf38-48a0-d031-dec5623d7315"
      },
      "source": [
        "predicted_encoded_test_labels = pd.DataFrame(predicted_encoded_test_labels, columns=['Labels'])\n",
        "predicted_encoded_test_labels"
      ],
      "execution_count": 109,
      "outputs": [
        {
          "output_type": "execute_result",
          "data": {
            "text/html": [
              "<div>\n",
              "<style scoped>\n",
              "    .dataframe tbody tr th:only-of-type {\n",
              "        vertical-align: middle;\n",
              "    }\n",
              "\n",
              "    .dataframe tbody tr th {\n",
              "        vertical-align: top;\n",
              "    }\n",
              "\n",
              "    .dataframe thead th {\n",
              "        text-align: right;\n",
              "    }\n",
              "</style>\n",
              "<table border=\"1\" class=\"dataframe\">\n",
              "  <thead>\n",
              "    <tr style=\"text-align: right;\">\n",
              "      <th></th>\n",
              "      <th>Labels</th>\n",
              "    </tr>\n",
              "  </thead>\n",
              "  <tbody>\n",
              "    <tr>\n",
              "      <th>0</th>\n",
              "      <td>2</td>\n",
              "    </tr>\n",
              "    <tr>\n",
              "      <th>1</th>\n",
              "      <td>6</td>\n",
              "    </tr>\n",
              "    <tr>\n",
              "      <th>2</th>\n",
              "      <td>0</td>\n",
              "    </tr>\n",
              "    <tr>\n",
              "      <th>3</th>\n",
              "      <td>2</td>\n",
              "    </tr>\n",
              "    <tr>\n",
              "      <th>4</th>\n",
              "      <td>6</td>\n",
              "    </tr>\n",
              "    <tr>\n",
              "      <th>...</th>\n",
              "      <td>...</td>\n",
              "    </tr>\n",
              "    <tr>\n",
              "      <th>996</th>\n",
              "      <td>1</td>\n",
              "    </tr>\n",
              "    <tr>\n",
              "      <th>997</th>\n",
              "      <td>1</td>\n",
              "    </tr>\n",
              "    <tr>\n",
              "      <th>998</th>\n",
              "      <td>2</td>\n",
              "    </tr>\n",
              "    <tr>\n",
              "      <th>999</th>\n",
              "      <td>4</td>\n",
              "    </tr>\n",
              "    <tr>\n",
              "      <th>1000</th>\n",
              "      <td>2</td>\n",
              "    </tr>\n",
              "  </tbody>\n",
              "</table>\n",
              "<p>1001 rows × 1 columns</p>\n",
              "</div>"
            ],
            "text/plain": [
              "      Labels\n",
              "0          2\n",
              "1          6\n",
              "2          0\n",
              "3          2\n",
              "4          6\n",
              "...      ...\n",
              "996        1\n",
              "997        1\n",
              "998        2\n",
              "999        4\n",
              "1000       2\n",
              "\n",
              "[1001 rows x 1 columns]"
            ]
          },
          "metadata": {
            "tags": []
          },
          "execution_count": 109
        }
      ]
    },
    {
      "cell_type": "markdown",
      "metadata": {
        "colab_type": "text",
        "id": "uUaOU3cG8bC7"
      },
      "source": [
        "### Visualize Prediction for Test Dataset"
      ]
    },
    {
      "cell_type": "code",
      "metadata": {
        "id": "3e2uitKqtNPv",
        "colab_type": "code",
        "colab": {
          "base_uri": "https://localhost:8080/",
          "height": 542
        },
        "outputId": "dc506ad9-8873-41c8-dab3-5209c73fd3f8"
      },
      "source": [
        "#Plot Actual vs Predicted Class for Test Dataset\n",
        "actual_chart = go.Scatter(x=actual_encoded_test_labels.index, y=actual_encoded_test_labels.Labels, name= 'Actual Label')\n",
        "predict_chart = go.Scatter(x=actual_encoded_test_labels.index, y=predicted_encoded_test_labels.Labels, name= 'Predicted Label')\n",
        "py.iplot([predict_chart, actual_chart])"
      ],
      "execution_count": 96,
      "outputs": [
        {
          "output_type": "display_data",
          "data": {
            "text/html": [
              "<html>\n",
              "<head><meta charset=\"utf-8\" /></head>\n",
              "<body>\n",
              "    <div>\n",
              "            <script src=\"https://cdnjs.cloudflare.com/ajax/libs/mathjax/2.7.5/MathJax.js?config=TeX-AMS-MML_SVG\"></script><script type=\"text/javascript\">if (window.MathJax) {MathJax.Hub.Config({SVG: {font: \"STIX-Web\"}});}</script>\n",
              "                <script type=\"text/javascript\">window.PlotlyConfig = {MathJaxConfig: 'local'};</script>\n",
              "        <script src=\"https://cdn.plot.ly/plotly-latest.min.js\"></script>    \n",
              "            <div id=\"62bae25b-0289-4ad7-a0ee-61bb2400c74a\" class=\"plotly-graph-div\" style=\"height:525px; width:100%;\"></div>\n",
              "            <script type=\"text/javascript\">\n",
              "                \n",
              "                    window.PLOTLYENV=window.PLOTLYENV || {};\n",
              "                    \n",
              "                if (document.getElementById(\"62bae25b-0289-4ad7-a0ee-61bb2400c74a\")) {\n",
              "                    Plotly.newPlot(\n",
              "                        '62bae25b-0289-4ad7-a0ee-61bb2400c74a',\n",
              "                        [{\"name\": \"Predicted Label\", \"type\": \"scatter\", \"x\": [0, 1, 2, 3, 4, 5, 6, 7, 8, 9, 10, 11, 12, 13, 14, 15, 16, 17, 18, 19, 20, 21, 22, 23, 24, 25, 26, 27, 28, 29, 30, 31, 32, 33, 34, 35, 36, 37, 38, 39, 40, 41, 42, 43, 44, 45, 46, 47, 48, 49, 50, 51, 52, 53, 54, 55, 56, 57, 58, 59, 60, 61, 62, 63, 64, 65, 66, 67, 68, 69, 70, 71, 72, 73, 74, 75, 76, 77, 78, 79, 80, 81, 82, 83, 84, 85, 86, 87, 88, 89, 90, 91, 92, 93, 94, 95, 96, 97, 98, 99, 100, 101, 102, 103, 104, 105, 106, 107, 108, 109, 110, 111, 112, 113, 114, 115, 116, 117, 118, 119, 120, 121, 122, 123, 124, 125, 126, 127, 128, 129, 130, 131, 132, 133, 134, 135, 136, 137, 138, 139, 140, 141, 142, 143, 144, 145, 146, 147, 148, 149, 150, 151, 152, 153, 154, 155, 156, 157, 158, 159, 160, 161, 162, 163, 164, 165, 166, 167, 168, 169, 170, 171, 172, 173, 174, 175, 176, 177, 178, 179, 180, 181, 182, 183, 184, 185, 186, 187, 188, 189, 190, 191, 192, 193, 194, 195, 196, 197, 198, 199, 200, 201, 202, 203, 204, 205, 206, 207, 208, 209, 210, 211, 212, 213, 214, 215, 216, 217, 218, 219, 220, 221, 222, 223, 224, 225, 226, 227, 228, 229, 230, 231, 232, 233, 234, 235, 236, 237, 238, 239, 240, 241, 242, 243, 244, 245, 246, 247, 248, 249, 250, 251, 252, 253, 254, 255, 256, 257, 258, 259, 260, 261, 262, 263, 264, 265, 266, 267, 268, 269, 270, 271, 272, 273, 274, 275, 276, 277, 278, 279, 280, 281, 282, 283, 284, 285, 286, 287, 288, 289, 290, 291, 292, 293, 294, 295, 296, 297, 298, 299, 300, 301, 302, 303, 304, 305, 306, 307, 308, 309, 310, 311, 312, 313, 314, 315, 316, 317, 318, 319, 320, 321, 322, 323, 324, 325, 326, 327, 328, 329, 330, 331, 332, 333, 334, 335, 336, 337, 338, 339, 340, 341, 342, 343, 344, 345, 346, 347, 348, 349, 350, 351, 352, 353, 354, 355, 356, 357, 358, 359, 360, 361, 362, 363, 364, 365, 366, 367, 368, 369, 370, 371, 372, 373, 374, 375, 376, 377, 378, 379, 380, 381, 382, 383, 384, 385, 386, 387, 388, 389, 390, 391, 392, 393, 394, 395, 396, 397, 398, 399, 400, 401, 402, 403, 404, 405, 406, 407, 408, 409, 410, 411, 412, 413, 414, 415, 416, 417, 418, 419, 420, 421, 422, 423, 424, 425, 426, 427, 428, 429, 430, 431, 432, 433, 434, 435, 436, 437, 438, 439, 440, 441, 442, 443, 444, 445, 446, 447, 448, 449, 450, 451, 452, 453, 454, 455, 456, 457, 458, 459, 460, 461, 462, 463, 464, 465, 466, 467, 468, 469, 470, 471, 472, 473, 474, 475, 476, 477, 478, 479, 480, 481, 482, 483, 484, 485, 486, 487, 488, 489, 490, 491, 492, 493, 494, 495, 496, 497, 498, 499, 500, 501, 502, 503, 504, 505, 506, 507, 508, 509, 510, 511, 512, 513, 514, 515, 516, 517, 518, 519, 520, 521, 522, 523, 524, 525, 526, 527, 528, 529, 530, 531, 532, 533, 534, 535, 536, 537, 538, 539, 540, 541, 542, 543, 544, 545, 546, 547, 548, 549, 550, 551, 552, 553, 554, 555, 556, 557, 558, 559, 560, 561, 562, 563, 564, 565, 566, 567, 568, 569, 570, 571, 572, 573, 574, 575, 576, 577, 578, 579, 580, 581, 582, 583, 584, 585, 586, 587, 588, 589, 590, 591, 592, 593, 594, 595, 596, 597, 598, 599, 600, 601, 602, 603, 604, 605, 606, 607, 608, 609, 610, 611, 612, 613, 614, 615, 616, 617, 618, 619, 620, 621, 622, 623, 624, 625, 626, 627, 628, 629, 630, 631, 632, 633, 634, 635, 636, 637, 638, 639, 640, 641, 642, 643, 644, 645, 646, 647, 648, 649, 650, 651, 652, 653, 654, 655, 656, 657, 658, 659, 660, 661, 662, 663, 664, 665, 666, 667, 668, 669, 670, 671, 672, 673, 674, 675, 676, 677, 678, 679, 680, 681, 682, 683, 684, 685, 686, 687, 688, 689, 690, 691, 692, 693, 694, 695, 696, 697, 698, 699, 700, 701, 702, 703, 704, 705, 706, 707, 708, 709, 710, 711, 712, 713, 714, 715, 716, 717, 718, 719, 720, 721, 722, 723, 724, 725, 726, 727, 728, 729, 730, 731, 732, 733, 734, 735, 736, 737, 738, 739, 740, 741, 742, 743, 744, 745, 746, 747, 748, 749, 750, 751, 752, 753, 754, 755, 756, 757, 758, 759, 760, 761, 762, 763, 764, 765, 766, 767, 768, 769, 770, 771, 772, 773, 774, 775, 776, 777, 778, 779, 780, 781, 782, 783, 784, 785, 786, 787, 788, 789, 790, 791, 792, 793, 794, 795, 796, 797, 798, 799, 800, 801, 802, 803, 804, 805, 806, 807, 808, 809, 810, 811, 812, 813, 814, 815, 816, 817, 818, 819, 820, 821, 822, 823, 824, 825, 826, 827, 828, 829, 830, 831, 832, 833, 834, 835, 836, 837, 838, 839, 840, 841, 842, 843, 844, 845, 846, 847, 848, 849, 850, 851, 852, 853, 854, 855, 856, 857, 858, 859, 860, 861, 862, 863, 864, 865, 866, 867, 868, 869, 870, 871, 872, 873, 874, 875, 876, 877, 878, 879, 880, 881, 882, 883, 884, 885, 886, 887, 888, 889, 890, 891, 892, 893, 894, 895, 896, 897, 898, 899, 900, 901, 902, 903, 904, 905, 906, 907, 908, 909, 910, 911, 912, 913, 914, 915, 916, 917, 918, 919, 920, 921, 922, 923, 924, 925, 926, 927, 928, 929, 930, 931, 932, 933, 934, 935, 936, 937, 938, 939, 940, 941, 942, 943, 944, 945, 946, 947, 948, 949, 950, 951, 952, 953, 954, 955, 956, 957, 958, 959, 960, 961, 962, 963, 964, 965, 966, 967, 968, 969, 970, 971, 972, 973, 974, 975, 976, 977, 978, 979, 980, 981, 982, 983, 984, 985, 986, 987, 988, 989, 990, 991, 992, 993, 994, 995, 996, 997, 998, 999, 1000], \"y\": [2, 6, 0, 2, 6, 1, 6, 2, 1, 0, 2, 7, 1, 1, 0, 8, 1, 2, 5, 1, 6, 2, 2, 1, 1, 1, 5, 1, 5, 2, 6, 7, 6, 1, 2, 6, 1, 1, 1, 1, 2, 1, 6, 7, 8, 1, 0, 2, 6, 2, 7, 8, 2, 6, 5, 5, 2, 6, 1, 5, 6, 1, 1, 2, 5, 1, 7, 2, 5, 9, 1, 2, 1, 4, 1, 1, 8, 4, 1, 2, 6, 5, 1, 2, 8, 1, 3, 5, 2, 1, 7, 1, 1, 8, 2, 1, 3, 5, 3, 2, 5, 4, 9, 1, 9, 0, 5, 5, 3, 6, 0, 3, 6, 2, 5, 5, 2, 6, 2, 7, 1, 7, 1, 5, 5, 2, 2, 4, 1, 1, 3, 2, 0, 7, 4, 2, 6, 1, 1, 5, 5, 7, 6, 0, 1, 3, 5, 1, 5, 1, 1, 5, 1, 2, 1, 5, 10, 1, 8, 6, 5, 6, 8, 1, 1, 5, 1, 6, 2, 1, 1, 2, 5, 1, 1, 5, 2, 1, 1, 1, 2, 7, 8, 2, 2, 3, 2, 2, 0, 5, 2, 2, 1, 2, 2, 0, 0, 1, 1, 2, 8, 2, 6, 3, 2, 2, 0, 2, 2, 1, 8, 4, 2, 7, 5, 1, 1, 5, 2, 1, 1, 0, 1, 6, 1, 1, 1, 1, 8, 6, 0, 1, 1, 2, 4, 1, 1, 1, 1, 2, 7, 1, 1, 1, 6, 6, 2, 6, 2, 7, 0, 2, 6, 1, 8, 1, 5, 4, 5, 1, 1, 0, 2, 1, 5, 6, 6, 5, 1, 6, 8, 8, 5, 1, 2, 2, 4, 2, 2, 5, 2, 3, 6, 7, 2, 3, 2, 6, 2, 0, 7, 1, 6, 1, 5, 1, 8, 2, 1, 2, 7, 1, 1, 2, 5, 1, 1, 2, 2, 10, 6, 5, 8, 5, 1, 1, 2, 6, 1, 6, 4, 0, 6, 1, 1, 6, 2, 2, 6, 6, 2, 1, 2, 1, 0, 2, 4, 1, 5, 2, 1, 4, 2, 2, 6, 1, 1, 1, 2, 1, 8, 2, 5, 7, 1, 4, 1, 6, 1, 1, 6, 5, 3, 1, 2, 8, 5, 7, 5, 5, 8, 1, 1, 1, 1, 1, 7, 5, 2, 3, 0, 1, 4, 1, 2, 2, 1, 1, 2, 2, 3, 4, 2, 6, 1, 1, 2, 2, 6, 1, 8, 1, 5, 1, 6, 2, 5, 4, 2, 4, 1, 1, 7, 2, 2, 1, 5, 10, 5, 2, 7, 1, 4, 2, 6, 2, 2, 1, 7, 1, 0, 1, 0, 2, 7, 2, 4, 3, 6, 5, 7, 6, 7, 1, 7, 1, 1, 1, 3, 2, 2, 5, 1, 2, 1, 3, 7, 2, 2, 0, 4, 2, 2, 2, 2, 1, 5, 1, 1, 1, 2, 1, 1, 1, 2, 2, 1, 1, 3, 7, 1, 2, 0, 4, 2, 5, 5, 8, 0, 2, 5, 1, 1, 1, 1, 3, 2, 1, 5, 1, 6, 5, 5, 1, 1, 4, 6, 7, 5, 2, 2, 8, 4, 5, 6, 1, 4, 5, 1, 1, 1, 5, 2, 2, 4, 6, 1, 2, 7, 1, 7, 7, 8, 5, 6, 5, 2, 6, 2, 2, 8, 2, 1, 2, 0, 5, 2, 2, 7, 0, 7, 7, 5, 1, 3, 4, 2, 0, 1, 3, 1, 0, 5, 3, 5, 1, 7, 1, 1, 2, 0, 1, 2, 2, 9, 7, 1, 3, 2, 2, 7, 5, 2, 6, 1, 1, 2, 4, 2, 4, 1, 1, 6, 2, 2, 1, 3, 2, 1, 2, 1, 1, 5, 6, 2, 0, 7, 3, 5, 8, 6, 1, 2, 2, 3, 1, 1, 6, 6, 5, 5, 5, 5, 8, 7, 5, 1, 2, 7, 6, 8, 10, 5, 1, 3, 5, 1, 1, 3, 2, 1, 2, 7, 5, 1, 8, 2, 3, 2, 3, 2, 2, 2, 8, 2, 5, 1, 2, 2, 6, 1, 1, 2, 1, 2, 1, 8, 3, 3, 2, 1, 5, 3, 1, 1, 2, 0, 1, 1, 7, 6, 1, 6, 1, 1, 2, 1, 7, 5, 6, 5, 1, 6, 2, 7, 2, 1, 1, 2, 1, 4, 2, 2, 2, 2, 0, 1, 6, 3, 8, 8, 5, 6, 2, 6, 2, 5, 2, 1, 2, 1, 1, 9, 4, 2, 2, 4, 1, 0, 1, 2, 2, 5, 2, 6, 1, 2, 1, 3, 1, 6, 2, 2, 1, 3, 4, 6, 5, 4, 4, 7, 2, 1, 0, 5, 1, 4, 1, 1, 6, 0, 3, 6, 2, 7, 3, 2, 1, 6, 6, 0, 2, 2, 2, 1, 3, 2, 0, 5, 2, 5, 1, 6, 4, 7, 6, 2, 2, 1, 8, 1, 1, 3, 1, 7, 1, 7, 2, 1, 2, 5, 7, 2, 3, 2, 6, 6, 4, 1, 1, 2, 7, 1, 7, 8, 5, 3, 1, 5, 1, 5, 2, 1, 1, 1, 1, 1, 6, 4, 2, 5, 2, 1, 6, 1, 1, 10, 2, 5, 2, 8, 7, 7, 6, 1, 1, 5, 5, 5, 6, 7, 2, 1, 3, 1, 0, 1, 2, 4, 2, 2, 5, 2, 1, 7, 7, 0, 2, 6, 2, 6, 4, 6, 5, 2, 5, 1, 1, 2, 7, 3, 8, 2, 5, 3, 1, 5, 6, 5, 2, 7, 1, 3, 6, 3, 2, 8, 7, 5, 2, 5, 8, 5, 7, 1, 0, 1, 6, 7, 2, 0, 1, 7, 1, 0, 1, 0, 6, 2, 3, 7, 5, 3, 1, 5, 4, 2, 2, 6, 3, 0, 5, 1, 5, 5, 2, 2, 8, 2, 2, 1, 6, 0, 3, 1, 2, 1, 3, 8, 1, 1, 1, 3, 6, 5, 2, 6, 6, 2, 2, 1, 0, 1, 2, 5, 6, 3, 5, 6, 7, 1, 1, 2, 2, 1, 4, 1, 5, 1, 7, 2, 7, 6, 7, 1, 1, 2, 1, 5, 2, 1, 1, 6, 3, 2, 6, 1, 1, 2, 4, 2]}, {\"name\": \"Actual Label\", \"type\": \"scatter\", \"x\": [0, 1, 2, 3, 4, 5, 6, 7, 8, 9, 10, 11, 12, 13, 14, 15, 16, 17, 18, 19, 20, 21, 22, 23, 24, 25, 26, 27, 28, 29, 30, 31, 32, 33, 34, 35, 36, 37, 38, 39, 40, 41, 42, 43, 44, 45, 46, 47, 48, 49, 50, 51, 52, 53, 54, 55, 56, 57, 58, 59, 60, 61, 62, 63, 64, 65, 66, 67, 68, 69, 70, 71, 72, 73, 74, 75, 76, 77, 78, 79, 80, 81, 82, 83, 84, 85, 86, 87, 88, 89, 90, 91, 92, 93, 94, 95, 96, 97, 98, 99, 100, 101, 102, 103, 104, 105, 106, 107, 108, 109, 110, 111, 112, 113, 114, 115, 116, 117, 118, 119, 120, 121, 122, 123, 124, 125, 126, 127, 128, 129, 130, 131, 132, 133, 134, 135, 136, 137, 138, 139, 140, 141, 142, 143, 144, 145, 146, 147, 148, 149, 150, 151, 152, 153, 154, 155, 156, 157, 158, 159, 160, 161, 162, 163, 164, 165, 166, 167, 168, 169, 170, 171, 172, 173, 174, 175, 176, 177, 178, 179, 180, 181, 182, 183, 184, 185, 186, 187, 188, 189, 190, 191, 192, 193, 194, 195, 196, 197, 198, 199, 200, 201, 202, 203, 204, 205, 206, 207, 208, 209, 210, 211, 212, 213, 214, 215, 216, 217, 218, 219, 220, 221, 222, 223, 224, 225, 226, 227, 228, 229, 230, 231, 232, 233, 234, 235, 236, 237, 238, 239, 240, 241, 242, 243, 244, 245, 246, 247, 248, 249, 250, 251, 252, 253, 254, 255, 256, 257, 258, 259, 260, 261, 262, 263, 264, 265, 266, 267, 268, 269, 270, 271, 272, 273, 274, 275, 276, 277, 278, 279, 280, 281, 282, 283, 284, 285, 286, 287, 288, 289, 290, 291, 292, 293, 294, 295, 296, 297, 298, 299, 300, 301, 302, 303, 304, 305, 306, 307, 308, 309, 310, 311, 312, 313, 314, 315, 316, 317, 318, 319, 320, 321, 322, 323, 324, 325, 326, 327, 328, 329, 330, 331, 332, 333, 334, 335, 336, 337, 338, 339, 340, 341, 342, 343, 344, 345, 346, 347, 348, 349, 350, 351, 352, 353, 354, 355, 356, 357, 358, 359, 360, 361, 362, 363, 364, 365, 366, 367, 368, 369, 370, 371, 372, 373, 374, 375, 376, 377, 378, 379, 380, 381, 382, 383, 384, 385, 386, 387, 388, 389, 390, 391, 392, 393, 394, 395, 396, 397, 398, 399, 400, 401, 402, 403, 404, 405, 406, 407, 408, 409, 410, 411, 412, 413, 414, 415, 416, 417, 418, 419, 420, 421, 422, 423, 424, 425, 426, 427, 428, 429, 430, 431, 432, 433, 434, 435, 436, 437, 438, 439, 440, 441, 442, 443, 444, 445, 446, 447, 448, 449, 450, 451, 452, 453, 454, 455, 456, 457, 458, 459, 460, 461, 462, 463, 464, 465, 466, 467, 468, 469, 470, 471, 472, 473, 474, 475, 476, 477, 478, 479, 480, 481, 482, 483, 484, 485, 486, 487, 488, 489, 490, 491, 492, 493, 494, 495, 496, 497, 498, 499, 500, 501, 502, 503, 504, 505, 506, 507, 508, 509, 510, 511, 512, 513, 514, 515, 516, 517, 518, 519, 520, 521, 522, 523, 524, 525, 526, 527, 528, 529, 530, 531, 532, 533, 534, 535, 536, 537, 538, 539, 540, 541, 542, 543, 544, 545, 546, 547, 548, 549, 550, 551, 552, 553, 554, 555, 556, 557, 558, 559, 560, 561, 562, 563, 564, 565, 566, 567, 568, 569, 570, 571, 572, 573, 574, 575, 576, 577, 578, 579, 580, 581, 582, 583, 584, 585, 586, 587, 588, 589, 590, 591, 592, 593, 594, 595, 596, 597, 598, 599, 600, 601, 602, 603, 604, 605, 606, 607, 608, 609, 610, 611, 612, 613, 614, 615, 616, 617, 618, 619, 620, 621, 622, 623, 624, 625, 626, 627, 628, 629, 630, 631, 632, 633, 634, 635, 636, 637, 638, 639, 640, 641, 642, 643, 644, 645, 646, 647, 648, 649, 650, 651, 652, 653, 654, 655, 656, 657, 658, 659, 660, 661, 662, 663, 664, 665, 666, 667, 668, 669, 670, 671, 672, 673, 674, 675, 676, 677, 678, 679, 680, 681, 682, 683, 684, 685, 686, 687, 688, 689, 690, 691, 692, 693, 694, 695, 696, 697, 698, 699, 700, 701, 702, 703, 704, 705, 706, 707, 708, 709, 710, 711, 712, 713, 714, 715, 716, 717, 718, 719, 720, 721, 722, 723, 724, 725, 726, 727, 728, 729, 730, 731, 732, 733, 734, 735, 736, 737, 738, 739, 740, 741, 742, 743, 744, 745, 746, 747, 748, 749, 750, 751, 752, 753, 754, 755, 756, 757, 758, 759, 760, 761, 762, 763, 764, 765, 766, 767, 768, 769, 770, 771, 772, 773, 774, 775, 776, 777, 778, 779, 780, 781, 782, 783, 784, 785, 786, 787, 788, 789, 790, 791, 792, 793, 794, 795, 796, 797, 798, 799, 800, 801, 802, 803, 804, 805, 806, 807, 808, 809, 810, 811, 812, 813, 814, 815, 816, 817, 818, 819, 820, 821, 822, 823, 824, 825, 826, 827, 828, 829, 830, 831, 832, 833, 834, 835, 836, 837, 838, 839, 840, 841, 842, 843, 844, 845, 846, 847, 848, 849, 850, 851, 852, 853, 854, 855, 856, 857, 858, 859, 860, 861, 862, 863, 864, 865, 866, 867, 868, 869, 870, 871, 872, 873, 874, 875, 876, 877, 878, 879, 880, 881, 882, 883, 884, 885, 886, 887, 888, 889, 890, 891, 892, 893, 894, 895, 896, 897, 898, 899, 900, 901, 902, 903, 904, 905, 906, 907, 908, 909, 910, 911, 912, 913, 914, 915, 916, 917, 918, 919, 920, 921, 922, 923, 924, 925, 926, 927, 928, 929, 930, 931, 932, 933, 934, 935, 936, 937, 938, 939, 940, 941, 942, 943, 944, 945, 946, 947, 948, 949, 950, 951, 952, 953, 954, 955, 956, 957, 958, 959, 960, 961, 962, 963, 964, 965, 966, 967, 968, 969, 970, 971, 972, 973, 974, 975, 976, 977, 978, 979, 980, 981, 982, 983, 984, 985, 986, 987, 988, 989, 990, 991, 992, 993, 994, 995, 996, 997, 998, 999, 1000], \"y\": [2, 5, 5, 2, 2, 1, 6, 2, 1, 0, 2, 7, 1, 1, 5, 1, 1, 2, 5, 1, 6, 2, 2, 1, 1, 1, 5, 1, 5, 1, 6, 8, 6, 1, 2, 6, 1, 1, 1, 1, 2, 1, 6, 7, 8, 1, 5, 2, 5, 2, 7, 1, 2, 6, 5, 5, 8, 6, 1, 5, 6, 1, 1, 2, 5, 1, 7, 2, 5, 6, 1, 2, 1, 7, 1, 1, 8, 4, 1, 2, 6, 5, 1, 2, 8, 1, 3, 5, 2, 1, 7, 1, 1, 8, 2, 1, 3, 5, 3, 2, 5, 4, 2, 1, 6, 0, 5, 5, 3, 6, 0, 3, 2, 2, 0, 5, 2, 5, 2, 5, 1, 7, 1, 5, 5, 2, 2, 4, 1, 1, 3, 2, 0, 1, 4, 2, 6, 1, 1, 5, 5, 0, 2, 0, 1, 3, 5, 1, 5, 1, 1, 5, 1, 2, 1, 6, 8, 1, 8, 6, 5, 6, 8, 1, 1, 5, 1, 5, 2, 1, 1, 2, 5, 1, 1, 5, 2, 2, 1, 1, 2, 7, 6, 2, 2, 3, 2, 2, 0, 5, 2, 2, 1, 2, 2, 0, 7, 1, 1, 2, 1, 2, 5, 3, 2, 2, 0, 2, 2, 1, 8, 7, 2, 7, 6, 1, 1, 5, 2, 1, 1, 0, 1, 6, 1, 1, 1, 1, 8, 5, 0, 1, 1, 2, 4, 3, 1, 1, 1, 2, 7, 1, 1, 1, 6, 6, 2, 2, 2, 7, 0, 2, 6, 1, 8, 1, 5, 4, 5, 1, 1, 0, 2, 1, 5, 6, 6, 5, 1, 6, 1, 8, 5, 1, 2, 2, 4, 2, 2, 5, 2, 1, 6, 7, 2, 3, 2, 6, 2, 0, 7, 1, 2, 1, 5, 1, 1, 2, 1, 2, 7, 1, 1, 2, 5, 1, 1, 2, 2, 1, 6, 5, 8, 5, 1, 1, 2, 6, 3, 6, 0, 0, 6, 1, 1, 6, 2, 2, 6, 6, 2, 1, 2, 1, 0, 2, 4, 1, 5, 2, 1, 4, 2, 2, 6, 1, 1, 1, 2, 1, 8, 1, 5, 7, 1, 4, 1, 6, 1, 1, 6, 5, 3, 1, 2, 8, 5, 7, 6, 0, 8, 1, 1, 1, 3, 1, 7, 5, 2, 3, 0, 1, 3, 1, 2, 2, 1, 1, 2, 2, 1, 4, 2, 6, 1, 1, 2, 2, 6, 1, 9, 2, 5, 1, 6, 2, 5, 4, 2, 0, 1, 1, 7, 2, 2, 1, 5, 10, 5, 2, 7, 1, 4, 2, 6, 2, 2, 1, 7, 1, 0, 1, 0, 2, 8, 2, 4, 3, 6, 5, 7, 5, 7, 1, 8, 1, 1, 1, 3, 2, 2, 5, 1, 2, 1, 3, 7, 6, 2, 0, 4, 2, 2, 2, 9, 1, 5, 1, 1, 1, 2, 1, 1, 1, 2, 2, 1, 1, 3, 7, 1, 2, 4, 4, 2, 5, 5, 7, 7, 2, 5, 1, 1, 1, 1, 3, 2, 1, 0, 1, 6, 5, 5, 1, 1, 7, 2, 7, 5, 2, 2, 8, 4, 5, 6, 1, 4, 5, 1, 1, 1, 5, 2, 2, 3, 6, 1, 2, 7, 1, 7, 7, 9, 5, 5, 5, 2, 6, 2, 2, 2, 2, 1, 2, 0, 5, 2, 2, 3, 0, 4, 7, 5, 1, 3, 4, 2, 0, 1, 3, 1, 0, 5, 3, 5, 1, 0, 1, 2, 2, 0, 1, 2, 2, 1, 7, 1, 3, 2, 2, 7, 5, 2, 6, 2, 1, 2, 4, 2, 3, 1, 1, 6, 2, 2, 1, 3, 2, 2, 2, 1, 1, 5, 6, 2, 0, 7, 3, 5, 7, 6, 1, 2, 2, 3, 1, 1, 6, 6, 5, 5, 5, 5, 8, 7, 5, 1, 2, 7, 6, 2, 10, 5, 1, 3, 5, 1, 1, 3, 2, 1, 2, 4, 5, 1, 8, 2, 3, 6, 3, 2, 2, 2, 10, 2, 5, 1, 2, 2, 5, 3, 1, 2, 1, 2, 1, 8, 3, 3, 2, 1, 5, 3, 2, 1, 2, 4, 1, 2, 7, 6, 1, 6, 1, 1, 2, 1, 7, 5, 6, 5, 1, 6, 2, 5, 2, 1, 1, 2, 1, 4, 2, 6, 2, 2, 0, 1, 6, 3, 8, 8, 5, 6, 2, 6, 2, 5, 2, 1, 1, 2, 1, 9, 4, 2, 2, 10, 1, 0, 1, 2, 2, 5, 2, 6, 1, 8, 1, 1, 8, 6, 2, 2, 1, 3, 7, 6, 5, 4, 4, 7, 2, 1, 0, 5, 1, 3, 1, 1, 6, 0, 3, 2, 2, 7, 3, 2, 1, 6, 6, 7, 2, 2, 2, 1, 3, 2, 0, 5, 6, 5, 1, 6, 4, 7, 6, 2, 1, 1, 1, 1, 1, 3, 1, 6, 3, 8, 2, 1, 2, 6, 7, 2, 3, 2, 6, 6, 3, 1, 1, 2, 4, 2, 7, 8, 5, 3, 1, 5, 1, 5, 2, 1, 1, 1, 1, 1, 6, 4, 2, 5, 2, 1, 2, 1, 1, 10, 2, 0, 2, 8, 7, 7, 6, 1, 1, 5, 5, 6, 2, 7, 2, 1, 3, 1, 0, 1, 2, 4, 2, 2, 5, 2, 1, 6, 0, 0, 2, 6, 2, 6, 4, 6, 5, 2, 5, 1, 1, 2, 4, 3, 7, 2, 5, 3, 1, 5, 6, 5, 2, 7, 1, 1, 6, 3, 2, 8, 0, 5, 2, 5, 8, 5, 7, 1, 5, 1, 6, 7, 2, 5, 1, 7, 1, 5, 1, 0, 7, 2, 3, 7, 5, 3, 1, 5, 4, 2, 2, 7, 1, 0, 5, 1, 6, 5, 2, 2, 8, 1, 2, 1, 7, 0, 3, 1, 2, 1, 1, 10, 1, 1, 1, 3, 6, 6, 2, 2, 6, 2, 10, 1, 0, 1, 2, 5, 6, 3, 5, 2, 7, 2, 1, 2, 2, 1, 4, 1, 5, 1, 7, 2, 4, 6, 7, 1, 1, 2, 1, 5, 2, 1, 1, 5, 3, 2, 6, 1, 1, 2, 4, 2]}],\n",
              "                        {\"template\": {\"data\": {\"bar\": [{\"error_x\": {\"color\": \"#2a3f5f\"}, \"error_y\": {\"color\": \"#2a3f5f\"}, \"marker\": {\"line\": {\"color\": \"#E5ECF6\", \"width\": 0.5}}, \"type\": \"bar\"}], \"barpolar\": [{\"marker\": {\"line\": {\"color\": \"#E5ECF6\", \"width\": 0.5}}, \"type\": \"barpolar\"}], \"carpet\": [{\"aaxis\": {\"endlinecolor\": \"#2a3f5f\", \"gridcolor\": \"white\", \"linecolor\": \"white\", \"minorgridcolor\": \"white\", \"startlinecolor\": \"#2a3f5f\"}, \"baxis\": {\"endlinecolor\": \"#2a3f5f\", \"gridcolor\": \"white\", \"linecolor\": \"white\", \"minorgridcolor\": \"white\", \"startlinecolor\": \"#2a3f5f\"}, \"type\": \"carpet\"}], \"choropleth\": [{\"colorbar\": {\"outlinewidth\": 0, \"ticks\": \"\"}, \"type\": \"choropleth\"}], \"contour\": [{\"colorbar\": {\"outlinewidth\": 0, \"ticks\": \"\"}, \"colorscale\": [[0.0, \"#0d0887\"], [0.1111111111111111, \"#46039f\"], [0.2222222222222222, \"#7201a8\"], [0.3333333333333333, \"#9c179e\"], [0.4444444444444444, \"#bd3786\"], [0.5555555555555556, \"#d8576b\"], [0.6666666666666666, \"#ed7953\"], [0.7777777777777778, \"#fb9f3a\"], [0.8888888888888888, \"#fdca26\"], [1.0, \"#f0f921\"]], \"type\": \"contour\"}], \"contourcarpet\": [{\"colorbar\": {\"outlinewidth\": 0, \"ticks\": \"\"}, \"type\": \"contourcarpet\"}], \"heatmap\": [{\"colorbar\": {\"outlinewidth\": 0, \"ticks\": \"\"}, \"colorscale\": [[0.0, \"#0d0887\"], [0.1111111111111111, \"#46039f\"], [0.2222222222222222, \"#7201a8\"], [0.3333333333333333, \"#9c179e\"], [0.4444444444444444, \"#bd3786\"], [0.5555555555555556, \"#d8576b\"], [0.6666666666666666, \"#ed7953\"], [0.7777777777777778, \"#fb9f3a\"], [0.8888888888888888, \"#fdca26\"], [1.0, \"#f0f921\"]], \"type\": \"heatmap\"}], \"heatmapgl\": [{\"colorbar\": {\"outlinewidth\": 0, \"ticks\": \"\"}, \"colorscale\": [[0.0, \"#0d0887\"], [0.1111111111111111, \"#46039f\"], [0.2222222222222222, \"#7201a8\"], [0.3333333333333333, \"#9c179e\"], [0.4444444444444444, \"#bd3786\"], [0.5555555555555556, \"#d8576b\"], [0.6666666666666666, \"#ed7953\"], [0.7777777777777778, \"#fb9f3a\"], [0.8888888888888888, \"#fdca26\"], [1.0, \"#f0f921\"]], \"type\": \"heatmapgl\"}], \"histogram\": [{\"marker\": {\"colorbar\": {\"outlinewidth\": 0, \"ticks\": \"\"}}, \"type\": \"histogram\"}], \"histogram2d\": [{\"colorbar\": {\"outlinewidth\": 0, \"ticks\": \"\"}, \"colorscale\": [[0.0, \"#0d0887\"], [0.1111111111111111, \"#46039f\"], [0.2222222222222222, \"#7201a8\"], [0.3333333333333333, \"#9c179e\"], [0.4444444444444444, \"#bd3786\"], [0.5555555555555556, \"#d8576b\"], [0.6666666666666666, \"#ed7953\"], [0.7777777777777778, \"#fb9f3a\"], [0.8888888888888888, \"#fdca26\"], [1.0, \"#f0f921\"]], \"type\": \"histogram2d\"}], \"histogram2dcontour\": [{\"colorbar\": {\"outlinewidth\": 0, \"ticks\": \"\"}, \"colorscale\": [[0.0, \"#0d0887\"], [0.1111111111111111, \"#46039f\"], [0.2222222222222222, \"#7201a8\"], [0.3333333333333333, \"#9c179e\"], [0.4444444444444444, \"#bd3786\"], [0.5555555555555556, \"#d8576b\"], [0.6666666666666666, \"#ed7953\"], [0.7777777777777778, \"#fb9f3a\"], [0.8888888888888888, \"#fdca26\"], [1.0, \"#f0f921\"]], \"type\": \"histogram2dcontour\"}], \"mesh3d\": [{\"colorbar\": {\"outlinewidth\": 0, \"ticks\": \"\"}, \"type\": \"mesh3d\"}], \"parcoords\": [{\"line\": {\"colorbar\": {\"outlinewidth\": 0, \"ticks\": \"\"}}, \"type\": \"parcoords\"}], \"pie\": [{\"automargin\": true, \"type\": \"pie\"}], \"scatter\": [{\"marker\": {\"colorbar\": {\"outlinewidth\": 0, \"ticks\": \"\"}}, \"type\": \"scatter\"}], \"scatter3d\": [{\"line\": {\"colorbar\": {\"outlinewidth\": 0, \"ticks\": \"\"}}, \"marker\": {\"colorbar\": {\"outlinewidth\": 0, \"ticks\": \"\"}}, \"type\": \"scatter3d\"}], \"scattercarpet\": [{\"marker\": {\"colorbar\": {\"outlinewidth\": 0, \"ticks\": \"\"}}, \"type\": \"scattercarpet\"}], \"scattergeo\": [{\"marker\": {\"colorbar\": {\"outlinewidth\": 0, \"ticks\": \"\"}}, \"type\": \"scattergeo\"}], \"scattergl\": [{\"marker\": {\"colorbar\": {\"outlinewidth\": 0, \"ticks\": \"\"}}, \"type\": \"scattergl\"}], \"scattermapbox\": [{\"marker\": {\"colorbar\": {\"outlinewidth\": 0, \"ticks\": \"\"}}, \"type\": \"scattermapbox\"}], \"scatterpolar\": [{\"marker\": {\"colorbar\": {\"outlinewidth\": 0, \"ticks\": \"\"}}, \"type\": \"scatterpolar\"}], \"scatterpolargl\": [{\"marker\": {\"colorbar\": {\"outlinewidth\": 0, \"ticks\": \"\"}}, \"type\": \"scatterpolargl\"}], \"scatterternary\": [{\"marker\": {\"colorbar\": {\"outlinewidth\": 0, \"ticks\": \"\"}}, \"type\": \"scatterternary\"}], \"surface\": [{\"colorbar\": {\"outlinewidth\": 0, \"ticks\": \"\"}, \"colorscale\": [[0.0, \"#0d0887\"], [0.1111111111111111, \"#46039f\"], [0.2222222222222222, \"#7201a8\"], [0.3333333333333333, \"#9c179e\"], [0.4444444444444444, \"#bd3786\"], [0.5555555555555556, \"#d8576b\"], [0.6666666666666666, \"#ed7953\"], [0.7777777777777778, \"#fb9f3a\"], [0.8888888888888888, \"#fdca26\"], [1.0, \"#f0f921\"]], \"type\": \"surface\"}], \"table\": [{\"cells\": {\"fill\": {\"color\": \"#EBF0F8\"}, \"line\": {\"color\": \"white\"}}, \"header\": {\"fill\": {\"color\": \"#C8D4E3\"}, \"line\": {\"color\": \"white\"}}, \"type\": \"table\"}]}, \"layout\": {\"annotationdefaults\": {\"arrowcolor\": \"#2a3f5f\", \"arrowhead\": 0, \"arrowwidth\": 1}, \"coloraxis\": {\"colorbar\": {\"outlinewidth\": 0, \"ticks\": \"\"}}, \"colorscale\": {\"diverging\": [[0, \"#8e0152\"], [0.1, \"#c51b7d\"], [0.2, \"#de77ae\"], [0.3, \"#f1b6da\"], [0.4, \"#fde0ef\"], [0.5, \"#f7f7f7\"], [0.6, \"#e6f5d0\"], [0.7, \"#b8e186\"], [0.8, \"#7fbc41\"], [0.9, \"#4d9221\"], [1, \"#276419\"]], \"sequential\": [[0.0, \"#0d0887\"], [0.1111111111111111, \"#46039f\"], [0.2222222222222222, \"#7201a8\"], [0.3333333333333333, \"#9c179e\"], [0.4444444444444444, \"#bd3786\"], [0.5555555555555556, \"#d8576b\"], [0.6666666666666666, \"#ed7953\"], [0.7777777777777778, \"#fb9f3a\"], [0.8888888888888888, \"#fdca26\"], [1.0, \"#f0f921\"]], \"sequentialminus\": [[0.0, \"#0d0887\"], [0.1111111111111111, \"#46039f\"], [0.2222222222222222, \"#7201a8\"], [0.3333333333333333, \"#9c179e\"], [0.4444444444444444, \"#bd3786\"], [0.5555555555555556, \"#d8576b\"], [0.6666666666666666, \"#ed7953\"], [0.7777777777777778, \"#fb9f3a\"], [0.8888888888888888, \"#fdca26\"], [1.0, \"#f0f921\"]]}, \"colorway\": [\"#636efa\", \"#EF553B\", \"#00cc96\", \"#ab63fa\", \"#FFA15A\", \"#19d3f3\", \"#FF6692\", \"#B6E880\", \"#FF97FF\", \"#FECB52\"], \"font\": {\"color\": \"#2a3f5f\"}, \"geo\": {\"bgcolor\": \"white\", \"lakecolor\": \"white\", \"landcolor\": \"#E5ECF6\", \"showlakes\": true, \"showland\": true, \"subunitcolor\": \"white\"}, \"hoverlabel\": {\"align\": \"left\"}, \"hovermode\": \"closest\", \"mapbox\": {\"style\": \"light\"}, \"paper_bgcolor\": \"white\", \"plot_bgcolor\": \"#E5ECF6\", \"polar\": {\"angularaxis\": {\"gridcolor\": \"white\", \"linecolor\": \"white\", \"ticks\": \"\"}, \"bgcolor\": \"#E5ECF6\", \"radialaxis\": {\"gridcolor\": \"white\", \"linecolor\": \"white\", \"ticks\": \"\"}}, \"scene\": {\"xaxis\": {\"backgroundcolor\": \"#E5ECF6\", \"gridcolor\": \"white\", \"gridwidth\": 2, \"linecolor\": \"white\", \"showbackground\": true, \"ticks\": \"\", \"zerolinecolor\": \"white\"}, \"yaxis\": {\"backgroundcolor\": \"#E5ECF6\", \"gridcolor\": \"white\", \"gridwidth\": 2, \"linecolor\": \"white\", \"showbackground\": true, \"ticks\": \"\", \"zerolinecolor\": \"white\"}, \"zaxis\": {\"backgroundcolor\": \"#E5ECF6\", \"gridcolor\": \"white\", \"gridwidth\": 2, \"linecolor\": \"white\", \"showbackground\": true, \"ticks\": \"\", \"zerolinecolor\": \"white\"}}, \"shapedefaults\": {\"line\": {\"color\": \"#2a3f5f\"}}, \"ternary\": {\"aaxis\": {\"gridcolor\": \"white\", \"linecolor\": \"white\", \"ticks\": \"\"}, \"baxis\": {\"gridcolor\": \"white\", \"linecolor\": \"white\", \"ticks\": \"\"}, \"bgcolor\": \"#E5ECF6\", \"caxis\": {\"gridcolor\": \"white\", \"linecolor\": \"white\", \"ticks\": \"\"}}, \"title\": {\"x\": 0.05}, \"xaxis\": {\"automargin\": true, \"gridcolor\": \"white\", \"linecolor\": \"white\", \"ticks\": \"\", \"title\": {\"standoff\": 15}, \"zerolinecolor\": \"white\", \"zerolinewidth\": 2}, \"yaxis\": {\"automargin\": true, \"gridcolor\": \"white\", \"linecolor\": \"white\", \"ticks\": \"\", \"title\": {\"standoff\": 15}, \"zerolinecolor\": \"white\", \"zerolinewidth\": 2}}}},\n",
              "                        {\"responsive\": true}\n",
              "                    ).then(function(){\n",
              "                            \n",
              "var gd = document.getElementById('62bae25b-0289-4ad7-a0ee-61bb2400c74a');\n",
              "var x = new MutationObserver(function (mutations, observer) {{\n",
              "        var display = window.getComputedStyle(gd).display;\n",
              "        if (!display || display === 'none') {{\n",
              "            console.log([gd, 'removed!']);\n",
              "            Plotly.purge(gd);\n",
              "            observer.disconnect();\n",
              "        }}\n",
              "}});\n",
              "\n",
              "// Listen for the removal of the full notebook cells\n",
              "var notebookContainer = gd.closest('#notebook-container');\n",
              "if (notebookContainer) {{\n",
              "    x.observe(notebookContainer, {childList: true});\n",
              "}}\n",
              "\n",
              "// Listen for the clearing of the current output cell\n",
              "var outputEl = gd.closest('.output');\n",
              "if (outputEl) {{\n",
              "    x.observe(outputEl, {childList: true});\n",
              "}}\n",
              "\n",
              "                        })\n",
              "                };\n",
              "                \n",
              "            </script>\n",
              "        </div>\n",
              "</body>\n",
              "</html>"
            ]
          },
          "metadata": {
            "tags": []
          }
        }
      ]
    },
    {
      "cell_type": "markdown",
      "metadata": {
        "id": "ltdnj-5aqd-T",
        "colab_type": "text"
      },
      "source": [
        "# Evaluate Model"
      ]
    },
    {
      "cell_type": "markdown",
      "metadata": {
        "id": "rr36MuOiDGfl",
        "colab_type": "text"
      },
      "source": [
        "## Evaluating for Training Dataset"
      ]
    },
    {
      "cell_type": "code",
      "metadata": {
        "id": "BeOhjJA09glM",
        "colab_type": "code",
        "outputId": "eb3cf2dd-b835-4557-f818-5787fb8b5bed",
        "colab": {
          "base_uri": "https://localhost:8080/",
          "height": 52
        }
      },
      "source": [
        "model.evaluate(x=train_dataset, y=train_labels)"
      ],
      "execution_count": 49,
      "outputs": [
        {
          "output_type": "stream",
          "text": [
            "126/126 [==============================] - 0s 1ms/step - loss: 0.2930 - accuracy: 0.8894\n"
          ],
          "name": "stdout"
        },
        {
          "output_type": "execute_result",
          "data": {
            "text/plain": [
              "[0.29301711916923523, 0.8893606662750244]"
            ]
          },
          "metadata": {
            "tags": []
          },
          "execution_count": 49
        }
      ]
    },
    {
      "cell_type": "code",
      "metadata": {
        "id": "qCeUicIr9Gdt",
        "colab_type": "code",
        "colab": {
          "base_uri": "https://localhost:8080/",
          "height": 212
        },
        "outputId": "a5838ea9-a29a-4d47-b185-78241ae2042d"
      },
      "source": [
        "from sklearn.metrics import confusion_matrix, classification_report\n",
        "confusion_matrix_train = confusion_matrix(actual_encoded_train_labels, predicted_encoded_train_labels)\n",
        "confusion_matrix_train"
      ],
      "execution_count": 115,
      "outputs": [
        {
          "output_type": "execute_result",
          "data": {
            "text/plain": [
              "array([[ 158,    0,    0,    0,    9,   12,    1,   10,    0,    0,    0],\n",
              "       [   0, 1100,   26,   20,    0,    1,    0,   10,   10,    0,    1],\n",
              "       [   0,   25,  794,    0,    0,    0,   25,    0,   12,    1,    1],\n",
              "       [   0,   21,    0,  181,   16,    0,    0,    6,    1,    0,    0],\n",
              "       [  17,    0,    0,    3,  139,    1,    0,    7,    0,    0,    0],\n",
              "       [  16,    0,    0,    0,    0,  375,   51,    8,    1,    0,    0],\n",
              "       [   1,    0,   19,    0,    0,   28,  389,    4,    6,    1,    2],\n",
              "       [   8,    1,    0,    4,    7,    3,    2,  282,    4,    0,    0],\n",
              "       [   0,    2,    7,    1,    0,    2,    7,    8,  115,    0,    2],\n",
              "       [   0,    0,    0,    0,    0,    0,    1,    0,    1,   14,    0],\n",
              "       [   0,    0,    2,    0,    0,    0,    0,    0,    8,    0,   14]])"
            ]
          },
          "metadata": {
            "tags": []
          },
          "execution_count": 115
        }
      ]
    },
    {
      "cell_type": "code",
      "metadata": {
        "id": "4hblh7ObIRO6",
        "colab_type": "code",
        "colab": {
          "base_uri": "https://localhost:8080/",
          "height": 700
        },
        "outputId": "9c000d57-e8cc-4e25-82c8-3dc51c1716ae"
      },
      "source": [
        "f,ax = plt.subplots(figsize=(16,12))\n",
        "categories = ['Red', 'Green', 'Blue', 'Yellow', 'Orange', 'Pink', 'Purple', 'Brown', 'Grey', 'Black', 'White']\n",
        "sns.heatmap(confusion_matrix_train, annot=True, cmap='Blues', fmt='d',\n",
        "            xticklabels = categories,\n",
        "            yticklabels = categories)\n",
        "plt.show()"
      ],
      "execution_count": 133,
      "outputs": [
        {
          "output_type": "display_data",
          "data": {
            "image/png": "[encoded data removed]",
            "text/plain": [
              "<Figure size 1152x864 with 2 Axes>"
            ]
          },
          "metadata": {
            "tags": [],
            "needs_background": "light"
          }
        }
      ]
    },
    {
      "cell_type": "code",
      "metadata": {
        "id": "8q8PXFs3BuIv",
        "colab_type": "code",
        "colab": {
          "base_uri": "https://localhost:8080/",
          "height": 336
        },
        "outputId": "9cb5adc3-d2a7-4644-fc04-4d746e1d40a9"
      },
      "source": [
        "target_names = ['Red', 'Green', 'Blue', 'Yellow', 'Orange', 'Pink', 'Purple', 'Brown', 'Grey', 'Black', 'White']\n",
        "print(classification_report(actual_encoded_train_labels, predicted_encoded_train_labels, target_names=target_names))"
      ],
      "execution_count": 103,
      "outputs": [
        {
          "output_type": "stream",
          "text": [
            "              precision    recall  f1-score   support\n",
            "\n",
            "         Red       0.79      0.83      0.81       190\n",
            "       Green       0.96      0.94      0.95      1168\n",
            "        Blue       0.94      0.93      0.93       858\n",
            "      Yellow       0.87      0.80      0.83       225\n",
            "      Orange       0.81      0.83      0.82       167\n",
            "        Pink       0.89      0.83      0.86       451\n",
            "      Purple       0.82      0.86      0.84       450\n",
            "       Brown       0.84      0.91      0.87       311\n",
            "        Grey       0.73      0.80      0.76       144\n",
            "       Black       0.88      0.88      0.88        16\n",
            "       White       0.70      0.58      0.64        24\n",
            "\n",
            "    accuracy                           0.89      4004\n",
            "   macro avg       0.84      0.84      0.84      4004\n",
            "weighted avg       0.89      0.89      0.89      4004\n",
            "\n"
          ],
          "name": "stdout"
        }
      ]
    },
    {
      "cell_type": "markdown",
      "metadata": {
        "id": "XATmZ1i_DQxq",
        "colab_type": "text"
      },
      "source": [
        "## Evaluating for Test Dataset"
      ]
    },
    {
      "cell_type": "code",
      "metadata": {
        "id": "EFvnm7RHL6ad",
        "colab_type": "code",
        "outputId": "2a7ae329-220b-4002-b479-c7b733f49dca",
        "colab": {
          "base_uri": "https://localhost:8080/",
          "height": 52
        }
      },
      "source": [
        "model.evaluate(x=test_dataset, y=test_labels)"
      ],
      "execution_count": 50,
      "outputs": [
        {
          "output_type": "stream",
          "text": [
            "32/32 [==============================] - 0s 1ms/step - loss: 0.4383 - accuracy: 0.8661\n"
          ],
          "name": "stdout"
        },
        {
          "output_type": "execute_result",
          "data": {
            "text/plain": [
              "[0.438273549079895, 0.8661338686943054]"
            ]
          },
          "metadata": {
            "tags": []
          },
          "execution_count": 50
        }
      ]
    },
    {
      "cell_type": "code",
      "metadata": {
        "id": "FDj3e9BtDVRL",
        "colab_type": "code",
        "colab": {
          "base_uri": "https://localhost:8080/",
          "height": 212
        },
        "outputId": "cfb99eef-903b-4d95-e3b0-129a9dc0727a"
      },
      "source": [
        "confusion_matrix_test = confusion_matrix(actual_encoded_test_labels, predicted_encoded_test_labels)\n",
        "confusion_matrix_test"
      ],
      "execution_count": 116,
      "outputs": [
        {
          "output_type": "execute_result",
          "data": {
            "text/plain": [
              "array([[ 36,   0,   0,   0,   2,   4,   0,   4,   0,   0,   0],\n",
              "       [  0, 263,   5,   6,   0,   0,   0,   1,   6,   1,   1],\n",
              "       [  0,  10, 219,   0,   0,   0,  11,   0,   2,   1,   0],\n",
              "       [  0,   5,   0,  49,   5,   0,   0,   1,   0,   0,   0],\n",
              "       [  2,   0,   0,   0,  31,   0,   0,   5,   0,   0,   0],\n",
              "       [  6,   0,   0,   0,   0, 110,  10,   2,   0,   0,   0],\n",
              "       [  0,   0,   4,   0,   0,   7,  79,   2,   1,   2,   0],\n",
              "       [  3,   0,   0,   0,   4,   0,   3,  51,   3,   0,   0],\n",
              "       [  0,   1,   2,   0,   0,   0,   0,   4,  25,   0,   1],\n",
              "       [  0,   0,   1,   0,   0,   0,   0,   0,   2,   1,   0],\n",
              "       [  0,   0,   1,   0,   1,   0,   0,   0,   2,   0,   3]])"
            ]
          },
          "metadata": {
            "tags": []
          },
          "execution_count": 116
        }
      ]
    },
    {
      "cell_type": "code",
      "metadata": {
        "id": "pYvJDPo_Lxyf",
        "colab_type": "code",
        "colab": {
          "base_uri": "https://localhost:8080/",
          "height": 700
        },
        "outputId": "80e19522-983e-4e05-c23f-a286a10751e0"
      },
      "source": [
        "f,ax = plt.subplots(figsize=(16,12))\n",
        "categories = ['Red', 'Green', 'Blue', 'Yellow', 'Orange', 'Pink', 'Purple', 'Brown', 'Grey', 'Black', 'White']\n",
        "sns.heatmap(confusion_matrix_test, annot=True, cmap='Blues', fmt='d',\n",
        "            xticklabels = categories,\n",
        "            yticklabels = categories)\n",
        "plt.show()"
      ],
      "execution_count": 127,
      "outputs": [
        {
          "output_type": "display_data",
          "data": {
            "image/png": "[encoded data removed]",
            "text/plain": [
              "<Figure size 1152x864 with 2 Axes>"
            ]
          },
          "metadata": {
            "tags": [],
            "needs_background": "light"
          }
        }
      ]
    },
    {
      "cell_type": "code",
      "metadata": {
        "id": "GlXERtz5ELxT",
        "colab_type": "code",
        "colab": {
          "base_uri": "https://localhost:8080/",
          "height": 336
        },
        "outputId": "c9b4a3a6-563c-4844-f2cb-899a352be165"
      },
      "source": [
        "target_names = ['Red', 'Green', 'Blue', 'Yellow', 'Orange', 'Pink', 'Purple', 'Brown', 'Grey', 'Black', 'White']\n",
        "print(classification_report(actual_encoded_test_labels, predicted_encoded_test_labels, target_names=target_names))"
      ],
      "execution_count": 117,
      "outputs": [
        {
          "output_type": "stream",
          "text": [
            "              precision    recall  f1-score   support\n",
            "\n",
            "         Red       0.77      0.78      0.77        46\n",
            "       Green       0.94      0.93      0.94       283\n",
            "        Blue       0.94      0.90      0.92       243\n",
            "      Yellow       0.89      0.82      0.85        60\n",
            "      Orange       0.72      0.82      0.77        38\n",
            "        Pink       0.91      0.86      0.88       128\n",
            "      Purple       0.77      0.83      0.80        95\n",
            "       Brown       0.73      0.80      0.76        64\n",
            "        Grey       0.61      0.76      0.68        33\n",
            "       Black       0.20      0.25      0.22         4\n",
            "       White       0.60      0.43      0.50         7\n",
            "\n",
            "    accuracy                           0.87      1001\n",
            "   macro avg       0.73      0.74      0.74      1001\n",
            "weighted avg       0.87      0.87      0.87      1001\n",
            "\n"
          ],
          "name": "stdout"
        }
      ]
    }
  ]
}