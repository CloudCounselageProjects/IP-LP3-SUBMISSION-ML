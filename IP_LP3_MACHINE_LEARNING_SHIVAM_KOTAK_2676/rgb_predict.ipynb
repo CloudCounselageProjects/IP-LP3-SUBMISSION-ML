{
 "cells": [
  {
   "cell_type": "code",
   "execution_count": 14,
   "metadata": {},
   "outputs": [],
   "source": [
    "#!pip3 install Pillow\n",
    "from PIL import Image, ImageDraw,ImageColor\n",
    "import pandas as pd\n",
    "import numpy as np\n",
    "import keras.preprocessing.image\n",
    "from keras.preprocessing.image import load_img\n",
    "from keras.preprocessing.image import img_to_array\n",
    "from keras.preprocessing.image import array_to_img\n",
    "import tensorflow as tf\n",
    "import keras.backend.tensorflow_backend as tfback\n",
    "from keras.models import Sequential\n",
    "from keras.models import Model\n",
    "from keras.layers import Conv2D, Dense, Flatten, MaxPooling2D, Dropout\n",
    "from sklearn.model_selection import train_test_split\n",
    "import keras.utils as np_utils\n",
    "from sklearn.preprocessing import OneHotEncoder, LabelEncoder\n"
   ]
  },
  {
   "cell_type": "code",
   "execution_count": 2,
   "metadata": {},
   "outputs": [],
   "source": [
    "from keras.models import load_model\n",
    "from IPython.display import Image, display\n",
    "import os\n",
    "#saved_imgs = \"./saved\""
   ]
  },
  {
   "cell_type": "markdown",
   "metadata": {},
   "source": [
    "This is basically so that it runs on gpu"
   ]
  },
  {
   "cell_type": "code",
   "execution_count": 3,
   "metadata": {},
   "outputs": [
    {
     "name": "stdout",
     "output_type": "stream",
     "text": [
      "tf.__version__ is 2.2.0\n",
      "tf.keras.__version__ is: 2.3.0-tf\n"
     ]
    }
   ],
   "source": [
    "print(\"tf.__version__ is\", tf.__version__)\n",
    "print(\"tf.keras.__version__ is:\", tf.keras.__version__)\n",
    "\n",
    "def _get_available_gpus():\n",
    "    \"\"\"Get a list of available gpu devices (formatted as strings).\n",
    "\n",
    "    # Returns\n",
    "        A list of available GPU devices.\n",
    "    \"\"\"\n",
    "    #global _LOCAL_DEVICES\n",
    "    if tfback._LOCAL_DEVICES is None:\n",
    "        devices = tf.config.list_logical_devices()\n",
    "        tfback._LOCAL_DEVICES = [x.name for x in devices]\n",
    "    return [x for x in tfback._LOCAL_DEVICES if 'device:gpu' in x.lower()]\n",
    "\n",
    "tfback._get_available_gpus = _get_available_gpus"
   ]
  },
  {
   "cell_type": "code",
   "execution_count": 4,
   "metadata": {},
   "outputs": [
    {
     "name": "stdout",
     "output_type": "stream",
     "text": [
      "Num GPUs Available:  1\n"
     ]
    }
   ],
   "source": [
    "print(\"Num GPUs Available: \", len(tf.config.experimental.list_physical_devices('GPU')))"
   ]
  },
  {
   "cell_type": "markdown",
   "metadata": {},
   "source": [
    "## READ DATA"
   ]
  },
  {
   "cell_type": "code",
   "execution_count": 5,
   "metadata": {},
   "outputs": [
    {
     "data": {
      "text/html": [
       "<div>\n",
       "<style scoped>\n",
       "    .dataframe tbody tr th:only-of-type {\n",
       "        vertical-align: middle;\n",
       "    }\n",
       "\n",
       "    .dataframe tbody tr th {\n",
       "        vertical-align: top;\n",
       "    }\n",
       "\n",
       "    .dataframe thead th {\n",
       "        text-align: right;\n",
       "    }\n",
       "</style>\n",
       "<table border=\"1\" class=\"dataframe\">\n",
       "  <thead>\n",
       "    <tr style=\"text-align: right;\">\n",
       "      <th></th>\n",
       "      <th>Color Name</th>\n",
       "      <th>RGB Hex</th>\n",
       "    </tr>\n",
       "  </thead>\n",
       "  <tbody>\n",
       "    <tr>\n",
       "      <th>0</th>\n",
       "      <td>Blue</td>\n",
       "      <td>635688</td>\n",
       "    </tr>\n",
       "    <tr>\n",
       "      <th>1</th>\n",
       "      <td>Blue</td>\n",
       "      <td>F0F8FF</td>\n",
       "    </tr>\n",
       "    <tr>\n",
       "      <th>2</th>\n",
       "      <td>Blue</td>\n",
       "      <td>8A2BE2</td>\n",
       "    </tr>\n",
       "    <tr>\n",
       "      <th>3</th>\n",
       "      <td>Blue</td>\n",
       "      <td>5F9F9F</td>\n",
       "    </tr>\n",
       "    <tr>\n",
       "      <th>4</th>\n",
       "      <td>Blue</td>\n",
       "      <td>5F9EA0</td>\n",
       "    </tr>\n",
       "    <tr>\n",
       "      <th>5</th>\n",
       "      <td>Blue</td>\n",
       "      <td>5F9EA0</td>\n",
       "    </tr>\n",
       "    <tr>\n",
       "      <th>6</th>\n",
       "      <td>Blue</td>\n",
       "      <td>98F5FF</td>\n",
       "    </tr>\n",
       "    <tr>\n",
       "      <th>7</th>\n",
       "      <td>Blue</td>\n",
       "      <td>8EE5EE</td>\n",
       "    </tr>\n",
       "    <tr>\n",
       "      <th>8</th>\n",
       "      <td>Blue</td>\n",
       "      <td>7AC5CD</td>\n",
       "    </tr>\n",
       "    <tr>\n",
       "      <th>9</th>\n",
       "      <td>Blue</td>\n",
       "      <td>53868B</td>\n",
       "    </tr>\n",
       "    <tr>\n",
       "      <th>10</th>\n",
       "      <td>Blue</td>\n",
       "      <td>42426F</td>\n",
       "    </tr>\n",
       "    <tr>\n",
       "      <th>11</th>\n",
       "      <td>Blue</td>\n",
       "      <td>6495ED</td>\n",
       "    </tr>\n",
       "    <tr>\n",
       "      <th>12</th>\n",
       "      <td>Blue</td>\n",
       "      <td>483D8B</td>\n",
       "    </tr>\n",
       "    <tr>\n",
       "      <th>13</th>\n",
       "      <td>Blue</td>\n",
       "      <td>00CED1</td>\n",
       "    </tr>\n",
       "    <tr>\n",
       "      <th>14</th>\n",
       "      <td>Blue</td>\n",
       "      <td>00BFFF</td>\n",
       "    </tr>\n",
       "    <tr>\n",
       "      <th>15</th>\n",
       "      <td>Blue</td>\n",
       "      <td>00BFFF</td>\n",
       "    </tr>\n",
       "    <tr>\n",
       "      <th>16</th>\n",
       "      <td>Blue</td>\n",
       "      <td>00B2EE</td>\n",
       "    </tr>\n",
       "    <tr>\n",
       "      <th>17</th>\n",
       "      <td>Blue</td>\n",
       "      <td>009ACD</td>\n",
       "    </tr>\n",
       "    <tr>\n",
       "      <th>18</th>\n",
       "      <td>Blue</td>\n",
       "      <td>00688B</td>\n",
       "    </tr>\n",
       "    <tr>\n",
       "      <th>19</th>\n",
       "      <td>Blue</td>\n",
       "      <td>1E90FF</td>\n",
       "    </tr>\n",
       "  </tbody>\n",
       "</table>\n",
       "</div>"
      ],
      "text/plain": [
       "   Color Name RGB Hex\n",
       "0        Blue  635688\n",
       "1        Blue  F0F8FF\n",
       "2        Blue  8A2BE2\n",
       "3        Blue  5F9F9F\n",
       "4        Blue  5F9EA0\n",
       "5        Blue  5F9EA0\n",
       "6        Blue  98F5FF\n",
       "7        Blue  8EE5EE\n",
       "8        Blue  7AC5CD\n",
       "9        Blue  53868B\n",
       "10       Blue  42426F\n",
       "11       Blue  6495ED\n",
       "12       Blue  483D8B\n",
       "13       Blue  00CED1\n",
       "14       Blue  00BFFF\n",
       "15       Blue  00BFFF\n",
       "16       Blue  00B2EE\n",
       "17       Blue  009ACD\n",
       "18       Blue  00688B\n",
       "19       Blue  1E90FF"
      ]
     },
     "execution_count": 5,
     "metadata": {},
     "output_type": "execute_result"
    }
   ],
   "source": [
    "#path = '/images/'\n",
    "dataset = pd.read_excel('rgb2_2.xlsx')\n",
    "dataset.head(20)"
   ]
  },
  {
   "cell_type": "code",
   "execution_count": 6,
   "metadata": {},
   "outputs": [
    {
     "data": {
      "text/html": [
       "<div>\n",
       "<style scoped>\n",
       "    .dataframe tbody tr th:only-of-type {\n",
       "        vertical-align: middle;\n",
       "    }\n",
       "\n",
       "    .dataframe tbody tr th {\n",
       "        vertical-align: top;\n",
       "    }\n",
       "\n",
       "    .dataframe thead th {\n",
       "        text-align: right;\n",
       "    }\n",
       "</style>\n",
       "<table border=\"1\" class=\"dataframe\">\n",
       "  <thead>\n",
       "    <tr style=\"text-align: right;\">\n",
       "      <th></th>\n",
       "      <th>Color Name</th>\n",
       "      <th>RGB Hex</th>\n",
       "    </tr>\n",
       "  </thead>\n",
       "  <tbody>\n",
       "    <tr>\n",
       "      <th>0</th>\n",
       "      <td>Blue</td>\n",
       "      <td>635688</td>\n",
       "    </tr>\n",
       "    <tr>\n",
       "      <th>1</th>\n",
       "      <td>Blue</td>\n",
       "      <td>F0F8FF</td>\n",
       "    </tr>\n",
       "    <tr>\n",
       "      <th>2</th>\n",
       "      <td>Blue</td>\n",
       "      <td>8A2BE2</td>\n",
       "    </tr>\n",
       "    <tr>\n",
       "      <th>3</th>\n",
       "      <td>Blue</td>\n",
       "      <td>5F9F9F</td>\n",
       "    </tr>\n",
       "    <tr>\n",
       "      <th>4</th>\n",
       "      <td>Blue</td>\n",
       "      <td>5F9EA0</td>\n",
       "    </tr>\n",
       "    <tr>\n",
       "      <th>5</th>\n",
       "      <td>Blue</td>\n",
       "      <td>5F9EA0</td>\n",
       "    </tr>\n",
       "    <tr>\n",
       "      <th>6</th>\n",
       "      <td>Blue</td>\n",
       "      <td>98F5FF</td>\n",
       "    </tr>\n",
       "    <tr>\n",
       "      <th>7</th>\n",
       "      <td>Blue</td>\n",
       "      <td>8EE5EE</td>\n",
       "    </tr>\n",
       "    <tr>\n",
       "      <th>8</th>\n",
       "      <td>Blue</td>\n",
       "      <td>7AC5CD</td>\n",
       "    </tr>\n",
       "    <tr>\n",
       "      <th>9</th>\n",
       "      <td>Blue</td>\n",
       "      <td>53868B</td>\n",
       "    </tr>\n",
       "    <tr>\n",
       "      <th>10</th>\n",
       "      <td>Blue</td>\n",
       "      <td>42426F</td>\n",
       "    </tr>\n",
       "    <tr>\n",
       "      <th>11</th>\n",
       "      <td>Blue</td>\n",
       "      <td>6495ED</td>\n",
       "    </tr>\n",
       "    <tr>\n",
       "      <th>12</th>\n",
       "      <td>Blue</td>\n",
       "      <td>483D8B</td>\n",
       "    </tr>\n",
       "    <tr>\n",
       "      <th>13</th>\n",
       "      <td>Blue</td>\n",
       "      <td>00CED1</td>\n",
       "    </tr>\n",
       "    <tr>\n",
       "      <th>14</th>\n",
       "      <td>Blue</td>\n",
       "      <td>00BFFF</td>\n",
       "    </tr>\n",
       "    <tr>\n",
       "      <th>15</th>\n",
       "      <td>Blue</td>\n",
       "      <td>00BFFF</td>\n",
       "    </tr>\n",
       "    <tr>\n",
       "      <th>16</th>\n",
       "      <td>Blue</td>\n",
       "      <td>00B2EE</td>\n",
       "    </tr>\n",
       "    <tr>\n",
       "      <th>17</th>\n",
       "      <td>Blue</td>\n",
       "      <td>009ACD</td>\n",
       "    </tr>\n",
       "    <tr>\n",
       "      <th>18</th>\n",
       "      <td>Blue</td>\n",
       "      <td>00688B</td>\n",
       "    </tr>\n",
       "    <tr>\n",
       "      <th>19</th>\n",
       "      <td>Blue</td>\n",
       "      <td>1E90FF</td>\n",
       "    </tr>\n",
       "    <tr>\n",
       "      <th>20</th>\n",
       "      <td>Blue</td>\n",
       "      <td>1E90FF</td>\n",
       "    </tr>\n",
       "    <tr>\n",
       "      <th>21</th>\n",
       "      <td>Blue</td>\n",
       "      <td>1C86EE</td>\n",
       "    </tr>\n",
       "    <tr>\n",
       "      <th>22</th>\n",
       "      <td>Blue</td>\n",
       "      <td>1874CD</td>\n",
       "    </tr>\n",
       "    <tr>\n",
       "      <th>23</th>\n",
       "      <td>Blue</td>\n",
       "      <td>104E8B</td>\n",
       "    </tr>\n",
       "    <tr>\n",
       "      <th>24</th>\n",
       "      <td>Blue</td>\n",
       "      <td>AABBCC</td>\n",
       "    </tr>\n",
       "    <tr>\n",
       "      <th>25</th>\n",
       "      <td>Blue</td>\n",
       "      <td>ADD8E6</td>\n",
       "    </tr>\n",
       "    <tr>\n",
       "      <th>26</th>\n",
       "      <td>Blue</td>\n",
       "      <td>BFEFFF</td>\n",
       "    </tr>\n",
       "    <tr>\n",
       "      <th>27</th>\n",
       "      <td>Blue</td>\n",
       "      <td>B2DFEE</td>\n",
       "    </tr>\n",
       "    <tr>\n",
       "      <th>28</th>\n",
       "      <td>Blue</td>\n",
       "      <td>9AC0CD</td>\n",
       "    </tr>\n",
       "    <tr>\n",
       "      <th>29</th>\n",
       "      <td>Blue</td>\n",
       "      <td>68838B</td>\n",
       "    </tr>\n",
       "    <tr>\n",
       "      <th>30</th>\n",
       "      <td>Blue</td>\n",
       "      <td>87CEFA</td>\n",
       "    </tr>\n",
       "    <tr>\n",
       "      <th>31</th>\n",
       "      <td>Blue</td>\n",
       "      <td>B0E2FF</td>\n",
       "    </tr>\n",
       "    <tr>\n",
       "      <th>32</th>\n",
       "      <td>Blue</td>\n",
       "      <td>A4D3EE</td>\n",
       "    </tr>\n",
       "    <tr>\n",
       "      <th>33</th>\n",
       "      <td>Blue</td>\n",
       "      <td>8DB6CD</td>\n",
       "    </tr>\n",
       "    <tr>\n",
       "      <th>34</th>\n",
       "      <td>Blue</td>\n",
       "      <td>607B8B</td>\n",
       "    </tr>\n",
       "    <tr>\n",
       "      <th>35</th>\n",
       "      <td>Blue</td>\n",
       "      <td>8470FF</td>\n",
       "    </tr>\n",
       "    <tr>\n",
       "      <th>36</th>\n",
       "      <td>Blue</td>\n",
       "      <td>99CCFF</td>\n",
       "    </tr>\n",
       "    <tr>\n",
       "      <th>37</th>\n",
       "      <td>Blue</td>\n",
       "      <td>B0C4DE</td>\n",
       "    </tr>\n",
       "    <tr>\n",
       "      <th>38</th>\n",
       "      <td>Blue</td>\n",
       "      <td>CAE1FF</td>\n",
       "    </tr>\n",
       "    <tr>\n",
       "      <th>39</th>\n",
       "      <td>Blue</td>\n",
       "      <td>BCD2EE</td>\n",
       "    </tr>\n",
       "  </tbody>\n",
       "</table>\n",
       "</div>"
      ],
      "text/plain": [
       "   Color Name RGB Hex\n",
       "0        Blue  635688\n",
       "1        Blue  F0F8FF\n",
       "2        Blue  8A2BE2\n",
       "3        Blue  5F9F9F\n",
       "4        Blue  5F9EA0\n",
       "5        Blue  5F9EA0\n",
       "6        Blue  98F5FF\n",
       "7        Blue  8EE5EE\n",
       "8        Blue  7AC5CD\n",
       "9        Blue  53868B\n",
       "10       Blue  42426F\n",
       "11       Blue  6495ED\n",
       "12       Blue  483D8B\n",
       "13       Blue  00CED1\n",
       "14       Blue  00BFFF\n",
       "15       Blue  00BFFF\n",
       "16       Blue  00B2EE\n",
       "17       Blue  009ACD\n",
       "18       Blue  00688B\n",
       "19       Blue  1E90FF\n",
       "20       Blue  1E90FF\n",
       "21       Blue  1C86EE\n",
       "22       Blue  1874CD\n",
       "23       Blue  104E8B\n",
       "24       Blue  AABBCC\n",
       "25       Blue  ADD8E6\n",
       "26       Blue  BFEFFF\n",
       "27       Blue  B2DFEE\n",
       "28       Blue  9AC0CD\n",
       "29       Blue  68838B\n",
       "30       Blue  87CEFA\n",
       "31       Blue  B0E2FF\n",
       "32       Blue  A4D3EE\n",
       "33       Blue  8DB6CD\n",
       "34       Blue  607B8B\n",
       "35       Blue  8470FF\n",
       "36       Blue  99CCFF\n",
       "37       Blue  B0C4DE\n",
       "38       Blue  CAE1FF\n",
       "39       Blue  BCD2EE"
      ]
     },
     "execution_count": 6,
     "metadata": {},
     "output_type": "execute_result"
    }
   ],
   "source": [
    "dataset.head(40)"
   ]
  },
  {
   "cell_type": "code",
   "execution_count": 7,
   "metadata": {},
   "outputs": [
    {
     "data": {
      "text/plain": [
       "398"
      ]
     },
     "execution_count": 7,
     "metadata": {},
     "output_type": "execute_result"
    }
   ],
   "source": [
    "len(dataset['RGB Hex'])"
   ]
  },
  {
   "cell_type": "code",
   "execution_count": 8,
   "metadata": {},
   "outputs": [
    {
     "data": {
      "text/plain": [
       "array(['Blue', 'Green', 'Red'], dtype=object)"
      ]
     },
     "execution_count": 8,
     "metadata": {},
     "output_type": "execute_result"
    }
   ],
   "source": [
    "dataset['Color Name'].unique()"
   ]
  },
  {
   "cell_type": "code",
   "execution_count": 9,
   "metadata": {},
   "outputs": [],
   "source": [
    "dataset = dataset.rename(columns = {'Color Name': 'color', 'RGB Hex': 'Hex'})"
   ]
  },
  {
   "cell_type": "code",
   "execution_count": 10,
   "metadata": {},
   "outputs": [
    {
     "data": {
      "text/html": [
       "<div>\n",
       "<style scoped>\n",
       "    .dataframe tbody tr th:only-of-type {\n",
       "        vertical-align: middle;\n",
       "    }\n",
       "\n",
       "    .dataframe tbody tr th {\n",
       "        vertical-align: top;\n",
       "    }\n",
       "\n",
       "    .dataframe thead th {\n",
       "        text-align: right;\n",
       "    }\n",
       "</style>\n",
       "<table border=\"1\" class=\"dataframe\">\n",
       "  <thead>\n",
       "    <tr style=\"text-align: right;\">\n",
       "      <th></th>\n",
       "      <th>color</th>\n",
       "      <th>Hex</th>\n",
       "    </tr>\n",
       "  </thead>\n",
       "  <tbody>\n",
       "    <tr>\n",
       "      <th>0</th>\n",
       "      <td>Blue</td>\n",
       "      <td>635688</td>\n",
       "    </tr>\n",
       "    <tr>\n",
       "      <th>1</th>\n",
       "      <td>Blue</td>\n",
       "      <td>F0F8FF</td>\n",
       "    </tr>\n",
       "    <tr>\n",
       "      <th>2</th>\n",
       "      <td>Blue</td>\n",
       "      <td>8A2BE2</td>\n",
       "    </tr>\n",
       "    <tr>\n",
       "      <th>3</th>\n",
       "      <td>Blue</td>\n",
       "      <td>5F9F9F</td>\n",
       "    </tr>\n",
       "    <tr>\n",
       "      <th>4</th>\n",
       "      <td>Blue</td>\n",
       "      <td>5F9EA0</td>\n",
       "    </tr>\n",
       "    <tr>\n",
       "      <th>...</th>\n",
       "      <td>...</td>\n",
       "      <td>...</td>\n",
       "    </tr>\n",
       "    <tr>\n",
       "      <th>393</th>\n",
       "      <td>Green</td>\n",
       "      <td>238E35</td>\n",
       "    </tr>\n",
       "    <tr>\n",
       "      <th>394</th>\n",
       "      <td>Green</td>\n",
       "      <td>239E33</td>\n",
       "    </tr>\n",
       "    <tr>\n",
       "      <th>395</th>\n",
       "      <td>Green</td>\n",
       "      <td>236E41</td>\n",
       "    </tr>\n",
       "    <tr>\n",
       "      <th>396</th>\n",
       "      <td>Green</td>\n",
       "      <td>238E73</td>\n",
       "    </tr>\n",
       "    <tr>\n",
       "      <th>397</th>\n",
       "      <td>Green</td>\n",
       "      <td>009062</td>\n",
       "    </tr>\n",
       "  </tbody>\n",
       "</table>\n",
       "<p>398 rows × 2 columns</p>\n",
       "</div>"
      ],
      "text/plain": [
       "     color     Hex\n",
       "0     Blue  635688\n",
       "1     Blue  F0F8FF\n",
       "2     Blue  8A2BE2\n",
       "3     Blue  5F9F9F\n",
       "4     Blue  5F9EA0\n",
       "..     ...     ...\n",
       "393  Green  238E35\n",
       "394  Green  239E33\n",
       "395  Green  236E41\n",
       "396  Green  238E73\n",
       "397  Green  009062\n",
       "\n",
       "[398 rows x 2 columns]"
      ]
     },
     "execution_count": 10,
     "metadata": {},
     "output_type": "execute_result"
    }
   ],
   "source": [
    "dataset"
   ]
  },
  {
   "cell_type": "code",
   "execution_count": 11,
   "metadata": {},
   "outputs": [
    {
     "data": {
      "text/plain": [
       "635688"
      ]
     },
     "execution_count": 11,
     "metadata": {},
     "output_type": "execute_result"
    }
   ],
   "source": [
    "dataset['Hex'][0]"
   ]
  },
  {
   "cell_type": "markdown",
   "metadata": {},
   "source": [
    "## BELOW CELLS ARE AN EXAMPLE OF PRINTING AN IMAGE"
   ]
  },
  {
   "cell_type": "code",
   "execution_count": 15,
   "metadata": {},
   "outputs": [],
   "source": [
    "img = Image.new('RGB',(28,28),'#' + str(dataset['Hex'][0] ))"
   ]
  },
  {
   "cell_type": "code",
   "execution_count": 16,
   "metadata": {},
   "outputs": [
    {
     "name": "stdout",
     "output_type": "stream",
     "text": [
      "[ 99.  86. 136.]\n"
     ]
    }
   ],
   "source": [
    "print(img_to_array(img)[0,0])"
   ]
  },
  {
   "cell_type": "code",
   "execution_count": 17,
   "metadata": {},
   "outputs": [
    {
     "name": "stdout",
     "output_type": "stream",
     "text": [
      "<class 'PIL.Image.Image'>\n",
      "None\n",
      "RGB\n",
      "(28, 28)\n"
     ]
    },
    {
     "data": {
      "image/png": "[encoded data removed]",
      "text/plain": [
       "<PIL.Image.Image image mode=RGB size=28x28 at 0x196F3879C08>"
      ]
     },
     "metadata": {},
     "output_type": "display_data"
    }
   ],
   "source": [
    "print(type(img))\n",
    "print(img.format)\n",
    "print(img.mode)\n",
    "print(img.size)\n",
    "# show the image\n",
    "#img.show()\n",
    "display(img)"
   ]
  },
  {
   "cell_type": "markdown",
   "metadata": {},
   "source": [
    "### SINCE ALL PIXEL VALUES ARE SAME ONLY ONE PIXEL VALUE IS ENOUGH FOR PREDICTION"
   ]
  },
  {
   "cell_type": "code",
   "execution_count": 18,
   "metadata": {},
   "outputs": [],
   "source": [
    "images = []\n",
    "for i in range(len(dataset.Hex)):\n",
    "    img = Image.new('RGB',(28,28),'#' + str(dataset['Hex'][i]))\n",
    "    img_arr = img_to_array(img)[0,0]\n",
    "    img_arr = img_arr.reshape(1, 1, img_arr.shape[0])\n",
    "    images.append(img_arr)"
   ]
  },
  {
   "cell_type": "code",
   "execution_count": 19,
   "metadata": {},
   "outputs": [
    {
     "data": {
      "text/plain": [
       "(1, 1, 3)"
      ]
     },
     "execution_count": 19,
     "metadata": {},
     "output_type": "execute_result"
    }
   ],
   "source": [
    "images[0].shape"
   ]
  },
  {
   "cell_type": "code",
   "execution_count": 20,
   "metadata": {},
   "outputs": [],
   "source": [
    "x = np.concatenate(images, axis = 0)"
   ]
  },
  {
   "cell_type": "code",
   "execution_count": 21,
   "metadata": {},
   "outputs": [
    {
     "data": {
      "text/plain": [
       "(398, 1, 3)"
      ]
     },
     "execution_count": 21,
     "metadata": {},
     "output_type": "execute_result"
    }
   ],
   "source": [
    "x.shape"
   ]
  },
  {
   "cell_type": "code",
   "execution_count": 22,
   "metadata": {},
   "outputs": [
    {
     "ename": "NameError",
     "evalue": "name 'image_array' is not defined",
     "output_type": "error",
     "traceback": [
      "\u001b[1;31m---------------------------------------------------------------------------\u001b[0m",
      "\u001b[1;31mNameError\u001b[0m                                 Traceback (most recent call last)",
      "\u001b[1;32m<ipython-input-22-5c4336bbb1fd>\u001b[0m in \u001b[0;36m<module>\u001b[1;34m\u001b[0m\n\u001b[1;32m----> 1\u001b[1;33m \u001b[0marray_to_img\u001b[0m\u001b[1;33m(\u001b[0m\u001b[0mimage_array\u001b[0m\u001b[1;33m[\u001b[0m\u001b[1;36m156\u001b[0m\u001b[1;33m]\u001b[0m\u001b[1;33m)\u001b[0m\u001b[1;33m.\u001b[0m\u001b[0mshow\u001b[0m\u001b[1;33m(\u001b[0m\u001b[1;33m)\u001b[0m\u001b[1;33m\u001b[0m\u001b[1;33m\u001b[0m\u001b[0m\n\u001b[0m\u001b[0;32m      2\u001b[0m \u001b[0mprint\u001b[0m\u001b[1;33m(\u001b[0m\u001b[0mdataset\u001b[0m\u001b[1;33m[\u001b[0m\u001b[1;34m'color'\u001b[0m\u001b[1;33m]\u001b[0m\u001b[1;33m[\u001b[0m\u001b[1;36m156\u001b[0m\u001b[1;33m]\u001b[0m\u001b[1;33m)\u001b[0m\u001b[1;33m\u001b[0m\u001b[1;33m\u001b[0m\u001b[0m\n",
      "\u001b[1;31mNameError\u001b[0m: name 'image_array' is not defined"
     ]
    }
   ],
   "source": [
    "array_to_img(image_array[156]).show()\n",
    "print(dataset['color'][156])"
   ]
  },
  {
   "cell_type": "code",
   "execution_count": 23,
   "metadata": {},
   "outputs": [],
   "source": [
    "y = dataset['color'].values\n",
    "#y = y.reshape(y.shape[0],1)"
   ]
  },
  {
   "cell_type": "markdown",
   "metadata": {},
   "source": [
    "## PREPARE LABELS"
   ]
  },
  {
   "cell_type": "code",
   "execution_count": 24,
   "metadata": {},
   "outputs": [
    {
     "name": "stdout",
     "output_type": "stream",
     "text": [
      "[0 0 0 0 0 0 0 0 0 0 0 0 0 0 0 0 0 0 0 0 0 0 0 0 0 0 0 0 0 0 0 0 0 0 0 0 0\n",
      " 0 0 0 0 0 1 0 0 1 0 0 0 0 0 0 0 0 0 0 0 0 0 0 0 0 0 0 0 0 0 0 0 0 0 0 0 1\n",
      " 1 1 1 1 0 0 0 0 0 0 0 1 0 0 0 0 0 0 0 1 0 0 0 0 0 0 0 0 0 0 2 2 2 2 2 2 2\n",
      " 2 2 2 2 2 2 2 2 2 2 2 2 2 2 2 2 2 2 2 2 2 2 2 2 2 2 2 2 2 2 2 2 2 2 1 1 1\n",
      " 1 1 1 1 1 1 1 1 1 1 1 1 1 1 1 1 1 1 1 1 1 1 1 1 1 1 1 1 1 1 1 1 1 1 1 1 1\n",
      " 1 1 1 1 1 1 1 1 1 1 1 1 1 1 1 1 1 1 1 1 1 2 2 1 1 1 1 1 1 1 1 1 2 2 2 2 2\n",
      " 2 2 2 2 2 2 2 2 2 2 2 2 2 2 2 2 2 2 1 1 0 0 0 2 2 2 2 2 2 2 2 2 2 2 2 2 2\n",
      " 2 2 2 2 2 2 2 2 2 2 2 2 2 2 2 2 2 2 2 2 2 2 2 2 2 2 2 2 2 2 2 2 2 2 2 2 2\n",
      " 2 2 2 2 2 2 2 2 2 2 2 2 2 2 2 2 2 2 2 2 2 2 2 2 2 2 2 2 2 2 2 2 2 0 0 0 0\n",
      " 0 0 0 0 2 0 0 0 0 0 0 0 0 0 0 0 0 0 0 0 0 0 0 0 2 2 2 2 2 0 0 0 0 0 0 0 0\n",
      " 0 0 0 0 0 0 0 0 0 0 0 0 0 0 2 0 1 1 1 1 1 1 2 1 1 1 1 1]\n"
     ]
    }
   ],
   "source": [
    "label_encoder = LabelEncoder()\n",
    "integer_encoded = label_encoder.fit_transform(y)\n",
    "print(integer_encoded)"
   ]
  },
  {
   "cell_type": "markdown",
   "metadata": {},
   "source": [
    "### SAVE LABELS "
   ]
  },
  {
   "cell_type": "code",
   "execution_count": 25,
   "metadata": {},
   "outputs": [
    {
     "data": {
      "text/plain": [
       "array(['Blue', 'Green', 'Red'], dtype=object)"
      ]
     },
     "execution_count": 25,
     "metadata": {},
     "output_type": "execute_result"
    }
   ],
   "source": [
    "labels = label_encoder.classes_\n",
    "labels"
   ]
  },
  {
   "cell_type": "code",
   "execution_count": 26,
   "metadata": {},
   "outputs": [
    {
     "name": "stdout",
     "output_type": "stream",
     "text": [
      "[[1. 0. 0.]\n",
      " [1. 0. 0.]\n",
      " [1. 0. 0.]\n",
      " ...\n",
      " [0. 1. 0.]\n",
      " [0. 1. 0.]\n",
      " [0. 1. 0.]]\n"
     ]
    }
   ],
   "source": [
    "onehot_encoder = OneHotEncoder(sparse=False)\n",
    "integer_encoded = integer_encoded.reshape(len(integer_encoded), 1)\n",
    "y = onehot_encoder.fit_transform(integer_encoded)\n",
    "print(y)"
   ]
  },
  {
   "cell_type": "code",
   "execution_count": 27,
   "metadata": {},
   "outputs": [
    {
     "data": {
      "text/plain": [
       "(398, 3)"
      ]
     },
     "execution_count": 27,
     "metadata": {},
     "output_type": "execute_result"
    }
   ],
   "source": [
    "y.shape"
   ]
  },
  {
   "cell_type": "markdown",
   "metadata": {},
   "source": [
    "### TRAIN-TEST SPLIT "
   ]
  },
  {
   "cell_type": "code",
   "execution_count": 28,
   "metadata": {},
   "outputs": [],
   "source": [
    "x_train, x_test, y_train, y_test = train_test_split(x, y, test_size = 0.2, shuffle = True)"
   ]
  },
  {
   "cell_type": "code",
   "execution_count": 29,
   "metadata": {},
   "outputs": [
    {
     "name": "stdout",
     "output_type": "stream",
     "text": [
      "(318, 1, 3) (80, 1, 3) (318, 3) (80, 3) <class 'numpy.ndarray'>\n"
     ]
    }
   ],
   "source": [
    "print(x_train.shape, x_test.shape, y_train.shape, y_test.shape, type(y_train[0]))"
   ]
  },
  {
   "cell_type": "code",
   "execution_count": 30,
   "metadata": {},
   "outputs": [
    {
     "ename": "TypeError",
     "evalue": "only integer scalar arrays can be converted to a scalar index",
     "output_type": "error",
     "traceback": [
      "\u001b[1;31m---------------------------------------------------------------------------\u001b[0m",
      "\u001b[1;31mTypeError\u001b[0m                                 Traceback (most recent call last)",
      "\u001b[1;32m<ipython-input-30-9c70763568a3>\u001b[0m in \u001b[0;36m<module>\u001b[1;34m\u001b[0m\n\u001b[1;32m----> 1\u001b[1;33m \u001b[0mx_train1\u001b[0m \u001b[1;33m=\u001b[0m \u001b[0mx_train\u001b[0m\u001b[1;33m.\u001b[0m\u001b[0mreshape\u001b[0m\u001b[1;33m(\u001b[0m\u001b[0mx_train\u001b[0m\u001b[1;33m[\u001b[0m\u001b[1;36m0\u001b[0m\u001b[1;33m]\u001b[0m\u001b[1;33m,\u001b[0m \u001b[1;36m784\u001b[0m\u001b[1;33m,\u001b[0m \u001b[1;36m3\u001b[0m\u001b[1;33m)\u001b[0m\u001b[1;33m\u001b[0m\u001b[1;33m\u001b[0m\u001b[0m\n\u001b[0m\u001b[0;32m      2\u001b[0m \u001b[0mx_train1\u001b[0m\u001b[1;33m.\u001b[0m\u001b[0mshape\u001b[0m\u001b[1;33m\u001b[0m\u001b[1;33m\u001b[0m\u001b[0m\n",
      "\u001b[1;31mTypeError\u001b[0m: only integer scalar arrays can be converted to a scalar index"
     ]
    }
   ],
   "source": [
    "x_train1 = x_train.reshape(x_train[0], 784, 3)\n",
    "x_train1.shape"
   ]
  },
  {
   "cell_type": "code",
   "execution_count": 31,
   "metadata": {},
   "outputs": [],
   "source": [
    "x_train /= 255\n",
    "x_test /= 255"
   ]
  },
  {
   "cell_type": "markdown",
   "metadata": {},
   "source": [
    "##  MODEL DEFINE"
   ]
  },
  {
   "cell_type": "code",
   "execution_count": 32,
   "metadata": {},
   "outputs": [],
   "source": [
    "model = Sequential()\n",
    "model.add(Dense(15, activation = 'relu', input_shape=(1,3)))                            \n",
    "#model.add(Dropout(0.2))\n",
    "\n",
    "model.add(Dense(15, activation = 'relu'))\n",
    "#model.add(Dropout(0.2))\n",
    "model.add(Flatten())\n",
    "model.add(Dense(y.shape[1], activation = 'softmax'))\n",
    "model.compile(loss='categorical_crossentropy', metrics=['accuracy'], optimizer='adam')"
   ]
  },
  {
   "cell_type": "code",
   "execution_count": 33,
   "metadata": {},
   "outputs": [
    {
     "name": "stdout",
     "output_type": "stream",
     "text": [
      "Model: \"sequential_1\"\n",
      "_________________________________________________________________\n",
      "Layer (type)                 Output Shape              Param #   \n",
      "=================================================================\n",
      "dense_1 (Dense)              (None, 1, 15)             60        \n",
      "_________________________________________________________________\n",
      "dense_2 (Dense)              (None, 1, 15)             240       \n",
      "_________________________________________________________________\n",
      "flatten_1 (Flatten)          (None, 15)                0         \n",
      "_________________________________________________________________\n",
      "dense_3 (Dense)              (None, 3)                 48        \n",
      "=================================================================\n",
      "Total params: 348\n",
      "Trainable params: 348\n",
      "Non-trainable params: 0\n",
      "_________________________________________________________________\n"
     ]
    }
   ],
   "source": [
    "model.summary()"
   ]
  },
  {
   "cell_type": "code",
   "execution_count": 34,
   "metadata": {},
   "outputs": [
    {
     "name": "stdout",
     "output_type": "stream",
     "text": [
      "Train on 318 samples, validate on 80 samples\n",
      "Epoch 1/40\n",
      "318/318 [==============================] - 2s 7ms/step - loss: 0.8771 - accuracy: 0.6824 - val_loss: 0.7001 - val_accuracy: 0.8000\n",
      "Epoch 2/40\n",
      "318/318 [==============================] - 2s 6ms/step - loss: 0.5985 - accuracy: 0.8145 - val_loss: 0.4905 - val_accuracy: 0.8250\n",
      "Epoch 3/40\n",
      "318/318 [==============================] - 2s 6ms/step - loss: 0.4135 - accuracy: 0.8962 - val_loss: 0.3214 - val_accuracy: 0.9250\n",
      "Epoch 4/40\n",
      "318/318 [==============================] - 2s 6ms/step - loss: 0.3191 - accuracy: 0.9151 - val_loss: 0.2331 - val_accuracy: 0.9500\n",
      "Epoch 5/40\n",
      "318/318 [==============================] - 2s 5ms/step - loss: 0.2701 - accuracy: 0.9245 - val_loss: 0.1990 - val_accuracy: 0.9375\n",
      "Epoch 6/40\n",
      "318/318 [==============================] - 2s 6ms/step - loss: 0.2273 - accuracy: 0.9497 - val_loss: 0.1685 - val_accuracy: 0.9750\n",
      "Epoch 7/40\n",
      "318/318 [==============================] - 2s 5ms/step - loss: 0.2106 - accuracy: 0.9497 - val_loss: 0.1416 - val_accuracy: 0.9625\n",
      "Epoch 8/40\n",
      "318/318 [==============================] - 2s 6ms/step - loss: 0.1942 - accuracy: 0.9591 - val_loss: 0.1211 - val_accuracy: 0.9750\n",
      "Epoch 9/40\n",
      "318/318 [==============================] - 2s 6ms/step - loss: 0.1726 - accuracy: 0.9497 - val_loss: 0.1416 - val_accuracy: 0.9500\n",
      "Epoch 10/40\n",
      "318/318 [==============================] - 2s 6ms/step - loss: 0.1735 - accuracy: 0.9465 - val_loss: 0.1035 - val_accuracy: 0.9875\n",
      "Epoch 11/40\n",
      "318/318 [==============================] - 2s 6ms/step - loss: 0.1587 - accuracy: 0.9591 - val_loss: 0.1033 - val_accuracy: 0.9625\n",
      "Epoch 12/40\n",
      "318/318 [==============================] - 7s 21ms/step - loss: 0.1543 - accuracy: 0.9623 - val_loss: 0.1069 - val_accuracy: 0.9625\n",
      "Epoch 13/40\n",
      "318/318 [==============================] - 2s 6ms/step - loss: 0.1478 - accuracy: 0.9654 - val_loss: 0.0982 - val_accuracy: 0.9625\n",
      "Epoch 14/40\n",
      "318/318 [==============================] - 2s 6ms/step - loss: 0.1453 - accuracy: 0.9654 - val_loss: 0.0825 - val_accuracy: 0.9625\n",
      "Epoch 15/40\n",
      "318/318 [==============================] - 2s 6ms/step - loss: 0.1385 - accuracy: 0.9560 - val_loss: 0.0852 - val_accuracy: 0.9625\n",
      "Epoch 16/40\n",
      "318/318 [==============================] - 2s 6ms/step - loss: 0.1360 - accuracy: 0.9591 - val_loss: 0.0805 - val_accuracy: 0.9875\n",
      "Epoch 17/40\n",
      "318/318 [==============================] - 2s 6ms/step - loss: 0.1361 - accuracy: 0.9591 - val_loss: 0.0727 - val_accuracy: 0.9625\n",
      "Epoch 18/40\n",
      "318/318 [==============================] - 2s 6ms/step - loss: 0.1331 - accuracy: 0.9623 - val_loss: 0.0841 - val_accuracy: 0.9750\n",
      "Epoch 19/40\n",
      "318/318 [==============================] - 2s 6ms/step - loss: 0.1325 - accuracy: 0.9654 - val_loss: 0.0553 - val_accuracy: 1.0000\n",
      "Epoch 20/40\n",
      "318/318 [==============================] - 2s 6ms/step - loss: 0.1195 - accuracy: 0.9780 - val_loss: 0.0823 - val_accuracy: 0.9875\n",
      "Epoch 21/40\n",
      "318/318 [==============================] - 2s 5ms/step - loss: 0.1154 - accuracy: 0.9748 - val_loss: 0.0544 - val_accuracy: 1.0000\n",
      "Epoch 22/40\n",
      "318/318 [==============================] - 2s 6ms/step - loss: 0.1225 - accuracy: 0.9654 - val_loss: 0.0519 - val_accuracy: 1.0000\n",
      "Epoch 23/40\n",
      "318/318 [==============================] - 2s 6ms/step - loss: 0.1141 - accuracy: 0.9717 - val_loss: 0.0495 - val_accuracy: 1.0000\n",
      "Epoch 24/40\n",
      "318/318 [==============================] - 2s 6ms/step - loss: 0.1106 - accuracy: 0.9748 - val_loss: 0.0638 - val_accuracy: 0.9875\n",
      "Epoch 25/40\n",
      "318/318 [==============================] - 2s 6ms/step - loss: 0.1206 - accuracy: 0.9654 - val_loss: 0.0560 - val_accuracy: 0.9875\n",
      "Epoch 26/40\n",
      "318/318 [==============================] - 2s 6ms/step - loss: 0.1110 - accuracy: 0.9623 - val_loss: 0.0456 - val_accuracy: 1.0000\n",
      "Epoch 27/40\n",
      "318/318 [==============================] - 2s 6ms/step - loss: 0.1102 - accuracy: 0.9780 - val_loss: 0.0470 - val_accuracy: 1.0000\n",
      "Epoch 28/40\n",
      "318/318 [==============================] - 2s 6ms/step - loss: 0.1032 - accuracy: 0.9717 - val_loss: 0.0481 - val_accuracy: 0.9875\n",
      "Epoch 29/40\n",
      "318/318 [==============================] - 2s 5ms/step - loss: 0.1062 - accuracy: 0.9717 - val_loss: 0.0545 - val_accuracy: 0.9750\n",
      "Epoch 30/40\n",
      "318/318 [==============================] - 6s 20ms/step - loss: 0.1090 - accuracy: 0.9686 - val_loss: 0.0451 - val_accuracy: 1.0000\n",
      "Epoch 31/40\n",
      "318/318 [==============================] - 2s 6ms/step - loss: 0.1046 - accuracy: 0.9780 - val_loss: 0.0442 - val_accuracy: 1.0000\n",
      "Epoch 32/40\n",
      "318/318 [==============================] - 2s 6ms/step - loss: 0.1029 - accuracy: 0.9686 - val_loss: 0.0742 - val_accuracy: 0.9750\n",
      "Epoch 33/40\n",
      "318/318 [==============================] - 2s 6ms/step - loss: 0.0998 - accuracy: 0.9780 - val_loss: 0.0347 - val_accuracy: 1.0000\n",
      "Epoch 34/40\n",
      "318/318 [==============================] - 2s 6ms/step - loss: 0.0888 - accuracy: 0.9843 - val_loss: 0.0574 - val_accuracy: 0.9625\n",
      "Epoch 35/40\n",
      "318/318 [==============================] - 2s 7ms/step - loss: 0.1083 - accuracy: 0.9686 - val_loss: 0.0447 - val_accuracy: 1.0000\n",
      "Epoch 36/40\n",
      "318/318 [==============================] - 2s 6ms/step - loss: 0.0988 - accuracy: 0.9748 - val_loss: 0.0468 - val_accuracy: 1.0000\n",
      "Epoch 37/40\n",
      "318/318 [==============================] - 2s 6ms/step - loss: 0.1039 - accuracy: 0.9780 - val_loss: 0.0630 - val_accuracy: 0.9750\n",
      "Epoch 38/40\n",
      "318/318 [==============================] - 2s 6ms/step - loss: 0.1022 - accuracy: 0.9654 - val_loss: 0.0653 - val_accuracy: 0.9750\n",
      "Epoch 39/40\n",
      "318/318 [==============================] - 2s 7ms/step - loss: 0.0946 - accuracy: 0.9748 - val_loss: 0.0277 - val_accuracy: 1.0000\n",
      "Epoch 40/40\n",
      "318/318 [==============================] - 2s 6ms/step - loss: 0.0944 - accuracy: 0.9686 - val_loss: 0.0510 - val_accuracy: 0.9750\n"
     ]
    }
   ],
   "source": [
    "history = model.fit(x_train, y_train,\n",
    "         batch_size=1, epochs=40,\n",
    "         verbose = 1,\n",
    "         shuffle = True,\n",
    "         validation_data=(x_test, y_test)\n",
    "         )"
   ]
  },
  {
   "cell_type": "code",
   "execution_count": 35,
   "metadata": {},
   "outputs": [],
   "source": [
    "#SAVE MODEL\n",
    "model.save('model.h5')"
   ]
  },
  {
   "cell_type": "code",
   "execution_count": 36,
   "metadata": {},
   "outputs": [],
   "source": [
    "#LOAD MODEL\n",
    "model = load_model('model.h5')"
   ]
  },
  {
   "cell_type": "code",
   "execution_count": 37,
   "metadata": {},
   "outputs": [
    {
     "name": "stdout",
     "output_type": "stream",
     "text": [
      "Model: \"sequential_1\"\n",
      "_________________________________________________________________\n",
      "Layer (type)                 Output Shape              Param #   \n",
      "=================================================================\n",
      "dense_1 (Dense)              (None, 1, 15)             60        \n",
      "_________________________________________________________________\n",
      "dense_2 (Dense)              (None, 1, 15)             240       \n",
      "_________________________________________________________________\n",
      "flatten_1 (Flatten)          (None, 15)                0         \n",
      "_________________________________________________________________\n",
      "dense_3 (Dense)              (None, 3)                 48        \n",
      "=================================================================\n",
      "Total params: 348\n",
      "Trainable params: 348\n",
      "Non-trainable params: 0\n",
      "_________________________________________________________________\n"
     ]
    }
   ],
   "source": [
    "model.summary()"
   ]
  },
  {
   "cell_type": "markdown",
   "metadata": {},
   "source": [
    "## TRYING PREDICTIONS WITH SOME OF THE TEST DATA "
   ]
  },
  {
   "cell_type": "code",
   "execution_count": 38,
   "metadata": {},
   "outputs": [],
   "source": [
    "test_sample = x_test[57:68]\n",
    "sample_actual = y_test[57:68]\n",
    "predict = model.predict_on_batch(test_sample)"
   ]
  },
  {
   "cell_type": "code",
   "execution_count": 39,
   "metadata": {},
   "outputs": [
    {
     "data": {
      "text/plain": [
       "array([[2.2770122e-03, 3.8901576e-01, 6.0870725e-01],\n",
       "       [9.9987781e-01, 1.1368977e-04, 8.4788089e-06],\n",
       "       [1.5309161e-04, 9.9952066e-01, 3.2618231e-04],\n",
       "       [8.1962291e-03, 9.4816409e-05, 9.9170893e-01],\n",
       "       [2.7755855e-04, 1.3983546e-05, 9.9970847e-01],\n",
       "       [4.0782182e-03, 7.3686479e-06, 9.9591440e-01],\n",
       "       [1.0006744e-03, 5.3786030e-06, 9.9899393e-01],\n",
       "       [1.6923102e-04, 9.9981624e-01, 1.4492312e-05],\n",
       "       [2.2740291e-04, 3.4311429e-07, 9.9977225e-01],\n",
       "       [2.4831077e-04, 2.1214144e-06, 9.9974960e-01],\n",
       "       [2.8556325e-03, 4.7903194e-07, 9.9714392e-01]], dtype=float32)"
      ]
     },
     "execution_count": 39,
     "metadata": {},
     "output_type": "execute_result"
    }
   ],
   "source": [
    "predict"
   ]
  },
  {
   "cell_type": "code",
   "execution_count": 40,
   "metadata": {},
   "outputs": [
    {
     "data": {
      "text/plain": [
       "'Red'"
      ]
     },
     "execution_count": 40,
     "metadata": {},
     "output_type": "execute_result"
    }
   ],
   "source": [
    "pred_labels = np.argmax(predict, axis=-1)\n",
    "labels[pred_labels[0]]"
   ]
  },
  {
   "cell_type": "code",
   "execution_count": 41,
   "metadata": {},
   "outputs": [
    {
     "name": "stdout",
     "output_type": "stream",
     "text": [
      "Actual: Green and Predicted: Red\n",
      "Actual: Blue and Predicted: Blue\n",
      "Actual: Green and Predicted: Green\n",
      "Actual: Red and Predicted: Red\n",
      "Actual: Red and Predicted: Red\n",
      "Actual: Red and Predicted: Red\n",
      "Actual: Red and Predicted: Red\n",
      "Actual: Green and Predicted: Green\n",
      "Actual: Red and Predicted: Red\n",
      "Actual: Red and Predicted: Red\n",
      "Actual: Red and Predicted: Red\n"
     ]
    }
   ],
   "source": [
    "pred_labels = np.argmax(predict, axis=-1)\n",
    "actual_labels = np.argmax(sample_actual, axis=-1)\n",
    "\n",
    "for i in range(len(predict)):\n",
    "    print('Actual: ' + labels[actual_labels[i]] + ' and Predicted: ' + labels[pred_labels[i]])"
   ]
  },
  {
   "cell_type": "markdown",
   "metadata": {},
   "source": [
    "## MAKE A CUSTOM PREDICTION WITH A HEX VALUE "
   ]
  },
  {
   "cell_type": "code",
   "execution_count": 42,
   "metadata": {},
   "outputs": [],
   "source": [
    "def make_prediction(val):\n",
    "    labels = ['Blue', 'Green', 'Red']\n",
    "    #PLEASE RUN LOAD_MODEL ABOVE IF NOT RETRAINING MODEL\n",
    "    img = Image.new('RGB',(28,28),'#' + val)\n",
    "    img = img_to_array(img)[0,0]\n",
    "    img= img.reshape(1, 1, img.shape[0])\n",
    "    val_predict = model.predict(img)\n",
    "    pred_label = np.argmax(val_predict, axis=-1)\n",
    "    print(\"Predicted Color: \" + labels[pred_label[0]])"
   ]
  },
  {
   "cell_type": "code",
   "execution_count": 43,
   "metadata": {},
   "outputs": [
    {
     "name": "stdout",
     "output_type": "stream",
     "text": [
      "ENTER HEX: 23E67F\n",
      "Predicted Color: Green\n"
     ]
    }
   ],
   "source": [
    "val = input(\"ENTER HEX: \")\n",
    "make_prediction(val)"
   ]
  },
  {
   "cell_type": "code",
   "execution_count": 44,
   "metadata": {},
   "outputs": [],
   "source": [
    "def make_prediction_path(path):\n",
    "    labels = ['Blue', 'Green', 'Red']\n",
    "    #PLEASE RUN LOAD_MODEL ABOVE IF NOT RETRAINING MODEL\n",
    "    #img = Image.new('RGB',(28,28),'#' + val)\n",
    "    img = load_img(path)\n",
    "    img = img_to_array(img)[0,0]\n",
    "    img= img.reshape(1, 1, img.shape[0])\n",
    "    val_predict = model.predict(img)\n",
    "    pred_label = np.argmax(val_predict, axis=-1)\n",
    "    print(\"Predicted Color: \" + labels[pred_label[0]])"
   ]
  },
  {
   "cell_type": "code",
   "execution_count": 53,
   "metadata": {},
   "outputs": [
    {
     "name": "stdout",
     "output_type": "stream",
     "text": [
      "please input the path in double quotes: G:\\IP_LP3_MACHINE_LEARNING_SHIVAM_KOTAK_2676\\saved\\151.jpg\n",
      "Predicted Color: Green\n"
     ]
    }
   ],
   "source": [
    "path = input(\"please input the path in double quotes: \")\n",
    "make_prediction_path(path)"
   ]
  },
  {
   "cell_type": "code",
   "execution_count": null,
   "metadata": {},
   "outputs": [],
   "source": []
  }
 ],
 "metadata": {
  "kernelspec": {
   "display_name": "Python 3",
   "language": "python",
   "name": "python3"
  },
  "language_info": {
   "codemirror_mode": {
    "name": "ipython",
    "version": 3
   },
   "file_extension": ".py",
   "mimetype": "text/x-python",
   "name": "python",
   "nbconvert_exporter": "python",
   "pygments_lexer": "ipython3",
   "version": "3.7.4"
  }
 },
 "nbformat": 4,
 "nbformat_minor": 2
}
