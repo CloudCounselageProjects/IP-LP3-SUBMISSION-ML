{
 "cells": [
  {
   "cell_type": "code",
   "execution_count": 1,
   "metadata": {
    "scrolled": true
   },
   "outputs": [
    {
     "name": "stderr",
     "output_type": "stream",
     "text": [
      "\n",
      "Bad key \"text.kerning_factor\" on line 4 in\n",
      "C:\\Users\\sw\\Anaconda3\\envs\\tf_gpu\\lib\\site-packages\\matplotlib\\mpl-data\\stylelib\\_classic_test_patch.mplstyle.\n",
      "You probably need to get an updated matplotlibrc file from\n",
      "https://github.com/matplotlib/matplotlib/blob/v3.1.3/matplotlibrc.template\n",
      "or from the matplotlib source distribution\n"
     ]
    },
    {
     "data": {
      "image/png": "[encoded data removed]",
      "text/plain": [
       "<Figure size 432x288 with 1 Axes>"
      ]
     },
     "metadata": {
      "needs_background": "light"
     },
     "output_type": "display_data"
    }
   ],
   "source": [
    "import cv2 \n",
    "import tensorflow as tf\n",
    "import matplotlib.pyplot as plt\n",
    "import matplotlib.image as mpimg\n",
    "import numpy as np\n",
    "from tensorflow.keras.models import load_model\n",
    "\n",
    "def test_an_image(test_image, model):\n",
    "\n",
    "    desired_dim=(32,32)\n",
    "    img = cv2.imread(test_image)\n",
    "    img_resized = cv2.resize(img, desired_dim, interpolation=cv2.INTER_LINEAR)\n",
    "    img_ = np.expand_dims(np.array(img_resized), axis=0)\n",
    "\n",
    "    predicted_state = model.predict_classes(img_)\n",
    "    return predicted_state\n",
    "\n",
    "demo_flag = True\n",
    "test_image = r'E:\\COLOURS\\test\\156.png'\n",
    "states = ['Red','Blue','Green']\n",
    "if demo_flag:\n",
    "    predicted_state = test_an_image(test_image, model=load_model(r\"E:\\COLOURS\\COLOURS_CNN.h5\"))\n",
    "    for idx in predicted_state:\n",
    "        img=mpimg.imread(test_image,0)\n",
    "        imgplot=plt.imshow(img)\n",
    "        plt.title(states[idx])\n",
    "        plt.show() \n"
   ]
  },
  {
   "cell_type": "code",
   "execution_count": null,
   "metadata": {},
   "outputs": [],
   "source": []
  }
 ],
 "metadata": {
  "kernelspec": {
   "display_name": "Python 3",
   "language": "python",
   "name": "python3"
  },
  "language_info": {
   "codemirror_mode": {
    "name": "ipython",
    "version": 3
   },
   "file_extension": ".py",
   "mimetype": "text/x-python",
   "name": "python",
   "nbconvert_exporter": "python",
   "pygments_lexer": "ipython3",
   "version": "3.7.7"
  }
 },
 "nbformat": 4,
 "nbformat_minor": 4
}
