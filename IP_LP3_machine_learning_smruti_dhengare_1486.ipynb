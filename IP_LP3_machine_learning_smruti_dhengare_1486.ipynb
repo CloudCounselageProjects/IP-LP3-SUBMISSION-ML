{
  "nbformat": 4,
  "nbformat_minor": 0,
  "metadata": {
    "colab": {
      "name": "Untitled6.ipynb",
      "provenance": [],
      "collapsed_sections": []
    },
    "kernelspec": {
      "name": "python3",
      "display_name": "Python 3"
    }
  },
  "cells": [
    {
      "cell_type": "code",
      "metadata": {
        "id": "fFyYQcpweP_J",
        "colab_type": "code",
        "colab": {}
      },
      "source": [
        "from sklearn.cluster import KMeans\n",
        "import matplotlib.pyplot as plt\n",
        "import numpy as np\n",
        "import cv2\n",
        "from collections import Counter\n",
        "from skimage.color import rgb2lab, deltaE_cie76\n",
        "import os\n",
        "\n",
        "%matplotlib inline"
      ],
      "execution_count": 0,
      "outputs": []
    },
    {
      "cell_type": "code",
      "metadata": {
        "id": "U8mD2uLkfmm1",
        "colab_type": "code",
        "colab": {
          "base_uri": "https://localhost:8080/",
          "height": 290
        },
        "outputId": "aa629914-e3c6-47b8-89e2-414966138ef6"
      },
      "source": [
        "image = cv2.imread('pink.png')\n",
        "print(\"The type of this input is {}\".format(type(image)))\n",
        "print(\"Shape: {}\".format(image.shape))\n",
        "plt.imshow(image)"
      ],
      "execution_count": 53,
      "outputs": [
        {
          "output_type": "stream",
          "text": [
            "The type of this input is <class 'numpy.ndarray'>\n",
            "Shape: (1080, 1920, 3)\n"
          ],
          "name": "stdout"
        },
        {
          "output_type": "execute_result",
          "data": {
            "text/plain": [
              "<matplotlib.image.AxesImage at 0x7f467fb7cac8>"
            ]
          },
          "metadata": {
            "tags": []
          },
          "execution_count": 53
        },
        {
          "output_type": "display_data",
          "data": {
            "image/png": "[encoded data removed]",
            "text/plain": [
              "<Figure size 432x288 with 1 Axes>"
            ]
          },
          "metadata": {
            "tags": [],
            "needs_background": "light"
          }
        }
      ]
    },
    {
      "cell_type": "code",
      "metadata": {
        "id": "flPh91lFf5c5",
        "colab_type": "code",
        "colab": {
          "base_uri": "https://localhost:8080/",
          "height": 257
        },
        "outputId": "d9364af2-ca15-44d1-bcf6-3992b3e1899b"
      },
      "source": [
        "image = cv2.cvtColor(image, cv2.COLOR_BGR2RGB)\n",
        "plt.imshow(image)"
      ],
      "execution_count": 54,
      "outputs": [
        {
          "output_type": "execute_result",
          "data": {
            "text/plain": [
              "<matplotlib.image.AxesImage at 0x7f467fadcda0>"
            ]
          },
          "metadata": {
            "tags": []
          },
          "execution_count": 54
        },
        {
          "output_type": "display_data",
          "data": {
            "image/png": "[encoded data removed]",
            "text/plain": [
              "<Figure size 432x288 with 1 Axes>"
            ]
          },
          "metadata": {
            "tags": [],
            "needs_background": "light"
          }
        }
      ]
    },
    {
      "cell_type": "code",
      "metadata": {
        "id": "1YQOrHt-gCrr",
        "colab_type": "code",
        "colab": {
          "base_uri": "https://localhost:8080/",
          "height": 257
        },
        "outputId": "9632c3f3-4cb5-4e7e-ba6d-3b796f1993a1"
      },
      "source": [
        "gray_image = cv2.cvtColor(image, cv2.COLOR_BGR2GRAY)\n",
        "plt.imshow(gray_image, cmap='gray')"
      ],
      "execution_count": 55,
      "outputs": [
        {
          "output_type": "execute_result",
          "data": {
            "text/plain": [
              "<matplotlib.image.AxesImage at 0x7f467fac34e0>"
            ]
          },
          "metadata": {
            "tags": []
          },
          "execution_count": 55
        },
        {
          "output_type": "display_data",
          "data": {
            "image/png": "[encoded data removed]",
            "text/plain": [
              "<Figure size 432x288 with 1 Axes>"
            ]
          },
          "metadata": {
            "tags": [],
            "needs_background": "light"
          }
        }
      ]
    },
    {
      "cell_type": "code",
      "metadata": {
        "id": "0a9vJzvZgIVV",
        "colab_type": "code",
        "colab": {
          "base_uri": "https://localhost:8080/",
          "height": 236
        },
        "outputId": "7a6a7e34-c5f6-4740-b14f-9f08d1d520ce"
      },
      "source": [
        "resized_image = cv2.resize(image, (1200, 600))\n",
        "plt.imshow(resized_image)"
      ],
      "execution_count": 56,
      "outputs": [
        {
          "output_type": "execute_result",
          "data": {
            "text/plain": [
              "<matplotlib.image.AxesImage at 0x7f467fa229b0>"
            ]
          },
          "metadata": {
            "tags": []
          },
          "execution_count": 56
        },
        {
          "output_type": "display_data",
          "data": {
            "image/png": "[encoded data removed]",
            "text/plain": [
              "<Figure size 432x288 with 1 Axes>"
            ]
          },
          "metadata": {
            "tags": [],
            "needs_background": "light"
          }
        }
      ]
    },
    {
      "cell_type": "code",
      "metadata": {
        "id": "bQEKYW9ugJZg",
        "colab_type": "code",
        "colab": {}
      },
      "source": [
        "def RGB2HEX(color):\n",
        "    return \"#{:02x}{:02x}{:02x}\".format(int(color[0]), int(color[1]), int(color[2]))"
      ],
      "execution_count": 0,
      "outputs": []
    },
    {
      "cell_type": "code",
      "metadata": {
        "id": "XOaX0znQgNU3",
        "colab_type": "code",
        "colab": {}
      },
      "source": [
        "def get_image(image_path):\n",
        "    image = cv2.imread(image_path)\n",
        "    image = cv2.cvtColor(image, cv2.COLOR_BGR2RGB)\n",
        "    return image"
      ],
      "execution_count": 0,
      "outputs": []
    },
    {
      "cell_type": "code",
      "metadata": {
        "id": "NjxrwcpVgQnr",
        "colab_type": "code",
        "colab": {}
      },
      "source": [
        "def get_colors(image, number_of_colors, show_chart):\n",
        "    \n",
        "    modified_image = cv2.resize(image, (600, 400), interpolation = cv2.INTER_AREA)\n",
        "    modified_image = modified_image.reshape(modified_image.shape[0]*modified_image.shape[1], 3)\n",
        "    \n",
        "    clf = KMeans(n_clusters = number_of_colors)\n",
        "    labels = clf.fit_predict(modified_image)\n",
        "    \n",
        "    counts = Counter(labels)\n",
        "    \n",
        "    counts = dict(sorted(counts.items()))\n",
        "    \n",
        "    center_colors = clf.cluster_centers_\n",
        "    \n",
        "    ordered_colors = [center_colors[i] for i in counts.keys()]\n",
        "    hex_colors = [RGB2HEX(ordered_colors[i]) for i in counts.keys()]\n",
        "    rgb_colors = [ordered_colors[i] for i in counts.keys()]\n",
        "\n",
        "    if (show_chart):\n",
        "        plt.figure(figsize = (8, 6))\n",
        "        plt.pie(counts.values(), labels = hex_colors, colors = hex_colors)\n",
        "    \n",
        "    return rgb_colors"
      ],
      "execution_count": 0,
      "outputs": []
    },
    {
      "cell_type": "code",
      "metadata": {
        "id": "qqtS77AlgWhx",
        "colab_type": "code",
        "colab": {
          "base_uri": "https://localhost:8080/",
          "height": 441
        },
        "outputId": "981b1f24-d016-4c29-ec2b-de7cb4437d42"
      },
      "source": [
        "get_colors(get_image('pink.png'), 5, True)"
      ],
      "execution_count": 61,
      "outputs": [
        {
          "output_type": "execute_result",
          "data": {
            "text/plain": [
              "[array([ 1.34000000e+02, -5.97140115e-11,  6.00000000e+01]),\n",
              " array([255., 139., 160.]),\n",
              " array([228.,  31., 123.]),\n",
              " array([76.,  6.,  6.]),\n",
              " array([255., 182., 179.])]"
            ]
          },
          "metadata": {
            "tags": []
          },
          "execution_count": 61
        },
        {
          "output_type": "display_data",
          "data": {
            "image/png": "[encoded data removed]",
            "text/plain": [
              "<Figure size 576x432 with 1 Axes>"
            ]
          },
          "metadata": {
            "tags": []
          }
        }
      ]
    }
  ]
}