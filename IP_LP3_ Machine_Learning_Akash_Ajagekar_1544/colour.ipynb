{
 "cells": [
  {
   "cell_type": "code",
   "execution_count": null,
   "metadata": {},
   "outputs": [],
   "source": [
    "import cv2\n",
    "import numpy as np\n",
    " \n",
    " \n",
    " \n",
    " \n",
    " \n",
    "img = cv2.imread('circles.png')\n",
    " \n",
    "hsv = cv2.cvtColor(img, cv2.COLOR_BGR2HSV)\n",
    " \n",
    " \n",
    "#Red color rangle  169, 100, 100 , 189, 255, 255\n",
    " \n",
    " \n",
    "lower_range = np.array([110,50,50])\n",
    "upper_range = np.array([130,255,255])\n",
    " \n",
    "mask = cv2.inRange(hsv, lower_range, upper_range)\n",
    " \n",
    "cv2.imshow('image', img)\n",
    "cv2.imshow('mask', mask)\n",
    " \n",
    " \n",
    "cv2.waitKey(0)\n",
    "cv2.destroyAllWindows()"
   ]
  },
  {
   "cell_type": "code",
   "execution_count": null,
   "metadata": {},
   "outputs": [],
   "source": []
  }
 ],
 "metadata": {
  "kernelspec": {
   "display_name": "Python 3",
   "language": "python",
   "name": "python3"
  },
  "language_info": {
   "codemirror_mode": {
    "name": "ipython",
    "version": 3
   },
   "file_extension": ".py",
   "mimetype": "text/x-python",
   "name": "python",
   "nbconvert_exporter": "python",
   "pygments_lexer": "ipython3",
   "version": "3.7.6"
  }
 },
 "nbformat": 4,
 "nbformat_minor": 4
}
