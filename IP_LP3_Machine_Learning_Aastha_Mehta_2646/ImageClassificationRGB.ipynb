{
  "nbformat": 4,
  "nbformat_minor": 0,
  "metadata": {
    "colab": {
      "name": "ImageClassificationRGB.ipynb",
      "provenance": [],
      "collapsed_sections": [],
      "toc_visible": true
    },
    "kernelspec": {
      "name": "python3",
      "display_name": "Python 3"
    }
  },
  "cells": [
    {
      "cell_type": "markdown",
      "metadata": {
        "id": "6PgWWmJo6trO",
        "colab_type": "text"
      },
      "source": [
        "# **RGB Image classification**"
      ]
    },
    {
      "cell_type": "markdown",
      "metadata": {
        "id": "p9wxtwa369fg",
        "colab_type": "text"
      },
      "source": [
        "This tutorial shows how to classify images into 3 categories either Red, Green or Blue. It builds an image classifier using a tf.keras.Sequential model and load data using tf.keras.preprocessing.image.ImageDataGenerator.\n",
        "\n",
        "Building data input pipelines using the tf.keras.preprocessing.image.ImageDataGenerator class to efficiently work with data on disk to use with the model.\n",
        "\n",
        "This notebook follows a basic machine learning workflow:\n",
        "\n",
        "Examine and understand data\n",
        "Build an input pipeline\n",
        "Build the model\n",
        "Train the model\n",
        "Test the model\n",
        "Improve the model and repeat the process"
      ]
    },
    {
      "cell_type": "markdown",
      "metadata": {
        "id": "zbGWrxhI7DL0",
        "colab_type": "text"
      },
      "source": [
        "# Instruction to run this Notebook:\n",
        "1. Load colors.csv & colors2.csv\n",
        "2. Generate Dataset or Upload Dataset"
      ]
    },
    {
      "cell_type": "markdown",
      "metadata": {
        "id": "k3F1qHdT7ZH0",
        "colab_type": "text"
      },
      "source": [
        "# Import packages"
      ]
    },
    {
      "cell_type": "code",
      "metadata": {
        "id": "EgrAUDk2603U",
        "colab_type": "code",
        "outputId": "3ae055c2-91ba-4402-b283-6b4ceae71d83",
        "colab": {
          "base_uri": "https://localhost:8080/",
          "height": 694
        }
      },
      "source": [
        "import tensorflow as tf\n",
        "!pip install tensorflow==2.2.0 #for certain new functions to run easily"
      ],
      "execution_count": 1,
      "outputs": [
        {
          "output_type": "stream",
          "text": [
            "Requirement already satisfied: tensorflow==2.2.0 in /usr/local/lib/python3.6/dist-packages (2.2.0)\n",
            "Requirement already satisfied: protobuf>=3.8.0 in /usr/local/lib/python3.6/dist-packages (from tensorflow==2.2.0) (3.10.0)\n",
            "Requirement already satisfied: six>=1.12.0 in /usr/local/lib/python3.6/dist-packages (from tensorflow==2.2.0) (1.12.0)\n",
            "Requirement already satisfied: scipy==1.4.1; python_version >= \"3\" in /usr/local/lib/python3.6/dist-packages (from tensorflow==2.2.0) (1.4.1)\n",
            "Requirement already satisfied: numpy<2.0,>=1.16.0 in /usr/local/lib/python3.6/dist-packages (from tensorflow==2.2.0) (1.18.5)\n",
            "Requirement already satisfied: absl-py>=0.7.0 in /usr/local/lib/python3.6/dist-packages (from tensorflow==2.2.0) (0.9.0)\n",
            "Requirement already satisfied: gast==0.3.3 in /usr/local/lib/python3.6/dist-packages (from tensorflow==2.2.0) (0.3.3)\n",
            "Requirement already satisfied: wheel>=0.26; python_version >= \"3\" in /usr/local/lib/python3.6/dist-packages (from tensorflow==2.2.0) (0.34.2)\n",
            "Requirement already satisfied: h5py<2.11.0,>=2.10.0 in /usr/local/lib/python3.6/dist-packages (from tensorflow==2.2.0) (2.10.0)\n",
            "Requirement already satisfied: astunparse==1.6.3 in /usr/local/lib/python3.6/dist-packages (from tensorflow==2.2.0) (1.6.3)\n",
            "Requirement already satisfied: tensorflow-estimator<2.3.0,>=2.2.0 in /usr/local/lib/python3.6/dist-packages (from tensorflow==2.2.0) (2.2.0)\n",
            "Requirement already satisfied: keras-preprocessing>=1.1.0 in /usr/local/lib/python3.6/dist-packages (from tensorflow==2.2.0) (1.1.2)\n",
            "Requirement already satisfied: grpcio>=1.8.6 in /usr/local/lib/python3.6/dist-packages (from tensorflow==2.2.0) (1.29.0)\n",
            "Requirement already satisfied: opt-einsum>=2.3.2 in /usr/local/lib/python3.6/dist-packages (from tensorflow==2.2.0) (3.2.1)\n",
            "Requirement already satisfied: tensorboard<2.3.0,>=2.2.0 in /usr/local/lib/python3.6/dist-packages (from tensorflow==2.2.0) (2.2.2)\n",
            "Requirement already satisfied: google-pasta>=0.1.8 in /usr/local/lib/python3.6/dist-packages (from tensorflow==2.2.0) (0.2.0)\n",
            "Requirement already satisfied: termcolor>=1.1.0 in /usr/local/lib/python3.6/dist-packages (from tensorflow==2.2.0) (1.1.0)\n",
            "Requirement already satisfied: wrapt>=1.11.1 in /usr/local/lib/python3.6/dist-packages (from tensorflow==2.2.0) (1.12.1)\n",
            "Requirement already satisfied: setuptools in /usr/local/lib/python3.6/dist-packages (from protobuf>=3.8.0->tensorflow==2.2.0) (47.1.1)\n",
            "Requirement already satisfied: tensorboard-plugin-wit>=1.6.0 in /usr/local/lib/python3.6/dist-packages (from tensorboard<2.3.0,>=2.2.0->tensorflow==2.2.0) (1.6.0.post3)\n",
            "Requirement already satisfied: requests<3,>=2.21.0 in /usr/local/lib/python3.6/dist-packages (from tensorboard<2.3.0,>=2.2.0->tensorflow==2.2.0) (2.23.0)\n",
            "Requirement already satisfied: google-auth-oauthlib<0.5,>=0.4.1 in /usr/local/lib/python3.6/dist-packages (from tensorboard<2.3.0,>=2.2.0->tensorflow==2.2.0) (0.4.1)\n",
            "Requirement already satisfied: werkzeug>=0.11.15 in /usr/local/lib/python3.6/dist-packages (from tensorboard<2.3.0,>=2.2.0->tensorflow==2.2.0) (1.0.1)\n",
            "Requirement already satisfied: google-auth<2,>=1.6.3 in /usr/local/lib/python3.6/dist-packages (from tensorboard<2.3.0,>=2.2.0->tensorflow==2.2.0) (1.7.2)\n",
            "Requirement already satisfied: markdown>=2.6.8 in /usr/local/lib/python3.6/dist-packages (from tensorboard<2.3.0,>=2.2.0->tensorflow==2.2.0) (3.2.2)\n",
            "Requirement already satisfied: chardet<4,>=3.0.2 in /usr/local/lib/python3.6/dist-packages (from requests<3,>=2.21.0->tensorboard<2.3.0,>=2.2.0->tensorflow==2.2.0) (3.0.4)\n",
            "Requirement already satisfied: idna<3,>=2.5 in /usr/local/lib/python3.6/dist-packages (from requests<3,>=2.21.0->tensorboard<2.3.0,>=2.2.0->tensorflow==2.2.0) (2.9)\n",
            "Requirement already satisfied: certifi>=2017.4.17 in /usr/local/lib/python3.6/dist-packages (from requests<3,>=2.21.0->tensorboard<2.3.0,>=2.2.0->tensorflow==2.2.0) (2020.4.5.1)\n",
            "Requirement already satisfied: urllib3!=1.25.0,!=1.25.1,<1.26,>=1.21.1 in /usr/local/lib/python3.6/dist-packages (from requests<3,>=2.21.0->tensorboard<2.3.0,>=2.2.0->tensorflow==2.2.0) (1.24.3)\n",
            "Requirement already satisfied: requests-oauthlib>=0.7.0 in /usr/local/lib/python3.6/dist-packages (from google-auth-oauthlib<0.5,>=0.4.1->tensorboard<2.3.0,>=2.2.0->tensorflow==2.2.0) (1.3.0)\n",
            "Requirement already satisfied: pyasn1-modules>=0.2.1 in /usr/local/lib/python3.6/dist-packages (from google-auth<2,>=1.6.3->tensorboard<2.3.0,>=2.2.0->tensorflow==2.2.0) (0.2.8)\n",
            "Requirement already satisfied: cachetools<3.2,>=2.0.0 in /usr/local/lib/python3.6/dist-packages (from google-auth<2,>=1.6.3->tensorboard<2.3.0,>=2.2.0->tensorflow==2.2.0) (3.1.1)\n",
            "Requirement already satisfied: rsa<4.1,>=3.1.4 in /usr/local/lib/python3.6/dist-packages (from google-auth<2,>=1.6.3->tensorboard<2.3.0,>=2.2.0->tensorflow==2.2.0) (4.0)\n",
            "Requirement already satisfied: importlib-metadata; python_version < \"3.8\" in /usr/local/lib/python3.6/dist-packages (from markdown>=2.6.8->tensorboard<2.3.0,>=2.2.0->tensorflow==2.2.0) (1.6.0)\n",
            "Requirement already satisfied: oauthlib>=3.0.0 in /usr/local/lib/python3.6/dist-packages (from requests-oauthlib>=0.7.0->google-auth-oauthlib<0.5,>=0.4.1->tensorboard<2.3.0,>=2.2.0->tensorflow==2.2.0) (3.1.0)\n",
            "Requirement already satisfied: pyasn1<0.5.0,>=0.4.6 in /usr/local/lib/python3.6/dist-packages (from pyasn1-modules>=0.2.1->google-auth<2,>=1.6.3->tensorboard<2.3.0,>=2.2.0->tensorflow==2.2.0) (0.4.8)\n",
            "Requirement already satisfied: zipp>=0.5 in /usr/local/lib/python3.6/dist-packages (from importlib-metadata; python_version < \"3.8\"->markdown>=2.6.8->tensorboard<2.3.0,>=2.2.0->tensorflow==2.2.0) (3.1.0)\n"
          ],
          "name": "stdout"
        }
      ]
    },
    {
      "cell_type": "code",
      "metadata": {
        "id": "J_sgoSHc7pO8",
        "colab_type": "code",
        "colab": {}
      },
      "source": [
        "from tensorflow.keras.models import Sequential\n",
        "from tensorflow.keras.layers import Dense, Conv2D, Flatten, Dropout, MaxPooling2D\n",
        "from tensorflow.keras.preprocessing.image import ImageDataGenerator\n",
        "\n",
        "import os\n",
        "import numpy as np\n",
        "import matplotlib.pyplot as plt"
      ],
      "execution_count": 0,
      "outputs": []
    },
    {
      "cell_type": "code",
      "metadata": {
        "id": "xjcKcPZ387kH",
        "colab_type": "code",
        "colab": {}
      },
      "source": [
        "import cv2\n",
        "import matplotlib.pyplot as plt\n",
        "import numpy as np\n",
        "import os\n",
        "import pandas as pd"
      ],
      "execution_count": 0,
      "outputs": []
    },
    {
      "cell_type": "code",
      "metadata": {
        "id": "ZNH2tBLnBxUw",
        "colab_type": "code",
        "colab": {}
      },
      "source": [
        "from tensorflow.keras.optimizers import SGD"
      ],
      "execution_count": 0,
      "outputs": []
    },
    {
      "cell_type": "markdown",
      "metadata": {
        "id": "G67EE_2K7spk",
        "colab_type": "text"
      },
      "source": [
        "# Load data/ Structure of Generate Data"
      ]
    },
    {
      "cell_type": "markdown",
      "metadata": {
        "id": "nBDJbYUv7w_1",
        "colab_type": "text"
      },
      "source": [
        "You could either generate data or upload it.\n",
        "If you are directly uploading the folder don't run the 3 cells of data generation below.\n",
        "\n",
        "Here I am generating mono-solid colored image with the help of color_img function.\n",
        "\n",
        "The dataset has the following directory structure:\n",
        "\n",
        "dataset\n",
        "```\n",
        "|__ train\n",
        "    |______ red_dir: [red-0.jpg, red-1.jpg, red-2.jpg ....]\n",
        "    |______ blue_dir: [blue-0.jpg, blue-1.jpg, blue-2.jpg ...]\n",
        "     |______ green_dir: [green-0.jpg, green-1.jpg, green-2.jpg ...]\n",
        "|__ validation\n",
        "   |______ red_dir: [red-20.jpg, red-21.jpg, red-22.jpg ....]\n",
        "    |______ blue_dir: [blue-20.jpg, blue-21.jpg, blue-22.jpg ...]\n",
        "     |______ green_dir: [green-20.jpg, green-21.jpg, green-22.jpg ...]\n",
        "\n",
        "```"
      ]
    },
    {
      "cell_type": "markdown",
      "metadata": {
        "id": "E6NWI2oO8uft",
        "colab_type": "text"
      },
      "source": [
        "# Generate Dataset"
      ]
    },
    {
      "cell_type": "code",
      "metadata": {
        "id": "JLdHyhFl8txA",
        "colab_type": "code",
        "colab": {}
      },
      "source": [
        "#Make the directories\n",
        "!mkdir /content/train/\n",
        "!mkdir /content/train/red_dir\n",
        "!mkdir /content/train/green_dir\n",
        "!mkdir /content/train/blue_dir\n",
        "!mkdir /content/validation/\n",
        "!mkdir /content/validation/red_dir\n",
        "!mkdir /content/validation/green_dir\n",
        "!mkdir /content/validation/blue_dir"
      ],
      "execution_count": 0,
      "outputs": []
    },
    {
      "cell_type": "code",
      "metadata": {
        "id": "xcbJuN-29GYM",
        "colab_type": "code",
        "colab": {}
      },
      "source": [
        "index = 0\n",
        "def strim_string(string):\n",
        "    \n",
        "    string = string.replace(' ', '')\n",
        "    string = string.replace('\\\\n', '')\n",
        "    string = string.replace('\\\\t', '')\n",
        "\n",
        "    return string\n",
        "\n",
        "def create_color_image(height,\n",
        "                       width,\n",
        "                       red_min,\n",
        "                       red_max,\n",
        "                       green_min,\n",
        "                       green_max,\n",
        "                       blue_min,\n",
        "                       blue_max,\n",
        "                       num_images,\n",
        "                       name,process_to_done,\n",
        "                       path = None):\n",
        "    \n",
        "    \"\"\"\n",
        "    We provide images in BGR for OPENCV\n",
        "    \"\"\"\n",
        "    global index\n",
        "    path='/content'\n",
        "    img = np.array([0 for i in range(height*width*3)]).reshape(height,width,3).astype(np.uint8)\n",
        "    \n",
        "    img[:,:,2] = red_min # Red\n",
        "    img[:,:,1] = green_min # Green\n",
        "    img[:,:,0] = blue_min # Blue\n",
        "    \n",
        "    i = (red_max - red_min) // num_images\n",
        "    j = (green_max - green_min) // num_images\n",
        "    k = (blue_max - blue_min) // num_images\n",
        "            \n",
        "    for _ in range(0, num_images, 1):\n",
        "        \n",
        "        img[:,:,2] += i # Red\n",
        "        img[:,:,1] += j # Green\n",
        "        img[:,:,0] += k # Blue\n",
        "        \n",
        "        save_name = '{}-{}.jpg'.format(name, index)   \n",
        "        save_path =f'/content/{process_to_done}/{name}_dir/'\n",
        "        img_path = save_path + save_name\n",
        "\n",
        "        try:        \n",
        "          cv2.imwrite(img_path.lower(), img)\n",
        "\n",
        "          index += 1\n",
        "          print(str(index)+'done' +' '+img_path)\n",
        "        except:\n",
        "          print('Errors')"
      ],
      "execution_count": 0,
      "outputs": []
    },
    {
      "cell_type": "code",
      "metadata": {
        "id": "Ml0ztBTt9XLN",
        "colab_type": "code",
        "colab": {}
      },
      "source": [
        "def main(process_to_done, csv_file):\n",
        "    #process_to_done is a variable to define which dataset needs to be generated: takes values \"validation\" or \"train\"\n",
        "    #csv_file is a variable that states colors.csv is to be used or colors2.csv :takes values \"colors\" or \"colors2\"\n",
        "    csv_path='/content/'+csv_file+'.csv'\n",
        "    colors = pd.read_csv(csv_path , header = None)\n",
        "    \n",
        "    for line in range(colors.shape[0]):\n",
        "    \n",
        "        lst = colors.iloc[line,:]\n",
        "        lst[6] = strim_string(lst[6])\n",
        "        \n",
        "        create_color_image(15, 15,int(lst[0]), int(lst[1]),int(lst[2]), int(lst[3]), int(lst[4]), int(lst[5]),20,lst[6],process_to_done)"
      ],
      "execution_count": 0,
      "outputs": []
    },
    {
      "cell_type": "code",
      "metadata": {
        "id": "nc_zKBpF-K2L",
        "colab_type": "code",
        "outputId": "64417f77-2551-4aa7-85c8-fe7367cc712c",
        "colab": {
          "base_uri": "https://localhost:8080/",
          "height": 1000
        }
      },
      "source": [
        "main('train','colors')\n",
        "main('validation','colors2')"
      ],
      "execution_count": 8,
      "outputs": [
        {
          "output_type": "stream",
          "text": [
            "1done /content/train/Red_dir/Red-0.jpg\n",
            "2done /content/train/Red_dir/Red-1.jpg\n",
            "3done /content/train/Red_dir/Red-2.jpg\n",
            "4done /content/train/Red_dir/Red-3.jpg\n",
            "5done /content/train/Red_dir/Red-4.jpg\n",
            "6done /content/train/Red_dir/Red-5.jpg\n",
            "7done /content/train/Red_dir/Red-6.jpg\n",
            "8done /content/train/Red_dir/Red-7.jpg\n",
            "9done /content/train/Red_dir/Red-8.jpg\n",
            "10done /content/train/Red_dir/Red-9.jpg\n",
            "11done /content/train/Red_dir/Red-10.jpg\n",
            "12done /content/train/Red_dir/Red-11.jpg\n",
            "13done /content/train/Red_dir/Red-12.jpg\n",
            "14done /content/train/Red_dir/Red-13.jpg\n",
            "15done /content/train/Red_dir/Red-14.jpg\n",
            "16done /content/train/Red_dir/Red-15.jpg\n",
            "17done /content/train/Red_dir/Red-16.jpg\n",
            "18done /content/train/Red_dir/Red-17.jpg\n",
            "19done /content/train/Red_dir/Red-18.jpg\n",
            "20done /content/train/Red_dir/Red-19.jpg\n",
            "21done /content/train/Red_dir/Red-20.jpg\n",
            "22done /content/train/Red_dir/Red-21.jpg\n",
            "23done /content/train/Red_dir/Red-22.jpg\n",
            "24done /content/train/Red_dir/Red-23.jpg\n",
            "25done /content/train/Red_dir/Red-24.jpg\n",
            "26done /content/train/Red_dir/Red-25.jpg\n",
            "27done /content/train/Red_dir/Red-26.jpg\n",
            "28done /content/train/Red_dir/Red-27.jpg\n",
            "29done /content/train/Red_dir/Red-28.jpg\n",
            "30done /content/train/Red_dir/Red-29.jpg\n",
            "31done /content/train/Red_dir/Red-30.jpg\n",
            "32done /content/train/Red_dir/Red-31.jpg\n",
            "33done /content/train/Red_dir/Red-32.jpg\n",
            "34done /content/train/Red_dir/Red-33.jpg\n",
            "35done /content/train/Red_dir/Red-34.jpg\n",
            "36done /content/train/Red_dir/Red-35.jpg\n",
            "37done /content/train/Red_dir/Red-36.jpg\n",
            "38done /content/train/Red_dir/Red-37.jpg\n",
            "39done /content/train/Red_dir/Red-38.jpg\n",
            "40done /content/train/Red_dir/Red-39.jpg\n",
            "41done /content/train/Red_dir/Red-40.jpg\n",
            "42done /content/train/Red_dir/Red-41.jpg\n",
            "43done /content/train/Red_dir/Red-42.jpg\n",
            "44done /content/train/Red_dir/Red-43.jpg\n",
            "45done /content/train/Red_dir/Red-44.jpg\n",
            "46done /content/train/Red_dir/Red-45.jpg\n",
            "47done /content/train/Red_dir/Red-46.jpg\n",
            "48done /content/train/Red_dir/Red-47.jpg\n",
            "49done /content/train/Red_dir/Red-48.jpg\n",
            "50done /content/train/Red_dir/Red-49.jpg\n",
            "51done /content/train/Red_dir/Red-50.jpg\n",
            "52done /content/train/Red_dir/Red-51.jpg\n",
            "53done /content/train/Red_dir/Red-52.jpg\n",
            "54done /content/train/Red_dir/Red-53.jpg\n",
            "55done /content/train/Red_dir/Red-54.jpg\n",
            "56done /content/train/Red_dir/Red-55.jpg\n",
            "57done /content/train/Red_dir/Red-56.jpg\n",
            "58done /content/train/Red_dir/Red-57.jpg\n",
            "59done /content/train/Red_dir/Red-58.jpg\n",
            "60done /content/train/Red_dir/Red-59.jpg\n",
            "61done /content/train/Blue_dir/Blue-60.jpg\n",
            "62done /content/train/Blue_dir/Blue-61.jpg\n",
            "63done /content/train/Blue_dir/Blue-62.jpg\n",
            "64done /content/train/Blue_dir/Blue-63.jpg\n",
            "65done /content/train/Blue_dir/Blue-64.jpg\n",
            "66done /content/train/Blue_dir/Blue-65.jpg\n",
            "67done /content/train/Blue_dir/Blue-66.jpg\n",
            "68done /content/train/Blue_dir/Blue-67.jpg\n",
            "69done /content/train/Blue_dir/Blue-68.jpg\n",
            "70done /content/train/Blue_dir/Blue-69.jpg\n",
            "71done /content/train/Blue_dir/Blue-70.jpg\n",
            "72done /content/train/Blue_dir/Blue-71.jpg\n",
            "73done /content/train/Blue_dir/Blue-72.jpg\n",
            "74done /content/train/Blue_dir/Blue-73.jpg\n",
            "75done /content/train/Blue_dir/Blue-74.jpg\n",
            "76done /content/train/Blue_dir/Blue-75.jpg\n",
            "77done /content/train/Blue_dir/Blue-76.jpg\n",
            "78done /content/train/Blue_dir/Blue-77.jpg\n",
            "79done /content/train/Blue_dir/Blue-78.jpg\n",
            "80done /content/train/Blue_dir/Blue-79.jpg\n",
            "81done /content/train/Blue_dir/Blue-80.jpg\n",
            "82done /content/train/Blue_dir/Blue-81.jpg\n",
            "83done /content/train/Blue_dir/Blue-82.jpg\n",
            "84done /content/train/Blue_dir/Blue-83.jpg\n",
            "85done /content/train/Blue_dir/Blue-84.jpg\n",
            "86done /content/train/Blue_dir/Blue-85.jpg\n",
            "87done /content/train/Blue_dir/Blue-86.jpg\n",
            "88done /content/train/Blue_dir/Blue-87.jpg\n",
            "89done /content/train/Blue_dir/Blue-88.jpg\n",
            "90done /content/train/Blue_dir/Blue-89.jpg\n",
            "91done /content/train/Blue_dir/Blue-90.jpg\n",
            "92done /content/train/Blue_dir/Blue-91.jpg\n",
            "93done /content/train/Blue_dir/Blue-92.jpg\n",
            "94done /content/train/Blue_dir/Blue-93.jpg\n",
            "95done /content/train/Blue_dir/Blue-94.jpg\n",
            "96done /content/train/Blue_dir/Blue-95.jpg\n",
            "97done /content/train/Blue_dir/Blue-96.jpg\n",
            "98done /content/train/Blue_dir/Blue-97.jpg\n",
            "99done /content/train/Blue_dir/Blue-98.jpg\n",
            "100done /content/train/Blue_dir/Blue-99.jpg\n",
            "101done /content/train/Blue_dir/Blue-100.jpg\n",
            "102done /content/train/Blue_dir/Blue-101.jpg\n",
            "103done /content/train/Blue_dir/Blue-102.jpg\n",
            "104done /content/train/Blue_dir/Blue-103.jpg\n",
            "105done /content/train/Blue_dir/Blue-104.jpg\n",
            "106done /content/train/Blue_dir/Blue-105.jpg\n",
            "107done /content/train/Blue_dir/Blue-106.jpg\n",
            "108done /content/train/Blue_dir/Blue-107.jpg\n",
            "109done /content/train/Blue_dir/Blue-108.jpg\n",
            "110done /content/train/Blue_dir/Blue-109.jpg\n",
            "111done /content/train/Blue_dir/Blue-110.jpg\n",
            "112done /content/train/Blue_dir/Blue-111.jpg\n",
            "113done /content/train/Blue_dir/Blue-112.jpg\n",
            "114done /content/train/Blue_dir/Blue-113.jpg\n",
            "115done /content/train/Blue_dir/Blue-114.jpg\n",
            "116done /content/train/Blue_dir/Blue-115.jpg\n",
            "117done /content/train/Blue_dir/Blue-116.jpg\n",
            "118done /content/train/Blue_dir/Blue-117.jpg\n",
            "119done /content/train/Blue_dir/Blue-118.jpg\n",
            "120done /content/train/Blue_dir/Blue-119.jpg\n",
            "121done /content/train/Green_dir/Green-120.jpg\n",
            "122done /content/train/Green_dir/Green-121.jpg\n",
            "123done /content/train/Green_dir/Green-122.jpg\n",
            "124done /content/train/Green_dir/Green-123.jpg\n",
            "125done /content/train/Green_dir/Green-124.jpg\n",
            "126done /content/train/Green_dir/Green-125.jpg\n",
            "127done /content/train/Green_dir/Green-126.jpg\n",
            "128done /content/train/Green_dir/Green-127.jpg\n",
            "129done /content/train/Green_dir/Green-128.jpg\n",
            "130done /content/train/Green_dir/Green-129.jpg\n",
            "131done /content/train/Green_dir/Green-130.jpg\n",
            "132done /content/train/Green_dir/Green-131.jpg\n",
            "133done /content/train/Green_dir/Green-132.jpg\n",
            "134done /content/train/Green_dir/Green-133.jpg\n",
            "135done /content/train/Green_dir/Green-134.jpg\n",
            "136done /content/train/Green_dir/Green-135.jpg\n",
            "137done /content/train/Green_dir/Green-136.jpg\n",
            "138done /content/train/Green_dir/Green-137.jpg\n",
            "139done /content/train/Green_dir/Green-138.jpg\n",
            "140done /content/train/Green_dir/Green-139.jpg\n",
            "141done /content/train/Green_dir/Green-140.jpg\n",
            "142done /content/train/Green_dir/Green-141.jpg\n",
            "143done /content/train/Green_dir/Green-142.jpg\n",
            "144done /content/train/Green_dir/Green-143.jpg\n",
            "145done /content/train/Green_dir/Green-144.jpg\n",
            "146done /content/train/Green_dir/Green-145.jpg\n",
            "147done /content/train/Green_dir/Green-146.jpg\n",
            "148done /content/train/Green_dir/Green-147.jpg\n",
            "149done /content/train/Green_dir/Green-148.jpg\n",
            "150done /content/train/Green_dir/Green-149.jpg\n",
            "151done /content/train/Green_dir/Green-150.jpg\n",
            "152done /content/train/Green_dir/Green-151.jpg\n",
            "153done /content/train/Green_dir/Green-152.jpg\n",
            "154done /content/train/Green_dir/Green-153.jpg\n",
            "155done /content/train/Green_dir/Green-154.jpg\n",
            "156done /content/train/Green_dir/Green-155.jpg\n",
            "157done /content/train/Green_dir/Green-156.jpg\n",
            "158done /content/train/Green_dir/Green-157.jpg\n",
            "159done /content/train/Green_dir/Green-158.jpg\n",
            "160done /content/train/Green_dir/Green-159.jpg\n",
            "161done /content/train/Green_dir/Green-160.jpg\n",
            "162done /content/train/Green_dir/Green-161.jpg\n",
            "163done /content/train/Green_dir/Green-162.jpg\n",
            "164done /content/train/Green_dir/Green-163.jpg\n",
            "165done /content/train/Green_dir/Green-164.jpg\n",
            "166done /content/train/Green_dir/Green-165.jpg\n",
            "167done /content/train/Green_dir/Green-166.jpg\n",
            "168done /content/train/Green_dir/Green-167.jpg\n",
            "169done /content/train/Green_dir/Green-168.jpg\n",
            "170done /content/train/Green_dir/Green-169.jpg\n",
            "171done /content/train/Green_dir/Green-170.jpg\n",
            "172done /content/train/Green_dir/Green-171.jpg\n",
            "173done /content/train/Green_dir/Green-172.jpg\n",
            "174done /content/train/Green_dir/Green-173.jpg\n",
            "175done /content/train/Green_dir/Green-174.jpg\n",
            "176done /content/train/Green_dir/Green-175.jpg\n",
            "177done /content/train/Green_dir/Green-176.jpg\n",
            "178done /content/train/Green_dir/Green-177.jpg\n",
            "179done /content/train/Green_dir/Green-178.jpg\n",
            "180done /content/train/Green_dir/Green-179.jpg\n",
            "181done /content/validation/Red_dir/Red-180.jpg\n",
            "182done /content/validation/Red_dir/Red-181.jpg\n",
            "183done /content/validation/Red_dir/Red-182.jpg\n",
            "184done /content/validation/Red_dir/Red-183.jpg\n",
            "185done /content/validation/Red_dir/Red-184.jpg\n",
            "186done /content/validation/Red_dir/Red-185.jpg\n",
            "187done /content/validation/Red_dir/Red-186.jpg\n",
            "188done /content/validation/Red_dir/Red-187.jpg\n",
            "189done /content/validation/Red_dir/Red-188.jpg\n",
            "190done /content/validation/Red_dir/Red-189.jpg\n",
            "191done /content/validation/Red_dir/Red-190.jpg\n",
            "192done /content/validation/Red_dir/Red-191.jpg\n",
            "193done /content/validation/Red_dir/Red-192.jpg\n",
            "194done /content/validation/Red_dir/Red-193.jpg\n",
            "195done /content/validation/Red_dir/Red-194.jpg\n",
            "196done /content/validation/Red_dir/Red-195.jpg\n",
            "197done /content/validation/Red_dir/Red-196.jpg\n",
            "198done /content/validation/Red_dir/Red-197.jpg\n",
            "199done /content/validation/Red_dir/Red-198.jpg\n",
            "200done /content/validation/Red_dir/Red-199.jpg\n",
            "201done /content/validation/Blue_dir/Blue-200.jpg\n",
            "202done /content/validation/Blue_dir/Blue-201.jpg\n",
            "203done /content/validation/Blue_dir/Blue-202.jpg\n",
            "204done /content/validation/Blue_dir/Blue-203.jpg\n",
            "205done /content/validation/Blue_dir/Blue-204.jpg\n",
            "206done /content/validation/Blue_dir/Blue-205.jpg\n",
            "207done /content/validation/Blue_dir/Blue-206.jpg\n",
            "208done /content/validation/Blue_dir/Blue-207.jpg\n",
            "209done /content/validation/Blue_dir/Blue-208.jpg\n",
            "210done /content/validation/Blue_dir/Blue-209.jpg\n",
            "211done /content/validation/Blue_dir/Blue-210.jpg\n",
            "212done /content/validation/Blue_dir/Blue-211.jpg\n",
            "213done /content/validation/Blue_dir/Blue-212.jpg\n",
            "214done /content/validation/Blue_dir/Blue-213.jpg\n",
            "215done /content/validation/Blue_dir/Blue-214.jpg\n",
            "216done /content/validation/Blue_dir/Blue-215.jpg\n",
            "217done /content/validation/Blue_dir/Blue-216.jpg\n",
            "218done /content/validation/Blue_dir/Blue-217.jpg\n",
            "219done /content/validation/Blue_dir/Blue-218.jpg\n",
            "220done /content/validation/Blue_dir/Blue-219.jpg\n",
            "221done /content/validation/Green_dir/Green-220.jpg\n",
            "222done /content/validation/Green_dir/Green-221.jpg\n",
            "223done /content/validation/Green_dir/Green-222.jpg\n",
            "224done /content/validation/Green_dir/Green-223.jpg\n",
            "225done /content/validation/Green_dir/Green-224.jpg\n",
            "226done /content/validation/Green_dir/Green-225.jpg\n",
            "227done /content/validation/Green_dir/Green-226.jpg\n",
            "228done /content/validation/Green_dir/Green-227.jpg\n",
            "229done /content/validation/Green_dir/Green-228.jpg\n",
            "230done /content/validation/Green_dir/Green-229.jpg\n",
            "231done /content/validation/Green_dir/Green-230.jpg\n",
            "232done /content/validation/Green_dir/Green-231.jpg\n",
            "233done /content/validation/Green_dir/Green-232.jpg\n",
            "234done /content/validation/Green_dir/Green-233.jpg\n",
            "235done /content/validation/Green_dir/Green-234.jpg\n",
            "236done /content/validation/Green_dir/Green-235.jpg\n",
            "237done /content/validation/Green_dir/Green-236.jpg\n",
            "238done /content/validation/Green_dir/Green-237.jpg\n",
            "239done /content/validation/Green_dir/Green-238.jpg\n",
            "240done /content/validation/Green_dir/Green-239.jpg\n"
          ],
          "name": "stdout"
        },
        {
          "output_type": "stream",
          "text": [
            "/usr/local/lib/python3.6/dist-packages/ipykernel_launcher.py:10: SettingWithCopyWarning: \n",
            "A value is trying to be set on a copy of a slice from a DataFrame\n",
            "\n",
            "See the caveats in the documentation: https://pandas.pydata.org/pandas-docs/stable/user_guide/indexing.html#returning-a-view-versus-a-copy\n",
            "  # Remove the CWD from sys.path while we load stuff.\n"
          ],
          "name": "stderr"
        }
      ]
    },
    {
      "cell_type": "markdown",
      "metadata": {
        "id": "WnuOha1__K0R",
        "colab_type": "text"
      },
      "source": [
        "# Assigning Directory Paths for Training"
      ]
    },
    {
      "cell_type": "code",
      "metadata": {
        "id": "MgdTkQuQ_Ju5",
        "colab_type": "code",
        "colab": {}
      },
      "source": [
        "train_dir = '/content/train'\n",
        "validation_dir = '/content/validation'"
      ],
      "execution_count": 0,
      "outputs": []
    },
    {
      "cell_type": "markdown",
      "metadata": {
        "id": "HF5enSB__jr9",
        "colab_type": "text"
      },
      "source": [
        "Setting Variables preprocessing data"
      ]
    },
    {
      "cell_type": "code",
      "metadata": {
        "id": "yMOcwmGD_wNu",
        "colab_type": "code",
        "colab": {}
      },
      "source": [
        "batch_size = 30\n",
        "epochs = 8\n",
        "IMG_HEIGHT = 15\n",
        "IMG_WIDTH = 15"
      ],
      "execution_count": 0,
      "outputs": []
    },
    {
      "cell_type": "markdown",
      "metadata": {
        "id": "uKsGjzMb_2OP",
        "colab_type": "text"
      },
      "source": [
        "# Data preparation"
      ]
    },
    {
      "cell_type": "markdown",
      "metadata": {
        "id": "ea4xwoFu_3oI",
        "colab_type": "text"
      },
      "source": [
        "Format the images into appropriately pre-processed floating point tensors before feeding to the network:\n",
        "\n",
        "Read images from the disk.\n",
        "\n",
        "Decode contents of these images and convert it into proper grid format as per their RGB content.\n",
        "\n",
        "Convert them into floating point tensors.\n",
        "\n",
        "Rescale the tensors from values between 0 and 255 to values between 0 and 1, as neural networks prefer to deal with small input values.\n",
        "\n",
        "\n",
        "All these tasks are done with the ImageDataGenerator class provided by tf.keras. It can read images from disk and preprocess them into proper tensors. It will also set up generators that convert these images into batches of tensors—helpful when training the network."
      ]
    },
    {
      "cell_type": "code",
      "metadata": {
        "id": "Ncl-fm4YAP0H",
        "colab_type": "code",
        "colab": {}
      },
      "source": [
        "train_image_generator = ImageDataGenerator(rescale=1./255) # Generator for our training data\n",
        "validation_image_generator = ImageDataGenerator(rescale=1./255) # Generator for our validation data"
      ],
      "execution_count": 0,
      "outputs": []
    },
    {
      "cell_type": "markdown",
      "metadata": {
        "id": "tWvEJW0cAVxY",
        "colab_type": "text"
      },
      "source": [
        "After defining the generators for training and validation images, the flow_from_directory method load images from the disk, applies rescaling, and resizes the images into the required dimensions"
      ]
    },
    {
      "cell_type": "code",
      "metadata": {
        "id": "1FaYnTldAauQ",
        "colab_type": "code",
        "outputId": "d52f7c34-45ce-4a1e-bbca-4b7bb1d31f6d",
        "colab": {
          "base_uri": "https://localhost:8080/",
          "height": 34
        }
      },
      "source": [
        "train_data_gen = train_image_generator.flow_from_directory(batch_size=batch_size,\n",
        "                                                           directory=train_dir,\n",
        "                                                           shuffle=True,\n",
        "                                                           target_size=(IMG_HEIGHT, IMG_WIDTH),\n",
        "                                                           class_mode='categorical')\n",
        "#classes = ['Red','Green', 'Blue']"
      ],
      "execution_count": 12,
      "outputs": [
        {
          "output_type": "stream",
          "text": [
            "Found 180 images belonging to 3 classes.\n"
          ],
          "name": "stdout"
        }
      ]
    },
    {
      "cell_type": "code",
      "metadata": {
        "id": "uJX9IfqTAeth",
        "colab_type": "code",
        "outputId": "ba691aa2-3c1a-46b5-ebce-be8f0d911720",
        "colab": {
          "base_uri": "https://localhost:8080/",
          "height": 34
        }
      },
      "source": [
        "val_data_gen = validation_image_generator.flow_from_directory(batch_size=batch_size,\n",
        "                                                              directory=validation_dir,\n",
        "                                                              target_size=(IMG_HEIGHT, IMG_WIDTH),\n",
        "                                                              class_mode='categorical')"
      ],
      "execution_count": 13,
      "outputs": [
        {
          "output_type": "stream",
          "text": [
            "Found 60 images belonging to 3 classes.\n"
          ],
          "name": "stdout"
        }
      ]
    },
    {
      "cell_type": "markdown",
      "metadata": {
        "id": "irDUwLJpAifv",
        "colab_type": "text"
      },
      "source": [
        "# Visualize training images"
      ]
    },
    {
      "cell_type": "markdown",
      "metadata": {
        "id": "ZHePQtPEAmNv",
        "colab_type": "text"
      },
      "source": [
        "Visualize the training images by extracting a batch of images from the training generator—which is 32 images in this example—then plot five of them with matplotlib.\n",
        "\n",
        "The next function returns a batch from the dataset. The return value of next function is in form of (x_train, y_train) where x_train is training features and y_train, its labels. Discard the labels to only visualize the training images.\n"
      ]
    },
    {
      "cell_type": "code",
      "metadata": {
        "id": "VLTrtY21AvPt",
        "colab_type": "code",
        "colab": {}
      },
      "source": [
        "sample_training_images, _ = next(train_data_gen)"
      ],
      "execution_count": 0,
      "outputs": []
    },
    {
      "cell_type": "markdown",
      "metadata": {
        "id": "oqKv-R-AAyUA",
        "colab_type": "text"
      },
      "source": [
        "This function will plot images in the form of a grid with 1 row and 5 columns where images are placed in each column."
      ]
    },
    {
      "cell_type": "code",
      "metadata": {
        "id": "EkFpFMbgA11l",
        "colab_type": "code",
        "outputId": "0a2039ed-4fea-4de9-9074-d110051ea3f2",
        "colab": {
          "base_uri": "https://localhost:8080/",
          "height": 90
        }
      },
      "source": [
        "def plotImages(images_arr):\n",
        "    fig, axes = plt.subplots(1, 5, figsize=(5,5))\n",
        "    axes = axes.flatten()\n",
        "    for img, ax in zip( images_arr, axes):\n",
        "        ax.imshow(img)\n",
        "        ax.axis('off')\n",
        "    plt.tight_layout()\n",
        "    plt.show()\n",
        "\n",
        "plotImages(sample_training_images[:5])    "
      ],
      "execution_count": 15,
      "outputs": [
        {
          "output_type": "display_data",
          "data": {
            "image/png": "[encoded data removed]",
            "text/plain": [
              "<Figure size 360x360 with 5 Axes>"
            ]
          },
          "metadata": {
            "tags": [],
            "needs_background": "light"
          }
        }
      ]
    },
    {
      "cell_type": "markdown",
      "metadata": {
        "id": "Qup2IB5MA-_R",
        "colab_type": "text"
      },
      "source": [
        "# Build the Model"
      ]
    },
    {
      "cell_type": "markdown",
      "metadata": {
        "id": "ybUZm6CiBEht",
        "colab_type": "text"
      },
      "source": [
        "To classify one object into three categories with the labels A,B, or C, last layer is made the Dense layer generate an output with a shape of (None, 3). Then we have used the cross_entropyloss function to calculate the LOSS, automatically calculate the gradient, and do the back-propagation process."
      ]
    },
    {
      "cell_type": "code",
      "metadata": {
        "id": "GAphjwZ0BaGX",
        "colab_type": "code",
        "colab": {}
      },
      "source": [
        "model = Sequential( [Conv2D(32, 3, padding='same', activation='relu', input_shape=(IMG_HEIGHT, IMG_WIDTH ,3)),\n",
        "    Dropout(0.1),\n",
        "    MaxPooling2D(2),\n",
        "    Dropout(0.1),\n",
        "    Flatten(),\n",
        "    Dense(units=64, activation = 'relu'),\n",
        "    Dense(3, activation='softmax')])"
      ],
      "execution_count": 0,
      "outputs": []
    },
    {
      "cell_type": "markdown",
      "metadata": {
        "id": "sG60XxQmBnj7",
        "colab_type": "text"
      },
      "source": [
        "# Compile the model\n",
        "For this tutorial, choose the ADAM optimizer and binary cross entropy loss function. To view training and validation accuracy for each training epoch, pass the metrics argument."
      ]
    },
    {
      "cell_type": "code",
      "metadata": {
        "id": "QDRcW5KxBfpN",
        "colab_type": "code",
        "colab": {}
      },
      "source": [
        "INIT_LR=0.01\n",
        "opt = SGD(lr=INIT_LR)\n",
        "model.compile(loss=\"categorical_crossentropy\", optimizer=opt,metrics=[\"accuracy\"])"
      ],
      "execution_count": 0,
      "outputs": []
    },
    {
      "cell_type": "markdown",
      "metadata": {
        "id": "VuBpjvxWB2wo",
        "colab_type": "text"
      },
      "source": [
        "# Model summary\n",
        "View all the layers of the network using the model's summary method:"
      ]
    },
    {
      "cell_type": "code",
      "metadata": {
        "id": "lLBL6vFpB8Ml",
        "colab_type": "code",
        "outputId": "7b50a962-f078-46ef-fc9d-4f31b4225a1e",
        "colab": {
          "base_uri": "https://localhost:8080/",
          "height": 407
        }
      },
      "source": [
        "model.summary()"
      ],
      "execution_count": 18,
      "outputs": [
        {
          "output_type": "stream",
          "text": [
            "Model: \"sequential\"\n",
            "_________________________________________________________________\n",
            "Layer (type)                 Output Shape              Param #   \n",
            "=================================================================\n",
            "conv2d (Conv2D)              (None, 15, 15, 32)        896       \n",
            "_________________________________________________________________\n",
            "dropout (Dropout)            (None, 15, 15, 32)        0         \n",
            "_________________________________________________________________\n",
            "max_pooling2d (MaxPooling2D) (None, 7, 7, 32)          0         \n",
            "_________________________________________________________________\n",
            "dropout_1 (Dropout)          (None, 7, 7, 32)          0         \n",
            "_________________________________________________________________\n",
            "flatten (Flatten)            (None, 1568)              0         \n",
            "_________________________________________________________________\n",
            "dense (Dense)                (None, 64)                100416    \n",
            "_________________________________________________________________\n",
            "dense_1 (Dense)              (None, 3)                 195       \n",
            "=================================================================\n",
            "Total params: 101,507\n",
            "Trainable params: 101,507\n",
            "Non-trainable params: 0\n",
            "_________________________________________________________________\n"
          ],
          "name": "stdout"
        }
      ]
    },
    {
      "cell_type": "markdown",
      "metadata": {
        "id": "ZVYAfMEPCBDX",
        "colab_type": "text"
      },
      "source": [
        "# Train the model\n",
        "Used the fit_generator method of the ImageDataGenerator class to train the network."
      ]
    },
    {
      "cell_type": "code",
      "metadata": {
        "id": "PhX6viZ4CC0A",
        "colab_type": "code",
        "colab": {}
      },
      "source": [
        "total_train = 180 #30 of each color with 3 shades each\n",
        "total_val = 60 #20 of each color * no. of colors"
      ],
      "execution_count": 0,
      "outputs": []
    },
    {
      "cell_type": "code",
      "metadata": {
        "id": "hdsrzm0UCoUE",
        "colab_type": "code",
        "outputId": "8e3019d6-0f46-4178-e56c-b3db0c3ee2ef",
        "colab": {
          "base_uri": "https://localhost:8080/",
          "height": 374
        }
      },
      "source": [
        "tf.config.experimental_run_functions_eagerly(True)\n",
        "history= model.fit_generator(train_data_gen, validation_data=val_data_gen, epochs=epochs,steps_per_epoch=total_train // batch_size, validation_steps=total_val//batch_size)"
      ],
      "execution_count": 20,
      "outputs": [
        {
          "output_type": "stream",
          "text": [
            "WARNING:tensorflow:From <ipython-input-20-ae47094c912b>:2: Model.fit_generator (from tensorflow.python.keras.engine.training) is deprecated and will be removed in a future version.\n",
            "Instructions for updating:\n",
            "Please use Model.fit, which supports generators.\n",
            "Epoch 1/8\n",
            "6/6 [==============================] - 0s 38ms/step - loss: 1.1061 - accuracy: 0.3333 - val_loss: 1.0180 - val_accuracy: 0.3333\n",
            "Epoch 2/8\n",
            "6/6 [==============================] - 0s 37ms/step - loss: 0.9817 - accuracy: 0.5222 - val_loss: 0.9313 - val_accuracy: 0.8500\n",
            "Epoch 3/8\n",
            "6/6 [==============================] - 0s 43ms/step - loss: 0.8820 - accuracy: 0.9333 - val_loss: 0.8444 - val_accuracy: 1.0000\n",
            "Epoch 4/8\n",
            "6/6 [==============================] - 0s 35ms/step - loss: 0.7787 - accuracy: 0.9944 - val_loss: 0.7535 - val_accuracy: 1.0000\n",
            "Epoch 5/8\n",
            "6/6 [==============================] - 0s 37ms/step - loss: 0.6750 - accuracy: 1.0000 - val_loss: 0.6591 - val_accuracy: 1.0000\n",
            "Epoch 6/8\n",
            "6/6 [==============================] - 0s 39ms/step - loss: 0.5718 - accuracy: 1.0000 - val_loss: 0.5656 - val_accuracy: 1.0000\n",
            "Epoch 7/8\n",
            "6/6 [==============================] - 0s 36ms/step - loss: 0.4813 - accuracy: 1.0000 - val_loss: 0.4786 - val_accuracy: 1.0000\n",
            "Epoch 8/8\n",
            "6/6 [==============================] - 0s 36ms/step - loss: 0.3947 - accuracy: 1.0000 - val_loss: 0.4010 - val_accuracy: 1.0000\n"
          ],
          "name": "stdout"
        }
      ]
    },
    {
      "cell_type": "markdown",
      "metadata": {
        "id": "uI-kwf8uEN7F",
        "colab_type": "text"
      },
      "source": [
        "About >95% Accuracy is obtained"
      ]
    },
    {
      "cell_type": "markdown",
      "metadata": {
        "id": "StvozRh7CnVN",
        "colab_type": "text"
      },
      "source": [
        "# Visualize training results"
      ]
    },
    {
      "cell_type": "markdown",
      "metadata": {
        "id": "5Pidv8u7Ce0f",
        "colab_type": "text"
      },
      "source": [
        "To visualize the results after training the network."
      ]
    },
    {
      "cell_type": "code",
      "metadata": {
        "id": "dvU73jYdED47",
        "colab_type": "code",
        "outputId": "2b845026-bb2d-45ca-ef0b-d421980c0ea6",
        "colab": {
          "base_uri": "https://localhost:8080/",
          "height": 498
        }
      },
      "source": [
        "acc = history.history['accuracy']\n",
        "val_acc = history.history['val_accuracy']\n",
        "\n",
        "loss=history.history['loss']\n",
        "val_loss=history.history['val_loss']\n",
        "\n",
        "epochs_range = range(epochs)\n",
        "\n",
        "plt.figure(figsize=(8, 8))\n",
        "plt.subplot(1, 2, 1)\n",
        "plt.plot(epochs_range, acc, label='Training Accuracy')\n",
        "plt.plot(epochs_range, val_acc, label='Validation Accuracy')\n",
        "plt.legend(loc='lower right')\n",
        "plt.title('Training and Validation Accuracy')\n",
        "\n",
        "plt.subplot(1, 2, 2)\n",
        "plt.plot(epochs_range, loss, label='Training Loss')\n",
        "plt.plot(epochs_range, val_loss, label='Validation Loss')\n",
        "plt.legend(loc='upper right')\n",
        "plt.title('Training and Validation Loss')\n",
        "plt.show()"
      ],
      "execution_count": 21,
      "outputs": [
        {
          "output_type": "display_data",
          "data": {
            "image/png": "[encoded data removed]",
            "text/plain": [
              "<Figure size 576x576 with 2 Axes>"
            ]
          },
          "metadata": {
            "tags": [],
            "needs_background": "light"
          }
        }
      ]
    },
    {
      "cell_type": "markdown",
      "metadata": {
        "id": "nAHIm-iYHRHr",
        "colab_type": "text"
      },
      "source": [
        "# To Download dataset as Zip (Not needed to be run)"
      ]
    },
    {
      "cell_type": "code",
      "metadata": {
        "id": "8wylH6n1G2RV",
        "colab_type": "code",
        "colab": {}
      },
      "source": [
        "# !zip -r /content/train.zip /content/train/\n",
        "# !zip -r /content/validation.zip /content/validation"
      ],
      "execution_count": 0,
      "outputs": []
    },
    {
      "cell_type": "code",
      "metadata": {
        "id": "TyABylcuHIBC",
        "colab_type": "code",
        "colab": {}
      },
      "source": [
        "# from google.colab import files\n",
        "# files.download(\"/content/train.zip\")\n",
        "# files.download(\"/content/validation.zip\")"
      ],
      "execution_count": 0,
      "outputs": []
    }
  ]
}