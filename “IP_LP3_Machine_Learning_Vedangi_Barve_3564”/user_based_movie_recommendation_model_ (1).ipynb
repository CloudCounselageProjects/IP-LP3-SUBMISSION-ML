{
  "nbformat": 4,
  "nbformat_minor": 0,
  "metadata": {
    "colab": {
      "name": "user based movie recommendation model .ipynb",
      "provenance": [],
      "collapsed_sections": []
    },
    "kernelspec": {
      "display_name": "Python 3",
      "name": "python3"
    },
    "language_info": {
      "name": "python"
    }
  },
  "cells": [
    {
      "cell_type": "code",
      "metadata": {
        "id": "wL66rKLzz8d8"
      },
      "source": [
        "from google.colab import files\n",
        "files.upload()"
      ],
      "execution_count": null,
      "outputs": []
    },
    {
      "cell_type": "code",
      "metadata": {
        "id": "OJgp1huq0XF0"
      },
      "source": [
        "import pandas as pd\n",
        "import numpy as np\n",
        "import seaborn as sns\n",
        "import matplotlib.pyplot as plt\n",
        "% matplotlib inline\n",
        "import math\n",
        "movie= pd.read_csv(\"Amazon-Movies and TV Ratings.csv\")\n",
        "movie.head(10)"
      ],
      "execution_count": null,
      "outputs": []
    },
    {
      "cell_type": "code",
      "metadata": {
        "id": "cHb-kDyp0iTl"
      },
      "source": [
        "movie.shape"
      ],
      "execution_count": null,
      "outputs": []
    },
    {
      "cell_type": "code",
      "metadata": {
        "id": "QB-d9S6_0p6f"
      },
      "source": [
        "movie.describe().T\n"
      ],
      "execution_count": null,
      "outputs": []
    },
    {
      "cell_type": "code",
      "metadata": {
        "id": "wFF3DaA-ADCd"
      },
      "source": [
        "movie.isnull().sum()"
      ],
      "execution_count": null,
      "outputs": []
    },
    {
      "cell_type": "code",
      "metadata": {
        "id": "_ydwv37h1zag"
      },
      "source": [
        "#10 movies with highest ratings\n",
        "movie.drop('user_id', axis=1).sum().sort_values(ascending=False)[:10].to_frame()"
      ],
      "execution_count": null,
      "outputs": []
    },
    {
      "cell_type": "code",
      "metadata": {
        "id": "bhNjgH193RlW"
      },
      "source": [
        "#10 movies with highest views\n",
        "movie.describe().T['count'].sort_values(ascending=False)[:10].to_frame()"
      ],
      "execution_count": null,
      "outputs": []
    },
    {
      "cell_type": "code",
      "metadata": {
        "id": "G_dFyUhu3X-7"
      },
      "source": [
        "#top 10 movies based on ratings\n",
        "movie.drop('user_id', axis=1).mean().sort_values(ascending=False)[:10].to_frame()"
      ],
      "execution_count": null,
      "outputs": []
    },
    {
      "cell_type": "code",
      "metadata": {
        "id": "IstVAvJ_5kpL"
      },
      "source": [
        "#10 movies with least views\n",
        "movie.describe().T['count'].sort_values(ascending=True)[:10].to_frame()"
      ],
      "execution_count": null,
      "outputs": []
    },
    {
      "cell_type": "code",
      "metadata": {
        "id": "nHFc3QFzDOMh"
      },
      "source": [
        "!pip install sklearn"
      ],
      "execution_count": null,
      "outputs": []
    },
    {
      "cell_type": "code",
      "metadata": {
        "id": "m2Lb17F9DlWE"
      },
      "source": [
        "!pip install scikit-surprise"
      ],
      "execution_count": null,
      "outputs": []
    },
    {
      "cell_type": "code",
      "metadata": {
        "id": "GDkitCbmEQcz"
      },
      "source": [
        "import surprise"
      ],
      "execution_count": 32,
      "outputs": []
    },
    {
      "cell_type": "code",
      "metadata": {
        "id": "xiJM6G2NAq6T"
      },
      "source": [
        "movie_melt =movie.melt(id_vars=movie.columns[0], value_vars=movie.columns[1:], var_name='Movies', value_name='Ratings')\n",
        "movie_melt"
      ],
      "execution_count": null,
      "outputs": []
    },
    {
      "cell_type": "code",
      "metadata": {
        "id": "yzJvYMBQEUKq"
      },
      "source": [
        "from surprise import Reader\n",
        "from surprise import accuracy\n",
        "from surprise import Dataset\n",
        "from surprise.model_selection import train_test_split\n",
        "from surprise import SVD\n",
        "from surprise.model_selection import cross_validate"
      ],
      "execution_count": 34,
      "outputs": []
    },
    {
      "cell_type": "code",
      "metadata": {
        "id": "bOGvRU4SEYgK"
      },
      "source": [
        "xy=Reader()\n",
        "data=Dataset.load_from_df(movie_melt.fillna(0), reader=xy)\n",
        "data"
      ],
      "execution_count": null,
      "outputs": []
    },
    {
      "cell_type": "code",
      "metadata": {
        "id": "8Zh9A3mMHNOM"
      },
      "source": [
        "trainset, testset= train_test_split(data, test_size=0.25)"
      ],
      "execution_count": 36,
      "outputs": []
    },
    {
      "cell_type": "code",
      "metadata": {
        "id": "hxi9GEKtHXJ2"
      },
      "source": [
        "abc= SVD()\n",
        "abc.fit(trainset)"
      ],
      "execution_count": null,
      "outputs": []
    },
    {
      "cell_type": "code",
      "metadata": {
        "id": "PiutpRh_HzGS"
      },
      "source": [
        "prediction= abc.test(testset)"
      ],
      "execution_count": 38,
      "outputs": []
    },
    {
      "cell_type": "code",
      "metadata": {
        "id": "AmU73w45H-f7"
      },
      "source": [
        "accuracy.rmse(prediction)"
      ],
      "execution_count": null,
      "outputs": []
    },
    {
      "cell_type": "code",
      "metadata": {
        "id": "Lk23fDZKID5c"
      },
      "source": [
        "accuracy.mae(prediction)"
      ],
      "execution_count": null,
      "outputs": []
    },
    {
      "cell_type": "code",
      "metadata": {
        "id": "xJF9ndgMIRjF"
      },
      "source": [
        "cross_validate(abc,data,measures=['RMSE', 'MAE'], cv=3, verbose=True)"
      ],
      "execution_count": null,
      "outputs": []
    },
    {
      "cell_type": "code",
      "metadata": {
        "id": "CDIjnKmIWWQB"
      },
      "source": [
        "user_id='AP57WZ2X4G0AA'\n",
        "Movies = 'Movie1'\n",
        "Ratings = '5'\n",
        "abc.predict(user_id,Movies,r_ui=Ratings)\n",
        "print(cross_validate(abc,data,measures=['RMSE', 'MAE'],cv=3,verbose=True))"
      ],
      "execution_count": null,
      "outputs": []
    }
  ]
}